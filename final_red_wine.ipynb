{
 "cells": [
  {
   "cell_type": "markdown",
   "id": "534e1ea4",
   "metadata": {
    "papermill": {
     "duration": 0.221711,
     "end_time": "2022-03-11T10:23:48.973379",
     "exception": false,
     "start_time": "2022-03-11T10:23:48.751668",
     "status": "completed"
    },
    "tags": []
   },
   "source": [
    "# Red Wine Quality Analysis\n",
    "\n",
    "The Red and White Wine Quality data sets are available in UCI. Please refer to the abstract, problem statement and data sets description at https://archive.ics.uci.edu/ml/datasets/Wine+Quality. Each data set contain 12 features including `quality` as the target variable.\n",
    "\n",
    "## Notebook Abstract\n",
    "\n",
    "In this notebook, we have considered only the Red Wine quality data set.\n",
    "\n",
    "In the problem statement, the authors state _\"we are not sure if all input variables are relevant. So it could be interesting to test feature selection methods.\"_\n",
    "\n",
    "Accordingly, we have attempted to determine the accuracy of predictions using different subsets of the features. We have developed four Machine Learning Models and compared the accuracy of predictions resulting from each model. For each ML technique, we have considered (a) the complete set of 11 features (b) dropped 3 features that show very weak correlation i.e., `0.0-0.20` and (c) dropped an additional 5 features exhibiting weak correlation i.e., `0.20-0.40` with the target. In short 12 models have been developed.\n",
    "\n",
    "We find that predictions using Linear Regression exhibit the best accuracy of about 92% even with just three features. This may be due to the 'privacy and logistics issues' mentioned by the data set authors.\n",
    "\n",
    "Predictions made using Logistic Regression, Decision Tree and Random Forest yield poor accuracy between 50-70% even when K-fold and Grid Search CV methods are used to improve the predictions.\n",
    "\n",
    "## Git Repo\n",
    "\n",
    "The git repo contains the red wine dataset and code for a Flask app for deploying the red wine quality models on your local machine. For deploying on Heroku, the `requirements.txt` and `Procfile` are also provided.\n",
    "\n",
    "## Next Steps\n",
    "\n",
    "Red Wine quality prediction appears to depend on just three feature with minimal loss of prediction accuracy on the test set. This may be due to the privacy and logistics issues mentioned by the data set authors (e.g. there is no data about grape types, wine brand, wine selling price, etc.) or it may be due to other domain related factors that are not clear.\n",
    "\n",
    "Other ML techniques may be applied to improve the accuracy."
   ]
  },
  {
   "cell_type": "markdown",
   "id": "f6daaf4e",
   "metadata": {
    "papermill": {
     "duration": 0.216877,
     "end_time": "2022-03-11T10:23:49.407543",
     "exception": false,
     "start_time": "2022-03-11T10:23:49.190666",
     "status": "completed"
    },
    "tags": []
   },
   "source": [
    "## Machine Learning Pipeline\n",
    "\n",
    "Developing an ML model involves a number of steps.\n",
    "\n",
    "We have adopted the following Machine Learning Pipeline:\n",
    "\n",
    "1. Sanity Check \n",
    "2. EDA/Preprocessing\n",
    "3. Feature Engineering\n",
    "4. Model Building\n",
    "5. Model Saving\n",
    "6. Model Deployment - this is covered under the `deployment` folder\n",
    "\n",
    "Once the model is deployed, the pipeline _extends_ to include the below steps:\n",
    "\n",
    "7. Model in Production\n",
    "8. Observe model behaviour\n",
    "9. Obtain updated datasets\n",
    "10. Redo steps 1..9 if required\n",
    "\n",
    "_Note: these extended steps 7-10 are not covered in this exercise_"
   ]
  },
  {
   "cell_type": "markdown",
   "id": "96edf825",
   "metadata": {
    "papermill": {
     "duration": 0.219205,
     "end_time": "2022-03-11T10:23:49.843594",
     "exception": false,
     "start_time": "2022-03-11T10:23:49.624389",
     "status": "completed"
    },
    "tags": []
   },
   "source": [
    "## Common Steps Performed on the Red Wine Dataset"
   ]
  },
  {
   "cell_type": "code",
   "execution_count": 1,
   "id": "a3f3f09b",
   "metadata": {
    "execution": {
     "iopub.execute_input": "2022-03-11T10:23:50.287348Z",
     "iopub.status.busy": "2022-03-11T10:23:50.285468Z",
     "iopub.status.idle": "2022-03-11T10:23:52.085546Z",
     "shell.execute_reply": "2022-03-11T10:23:52.086175Z",
     "shell.execute_reply.started": "2022-02-27T13:12:53.055560Z"
    },
    "papermill": {
     "duration": 2.023131,
     "end_time": "2022-03-11T10:23:52.086546",
     "exception": false,
     "start_time": "2022-03-11T10:23:50.063415",
     "status": "completed"
    },
    "tags": []
   },
   "outputs": [],
   "source": [
    "#import the relevant libraries\n",
    "\n",
    "import pandas as pd\n",
    "import numpy as np\n",
    "import matplotlib.pyplot as plt\n",
    "import seaborn as sns\n",
    "import pickle\n",
    "\n",
    "from sklearn.linear_model import LinearRegression\n",
    "from sklearn.linear_model import LogisticRegression\n",
    "from sklearn.tree import DecisionTreeClassifier\n",
    "from sklearn import tree\n",
    "from sklearn.ensemble import RandomForestClassifier\n",
    "\n",
    "from sklearn.metrics import confusion_matrix, accuracy_score\n",
    "from sklearn.model_selection import train_test_split\n",
    "from sklearn.model_selection import cross_validate, KFold\n",
    "from sklearn.model_selection import GridSearchCV\n"
   ]
  },
  {
   "cell_type": "code",
   "execution_count": 2,
   "id": "81b999dd",
   "metadata": {
    "execution": {
     "iopub.execute_input": "2022-03-11T10:23:52.543068Z",
     "iopub.status.busy": "2022-03-11T10:23:52.542076Z",
     "iopub.status.idle": "2022-03-11T10:23:52.592151Z",
     "shell.execute_reply": "2022-03-11T10:23:52.591501Z",
     "shell.execute_reply.started": "2022-02-27T13:12:53.070081Z"
    },
    "papermill": {
     "duration": 0.285034,
     "end_time": "2022-03-11T10:23:52.592332",
     "exception": false,
     "start_time": "2022-03-11T10:23:52.307298",
     "status": "completed"
    },
    "scrolled": true,
    "tags": []
   },
   "outputs": [
    {
     "data": {
      "text/html": [
       "<div>\n",
       "<style scoped>\n",
       "    .dataframe tbody tr th:only-of-type {\n",
       "        vertical-align: middle;\n",
       "    }\n",
       "\n",
       "    .dataframe tbody tr th {\n",
       "        vertical-align: top;\n",
       "    }\n",
       "\n",
       "    .dataframe thead th {\n",
       "        text-align: right;\n",
       "    }\n",
       "</style>\n",
       "<table border=\"1\" class=\"dataframe\">\n",
       "  <thead>\n",
       "    <tr style=\"text-align: right;\">\n",
       "      <th></th>\n",
       "      <th>fixed acidity</th>\n",
       "      <th>volatile acidity</th>\n",
       "      <th>citric acid</th>\n",
       "      <th>residual sugar</th>\n",
       "      <th>chlorides</th>\n",
       "      <th>free sulfur dioxide</th>\n",
       "      <th>total sulfur dioxide</th>\n",
       "      <th>density</th>\n",
       "      <th>pH</th>\n",
       "      <th>sulphates</th>\n",
       "      <th>alcohol</th>\n",
       "      <th>quality</th>\n",
       "    </tr>\n",
       "  </thead>\n",
       "  <tbody>\n",
       "    <tr>\n",
       "      <th>0</th>\n",
       "      <td>7.4</td>\n",
       "      <td>0.70</td>\n",
       "      <td>0.00</td>\n",
       "      <td>1.9</td>\n",
       "      <td>0.076</td>\n",
       "      <td>11.0</td>\n",
       "      <td>34.0</td>\n",
       "      <td>0.9978</td>\n",
       "      <td>3.51</td>\n",
       "      <td>0.56</td>\n",
       "      <td>9.4</td>\n",
       "      <td>5</td>\n",
       "    </tr>\n",
       "    <tr>\n",
       "      <th>1</th>\n",
       "      <td>7.8</td>\n",
       "      <td>0.88</td>\n",
       "      <td>0.00</td>\n",
       "      <td>2.6</td>\n",
       "      <td>0.098</td>\n",
       "      <td>25.0</td>\n",
       "      <td>67.0</td>\n",
       "      <td>0.9968</td>\n",
       "      <td>3.20</td>\n",
       "      <td>0.68</td>\n",
       "      <td>9.8</td>\n",
       "      <td>5</td>\n",
       "    </tr>\n",
       "    <tr>\n",
       "      <th>2</th>\n",
       "      <td>7.8</td>\n",
       "      <td>0.76</td>\n",
       "      <td>0.04</td>\n",
       "      <td>2.3</td>\n",
       "      <td>0.092</td>\n",
       "      <td>15.0</td>\n",
       "      <td>54.0</td>\n",
       "      <td>0.9970</td>\n",
       "      <td>3.26</td>\n",
       "      <td>0.65</td>\n",
       "      <td>9.8</td>\n",
       "      <td>5</td>\n",
       "    </tr>\n",
       "    <tr>\n",
       "      <th>3</th>\n",
       "      <td>11.2</td>\n",
       "      <td>0.28</td>\n",
       "      <td>0.56</td>\n",
       "      <td>1.9</td>\n",
       "      <td>0.075</td>\n",
       "      <td>17.0</td>\n",
       "      <td>60.0</td>\n",
       "      <td>0.9980</td>\n",
       "      <td>3.16</td>\n",
       "      <td>0.58</td>\n",
       "      <td>9.8</td>\n",
       "      <td>6</td>\n",
       "    </tr>\n",
       "    <tr>\n",
       "      <th>4</th>\n",
       "      <td>7.4</td>\n",
       "      <td>0.70</td>\n",
       "      <td>0.00</td>\n",
       "      <td>1.9</td>\n",
       "      <td>0.076</td>\n",
       "      <td>11.0</td>\n",
       "      <td>34.0</td>\n",
       "      <td>0.9978</td>\n",
       "      <td>3.51</td>\n",
       "      <td>0.56</td>\n",
       "      <td>9.4</td>\n",
       "      <td>5</td>\n",
       "    </tr>\n",
       "  </tbody>\n",
       "</table>\n",
       "</div>"
      ],
      "text/plain": [
       "   fixed acidity  volatile acidity  citric acid  residual sugar  chlorides  \\\n",
       "0            7.4              0.70         0.00             1.9      0.076   \n",
       "1            7.8              0.88         0.00             2.6      0.098   \n",
       "2            7.8              0.76         0.04             2.3      0.092   \n",
       "3           11.2              0.28         0.56             1.9      0.075   \n",
       "4            7.4              0.70         0.00             1.9      0.076   \n",
       "\n",
       "   free sulfur dioxide  total sulfur dioxide  density    pH  sulphates  \\\n",
       "0                 11.0                  34.0   0.9978  3.51       0.56   \n",
       "1                 25.0                  67.0   0.9968  3.20       0.68   \n",
       "2                 15.0                  54.0   0.9970  3.26       0.65   \n",
       "3                 17.0                  60.0   0.9980  3.16       0.58   \n",
       "4                 11.0                  34.0   0.9978  3.51       0.56   \n",
       "\n",
       "   alcohol  quality  \n",
       "0      9.4        5  \n",
       "1      9.8        5  \n",
       "2      9.8        5  \n",
       "3      9.8        6  \n",
       "4      9.4        5  "
      ]
     },
     "execution_count": 2,
     "metadata": {},
     "output_type": "execute_result"
    }
   ],
   "source": [
    "# read the dataset\n",
    "fpath = '../input/red-wine/winequality-red.csv'\n",
    "red_wine_data = pd.read_csv(fpath, delimiter =';')\n",
    "red_wine_data.head()"
   ]
  },
  {
   "cell_type": "markdown",
   "id": "64b69806",
   "metadata": {
    "papermill": {
     "duration": 0.223936,
     "end_time": "2022-03-11T10:23:53.039977",
     "exception": false,
     "start_time": "2022-03-11T10:23:52.816041",
     "status": "completed"
    },
    "tags": []
   },
   "source": [
    "### Sanity Check\n",
    "_Insights are drawn at the end of this section._"
   ]
  },
  {
   "cell_type": "code",
   "execution_count": 3,
   "id": "b89cef2b",
   "metadata": {
    "execution": {
     "iopub.execute_input": "2022-03-11T10:23:53.492192Z",
     "iopub.status.busy": "2022-03-11T10:23:53.491323Z",
     "iopub.status.idle": "2022-03-11T10:23:53.494512Z",
     "shell.execute_reply": "2022-03-11T10:23:53.495089Z",
     "shell.execute_reply.started": "2022-02-27T13:12:53.101142Z"
    },
    "papermill": {
     "duration": 0.230847,
     "end_time": "2022-03-11T10:23:53.495306",
     "exception": false,
     "start_time": "2022-03-11T10:23:53.264459",
     "status": "completed"
    },
    "tags": []
   },
   "outputs": [
    {
     "data": {
      "text/plain": [
       "(1599, 12)"
      ]
     },
     "execution_count": 3,
     "metadata": {},
     "output_type": "execute_result"
    }
   ],
   "source": [
    "#1. Shape and data sufficiency: Check if there are sufficient rows of data for an ML problem\n",
    "red_wine_data.shape"
   ]
  },
  {
   "cell_type": "code",
   "execution_count": 4,
   "id": "664271a0",
   "metadata": {
    "execution": {
     "iopub.execute_input": "2022-03-11T10:23:53.952444Z",
     "iopub.status.busy": "2022-03-11T10:23:53.951458Z",
     "iopub.status.idle": "2022-03-11T10:23:53.955065Z",
     "shell.execute_reply": "2022-03-11T10:23:53.955568Z",
     "shell.execute_reply.started": "2022-02-27T13:12:53.108907Z"
    },
    "papermill": {
     "duration": 0.232969,
     "end_time": "2022-03-11T10:23:53.955781",
     "exception": false,
     "start_time": "2022-03-11T10:23:53.722812",
     "status": "completed"
    },
    "tags": []
   },
   "outputs": [
    {
     "data": {
      "text/plain": [
       "fixed acidity           float64\n",
       "volatile acidity        float64\n",
       "citric acid             float64\n",
       "residual sugar          float64\n",
       "chlorides               float64\n",
       "free sulfur dioxide     float64\n",
       "total sulfur dioxide    float64\n",
       "density                 float64\n",
       "pH                      float64\n",
       "sulphates               float64\n",
       "alcohol                 float64\n",
       "quality                   int64\n",
       "dtype: object"
      ]
     },
     "execution_count": 4,
     "metadata": {},
     "output_type": "execute_result"
    }
   ],
   "source": [
    "# 2. Datatypes: Check the datatypes of each column; later, convert non-numeric columns to numeric\n",
    "red_wine_data.dtypes"
   ]
  },
  {
   "cell_type": "code",
   "execution_count": 5,
   "id": "6740154d",
   "metadata": {
    "execution": {
     "iopub.execute_input": "2022-03-11T10:23:54.403890Z",
     "iopub.status.busy": "2022-03-11T10:23:54.403075Z",
     "iopub.status.idle": "2022-03-11T10:23:54.430846Z",
     "shell.execute_reply": "2022-03-11T10:23:54.431438Z",
     "shell.execute_reply.started": "2022-02-27T13:12:53.130006Z"
    },
    "papermill": {
     "duration": 0.253579,
     "end_time": "2022-03-11T10:23:54.431675",
     "exception": false,
     "start_time": "2022-03-11T10:23:54.178096",
     "status": "completed"
    },
    "tags": []
   },
   "outputs": [
    {
     "name": "stdout",
     "output_type": "stream",
     "text": [
      "<class 'pandas.core.frame.DataFrame'>\n",
      "RangeIndex: 1599 entries, 0 to 1598\n",
      "Data columns (total 12 columns):\n",
      " #   Column                Non-Null Count  Dtype  \n",
      "---  ------                --------------  -----  \n",
      " 0   fixed acidity         1599 non-null   float64\n",
      " 1   volatile acidity      1599 non-null   float64\n",
      " 2   citric acid           1599 non-null   float64\n",
      " 3   residual sugar        1599 non-null   float64\n",
      " 4   chlorides             1599 non-null   float64\n",
      " 5   free sulfur dioxide   1599 non-null   float64\n",
      " 6   total sulfur dioxide  1599 non-null   float64\n",
      " 7   density               1599 non-null   float64\n",
      " 8   pH                    1599 non-null   float64\n",
      " 9   sulphates             1599 non-null   float64\n",
      " 10  alcohol               1599 non-null   float64\n",
      " 11  quality               1599 non-null   int64  \n",
      "dtypes: float64(11), int64(1)\n",
      "memory usage: 150.0 KB\n"
     ]
    }
   ],
   "source": [
    "# 3 Missing Values: Check whether there are missing values\n",
    "red_wine_data.info()"
   ]
  },
  {
   "cell_type": "code",
   "execution_count": 6,
   "id": "8ddbd423",
   "metadata": {
    "execution": {
     "iopub.execute_input": "2022-03-11T10:23:54.881437Z",
     "iopub.status.busy": "2022-03-11T10:23:54.880574Z",
     "iopub.status.idle": "2022-03-11T10:23:54.899132Z",
     "shell.execute_reply": "2022-03-11T10:23:54.900294Z",
     "shell.execute_reply.started": "2022-02-27T13:12:53.154574Z"
    },
    "papermill": {
     "duration": 0.244547,
     "end_time": "2022-03-11T10:23:54.900616",
     "exception": false,
     "start_time": "2022-03-11T10:23:54.656069",
     "status": "completed"
    },
    "tags": []
   },
   "outputs": [
    {
     "name": "stdout",
     "output_type": "stream",
     "text": [
      "fixed acidity 96\n",
      "volatile acidity 143\n",
      "citric acid 80\n",
      "residual sugar 91\n",
      "chlorides 153\n",
      "free sulfur dioxide 60\n",
      "total sulfur dioxide 144\n",
      "density 436\n",
      "pH 89\n",
      "sulphates 96\n",
      "alcohol 65\n",
      "quality 6\n"
     ]
    }
   ],
   "source": [
    "# 4 Zero-variance: Check if there are any zero variance column in the dataset\n",
    "for col in red_wine_data:\n",
    "    print(col, red_wine_data[col].value_counts().count())"
   ]
  },
  {
   "cell_type": "code",
   "execution_count": 7,
   "id": "3c027b61",
   "metadata": {
    "execution": {
     "iopub.execute_input": "2022-03-11T10:23:55.346951Z",
     "iopub.status.busy": "2022-03-11T10:23:55.345718Z",
     "iopub.status.idle": "2022-03-11T10:23:55.355293Z",
     "shell.execute_reply": "2022-03-11T10:23:55.356255Z",
     "shell.execute_reply.started": "2022-02-27T13:12:53.173929Z"
    },
    "papermill": {
     "duration": 0.233078,
     "end_time": "2022-03-11T10:23:55.356528",
     "exception": false,
     "start_time": "2022-03-11T10:23:55.123450",
     "status": "completed"
    },
    "tags": []
   },
   "outputs": [
    {
     "name": "stdout",
     "output_type": "stream",
     "text": [
      "range of fixed acidity: (4.6, 15.9) \n",
      "range of volatile acidity: (0.12, 1.58) \n",
      "range of citric acid: (0.0, 1.0) \n",
      "range of residual sugar: (0.9, 15.5) \n",
      "range of chlorides: (0.012, 0.611) \n",
      "range of free sulfur dioxide: (1.0, 72.0) \n",
      "range of total sulfur dioxide: (6.0, 289.0) \n",
      "range of density: (0.99007, 1.00369) \n",
      "range of pH: (2.74, 4.01) \n",
      "range of sulphates: (0.33, 2.0) \n",
      "range of alcohol: (8.4, 14.9) \n",
      "range of quality: (3, 8) \n"
     ]
    }
   ],
   "source": [
    "# 5 Range of numbers in each column: Check the range of variation in each numeric column \n",
    "for i in red_wine_data.columns:\n",
    "    print(\"range of {}: ({}, {}) \" .format(i, red_wine_data[i].min(), red_wine_data[i].max()))"
   ]
  },
  {
   "cell_type": "code",
   "execution_count": 8,
   "id": "f490e6d5",
   "metadata": {
    "execution": {
     "iopub.execute_input": "2022-03-11T10:23:55.809052Z",
     "iopub.status.busy": "2022-03-11T10:23:55.807879Z",
     "iopub.status.idle": "2022-03-11T10:23:56.307473Z",
     "shell.execute_reply": "2022-03-11T10:23:56.308129Z",
     "shell.execute_reply.started": "2022-02-27T13:12:53.185119Z"
    },
    "papermill": {
     "duration": 0.72745,
     "end_time": "2022-03-11T10:23:56.308353",
     "exception": false,
     "start_time": "2022-03-11T10:23:55.580903",
     "status": "completed"
    },
    "tags": []
   },
   "outputs": [
    {
     "name": "stdout",
     "output_type": "stream",
     "text": [
      "inconclusive effect of fixed acidity on quality.\n"
     ]
    },
    {
     "data": {
      "image/png": "[encoded data removed]",
      "text/plain": [
       "<Figure size 432x288 with 1 Axes>"
      ]
     },
     "metadata": {
      "needs_background": "light"
     },
     "output_type": "display_data"
    }
   ],
   "source": [
    "# 6 Correlation: Check correlation between feature columns & target\n",
    "\n",
    "# 6a check how the quality is influenced by fixed acidity\n",
    "# e.g., does higher quality mean higher fixed acidity?\n",
    "sns.barplot(x=red_wine_data['quality'], y=red_wine_data['fixed acidity'])\n",
    "print('inconclusive effect of fixed acidity on quality.')"
   ]
  },
  {
   "cell_type": "code",
   "execution_count": 9,
   "id": "8dd04db0",
   "metadata": {
    "execution": {
     "iopub.execute_input": "2022-03-11T10:23:56.790034Z",
     "iopub.status.busy": "2022-03-11T10:23:56.788861Z",
     "iopub.status.idle": "2022-03-11T10:23:57.220010Z",
     "shell.execute_reply": "2022-03-11T10:23:57.219387Z",
     "shell.execute_reply.started": "2022-02-27T13:12:53.468356Z"
    },
    "papermill": {
     "duration": 0.687995,
     "end_time": "2022-03-11T10:23:57.220176",
     "exception": false,
     "start_time": "2022-03-11T10:23:56.532181",
     "status": "completed"
    },
    "tags": []
   },
   "outputs": [
    {
     "name": "stdout",
     "output_type": "stream",
     "text": [
      "volatile acidity shows decreasing trend as the quality increases.\n"
     ]
    },
    {
     "data": {
      "image/png": "[encoded data removed]",
      "text/plain": [
       "<Figure size 432x288 with 1 Axes>"
      ]
     },
     "metadata": {
      "needs_background": "light"
     },
     "output_type": "display_data"
    }
   ],
   "source": [
    "# 6b check how the quality is influenced by volatile acidity\n",
    "# e.g., does higher quality mean higher volatile acidity?\n",
    "sns.barplot(x=red_wine_data['quality'], y=red_wine_data['volatile acidity'])\n",
    "print('volatile acidity shows decreasing trend as the quality increases.')"
   ]
  },
  {
   "cell_type": "code",
   "execution_count": 10,
   "id": "594e9ec1",
   "metadata": {
    "execution": {
     "iopub.execute_input": "2022-03-11T10:23:57.685152Z",
     "iopub.status.busy": "2022-03-11T10:23:57.684083Z",
     "iopub.status.idle": "2022-03-11T10:23:58.123988Z",
     "shell.execute_reply": "2022-03-11T10:23:58.123288Z",
     "shell.execute_reply.started": "2022-02-27T13:12:53.951864Z"
    },
    "papermill": {
     "duration": 0.674264,
     "end_time": "2022-03-11T10:23:58.124156",
     "exception": false,
     "start_time": "2022-03-11T10:23:57.449892",
     "status": "completed"
    },
    "tags": []
   },
   "outputs": [
    {
     "name": "stdout",
     "output_type": "stream",
     "text": [
      "quality increase as citric acid increases.\n"
     ]
    },
    {
     "data": {
      "image/png": "[encoded data removed]",
      "text/plain": [
       "<Figure size 432x288 with 1 Axes>"
      ]
     },
     "metadata": {
      "needs_background": "light"
     },
     "output_type": "display_data"
    }
   ],
   "source": [
    "# 6c check how the quality is influenced by citric acid\n",
    "# e.g., does higher quality mean higher citric acid?\n",
    "sns.barplot(x=red_wine_data['quality'], y=red_wine_data['citric acid'])\n",
    "print('quality increase as citric acid increases.')"
   ]
  },
  {
   "cell_type": "code",
   "execution_count": 11,
   "id": "08e5f69a",
   "metadata": {
    "execution": {
     "iopub.execute_input": "2022-03-11T10:23:58.588004Z",
     "iopub.status.busy": "2022-03-11T10:23:58.586965Z",
     "iopub.status.idle": "2022-03-11T10:23:59.032899Z",
     "shell.execute_reply": "2022-03-11T10:23:59.033682Z",
     "shell.execute_reply.started": "2022-02-27T13:12:54.239433Z"
    },
    "papermill": {
     "duration": 0.681895,
     "end_time": "2022-03-11T10:23:59.033952",
     "exception": false,
     "start_time": "2022-03-11T10:23:58.352057",
     "status": "completed"
    },
    "tags": []
   },
   "outputs": [
    {
     "name": "stdout",
     "output_type": "stream",
     "text": [
      "inconclusive/minimal effect of residual sugar on quality.\n"
     ]
    },
    {
     "data": {
      "image/png": "[encoded data removed]",
      "text/plain": [
       "<Figure size 432x288 with 1 Axes>"
      ]
     },
     "metadata": {
      "needs_background": "light"
     },
     "output_type": "display_data"
    }
   ],
   "source": [
    "# 6d check how the quality is influenced by residual sugar\n",
    "# e.g., does higher quality mean higher residual sugar?\n",
    "sns.barplot(x=red_wine_data['quality'], y=red_wine_data['residual sugar'])\n",
    "print('inconclusive/minimal effect of residual sugar on quality.')"
   ]
  },
  {
   "cell_type": "code",
   "execution_count": 12,
   "id": "a4f8d8de",
   "metadata": {
    "execution": {
     "iopub.execute_input": "2022-03-11T10:23:59.498748Z",
     "iopub.status.busy": "2022-03-11T10:23:59.495938Z",
     "iopub.status.idle": "2022-03-11T10:23:59.947965Z",
     "shell.execute_reply": "2022-03-11T10:23:59.948544Z",
     "shell.execute_reply.started": "2022-02-27T13:12:54.555592Z"
    },
    "papermill": {
     "duration": 0.685067,
     "end_time": "2022-03-11T10:23:59.948756",
     "exception": false,
     "start_time": "2022-03-11T10:23:59.263689",
     "status": "completed"
    },
    "tags": []
   },
   "outputs": [
    {
     "name": "stdout",
     "output_type": "stream",
     "text": [
      "chlorides decreases as quality increases.\n"
     ]
    },
    {
     "data": {
      "image/png": "[encoded data removed]",
      "text/plain": [
       "<Figure size 432x288 with 1 Axes>"
      ]
     },
     "metadata": {
      "needs_background": "light"
     },
     "output_type": "display_data"
    }
   ],
   "source": [
    "# 6e check how the quality is influenced by chlorides\n",
    "# e.g., does higher quality mean higher chlorides?\n",
    "sns.barplot(x=red_wine_data['quality'], y=red_wine_data['chlorides'])\n",
    "print('chlorides decreases as quality increases.')"
   ]
  },
  {
   "cell_type": "code",
   "execution_count": 13,
   "id": "cfc28404",
   "metadata": {
    "execution": {
     "iopub.execute_input": "2022-03-11T10:24:00.427092Z",
     "iopub.status.busy": "2022-03-11T10:24:00.425878Z",
     "iopub.status.idle": "2022-03-11T10:24:00.879393Z",
     "shell.execute_reply": "2022-03-11T10:24:00.880034Z",
     "shell.execute_reply.started": "2022-02-27T13:12:54.966698Z"
    },
    "papermill": {
     "duration": 0.696352,
     "end_time": "2022-03-11T10:24:00.880249",
     "exception": false,
     "start_time": "2022-03-11T10:24:00.183897",
     "status": "completed"
    },
    "tags": []
   },
   "outputs": [
    {
     "name": "stdout",
     "output_type": "stream",
     "text": [
      "free sulfur dioxide increases with quality and peaks at 5 before decreasing.\n"
     ]
    },
    {
     "data": {
      "image/png": "[encoded data removed]",
      "text/plain": [
       "<Figure size 432x288 with 1 Axes>"
      ]
     },
     "metadata": {
      "needs_background": "light"
     },
     "output_type": "display_data"
    }
   ],
   "source": [
    "# 6f check how the quality is influenced by free sulfur dioxide\n",
    "# e.g., does higher quality mean higher free so2?\n",
    "sns.barplot(x=red_wine_data['quality'], y=red_wine_data['free sulfur dioxide'])\n",
    "print('free sulfur dioxide increases with quality and peaks at 5 before decreasing.')"
   ]
  },
  {
   "cell_type": "code",
   "execution_count": 14,
   "id": "6ac1e0eb",
   "metadata": {
    "execution": {
     "iopub.execute_input": "2022-03-11T10:24:01.351836Z",
     "iopub.status.busy": "2022-03-11T10:24:01.348398Z",
     "iopub.status.idle": "2022-03-11T10:24:01.784787Z",
     "shell.execute_reply": "2022-03-11T10:24:01.784191Z",
     "shell.execute_reply.started": "2022-02-27T13:12:55.267096Z"
    },
    "papermill": {
     "duration": 0.673592,
     "end_time": "2022-03-11T10:24:01.784955",
     "exception": false,
     "start_time": "2022-03-11T10:24:01.111363",
     "status": "completed"
    },
    "tags": []
   },
   "outputs": [
    {
     "name": "stdout",
     "output_type": "stream",
     "text": [
      "total sulfur dioxide increases with quality and peaks at 5 before decreasing.\n"
     ]
    },
    {
     "data": {
      "image/png": "[encoded data removed]",
      "text/plain": [
       "<Figure size 432x288 with 1 Axes>"
      ]
     },
     "metadata": {
      "needs_background": "light"
     },
     "output_type": "display_data"
    }
   ],
   "source": [
    "# 6g check how the quality is influenced by total sulfur dioxide\n",
    "# e.g., does higher quality mean higher total so2?\n",
    "sns.barplot(x=red_wine_data['quality'], y=red_wine_data['total sulfur dioxide'])\n",
    "print('total sulfur dioxide increases with quality and peaks at 5 before decreasing.')"
   ]
  },
  {
   "cell_type": "code",
   "execution_count": 15,
   "id": "4e5b8ddd",
   "metadata": {
    "execution": {
     "iopub.execute_input": "2022-03-11T10:24:02.251365Z",
     "iopub.status.busy": "2022-03-11T10:24:02.250632Z",
     "iopub.status.idle": "2022-03-11T10:24:02.899407Z",
     "shell.execute_reply": "2022-03-11T10:24:02.898596Z",
     "shell.execute_reply.started": "2022-02-27T13:12:55.569544Z"
    },
    "papermill": {
     "duration": 0.883443,
     "end_time": "2022-03-11T10:24:02.899587",
     "exception": false,
     "start_time": "2022-03-11T10:24:02.016144",
     "status": "completed"
    },
    "tags": []
   },
   "outputs": [
    {
     "name": "stdout",
     "output_type": "stream",
     "text": [
      "density has minimal effect on quality.\n"
     ]
    },
    {
     "data": {
      "image/png": "[encoded data removed]",
      "text/plain": [
       "<Figure size 432x288 with 1 Axes>"
      ]
     },
     "metadata": {
      "needs_background": "light"
     },
     "output_type": "display_data"
    }
   ],
   "source": [
    "# 6h check how the quality is influenced by density\n",
    "# e.g., does higher quality mean higher density?\n",
    "sns.barplot(x=red_wine_data['quality'], y=red_wine_data['density'])\n",
    "print('density has minimal effect on quality.')"
   ]
  },
  {
   "cell_type": "code",
   "execution_count": 16,
   "id": "e0656f83",
   "metadata": {
    "execution": {
     "iopub.execute_input": "2022-03-11T10:24:03.371402Z",
     "iopub.status.busy": "2022-03-11T10:24:03.370298Z",
     "iopub.status.idle": "2022-03-11T10:24:03.825525Z",
     "shell.execute_reply": "2022-03-11T10:24:03.824819Z",
     "shell.execute_reply.started": "2022-02-27T13:12:55.866354Z"
    },
    "papermill": {
     "duration": 0.693841,
     "end_time": "2022-03-11T10:24:03.825724",
     "exception": false,
     "start_time": "2022-03-11T10:24:03.131883",
     "status": "completed"
    },
    "tags": []
   },
   "outputs": [
    {
     "name": "stdout",
     "output_type": "stream",
     "text": [
      "ph has minimal effect on quality.\n"
     ]
    },
    {
     "data": {
      "image/png": "[encoded data removed]",
      "text/plain": [
       "<Figure size 432x288 with 1 Axes>"
      ]
     },
     "metadata": {
      "needs_background": "light"
     },
     "output_type": "display_data"
    }
   ],
   "source": [
    "# 6i check how the quality is influenced by pH\n",
    "# e.g., does higher quality mean higher pH?\n",
    "sns.barplot(x=red_wine_data['quality'], y=red_wine_data['pH'])\n",
    "print('ph has minimal effect on quality.')"
   ]
  },
  {
   "cell_type": "code",
   "execution_count": 17,
   "id": "1d8764e9",
   "metadata": {
    "execution": {
     "iopub.execute_input": "2022-03-11T10:24:04.298979Z",
     "iopub.status.busy": "2022-03-11T10:24:04.298030Z",
     "iopub.status.idle": "2022-03-11T10:24:04.751873Z",
     "shell.execute_reply": "2022-03-11T10:24:04.751058Z",
     "shell.execute_reply.started": "2022-02-27T13:12:56.177525Z"
    },
    "papermill": {
     "duration": 0.691931,
     "end_time": "2022-03-11T10:24:04.752049",
     "exception": false,
     "start_time": "2022-03-11T10:24:04.060118",
     "status": "completed"
    },
    "tags": []
   },
   "outputs": [
    {
     "name": "stdout",
     "output_type": "stream",
     "text": [
      "quality increases with suphates.\n"
     ]
    },
    {
     "data": {
      "image/png": "[encoded data removed]",
      "text/plain": [
       "<Figure size 432x288 with 1 Axes>"
      ]
     },
     "metadata": {
      "needs_background": "light"
     },
     "output_type": "display_data"
    }
   ],
   "source": [
    "# 6j check how the quality is influenced by sulphates\n",
    "# e.g., does higher quality mean higher sulphates?\n",
    "sns.barplot(x=red_wine_data['quality'], y=red_wine_data['sulphates'])\n",
    "print('quality increases with suphates.')"
   ]
  },
  {
   "cell_type": "code",
   "execution_count": 18,
   "id": "7ff2ad05",
   "metadata": {
    "execution": {
     "iopub.execute_input": "2022-03-11T10:24:05.225125Z",
     "iopub.status.busy": "2022-03-11T10:24:05.224181Z",
     "iopub.status.idle": "2022-03-11T10:24:05.665022Z",
     "shell.execute_reply": "2022-03-11T10:24:05.665736Z",
     "shell.execute_reply.started": "2022-02-27T13:12:56.486375Z"
    },
    "papermill": {
     "duration": 0.680303,
     "end_time": "2022-03-11T10:24:05.665998",
     "exception": false,
     "start_time": "2022-03-11T10:24:04.985695",
     "status": "completed"
    },
    "tags": []
   },
   "outputs": [
    {
     "name": "stdout",
     "output_type": "stream",
     "text": [
      "quality increases with alcohol.\n"
     ]
    },
    {
     "data": {
      "image/png": "[encoded data removed]",
      "text/plain": [
       "<Figure size 432x288 with 1 Axes>"
      ]
     },
     "metadata": {
      "needs_background": "light"
     },
     "output_type": "display_data"
    }
   ],
   "source": [
    "# 6k check how the quality is influenced by alcohol\n",
    "# e.g., does higher quality mean higher alcohol percentage?\n",
    "sns.barplot(x=red_wine_data['quality'], y=red_wine_data['alcohol'])\n",
    "print('quality increases with alcohol.')"
   ]
  },
  {
   "cell_type": "code",
   "execution_count": 19,
   "id": "81e731c3",
   "metadata": {
    "execution": {
     "iopub.execute_input": "2022-03-11T10:24:06.149396Z",
     "iopub.status.busy": "2022-03-11T10:24:06.148621Z",
     "iopub.status.idle": "2022-03-11T10:24:06.171835Z",
     "shell.execute_reply": "2022-03-11T10:24:06.172365Z",
     "shell.execute_reply.started": "2022-02-27T13:12:56.879891Z"
    },
    "papermill": {
     "duration": 0.268653,
     "end_time": "2022-03-11T10:24:06.172566",
     "exception": false,
     "start_time": "2022-03-11T10:24:05.903913",
     "status": "completed"
    },
    "tags": []
   },
   "outputs": [
    {
     "data": {
      "text/html": [
       "<div>\n",
       "<style scoped>\n",
       "    .dataframe tbody tr th:only-of-type {\n",
       "        vertical-align: middle;\n",
       "    }\n",
       "\n",
       "    .dataframe tbody tr th {\n",
       "        vertical-align: top;\n",
       "    }\n",
       "\n",
       "    .dataframe thead th {\n",
       "        text-align: right;\n",
       "    }\n",
       "</style>\n",
       "<table border=\"1\" class=\"dataframe\">\n",
       "  <thead>\n",
       "    <tr style=\"text-align: right;\">\n",
       "      <th></th>\n",
       "      <th>fixed acidity</th>\n",
       "      <th>volatile acidity</th>\n",
       "      <th>citric acid</th>\n",
       "      <th>residual sugar</th>\n",
       "      <th>chlorides</th>\n",
       "      <th>free sulfur dioxide</th>\n",
       "      <th>total sulfur dioxide</th>\n",
       "      <th>density</th>\n",
       "      <th>pH</th>\n",
       "      <th>sulphates</th>\n",
       "      <th>alcohol</th>\n",
       "      <th>quality</th>\n",
       "    </tr>\n",
       "  </thead>\n",
       "  <tbody>\n",
       "    <tr>\n",
       "      <th>fixed acidity</th>\n",
       "      <td>1.000000</td>\n",
       "      <td>-0.256131</td>\n",
       "      <td>0.671703</td>\n",
       "      <td>0.114777</td>\n",
       "      <td>0.093705</td>\n",
       "      <td>-0.153794</td>\n",
       "      <td>-0.113181</td>\n",
       "      <td>0.668047</td>\n",
       "      <td>-0.682978</td>\n",
       "      <td>0.183006</td>\n",
       "      <td>-0.061668</td>\n",
       "      <td>0.124052</td>\n",
       "    </tr>\n",
       "    <tr>\n",
       "      <th>volatile acidity</th>\n",
       "      <td>-0.256131</td>\n",
       "      <td>1.000000</td>\n",
       "      <td>-0.552496</td>\n",
       "      <td>0.001918</td>\n",
       "      <td>0.061298</td>\n",
       "      <td>-0.010504</td>\n",
       "      <td>0.076470</td>\n",
       "      <td>0.022026</td>\n",
       "      <td>0.234937</td>\n",
       "      <td>-0.260987</td>\n",
       "      <td>-0.202288</td>\n",
       "      <td>-0.390558</td>\n",
       "    </tr>\n",
       "    <tr>\n",
       "      <th>citric acid</th>\n",
       "      <td>0.671703</td>\n",
       "      <td>-0.552496</td>\n",
       "      <td>1.000000</td>\n",
       "      <td>0.143577</td>\n",
       "      <td>0.203823</td>\n",
       "      <td>-0.060978</td>\n",
       "      <td>0.035533</td>\n",
       "      <td>0.364947</td>\n",
       "      <td>-0.541904</td>\n",
       "      <td>0.312770</td>\n",
       "      <td>0.109903</td>\n",
       "      <td>0.226373</td>\n",
       "    </tr>\n",
       "    <tr>\n",
       "      <th>residual sugar</th>\n",
       "      <td>0.114777</td>\n",
       "      <td>0.001918</td>\n",
       "      <td>0.143577</td>\n",
       "      <td>1.000000</td>\n",
       "      <td>0.055610</td>\n",
       "      <td>0.187049</td>\n",
       "      <td>0.203028</td>\n",
       "      <td>0.355283</td>\n",
       "      <td>-0.085652</td>\n",
       "      <td>0.005527</td>\n",
       "      <td>0.042075</td>\n",
       "      <td>0.013732</td>\n",
       "    </tr>\n",
       "    <tr>\n",
       "      <th>chlorides</th>\n",
       "      <td>0.093705</td>\n",
       "      <td>0.061298</td>\n",
       "      <td>0.203823</td>\n",
       "      <td>0.055610</td>\n",
       "      <td>1.000000</td>\n",
       "      <td>0.005562</td>\n",
       "      <td>0.047400</td>\n",
       "      <td>0.200632</td>\n",
       "      <td>-0.265026</td>\n",
       "      <td>0.371260</td>\n",
       "      <td>-0.221141</td>\n",
       "      <td>-0.128907</td>\n",
       "    </tr>\n",
       "    <tr>\n",
       "      <th>free sulfur dioxide</th>\n",
       "      <td>-0.153794</td>\n",
       "      <td>-0.010504</td>\n",
       "      <td>-0.060978</td>\n",
       "      <td>0.187049</td>\n",
       "      <td>0.005562</td>\n",
       "      <td>1.000000</td>\n",
       "      <td>0.667666</td>\n",
       "      <td>-0.021946</td>\n",
       "      <td>0.070377</td>\n",
       "      <td>0.051658</td>\n",
       "      <td>-0.069408</td>\n",
       "      <td>-0.050656</td>\n",
       "    </tr>\n",
       "    <tr>\n",
       "      <th>total sulfur dioxide</th>\n",
       "      <td>-0.113181</td>\n",
       "      <td>0.076470</td>\n",
       "      <td>0.035533</td>\n",
       "      <td>0.203028</td>\n",
       "      <td>0.047400</td>\n",
       "      <td>0.667666</td>\n",
       "      <td>1.000000</td>\n",
       "      <td>0.071269</td>\n",
       "      <td>-0.066495</td>\n",
       "      <td>0.042947</td>\n",
       "      <td>-0.205654</td>\n",
       "      <td>-0.185100</td>\n",
       "    </tr>\n",
       "    <tr>\n",
       "      <th>density</th>\n",
       "      <td>0.668047</td>\n",
       "      <td>0.022026</td>\n",
       "      <td>0.364947</td>\n",
       "      <td>0.355283</td>\n",
       "      <td>0.200632</td>\n",
       "      <td>-0.021946</td>\n",
       "      <td>0.071269</td>\n",
       "      <td>1.000000</td>\n",
       "      <td>-0.341699</td>\n",
       "      <td>0.148506</td>\n",
       "      <td>-0.496180</td>\n",
       "      <td>-0.174919</td>\n",
       "    </tr>\n",
       "    <tr>\n",
       "      <th>pH</th>\n",
       "      <td>-0.682978</td>\n",
       "      <td>0.234937</td>\n",
       "      <td>-0.541904</td>\n",
       "      <td>-0.085652</td>\n",
       "      <td>-0.265026</td>\n",
       "      <td>0.070377</td>\n",
       "      <td>-0.066495</td>\n",
       "      <td>-0.341699</td>\n",
       "      <td>1.000000</td>\n",
       "      <td>-0.196648</td>\n",
       "      <td>0.205633</td>\n",
       "      <td>-0.057731</td>\n",
       "    </tr>\n",
       "    <tr>\n",
       "      <th>sulphates</th>\n",
       "      <td>0.183006</td>\n",
       "      <td>-0.260987</td>\n",
       "      <td>0.312770</td>\n",
       "      <td>0.005527</td>\n",
       "      <td>0.371260</td>\n",
       "      <td>0.051658</td>\n",
       "      <td>0.042947</td>\n",
       "      <td>0.148506</td>\n",
       "      <td>-0.196648</td>\n",
       "      <td>1.000000</td>\n",
       "      <td>0.093595</td>\n",
       "      <td>0.251397</td>\n",
       "    </tr>\n",
       "    <tr>\n",
       "      <th>alcohol</th>\n",
       "      <td>-0.061668</td>\n",
       "      <td>-0.202288</td>\n",
       "      <td>0.109903</td>\n",
       "      <td>0.042075</td>\n",
       "      <td>-0.221141</td>\n",
       "      <td>-0.069408</td>\n",
       "      <td>-0.205654</td>\n",
       "      <td>-0.496180</td>\n",
       "      <td>0.205633</td>\n",
       "      <td>0.093595</td>\n",
       "      <td>1.000000</td>\n",
       "      <td>0.476166</td>\n",
       "    </tr>\n",
       "    <tr>\n",
       "      <th>quality</th>\n",
       "      <td>0.124052</td>\n",
       "      <td>-0.390558</td>\n",
       "      <td>0.226373</td>\n",
       "      <td>0.013732</td>\n",
       "      <td>-0.128907</td>\n",
       "      <td>-0.050656</td>\n",
       "      <td>-0.185100</td>\n",
       "      <td>-0.174919</td>\n",
       "      <td>-0.057731</td>\n",
       "      <td>0.251397</td>\n",
       "      <td>0.476166</td>\n",
       "      <td>1.000000</td>\n",
       "    </tr>\n",
       "  </tbody>\n",
       "</table>\n",
       "</div>"
      ],
      "text/plain": [
       "                      fixed acidity  volatile acidity  citric acid  \\\n",
       "fixed acidity              1.000000         -0.256131     0.671703   \n",
       "volatile acidity          -0.256131          1.000000    -0.552496   \n",
       "citric acid                0.671703         -0.552496     1.000000   \n",
       "residual sugar             0.114777          0.001918     0.143577   \n",
       "chlorides                  0.093705          0.061298     0.203823   \n",
       "free sulfur dioxide       -0.153794         -0.010504    -0.060978   \n",
       "total sulfur dioxide      -0.113181          0.076470     0.035533   \n",
       "density                    0.668047          0.022026     0.364947   \n",
       "pH                        -0.682978          0.234937    -0.541904   \n",
       "sulphates                  0.183006         -0.260987     0.312770   \n",
       "alcohol                   -0.061668         -0.202288     0.109903   \n",
       "quality                    0.124052         -0.390558     0.226373   \n",
       "\n",
       "                      residual sugar  chlorides  free sulfur dioxide  \\\n",
       "fixed acidity               0.114777   0.093705            -0.153794   \n",
       "volatile acidity            0.001918   0.061298            -0.010504   \n",
       "citric acid                 0.143577   0.203823            -0.060978   \n",
       "residual sugar              1.000000   0.055610             0.187049   \n",
       "chlorides                   0.055610   1.000000             0.005562   \n",
       "free sulfur dioxide         0.187049   0.005562             1.000000   \n",
       "total sulfur dioxide        0.203028   0.047400             0.667666   \n",
       "density                     0.355283   0.200632            -0.021946   \n",
       "pH                         -0.085652  -0.265026             0.070377   \n",
       "sulphates                   0.005527   0.371260             0.051658   \n",
       "alcohol                     0.042075  -0.221141            -0.069408   \n",
       "quality                     0.013732  -0.128907            -0.050656   \n",
       "\n",
       "                      total sulfur dioxide   density        pH  sulphates  \\\n",
       "fixed acidity                    -0.113181  0.668047 -0.682978   0.183006   \n",
       "volatile acidity                  0.076470  0.022026  0.234937  -0.260987   \n",
       "citric acid                       0.035533  0.364947 -0.541904   0.312770   \n",
       "residual sugar                    0.203028  0.355283 -0.085652   0.005527   \n",
       "chlorides                         0.047400  0.200632 -0.265026   0.371260   \n",
       "free sulfur dioxide               0.667666 -0.021946  0.070377   0.051658   \n",
       "total sulfur dioxide              1.000000  0.071269 -0.066495   0.042947   \n",
       "density                           0.071269  1.000000 -0.341699   0.148506   \n",
       "pH                               -0.066495 -0.341699  1.000000  -0.196648   \n",
       "sulphates                         0.042947  0.148506 -0.196648   1.000000   \n",
       "alcohol                          -0.205654 -0.496180  0.205633   0.093595   \n",
       "quality                          -0.185100 -0.174919 -0.057731   0.251397   \n",
       "\n",
       "                       alcohol   quality  \n",
       "fixed acidity        -0.061668  0.124052  \n",
       "volatile acidity     -0.202288 -0.390558  \n",
       "citric acid           0.109903  0.226373  \n",
       "residual sugar        0.042075  0.013732  \n",
       "chlorides            -0.221141 -0.128907  \n",
       "free sulfur dioxide  -0.069408 -0.050656  \n",
       "total sulfur dioxide -0.205654 -0.185100  \n",
       "density              -0.496180 -0.174919  \n",
       "pH                    0.205633 -0.057731  \n",
       "sulphates             0.093595  0.251397  \n",
       "alcohol               1.000000  0.476166  \n",
       "quality               0.476166  1.000000  "
      ]
     },
     "execution_count": 19,
     "metadata": {},
     "output_type": "execute_result"
    }
   ],
   "source": [
    "# 6l Correlation: check correlation between feature columns & target via correlation matrix\n",
    "corr = red_wine_data.corr()\n",
    "corr"
   ]
  },
  {
   "cell_type": "code",
   "execution_count": 20,
   "id": "73780730",
   "metadata": {
    "execution": {
     "iopub.execute_input": "2022-03-11T10:24:06.702627Z",
     "iopub.status.busy": "2022-03-11T10:24:06.662526Z",
     "iopub.status.idle": "2022-03-11T10:24:07.831192Z",
     "shell.execute_reply": "2022-03-11T10:24:07.831758Z",
     "shell.execute_reply.started": "2022-02-27T13:12:56.905872Z"
    },
    "papermill": {
     "duration": 1.409361,
     "end_time": "2022-03-11T10:24:07.831999",
     "exception": false,
     "start_time": "2022-03-11T10:24:06.422638",
     "status": "completed"
    },
    "tags": []
   },
   "outputs": [
    {
     "data": {
      "image/png": "[encoded data removed]",
      "text/plain": [
       "<Figure size 864x432 with 2 Axes>"
      ]
     },
     "metadata": {
      "needs_background": "light"
     },
     "output_type": "display_data"
    }
   ],
   "source": [
    "plt.figure(figsize=(12, 6))\n",
    "sns.heatmap(corr, annot=True);"
   ]
  },
  {
   "cell_type": "code",
   "execution_count": 21,
   "id": "ebb915f1",
   "metadata": {
    "execution": {
     "iopub.execute_input": "2022-03-11T10:24:08.330444Z",
     "iopub.status.busy": "2022-03-11T10:24:08.329415Z",
     "iopub.status.idle": "2022-03-11T10:24:08.333697Z",
     "shell.execute_reply": "2022-03-11T10:24:08.333022Z",
     "shell.execute_reply.started": "2022-02-27T13:12:57.699536Z"
    },
    "papermill": {
     "duration": 0.252593,
     "end_time": "2022-03-11T10:24:08.333877",
     "exception": false,
     "start_time": "2022-03-11T10:24:08.081284",
     "status": "completed"
    },
    "tags": []
   },
   "outputs": [
    {
     "data": {
      "text/plain": [
       "5    681\n",
       "6    638\n",
       "7    199\n",
       "4     53\n",
       "8     18\n",
       "3     10\n",
       "Name: quality, dtype: int64"
      ]
     },
     "execution_count": 21,
     "metadata": {},
     "output_type": "execute_result"
    }
   ],
   "source": [
    "#7. Target: Check for discrete values\n",
    "red_wine_data['quality'].value_counts()"
   ]
  },
  {
   "cell_type": "markdown",
   "id": "61847386",
   "metadata": {
    "papermill": {
     "duration": 0.245436,
     "end_time": "2022-03-11T10:24:08.822012",
     "exception": false,
     "start_time": "2022-03-11T10:24:08.576576",
     "status": "completed"
    },
    "tags": []
   },
   "source": [
    "### Insights / Sanity Check Conclusions\n",
    "\n",
    "1. **Shape and data sufficiency: Check if there are sufficient rows of data for an ML problem**\n",
    "    1. **INSIGHT:** Shape of the data is (1599, 12). i.e., dataset contains ~1600 observations, which is much greater than number of columns (12). Hence we can apply ML techniques rather than statistical rule-based approach.\n",
    "\n",
    "\n",
    "2. **Datatypes: Check whether all the columns in the given dataset is numeric**\n",
    "    1. **INSIGHT:** `Dtype` indicates that all columns are numeric\n",
    "    \n",
    "\n",
    "3. **Missing Values: Check whether there are missing values**\n",
    "    1. **INSIGHT:** `Non-Null Count` indicates there are no missing values in the dataset\n",
    "\n",
    "\n",
    "4. **Zero-variance: Check if there are any zero variance column in the dataset**\n",
    "    1. **INSIGHT:** No zero-variance columns found in the dataset\n",
    "\n",
    "\n",
    "5. **Range of numbers in each column: Check the range of variation in each numeric column and apply scaling**\n",
    "    1. **INSIGHT:** Scaling is required for each column\n",
    "\n",
    "\n",
    "6. **Correlation: Check correlation between feature columns & target.** In the heatmap, check the correlation number for quality vs. feature. e.g., quality vs. pH = abs(-0.058) indicates very weak correlation between quality and pH.\n",
    "    1. **INSIGHT:** The columns `pH`, `free sulfur dioxide`, `residual sugar` have very weak correlation (0.00 - 0.20)\n",
    "    2. **INSIGHT:** The columns `fixed acidity`, `citric acid`, `chlorides`, `total sulfur dioxide`, `density` have weak correlation (0.20 - 0.40)\n",
    "    3. **INSIGHT:** The remaining columns show strong correlation (0.40 and above)\n",
    "    4. ***Note:*** *The barplots and correlation heatmap complement each other and reveal these findings*\n",
    "    5. ***Note:*** *absolute values of correlations were considered*\n",
    "\n",
    "\n",
    "7. **Other Observations:**\n",
    "    1. **INSIGHT:** Since (a) the target is given (b) target is numeric (number between 0..10), we can conclude that this is a supervised linear regression problem\n",
    "    2. **INSIGHT:** The target variable, i.e., `quality` has discrete values which indicates that this can be solved using classification methods also.\n"
   ]
  },
  {
   "cell_type": "markdown",
   "id": "0beaa5fb",
   "metadata": {
    "papermill": {
     "duration": 0.239855,
     "end_time": "2022-03-11T10:24:09.301504",
     "exception": false,
     "start_time": "2022-03-11T10:24:09.061649",
     "status": "completed"
    },
    "tags": []
   },
   "source": [
    "### EDA/Preprocessing\n",
    "_(Based on the insights from the sanity check, we can now determine how to process the data.)_\n",
    "\n",
    "#### Checklist of STANDARD EDA items\n",
    "\n",
    "1. Strategy for missing data\n",
    "    1. Action: No missing data, no action to be taken\n",
    "    \n",
    "    \n",
    "2. Convert categorical to numeric\n",
    "    1. Action: No Categorical data, no action to be taken\n",
    "    \n",
    "    \n",
    "3. Dimensionality reduction/Drop the identified columns\n",
    "    1. Action: Drop identified columns in Insights 6A and 6B\n",
    "    \n",
    "    \n",
    "4. Check for Outliers, Check the range of variation in each numeric column and scale (*Optional*)\n",
    "    1. Action: As per Insights 5A each numeric column needs to be scaled\n"
   ]
  },
  {
   "cell_type": "markdown",
   "id": "f65f4499",
   "metadata": {
    "papermill": {
     "duration": 0.24282,
     "end_time": "2022-03-11T10:24:09.794538",
     "exception": false,
     "start_time": "2022-03-11T10:24:09.551718",
     "status": "completed"
    },
    "tags": []
   },
   "source": [
    "### Approach for Developing ML Models\n",
    "We will apply 4 machine learing methods - Linear Regression, Logistic Regression, Decision Tree and Random Forest. For each method, we will follow a 3-step approach as outlined below:\n",
    "\n",
    "**Step 1: Develop the ML Model using all features**\n",
    "1. First, we will process the complete dataset without dropping any columns.\n",
    "2. We will build the ML model with the complete data, test and validate the predictions.\n",
    "\n",
    "**Step 2: Develop the ML Model after dropping columns showing very weak correlations (0.0-0.2)**\n",
    "1. As per Insights 6A, we will drop the columns that show very weak correlations. These columns are - `pH`, `free sulfur dioxide`, `residual sugar`\n",
    "2. The dataset will thus have 9 features (including target)\n",
    "3. We will build the ML model with the remaining data, test and validate the predictions\n",
    "\n",
    "**Step 3: Develop the ML Model after dropping columns showing weak correlations (0.2-0.4)**\n",
    "1. As per Insights 6B, we will next drop the columns that show weak correlations. These columns are - `fixed acidity`, `citric acid`, `chlorides`, `total sulfur dioxide`, `density`\n",
    "2. The dataset will thus have 4 features (including target)\n",
    "3. We will build the ML model with the remaining data, test and validate the predictions\n",
    "\n",
    "**Step 4:**\n",
    "1. Compare the Accuracy of all the three models developed\n",
    "2. Choose the best model for deployment\n",
    "\n",
    "**Conclusion**\n",
    "1. Summarize the results of all 4 methods - consider only the best models"
   ]
  },
  {
   "cell_type": "markdown",
   "id": "09da0760",
   "metadata": {
    "papermill": {
     "duration": 0.248364,
     "end_time": "2022-03-11T10:24:10.286839",
     "exception": false,
     "start_time": "2022-03-11T10:24:10.038475",
     "status": "completed"
    },
    "tags": []
   },
   "source": [
    "## Section 1: Linear Regression Models for Red Wine Quality"
   ]
  },
  {
   "cell_type": "markdown",
   "id": "906cbbae",
   "metadata": {
    "papermill": {
     "duration": 0.242497,
     "end_time": "2022-03-11T10:24:10.768280",
     "exception": false,
     "start_time": "2022-03-11T10:24:10.525783",
     "status": "completed"
    },
    "tags": []
   },
   "source": [
    "#### **Step 1: Develop the ML Model using all features**\n",
    "1. First, we will process the complete dataset without dropping any columns.\n",
    "2. We will build the ML model with the complete data, test and validate the predictions."
   ]
  },
  {
   "cell_type": "code",
   "execution_count": 22,
   "id": "f94cc38b",
   "metadata": {
    "execution": {
     "iopub.execute_input": "2022-03-11T10:24:11.262321Z",
     "iopub.status.busy": "2022-03-11T10:24:11.256747Z",
     "iopub.status.idle": "2022-03-11T10:24:11.264043Z",
     "shell.execute_reply": "2022-03-11T10:24:11.264750Z",
     "shell.execute_reply.started": "2022-02-27T13:12:57.708734Z"
    },
    "papermill": {
     "duration": 0.254254,
     "end_time": "2022-03-11T10:24:11.264991",
     "exception": false,
     "start_time": "2022-03-11T10:24:11.010737",
     "status": "completed"
    },
    "tags": []
   },
   "outputs": [],
   "source": [
    "# create the \"features and target\" data sets\n",
    "X = red_wine_data.drop('quality',axis=1)\n",
    "y = red_wine_data['quality']"
   ]
  },
  {
   "cell_type": "code",
   "execution_count": 23,
   "id": "9aa1e4ef",
   "metadata": {
    "execution": {
     "iopub.execute_input": "2022-03-11T10:24:11.749718Z",
     "iopub.status.busy": "2022-03-11T10:24:11.748886Z",
     "iopub.status.idle": "2022-03-11T10:24:11.753863Z",
     "shell.execute_reply": "2022-03-11T10:24:11.754415Z",
     "shell.execute_reply.started": "2022-02-27T13:12:57.726624Z"
    },
    "papermill": {
     "duration": 0.251559,
     "end_time": "2022-03-11T10:24:11.754627",
     "exception": false,
     "start_time": "2022-03-11T10:24:11.503068",
     "status": "completed"
    },
    "tags": []
   },
   "outputs": [],
   "source": [
    "#Feature Scaling\n",
    "from sklearn.preprocessing import StandardScaler\n",
    "scaler = StandardScaler()\n",
    "X = scaler.fit_transform(X)"
   ]
  },
  {
   "cell_type": "code",
   "execution_count": 24,
   "id": "69037091",
   "metadata": {
    "execution": {
     "iopub.execute_input": "2022-03-11T10:24:12.244188Z",
     "iopub.status.busy": "2022-03-11T10:24:12.242898Z",
     "iopub.status.idle": "2022-03-11T10:24:12.249243Z",
     "shell.execute_reply": "2022-03-11T10:24:12.249950Z",
     "shell.execute_reply.started": "2022-02-27T13:12:57.744986Z"
    },
    "papermill": {
     "duration": 0.257236,
     "end_time": "2022-03-11T10:24:12.250180",
     "exception": false,
     "start_time": "2022-03-11T10:24:11.992944",
     "status": "completed"
    },
    "tags": []
   },
   "outputs": [
    {
     "name": "stdout",
     "output_type": "stream",
     "text": [
      "Model 1 train shapes:\n",
      "(1279, 11) (1279,)\n",
      "\n",
      "Model 1 test shapes:\n",
      "(320, 11) (320,)\n"
     ]
    }
   ],
   "source": [
    "# split the features and target data sets into train and test sets\n",
    "X_train, X_test, y_train, y_test = train_test_split(X, y, test_size=0.2, random_state=42)\n",
    "print('Model 1 train shapes:')\n",
    "print(X_train.shape, y_train.shape)\n",
    "print()\n",
    "print('Model 1 test shapes:')\n",
    "print(X_test.shape, y_test.shape)"
   ]
  },
  {
   "cell_type": "code",
   "execution_count": 25,
   "id": "cb3a05e3",
   "metadata": {
    "execution": {
     "iopub.execute_input": "2022-03-11T10:24:12.745679Z",
     "iopub.status.busy": "2022-03-11T10:24:12.744649Z",
     "iopub.status.idle": "2022-03-11T10:24:12.771755Z",
     "shell.execute_reply": "2022-03-11T10:24:12.772818Z",
     "shell.execute_reply.started": "2022-02-27T13:12:57.760348Z"
    },
    "papermill": {
     "duration": 0.28375,
     "end_time": "2022-03-11T10:24:12.773450",
     "exception": false,
     "start_time": "2022-03-11T10:24:12.489700",
     "status": "completed"
    },
    "tags": []
   },
   "outputs": [],
   "source": [
    "# create and fit a linear regression model\n",
    "lm_red_wine1 = LinearRegression()\n",
    "red_model1 = lm_red_wine1.fit(X_train, y_train)"
   ]
  },
  {
   "cell_type": "code",
   "execution_count": 26,
   "id": "576ab52a",
   "metadata": {
    "execution": {
     "iopub.execute_input": "2022-03-11T10:24:13.318614Z",
     "iopub.status.busy": "2022-03-11T10:24:13.317275Z",
     "iopub.status.idle": "2022-03-11T10:24:13.331897Z",
     "shell.execute_reply": "2022-03-11T10:24:13.333005Z",
     "shell.execute_reply.started": "2022-02-27T13:12:57.775828Z"
    },
    "papermill": {
     "duration": 0.26827,
     "end_time": "2022-03-11T10:24:13.333385",
     "exception": false,
     "start_time": "2022-03-11T10:24:13.065115",
     "status": "completed"
    },
    "tags": []
   },
   "outputs": [],
   "source": [
    "# predict using X training dataset - i.e., X_train\n",
    "train_predictions = red_model1.predict(X_train)\n",
    "train_prediction = [int(round(x,0)) for x in train_predictions]"
   ]
  },
  {
   "cell_type": "code",
   "execution_count": 27,
   "id": "aff3318c",
   "metadata": {
    "execution": {
     "iopub.execute_input": "2022-03-11T10:24:13.890664Z",
     "iopub.status.busy": "2022-03-11T10:24:13.889698Z",
     "iopub.status.idle": "2022-03-11T10:24:13.894713Z",
     "shell.execute_reply": "2022-03-11T10:24:13.895310Z",
     "shell.execute_reply.started": "2022-02-27T13:12:57.801866Z"
    },
    "papermill": {
     "duration": 0.257148,
     "end_time": "2022-03-11T10:24:13.895539",
     "exception": false,
     "start_time": "2022-03-11T10:24:13.638391",
     "status": "completed"
    },
    "tags": []
   },
   "outputs": [
    {
     "name": "stdout",
     "output_type": "stream",
     "text": [
      "red wine model1: coeffs = \n",
      "[ 0.04018122 -0.1792372  -0.0274236   0.00925231 -0.08499703  0.05884439\n",
      " -0.11984784 -0.0195308  -0.06076105  0.14253987  0.30030663]\n",
      "\n",
      "red wine model1: intercept = \n",
      "5.629424674390097\n"
     ]
    }
   ],
   "source": [
    "print('red wine model1: coeffs = ')\n",
    "print(red_model1.coef_)\n",
    "print()\n",
    "print('red wine model1: intercept = ')\n",
    "print(red_model1.intercept_)"
   ]
  },
  {
   "cell_type": "code",
   "execution_count": 28,
   "id": "0c2e6e24",
   "metadata": {
    "execution": {
     "iopub.execute_input": "2022-03-11T10:24:14.386759Z",
     "iopub.status.busy": "2022-03-11T10:24:14.385859Z",
     "iopub.status.idle": "2022-03-11T10:24:14.389128Z",
     "shell.execute_reply": "2022-03-11T10:24:14.389725Z",
     "shell.execute_reply.started": "2022-02-27T13:12:57.820643Z"
    },
    "papermill": {
     "duration": 0.252334,
     "end_time": "2022-03-11T10:24:14.389983",
     "exception": false,
     "start_time": "2022-03-11T10:24:14.137649",
     "status": "completed"
    },
    "tags": []
   },
   "outputs": [],
   "source": [
    "# simple function to compare actual and predicted values i.e., MAPE\n",
    "def compare_prediction(y, yhat):\n",
    "    comp_matrix = pd.DataFrame(zip(y, yhat), columns = ['Actual', 'Predicted'])\n",
    "    comp_matrix['Err'] = abs(comp_matrix['Actual']-comp_matrix['Predicted'])\n",
    "    comp_matrix['PctErr'] = comp_matrix['Err']/comp_matrix['Actual'] * 100\n",
    "    mean_value = np.mean(comp_matrix['PctErr'])\n",
    "    return comp_matrix, mean_value"
   ]
  },
  {
   "cell_type": "code",
   "execution_count": 29,
   "id": "75cef4a9",
   "metadata": {
    "execution": {
     "iopub.execute_input": "2022-03-11T10:24:14.877902Z",
     "iopub.status.busy": "2022-03-11T10:24:14.877084Z",
     "iopub.status.idle": "2022-03-11T10:24:14.894740Z",
     "shell.execute_reply": "2022-03-11T10:24:14.893486Z",
     "shell.execute_reply.started": "2022-02-27T13:12:57.832406Z"
    },
    "papermill": {
     "duration": 0.261829,
     "end_time": "2022-03-11T10:24:14.895039",
     "exception": false,
     "start_time": "2022-03-11T10:24:14.633210",
     "status": "completed"
    },
    "tags": []
   },
   "outputs": [
    {
     "name": "stdout",
     "output_type": "stream",
     "text": [
      "Model 1 prediction comparison (training set):\n",
      "\n",
      "   Actual  Predicted  Err  PctErr\n",
      "0       6          6    0     0.0\n",
      "1       6          6    0     0.0\n",
      "2       6          6    0     0.0\n",
      "3       5          5    0     0.0\n",
      "4       5          5    0     0.0\n",
      "\n",
      "Model 1 mean error % (training set): 8.06\n",
      "Model1 accuracy (training set): 91.94\n"
     ]
    }
   ],
   "source": [
    "# compare actual and predicted values\n",
    "comp_matrix, mean = compare_prediction(y_train, train_prediction)\n",
    "print(\"Model 1 prediction comparison (training set):\\n\")\n",
    "print(comp_matrix.head())\n",
    "\n",
    "print(\"\\nModel 1 mean error % (training set):\", round(mean,2))\n",
    "\n",
    "accuracy1 = round((100-mean),2)\n",
    "print('Model1 accuracy (training set):', accuracy1)"
   ]
  },
  {
   "cell_type": "code",
   "execution_count": 30,
   "id": "3ecd6925",
   "metadata": {
    "execution": {
     "iopub.execute_input": "2022-03-11T10:24:15.395998Z",
     "iopub.status.busy": "2022-03-11T10:24:15.395167Z",
     "iopub.status.idle": "2022-03-11T10:24:15.401345Z",
     "shell.execute_reply": "2022-03-11T10:24:15.401885Z",
     "shell.execute_reply.started": "2022-02-27T13:12:57.871101Z"
    },
    "papermill": {
     "duration": 0.262654,
     "end_time": "2022-03-11T10:24:15.402130",
     "exception": false,
     "start_time": "2022-03-11T10:24:15.139476",
     "status": "completed"
    },
    "tags": []
   },
   "outputs": [],
   "source": [
    "# predict using X_test dataset\n",
    "test_preds = red_model1.predict(X_test)\n",
    "test_preds = [int(round(x,0)) for x in test_preds]"
   ]
  },
  {
   "cell_type": "code",
   "execution_count": 31,
   "id": "bf3f28ca",
   "metadata": {
    "execution": {
     "iopub.execute_input": "2022-03-11T10:24:15.892960Z",
     "iopub.status.busy": "2022-03-11T10:24:15.892126Z",
     "iopub.status.idle": "2022-03-11T10:24:15.906865Z",
     "shell.execute_reply": "2022-03-11T10:24:15.907450Z",
     "shell.execute_reply.started": "2022-02-27T13:12:57.892745Z"
    },
    "papermill": {
     "duration": 0.2594,
     "end_time": "2022-03-11T10:24:15.907673",
     "exception": false,
     "start_time": "2022-03-11T10:24:15.648273",
     "status": "completed"
    },
    "scrolled": true,
    "tags": []
   },
   "outputs": [
    {
     "name": "stdout",
     "output_type": "stream",
     "text": [
      "Model 1 prediction comparison (test set):\n",
      "\n",
      "   Actual  Predicted  Err  PctErr\n",
      "0       6          6    0     0.0\n",
      "1       6          6    0     0.0\n",
      "2       6          6    0     0.0\n",
      "3       5          5    0     0.0\n",
      "4       5          5    0     0.0\n",
      "\n",
      "Model 1 mean error % (test set): 8.06\n",
      "Model1 accuracy (test set) = 91.94\n"
     ]
    }
   ],
   "source": [
    "# compare y_test and test_preds\n",
    "test_cm, test_mean = compare_prediction(y=y_test, yhat=test_preds)\n",
    "print(\"Model 1 prediction comparison (test set):\\n\")\n",
    "print(comp_matrix.head())\n",
    "\n",
    "print(\"\\nModel 1 mean error % (test set):\", round(mean,2))\n",
    "\n",
    "accuracy1 = round((100-mean),2)\n",
    "print('Model1 accuracy (test set) =', accuracy1)"
   ]
  },
  {
   "cell_type": "markdown",
   "id": "0b025156",
   "metadata": {
    "papermill": {
     "duration": 0.240744,
     "end_time": "2022-03-11T10:24:16.389008",
     "exception": false,
     "start_time": "2022-03-11T10:24:16.148264",
     "status": "completed"
    },
    "tags": []
   },
   "source": [
    "#### ***Linear Regression Model 1 (using all features) shows a prediction accuracy of 91.94%***"
   ]
  },
  {
   "cell_type": "markdown",
   "id": "da3280a0",
   "metadata": {
    "papermill": {
     "duration": 0.243001,
     "end_time": "2022-03-11T10:24:16.877359",
     "exception": false,
     "start_time": "2022-03-11T10:24:16.634358",
     "status": "completed"
    },
    "tags": []
   },
   "source": [
    "#### **Step 2: Develop the ML Model after dropping columns showing very weak correlations (0.0-0.2)**\n",
    "1. Drop the columns that show very weak correlations - `pH`, `free sulfur dioxide`, `residual sugar`\n",
    "2. Build the ML model with the remaining data, test and validate the predictions"
   ]
  },
  {
   "cell_type": "code",
   "execution_count": 32,
   "id": "c08fb3b6",
   "metadata": {
    "execution": {
     "iopub.execute_input": "2022-03-11T10:24:17.368466Z",
     "iopub.status.busy": "2022-03-11T10:24:17.364147Z",
     "iopub.status.idle": "2022-03-11T10:24:17.371470Z",
     "shell.execute_reply": "2022-03-11T10:24:17.371979Z",
     "shell.execute_reply.started": "2022-02-27T13:12:57.913061Z"
    },
    "papermill": {
     "duration": 0.251548,
     "end_time": "2022-03-11T10:24:17.372203",
     "exception": false,
     "start_time": "2022-03-11T10:24:17.120655",
     "status": "completed"
    },
    "tags": []
   },
   "outputs": [],
   "source": [
    "### 3. Dimensionality reduction/Drop the identified columns\n",
    "lst = ['pH', 'free sulfur dioxide', 'residual sugar']\n",
    "red_wine_data.drop(lst, axis =1, inplace = True)"
   ]
  },
  {
   "cell_type": "code",
   "execution_count": 33,
   "id": "dce7d2d9",
   "metadata": {
    "execution": {
     "iopub.execute_input": "2022-03-11T10:24:17.865477Z",
     "iopub.status.busy": "2022-03-11T10:24:17.861811Z",
     "iopub.status.idle": "2022-03-11T10:24:17.868763Z",
     "shell.execute_reply": "2022-03-11T10:24:17.868175Z",
     "shell.execute_reply.started": "2022-02-27T13:12:57.921794Z"
    },
    "papermill": {
     "duration": 0.25203,
     "end_time": "2022-03-11T10:24:17.868969",
     "exception": false,
     "start_time": "2022-03-11T10:24:17.616939",
     "status": "completed"
    },
    "tags": []
   },
   "outputs": [],
   "source": [
    "# create the \"features and target\" data sets\n",
    "X = red_wine_data.drop('quality',axis=1)\n",
    "y = red_wine_data['quality']"
   ]
  },
  {
   "cell_type": "code",
   "execution_count": 34,
   "id": "d7fa5b47",
   "metadata": {
    "execution": {
     "iopub.execute_input": "2022-03-11T10:24:18.367721Z",
     "iopub.status.busy": "2022-03-11T10:24:18.366504Z",
     "iopub.status.idle": "2022-03-11T10:24:18.382100Z",
     "shell.execute_reply": "2022-03-11T10:24:18.382952Z",
     "shell.execute_reply.started": "2022-02-27T13:12:57.938151Z"
    },
    "papermill": {
     "duration": 0.272822,
     "end_time": "2022-03-11T10:24:18.383290",
     "exception": false,
     "start_time": "2022-03-11T10:24:18.110468",
     "status": "completed"
    },
    "tags": []
   },
   "outputs": [],
   "source": [
    "#Feature Scaling\n",
    "from sklearn.preprocessing import StandardScaler\n",
    "scaler = StandardScaler()\n",
    "X = scaler.fit_transform(X)"
   ]
  },
  {
   "cell_type": "code",
   "execution_count": 35,
   "id": "8904f548",
   "metadata": {
    "execution": {
     "iopub.execute_input": "2022-03-11T10:24:18.960994Z",
     "iopub.status.busy": "2022-03-11T10:24:18.959692Z",
     "iopub.status.idle": "2022-03-11T10:24:18.969675Z",
     "shell.execute_reply": "2022-03-11T10:24:18.970689Z",
     "shell.execute_reply.started": "2022-02-27T13:12:57.954364Z"
    },
    "papermill": {
     "duration": 0.316409,
     "end_time": "2022-03-11T10:24:18.970956",
     "exception": false,
     "start_time": "2022-03-11T10:24:18.654547",
     "status": "completed"
    },
    "tags": []
   },
   "outputs": [
    {
     "name": "stdout",
     "output_type": "stream",
     "text": [
      "Model 2 train shapes:\n",
      "(1279, 8) (1279,)\n",
      "\n",
      "Model 2 test shapes:\n",
      "(320, 8) (320,)\n"
     ]
    }
   ],
   "source": [
    "# split the features and target data sets into train and test sets\n",
    "X_train, X_test, y_train, y_test = train_test_split(X, y, test_size=0.2, random_state=42)\n",
    "print('Model 2 train shapes:')\n",
    "print(X_train.shape, y_train.shape)\n",
    "print()\n",
    "print('Model 2 test shapes:')\n",
    "print(X_test.shape, y_test.shape)"
   ]
  },
  {
   "cell_type": "code",
   "execution_count": 36,
   "id": "b86457a5",
   "metadata": {
    "execution": {
     "iopub.execute_input": "2022-03-11T10:24:19.496403Z",
     "iopub.status.busy": "2022-03-11T10:24:19.495290Z",
     "iopub.status.idle": "2022-03-11T10:24:19.516721Z",
     "shell.execute_reply": "2022-03-11T10:24:19.517947Z",
     "shell.execute_reply.started": "2022-02-27T13:12:57.970133Z"
    },
    "papermill": {
     "duration": 0.2793,
     "end_time": "2022-03-11T10:24:19.518291",
     "exception": false,
     "start_time": "2022-03-11T10:24:19.238991",
     "status": "completed"
    },
    "tags": []
   },
   "outputs": [],
   "source": [
    "# create and fit a linear regression model\n",
    "lm_red_wine2 = LinearRegression()\n",
    "red_model2 = lm_red_wine2.fit(X_train, y_train)\n",
    "\n",
    "# computing yhat (ie train_predictions) using X (ie train_features)\n",
    "train_predictions = red_model2.predict(X_train)\n",
    "train_prediction = [int(round(x,0)) for x in train_predictions] "
   ]
  },
  {
   "cell_type": "code",
   "execution_count": 37,
   "id": "8bb8ba3d",
   "metadata": {
    "execution": {
     "iopub.execute_input": "2022-03-11T10:24:20.113579Z",
     "iopub.status.busy": "2022-03-11T10:24:20.112370Z",
     "iopub.status.idle": "2022-03-11T10:24:20.118962Z",
     "shell.execute_reply": "2022-03-11T10:24:20.119458Z",
     "shell.execute_reply.started": "2022-02-27T13:12:57.997077Z"
    },
    "papermill": {
     "duration": 0.264981,
     "end_time": "2022-03-11T10:24:20.119689",
     "exception": false,
     "start_time": "2022-03-11T10:24:19.854708",
     "status": "completed"
    },
    "tags": []
   },
   "outputs": [
    {
     "name": "stdout",
     "output_type": "stream",
     "text": [
      "red wine model2: coeffs = \n",
      "[ 0.09389249 -0.18930018 -0.03417444 -0.07277841 -0.07042481 -0.04269329\n",
      "  0.14615467  0.28690874]\n",
      "\n",
      "red wine model2: intercept = \n",
      "5.62910433687724\n"
     ]
    }
   ],
   "source": [
    "print('red wine model2: coeffs = ')\n",
    "print(red_model2.coef_)\n",
    "print()\n",
    "print('red wine model2: intercept = ')\n",
    "print(red_model2.intercept_)"
   ]
  },
  {
   "cell_type": "code",
   "execution_count": 38,
   "id": "853d482f",
   "metadata": {
    "execution": {
     "iopub.execute_input": "2022-03-11T10:24:20.634102Z",
     "iopub.status.busy": "2022-03-11T10:24:20.632687Z",
     "iopub.status.idle": "2022-03-11T10:24:20.650305Z",
     "shell.execute_reply": "2022-03-11T10:24:20.649475Z",
     "shell.execute_reply.started": "2022-02-27T13:12:58.007187Z"
    },
    "papermill": {
     "duration": 0.277402,
     "end_time": "2022-03-11T10:24:20.650484",
     "exception": false,
     "start_time": "2022-03-11T10:24:20.373082",
     "status": "completed"
    },
    "tags": []
   },
   "outputs": [
    {
     "name": "stdout",
     "output_type": "stream",
     "text": [
      "Model 2 prediction comparison (training set):\n",
      "\n",
      "   Actual  Predicted  Err  PctErr\n",
      "0       6          6    0     0.0\n",
      "1       6          6    0     0.0\n",
      "2       6          6    0     0.0\n",
      "3       5          5    0     0.0\n",
      "4       5          5    0     0.0\n",
      "\n",
      "Model 2 mean error % (training set): 8.08\n",
      "Model 2 accuracy (training set): 91.92\n"
     ]
    }
   ],
   "source": [
    "# model 2: compare actual and predicted values\n",
    "comp_matrix, mean = compare_prediction(y_train, train_prediction)\n",
    "print(\"Model 2 prediction comparison (training set):\\n\")\n",
    "print(comp_matrix.head())\n",
    "\n",
    "print(\"\\nModel 2 mean error % (training set):\", round(mean,2))\n",
    "\n",
    "accuracy2 = round((100-mean),2)\n",
    "print('Model 2 accuracy (training set):', accuracy2)"
   ]
  },
  {
   "cell_type": "code",
   "execution_count": 39,
   "id": "8e67ad42",
   "metadata": {
    "execution": {
     "iopub.execute_input": "2022-03-11T10:24:21.186143Z",
     "iopub.status.busy": "2022-03-11T10:24:21.185004Z",
     "iopub.status.idle": "2022-03-11T10:24:21.192123Z",
     "shell.execute_reply": "2022-03-11T10:24:21.192664Z",
     "shell.execute_reply.started": "2022-02-27T13:12:58.030326Z"
    },
    "papermill": {
     "duration": 0.275955,
     "end_time": "2022-03-11T10:24:21.192962",
     "exception": false,
     "start_time": "2022-03-11T10:24:20.917007",
     "status": "completed"
    },
    "tags": []
   },
   "outputs": [],
   "source": [
    "# predict using X_test dataset\n",
    "test_preds = red_model2.predict(X_test)\n",
    "test_preds = [int(round(x,0)) for x in test_preds]"
   ]
  },
  {
   "cell_type": "code",
   "execution_count": 40,
   "id": "a496814a",
   "metadata": {
    "execution": {
     "iopub.execute_input": "2022-03-11T10:24:21.723027Z",
     "iopub.status.busy": "2022-03-11T10:24:21.721420Z",
     "iopub.status.idle": "2022-03-11T10:24:21.731482Z",
     "shell.execute_reply": "2022-03-11T10:24:21.732222Z",
     "shell.execute_reply.started": "2022-02-27T13:12:58.039774Z"
    },
    "papermill": {
     "duration": 0.280019,
     "end_time": "2022-03-11T10:24:21.732437",
     "exception": false,
     "start_time": "2022-03-11T10:24:21.452418",
     "status": "completed"
    },
    "scrolled": true,
    "tags": []
   },
   "outputs": [
    {
     "name": "stdout",
     "output_type": "stream",
     "text": [
      "Model 2 prediction comparison (test set):\n",
      "\n",
      "   Actual  Predicted  Err  PctErr\n",
      "0       6          6    0     0.0\n",
      "1       6          6    0     0.0\n",
      "2       6          6    0     0.0\n",
      "3       5          5    0     0.0\n",
      "4       5          5    0     0.0\n",
      "\n",
      "Model 2 mean error % (test set): 8.08\n",
      "Model 2 accuracy (test set) = 91.92\n"
     ]
    }
   ],
   "source": [
    "# compare y_test and test_preds\n",
    "test_cm, test_mean = compare_prediction(y=y_test, yhat=test_preds)\n",
    "print(\"Model 2 prediction comparison (test set):\\n\")\n",
    "print(comp_matrix.head())\n",
    "\n",
    "print(\"\\nModel 2 mean error % (test set):\", round(mean,2))\n",
    "\n",
    "accuracy2 = round((100-mean),2)\n",
    "print('Model 2 accuracy (test set) =', accuracy2)"
   ]
  },
  {
   "cell_type": "markdown",
   "id": "272227da",
   "metadata": {
    "papermill": {
     "duration": 0.264336,
     "end_time": "2022-03-11T10:24:22.246329",
     "exception": false,
     "start_time": "2022-03-11T10:24:21.981993",
     "status": "completed"
    },
    "tags": []
   },
   "source": [
    "#### ***Linear Regression Model 2 (after dropping `pH`, `free sulfur dioxide`, `residual sugar`) shows a prediction accuracy of 91.92%***"
   ]
  },
  {
   "cell_type": "markdown",
   "id": "3b279fa2",
   "metadata": {
    "papermill": {
     "duration": 0.261037,
     "end_time": "2022-03-11T10:24:22.773019",
     "exception": false,
     "start_time": "2022-03-11T10:24:22.511982",
     "status": "completed"
    },
    "tags": []
   },
   "source": [
    "#### **Step 3: Develop the ML Model after dropping columns showing weak correlations (0.2-0.4)**\n",
    "1. Drop the columns that show weak correlations - `fixed acidity`, `citric acid`, `chlorides`, `total sulfur dioxide`, `density`\n",
    "2. Build the ML model, test and validate the predictions."
   ]
  },
  {
   "cell_type": "code",
   "execution_count": 41,
   "id": "b629bf28",
   "metadata": {
    "execution": {
     "iopub.execute_input": "2022-03-11T10:24:23.303338Z",
     "iopub.status.busy": "2022-03-11T10:24:23.302110Z",
     "iopub.status.idle": "2022-03-11T10:24:23.304743Z",
     "shell.execute_reply": "2022-03-11T10:24:23.305245Z",
     "shell.execute_reply.started": "2022-02-27T13:12:58.061751Z"
    },
    "papermill": {
     "duration": 0.268083,
     "end_time": "2022-03-11T10:24:23.305460",
     "exception": false,
     "start_time": "2022-03-11T10:24:23.037377",
     "status": "completed"
    },
    "tags": []
   },
   "outputs": [],
   "source": [
    "### 3. Dimensionality reduction/Drop the identified columns\n",
    "lst = ['fixed acidity', 'citric acid', 'chlorides', 'total sulfur dioxide', 'density']\n",
    "red_wine_data.drop(lst, axis =1, inplace = True)"
   ]
  },
  {
   "cell_type": "code",
   "execution_count": 42,
   "id": "9a35ad35",
   "metadata": {
    "execution": {
     "iopub.execute_input": "2022-03-11T10:24:23.832924Z",
     "iopub.status.busy": "2022-03-11T10:24:23.832074Z",
     "iopub.status.idle": "2022-03-11T10:24:23.836119Z",
     "shell.execute_reply": "2022-03-11T10:24:23.835451Z",
     "shell.execute_reply.started": "2022-02-27T13:12:58.074104Z"
    },
    "papermill": {
     "duration": 0.268852,
     "end_time": "2022-03-11T10:24:23.836295",
     "exception": false,
     "start_time": "2022-03-11T10:24:23.567443",
     "status": "completed"
    },
    "tags": []
   },
   "outputs": [],
   "source": [
    "# create the \"features and target\" data sets\n",
    "X = red_wine_data.drop('quality',axis=1)\n",
    "y = red_wine_data['quality']"
   ]
  },
  {
   "cell_type": "code",
   "execution_count": 43,
   "id": "04467b06",
   "metadata": {
    "execution": {
     "iopub.execute_input": "2022-03-11T10:24:24.340940Z",
     "iopub.status.busy": "2022-03-11T10:24:24.339799Z",
     "iopub.status.idle": "2022-03-11T10:24:24.349168Z",
     "shell.execute_reply": "2022-03-11T10:24:24.349809Z",
     "shell.execute_reply.started": "2022-02-27T13:12:58.087904Z"
    },
    "papermill": {
     "duration": 0.263065,
     "end_time": "2022-03-11T10:24:24.350025",
     "exception": false,
     "start_time": "2022-03-11T10:24:24.086960",
     "status": "completed"
    },
    "tags": []
   },
   "outputs": [],
   "source": [
    "#Feature Scaling\n",
    "from sklearn.preprocessing import StandardScaler\n",
    "scaler = StandardScaler()\n",
    "X = scaler.fit_transform(X)"
   ]
  },
  {
   "cell_type": "code",
   "execution_count": 44,
   "id": "3b48d762",
   "metadata": {
    "execution": {
     "iopub.execute_input": "2022-03-11T10:24:24.853823Z",
     "iopub.status.busy": "2022-03-11T10:24:24.850993Z",
     "iopub.status.idle": "2022-03-11T10:24:24.859597Z",
     "shell.execute_reply": "2022-03-11T10:24:24.860400Z",
     "shell.execute_reply.started": "2022-02-27T13:12:58.103226Z"
    },
    "papermill": {
     "duration": 0.26317,
     "end_time": "2022-03-11T10:24:24.860704",
     "exception": false,
     "start_time": "2022-03-11T10:24:24.597534",
     "status": "completed"
    },
    "tags": []
   },
   "outputs": [
    {
     "name": "stdout",
     "output_type": "stream",
     "text": [
      "Model 3 train shapes:\n",
      "(1279, 3) (1279,)\n",
      "\n",
      "Model 3 test shapes:\n",
      "(320, 3) (320,)\n"
     ]
    }
   ],
   "source": [
    "# split the features and target data sets into train and test sets\n",
    "X_train, X_test, y_train, y_test = train_test_split(X, y, test_size=0.2, random_state=42)\n",
    "print('Model 3 train shapes:')\n",
    "print(X_train.shape, y_train.shape)\n",
    "print()\n",
    "print('Model 3 test shapes:')\n",
    "print(X_test.shape, y_test.shape)"
   ]
  },
  {
   "cell_type": "code",
   "execution_count": 45,
   "id": "ee19a05d",
   "metadata": {
    "execution": {
     "iopub.execute_input": "2022-03-11T10:24:25.355183Z",
     "iopub.status.busy": "2022-03-11T10:24:25.354419Z",
     "iopub.status.idle": "2022-03-11T10:24:25.362057Z",
     "shell.execute_reply": "2022-03-11T10:24:25.362676Z",
     "shell.execute_reply.started": "2022-02-27T13:12:58.117096Z"
    },
    "papermill": {
     "duration": 0.256899,
     "end_time": "2022-03-11T10:24:25.362913",
     "exception": false,
     "start_time": "2022-03-11T10:24:25.106014",
     "status": "completed"
    },
    "tags": []
   },
   "outputs": [],
   "source": [
    "# create and fit a linear regression model\n",
    "lm_red_wine3 = LinearRegression()\n",
    "red_model3 = lm_red_wine3.fit(X_train, y_train)\n",
    "\n",
    "# computing yhat (ie train_predictions) using X (ie train_features)\n",
    "train_predictions = red_model3.predict(X_train)\n",
    "train_prediction = [int(round(x,0)) for x in train_predictions]"
   ]
  },
  {
   "cell_type": "code",
   "execution_count": 46,
   "id": "73b67979",
   "metadata": {
    "execution": {
     "iopub.execute_input": "2022-03-11T10:24:25.862698Z",
     "iopub.status.busy": "2022-03-11T10:24:25.861931Z",
     "iopub.status.idle": "2022-03-11T10:24:25.879900Z",
     "shell.execute_reply": "2022-03-11T10:24:25.880466Z",
     "shell.execute_reply.started": "2022-02-27T13:12:58.133011Z"
    },
    "papermill": {
     "duration": 0.273075,
     "end_time": "2022-03-11T10:24:25.880944",
     "exception": false,
     "start_time": "2022-03-11T10:24:25.607869",
     "status": "completed"
    },
    "tags": []
   },
   "outputs": [
    {
     "name": "stdout",
     "output_type": "stream",
     "text": [
      "Model 3 prediction comparison (training set):\n",
      "\n",
      "   Actual  Predicted  Err  PctErr\n",
      "0       6          6    0     0.0\n",
      "1       6          6    0     0.0\n",
      "2       6          6    0     0.0\n",
      "3       5          5    0     0.0\n",
      "4       5          5    0     0.0\n",
      "\n",
      "Model 3 mean error % (training set): 8.14\n",
      "Model 3 accuracy (training set): 91.86\n"
     ]
    }
   ],
   "source": [
    "# model 3: compare actual and predicted values\n",
    "comp_matrix, mean = compare_prediction(y_train, train_prediction)\n",
    "print(\"Model 3 prediction comparison (training set):\\n\")\n",
    "print(comp_matrix.head())\n",
    "\n",
    "print(\"\\nModel 3 mean error % (training set):\", round(mean,2))\n",
    "\n",
    "accuracy3 = round((100-mean),2)\n",
    "print('Model 3 accuracy (training set):', accuracy3)"
   ]
  },
  {
   "cell_type": "code",
   "execution_count": 47,
   "id": "cda07b54",
   "metadata": {
    "execution": {
     "iopub.execute_input": "2022-03-11T10:24:26.384387Z",
     "iopub.status.busy": "2022-03-11T10:24:26.383526Z",
     "iopub.status.idle": "2022-03-11T10:24:26.385579Z",
     "shell.execute_reply": "2022-03-11T10:24:26.386310Z",
     "shell.execute_reply.started": "2022-02-27T13:12:58.158740Z"
    },
    "papermill": {
     "duration": 0.254806,
     "end_time": "2022-03-11T10:24:26.386523",
     "exception": false,
     "start_time": "2022-03-11T10:24:26.131717",
     "status": "completed"
    },
    "tags": []
   },
   "outputs": [],
   "source": [
    "# model 3: predict using X_test dataset\n",
    "test_preds = red_model3.predict(X_test)\n",
    "test_preds = [int(round(x,0)) for x in test_preds]"
   ]
  },
  {
   "cell_type": "code",
   "execution_count": 48,
   "id": "068933d2",
   "metadata": {
    "execution": {
     "iopub.execute_input": "2022-03-11T10:24:26.881893Z",
     "iopub.status.busy": "2022-03-11T10:24:26.881059Z",
     "iopub.status.idle": "2022-03-11T10:24:26.896074Z",
     "shell.execute_reply": "2022-03-11T10:24:26.896705Z",
     "shell.execute_reply.started": "2022-02-27T13:12:58.177092Z"
    },
    "papermill": {
     "duration": 0.266209,
     "end_time": "2022-03-11T10:24:26.896935",
     "exception": false,
     "start_time": "2022-03-11T10:24:26.630726",
     "status": "completed"
    },
    "tags": []
   },
   "outputs": [
    {
     "name": "stdout",
     "output_type": "stream",
     "text": [
      "Model 3 prediction comparison (test set):\n",
      "\n",
      "   Actual  Predicted  Err  PctErr\n",
      "0       6          6    0     0.0\n",
      "1       6          6    0     0.0\n",
      "2       6          6    0     0.0\n",
      "3       5          5    0     0.0\n",
      "4       5          5    0     0.0\n",
      "\n",
      "Model 3 mean error % (test set): 8.14\n",
      "Model 3 accuracy (test set) = 91.86\n"
     ]
    }
   ],
   "source": [
    "# model 3: compare y_test and test_preds\n",
    "test_cm, test_mean = compare_prediction(y=y_test, yhat=test_preds)\n",
    "print(\"Model 3 prediction comparison (test set):\\n\")\n",
    "print(comp_matrix.head())\n",
    "\n",
    "print(\"\\nModel 3 mean error % (test set):\", round(mean,2))\n",
    "\n",
    "accuracy3 = round((100-mean),2)\n",
    "print('Model 3 accuracy (test set) =', accuracy3)"
   ]
  },
  {
   "cell_type": "markdown",
   "id": "e9305596",
   "metadata": {
    "papermill": {
     "duration": 0.241431,
     "end_time": "2022-03-11T10:24:27.381951",
     "exception": false,
     "start_time": "2022-03-11T10:24:27.140520",
     "status": "completed"
    },
    "tags": []
   },
   "source": [
    "#### ***Linear Regression Model 3 makes predictions using only 3 columns - `volatile acidity`, `sulphates`, `alcohol` and shows a prediction accuracy of 91.86%***.\n",
    "So far, we've dropped the following columns:\n",
    "\n",
    "1. Model 2: `pH`, `free sulfur dioxide`, `residual sugar` were  dropped.\n",
    "2. Model 3: `fixed acidity`, `citric acid`, `chlorides`, `total sulfur dioxide`, `density` were dropped."
   ]
  },
  {
   "cell_type": "markdown",
   "id": "71b21f63",
   "metadata": {
    "papermill": {
     "duration": 0.244657,
     "end_time": "2022-03-11T10:24:27.876347",
     "exception": false,
     "start_time": "2022-03-11T10:24:27.631690",
     "status": "completed"
    },
    "tags": []
   },
   "source": [
    "#### Step 4: Compare the Accuracy of all the three models developed\n"
   ]
  },
  {
   "cell_type": "code",
   "execution_count": 49,
   "id": "289c37f9",
   "metadata": {
    "execution": {
     "iopub.execute_input": "2022-03-11T10:24:28.366315Z",
     "iopub.status.busy": "2022-03-11T10:24:28.365512Z",
     "iopub.status.idle": "2022-03-11T10:24:28.372018Z",
     "shell.execute_reply": "2022-03-11T10:24:28.372588Z",
     "shell.execute_reply.started": "2022-02-27T13:12:58.200483Z"
    },
    "papermill": {
     "duration": 0.251816,
     "end_time": "2022-03-11T10:24:28.372830",
     "exception": false,
     "start_time": "2022-03-11T10:24:28.121014",
     "status": "completed"
    },
    "tags": []
   },
   "outputs": [
    {
     "name": "stdout",
     "output_type": "stream",
     "text": [
      "Model1 Accuracy 91.94\n",
      "Model2 Accuracy 91.92\n",
      "Model3 Accuracy 91.86\n"
     ]
    }
   ],
   "source": [
    "print(\"Model1 Accuracy {}\".format(accuracy1))\n",
    "print(\"Model2 Accuracy {}\".format(accuracy2))\n",
    "print(\"Model3 Accuracy {}\".format(accuracy3))"
   ]
  },
  {
   "cell_type": "markdown",
   "id": "bbb883ab",
   "metadata": {
    "papermill": {
     "duration": 0.24326,
     "end_time": "2022-03-11T10:24:28.858947",
     "exception": false,
     "start_time": "2022-03-11T10:24:28.615687",
     "status": "completed"
    },
    "tags": []
   },
   "source": [
    "#### Choose the best model for deployment.\n",
    "\n",
    "Since we are getting almost the same accuracy across models, Model 3 can be chosen as it has least number of features."
   ]
  },
  {
   "cell_type": "code",
   "execution_count": 50,
   "id": "dc053feb",
   "metadata": {
    "execution": {
     "iopub.execute_input": "2022-03-11T10:24:29.350698Z",
     "iopub.status.busy": "2022-03-11T10:24:29.349964Z",
     "iopub.status.idle": "2022-03-11T10:24:29.353381Z",
     "shell.execute_reply": "2022-03-11T10:24:29.352758Z",
     "shell.execute_reply.started": "2022-02-27T13:12:58.217158Z"
    },
    "papermill": {
     "duration": 0.249094,
     "end_time": "2022-03-11T10:24:29.353552",
     "exception": false,
     "start_time": "2022-03-11T10:24:29.104458",
     "status": "completed"
    },
    "tags": []
   },
   "outputs": [],
   "source": [
    "# note the linear regression accuracy here for the final comparison\n",
    "lin_accuracy = accuracy3"
   ]
  },
  {
   "cell_type": "markdown",
   "id": "5b9220e4",
   "metadata": {
    "papermill": {
     "duration": 0.265459,
     "end_time": "2022-03-11T10:24:29.864493",
     "exception": false,
     "start_time": "2022-03-11T10:24:29.599034",
     "status": "completed"
    },
    "tags": []
   },
   "source": [
    "#### Save the chosen model"
   ]
  },
  {
   "cell_type": "code",
   "execution_count": 51,
   "id": "84a4c9d6",
   "metadata": {
    "execution": {
     "iopub.execute_input": "2022-03-11T10:24:30.362743Z",
     "iopub.status.busy": "2022-03-11T10:24:30.361941Z",
     "iopub.status.idle": "2022-03-11T10:24:30.366257Z",
     "shell.execute_reply": "2022-03-11T10:24:30.365633Z",
     "shell.execute_reply.started": "2022-02-27T13:12:58.227270Z"
    },
    "papermill": {
     "duration": 0.253638,
     "end_time": "2022-03-11T10:24:30.366443",
     "exception": false,
     "start_time": "2022-03-11T10:24:30.112805",
     "status": "completed"
    },
    "tags": []
   },
   "outputs": [],
   "source": [
    "# save red_model3 as per analysis\n",
    "pickle_fname = 'linear_red_wine_model.pkl'\n",
    "model_file = open(pickle_fname, 'wb')\n",
    "pickle.dump(obj=red_model3, file=model_file)\n",
    "model_file.close()"
   ]
  },
  {
   "cell_type": "code",
   "execution_count": 52,
   "id": "a28da259",
   "metadata": {
    "execution": {
     "iopub.execute_input": "2022-03-11T10:24:30.860490Z",
     "iopub.status.busy": "2022-03-11T10:24:30.859538Z",
     "iopub.status.idle": "2022-03-11T10:24:30.866708Z",
     "shell.execute_reply": "2022-03-11T10:24:30.866158Z",
     "shell.execute_reply.started": "2022-02-27T13:12:58.242338Z"
    },
    "papermill": {
     "duration": 0.257458,
     "end_time": "2022-03-11T10:24:30.866903",
     "exception": false,
     "start_time": "2022-03-11T10:24:30.609445",
     "status": "completed"
    },
    "tags": []
   },
   "outputs": [
    {
     "name": "stdout",
     "output_type": "stream",
     "text": [
      "LinearRegression()\n"
     ]
    }
   ],
   "source": [
    "# reload the model from disk and check if it is saved properly.\n",
    "model_file = open(pickle_fname, 'rb')\n",
    "lr_model = pickle.load(model_file)\n",
    "model_file.close()\n",
    "print(lr_model)"
   ]
  },
  {
   "cell_type": "markdown",
   "id": "89a84848",
   "metadata": {
    "papermill": {
     "duration": 0.243327,
     "end_time": "2022-03-11T10:24:31.360974",
     "exception": false,
     "start_time": "2022-03-11T10:24:31.117647",
     "status": "completed"
    },
    "tags": []
   },
   "source": [
    "# Section 2: Logistic Regression for Red Wine Quality"
   ]
  },
  {
   "cell_type": "markdown",
   "id": "f538b4f3",
   "metadata": {
    "papermill": {
     "duration": 0.245976,
     "end_time": "2022-03-11T10:24:31.852673",
     "exception": false,
     "start_time": "2022-03-11T10:24:31.606697",
     "status": "completed"
    },
    "tags": []
   },
   "source": [
    "We've already done the sanity checks and EDA earlier. We only need to build various logistic regression models based on the correlations we've observed, and compare the accuracies obtained. We will also use K-fold technique to increase the prediction accuracy for each logistic regression model."
   ]
  },
  {
   "cell_type": "markdown",
   "id": "abf5641d",
   "metadata": {
    "papermill": {
     "duration": 0.250854,
     "end_time": "2022-03-11T10:24:32.350370",
     "exception": false,
     "start_time": "2022-03-11T10:24:32.099516",
     "status": "completed"
    },
    "tags": []
   },
   "source": [
    "#### **Step 1: Develop the ML Model using all features**\n",
    "1. First, we will process the complete dataset without dropping any columns.\n",
    "2. We will build the ML model with the complete data, test and validate the predictions."
   ]
  },
  {
   "cell_type": "code",
   "execution_count": 53,
   "id": "7bc916c1",
   "metadata": {
    "execution": {
     "iopub.execute_input": "2022-03-11T10:24:32.858586Z",
     "iopub.status.busy": "2022-03-11T10:24:32.856138Z",
     "iopub.status.idle": "2022-03-11T10:24:32.885152Z",
     "shell.execute_reply": "2022-03-11T10:24:32.885834Z",
     "shell.execute_reply.started": "2022-02-27T13:12:58.260110Z"
    },
    "papermill": {
     "duration": 0.285015,
     "end_time": "2022-03-11T10:24:32.886066",
     "exception": false,
     "start_time": "2022-03-11T10:24:32.601051",
     "status": "completed"
    },
    "tags": []
   },
   "outputs": [
    {
     "data": {
      "text/html": [
       "<div>\n",
       "<style scoped>\n",
       "    .dataframe tbody tr th:only-of-type {\n",
       "        vertical-align: middle;\n",
       "    }\n",
       "\n",
       "    .dataframe tbody tr th {\n",
       "        vertical-align: top;\n",
       "    }\n",
       "\n",
       "    .dataframe thead th {\n",
       "        text-align: right;\n",
       "    }\n",
       "</style>\n",
       "<table border=\"1\" class=\"dataframe\">\n",
       "  <thead>\n",
       "    <tr style=\"text-align: right;\">\n",
       "      <th></th>\n",
       "      <th>fixed acidity</th>\n",
       "      <th>volatile acidity</th>\n",
       "      <th>citric acid</th>\n",
       "      <th>residual sugar</th>\n",
       "      <th>chlorides</th>\n",
       "      <th>free sulfur dioxide</th>\n",
       "      <th>total sulfur dioxide</th>\n",
       "      <th>density</th>\n",
       "      <th>pH</th>\n",
       "      <th>sulphates</th>\n",
       "      <th>alcohol</th>\n",
       "      <th>quality</th>\n",
       "    </tr>\n",
       "  </thead>\n",
       "  <tbody>\n",
       "    <tr>\n",
       "      <th>0</th>\n",
       "      <td>7.4</td>\n",
       "      <td>0.70</td>\n",
       "      <td>0.00</td>\n",
       "      <td>1.9</td>\n",
       "      <td>0.076</td>\n",
       "      <td>11.0</td>\n",
       "      <td>34.0</td>\n",
       "      <td>0.9978</td>\n",
       "      <td>3.51</td>\n",
       "      <td>0.56</td>\n",
       "      <td>9.4</td>\n",
       "      <td>5</td>\n",
       "    </tr>\n",
       "    <tr>\n",
       "      <th>1</th>\n",
       "      <td>7.8</td>\n",
       "      <td>0.88</td>\n",
       "      <td>0.00</td>\n",
       "      <td>2.6</td>\n",
       "      <td>0.098</td>\n",
       "      <td>25.0</td>\n",
       "      <td>67.0</td>\n",
       "      <td>0.9968</td>\n",
       "      <td>3.20</td>\n",
       "      <td>0.68</td>\n",
       "      <td>9.8</td>\n",
       "      <td>5</td>\n",
       "    </tr>\n",
       "    <tr>\n",
       "      <th>2</th>\n",
       "      <td>7.8</td>\n",
       "      <td>0.76</td>\n",
       "      <td>0.04</td>\n",
       "      <td>2.3</td>\n",
       "      <td>0.092</td>\n",
       "      <td>15.0</td>\n",
       "      <td>54.0</td>\n",
       "      <td>0.9970</td>\n",
       "      <td>3.26</td>\n",
       "      <td>0.65</td>\n",
       "      <td>9.8</td>\n",
       "      <td>5</td>\n",
       "    </tr>\n",
       "    <tr>\n",
       "      <th>3</th>\n",
       "      <td>11.2</td>\n",
       "      <td>0.28</td>\n",
       "      <td>0.56</td>\n",
       "      <td>1.9</td>\n",
       "      <td>0.075</td>\n",
       "      <td>17.0</td>\n",
       "      <td>60.0</td>\n",
       "      <td>0.9980</td>\n",
       "      <td>3.16</td>\n",
       "      <td>0.58</td>\n",
       "      <td>9.8</td>\n",
       "      <td>6</td>\n",
       "    </tr>\n",
       "    <tr>\n",
       "      <th>4</th>\n",
       "      <td>7.4</td>\n",
       "      <td>0.70</td>\n",
       "      <td>0.00</td>\n",
       "      <td>1.9</td>\n",
       "      <td>0.076</td>\n",
       "      <td>11.0</td>\n",
       "      <td>34.0</td>\n",
       "      <td>0.9978</td>\n",
       "      <td>3.51</td>\n",
       "      <td>0.56</td>\n",
       "      <td>9.4</td>\n",
       "      <td>5</td>\n",
       "    </tr>\n",
       "  </tbody>\n",
       "</table>\n",
       "</div>"
      ],
      "text/plain": [
       "   fixed acidity  volatile acidity  citric acid  residual sugar  chlorides  \\\n",
       "0            7.4              0.70         0.00             1.9      0.076   \n",
       "1            7.8              0.88         0.00             2.6      0.098   \n",
       "2            7.8              0.76         0.04             2.3      0.092   \n",
       "3           11.2              0.28         0.56             1.9      0.075   \n",
       "4            7.4              0.70         0.00             1.9      0.076   \n",
       "\n",
       "   free sulfur dioxide  total sulfur dioxide  density    pH  sulphates  \\\n",
       "0                 11.0                  34.0   0.9978  3.51       0.56   \n",
       "1                 25.0                  67.0   0.9968  3.20       0.68   \n",
       "2                 15.0                  54.0   0.9970  3.26       0.65   \n",
       "3                 17.0                  60.0   0.9980  3.16       0.58   \n",
       "4                 11.0                  34.0   0.9978  3.51       0.56   \n",
       "\n",
       "   alcohol  quality  \n",
       "0      9.4        5  \n",
       "1      9.8        5  \n",
       "2      9.8        5  \n",
       "3      9.8        6  \n",
       "4      9.4        5  "
      ]
     },
     "execution_count": 53,
     "metadata": {},
     "output_type": "execute_result"
    }
   ],
   "source": [
    "# refresh the red wine dataset\n",
    "red_wine_data = pd.read_csv(fpath, delimiter =';')\n",
    "red_wine_data.head()"
   ]
  },
  {
   "cell_type": "code",
   "execution_count": 54,
   "id": "922224e8",
   "metadata": {
    "execution": {
     "iopub.execute_input": "2022-03-11T10:24:33.380433Z",
     "iopub.status.busy": "2022-03-11T10:24:33.379261Z",
     "iopub.status.idle": "2022-03-11T10:24:33.385436Z",
     "shell.execute_reply": "2022-03-11T10:24:33.385950Z",
     "shell.execute_reply.started": "2022-02-27T13:12:58.289599Z"
    },
    "papermill": {
     "duration": 0.254483,
     "end_time": "2022-03-11T10:24:33.386170",
     "exception": false,
     "start_time": "2022-03-11T10:24:33.131687",
     "status": "completed"
    },
    "tags": []
   },
   "outputs": [],
   "source": [
    "# create the \"features and target\" data sets\n",
    "X = red_wine_data.drop('quality',axis=1)\n",
    "y = red_wine_data['quality']"
   ]
  },
  {
   "cell_type": "code",
   "execution_count": 55,
   "id": "c02ec83b",
   "metadata": {
    "execution": {
     "iopub.execute_input": "2022-03-11T10:24:33.895907Z",
     "iopub.status.busy": "2022-03-11T10:24:33.895051Z",
     "iopub.status.idle": "2022-03-11T10:24:33.906150Z",
     "shell.execute_reply": "2022-03-11T10:24:33.905404Z",
     "shell.execute_reply.started": "2022-02-27T13:12:58.297646Z"
    },
    "papermill": {
     "duration": 0.266399,
     "end_time": "2022-03-11T10:24:33.906331",
     "exception": false,
     "start_time": "2022-03-11T10:24:33.639932",
     "status": "completed"
    },
    "tags": []
   },
   "outputs": [],
   "source": [
    "#Feature Scaling\n",
    "from sklearn.preprocessing import StandardScaler\n",
    "scaler = StandardScaler()\n",
    "X = scaler.fit_transform(X)"
   ]
  },
  {
   "cell_type": "code",
   "execution_count": 56,
   "id": "c855813b",
   "metadata": {
    "execution": {
     "iopub.execute_input": "2022-03-11T10:24:34.402408Z",
     "iopub.status.busy": "2022-03-11T10:24:34.397543Z",
     "iopub.status.idle": "2022-03-11T10:24:34.408365Z",
     "shell.execute_reply": "2022-03-11T10:24:34.409714Z",
     "shell.execute_reply.started": "2022-02-27T13:12:58.313417Z"
    },
    "papermill": {
     "duration": 0.259667,
     "end_time": "2022-03-11T10:24:34.410103",
     "exception": false,
     "start_time": "2022-03-11T10:24:34.150436",
     "status": "completed"
    },
    "tags": []
   },
   "outputs": [
    {
     "name": "stdout",
     "output_type": "stream",
     "text": [
      "Logistic Regression: Model 1 train shapes:\n",
      "(1279, 11) (1279,)\n",
      "\n",
      "Logistic Regression: Model 1 test shapes:\n",
      "(320, 11) (320,)\n"
     ]
    }
   ],
   "source": [
    "# split the features and target data sets into train and test sets\n",
    "X_train, X_test, y_train, y_test = train_test_split(X, y, test_size=0.2, random_state=42)\n",
    "print('Logistic Regression: Model 1 train shapes:')\n",
    "print(X_train.shape, y_train.shape)\n",
    "print()\n",
    "print('Logistic Regression: Model 1 test shapes:')\n",
    "print(X_test.shape, y_test.shape)"
   ]
  },
  {
   "cell_type": "code",
   "execution_count": 57,
   "id": "7a536a4b",
   "metadata": {
    "execution": {
     "iopub.execute_input": "2022-03-11T10:24:34.913174Z",
     "iopub.status.busy": "2022-03-11T10:24:34.912422Z",
     "iopub.status.idle": "2022-03-11T10:24:35.003606Z",
     "shell.execute_reply": "2022-03-11T10:24:35.004271Z",
     "shell.execute_reply.started": "2022-02-27T13:12:58.327618Z"
    },
    "papermill": {
     "duration": 0.347377,
     "end_time": "2022-03-11T10:24:35.004494",
     "exception": false,
     "start_time": "2022-03-11T10:24:34.657117",
     "status": "completed"
    },
    "tags": []
   },
   "outputs": [],
   "source": [
    "# create and fit a logistic regression model\n",
    "classifier = LogisticRegression(random_state=42, max_iter=200)  \n",
    "classifier = classifier.fit(X_train, y_train)"
   ]
  },
  {
   "cell_type": "code",
   "execution_count": 58,
   "id": "649746fe",
   "metadata": {
    "execution": {
     "iopub.execute_input": "2022-03-11T10:24:35.502457Z",
     "iopub.status.busy": "2022-03-11T10:24:35.501588Z",
     "iopub.status.idle": "2022-03-11T10:24:35.511223Z",
     "shell.execute_reply": "2022-03-11T10:24:35.511880Z",
     "shell.execute_reply.started": "2022-02-27T13:12:58.406651Z"
    },
    "papermill": {
     "duration": 0.258207,
     "end_time": "2022-03-11T10:24:35.512119",
     "exception": false,
     "start_time": "2022-03-11T10:24:35.253912",
     "status": "completed"
    },
    "tags": []
   },
   "outputs": [
    {
     "name": "stdout",
     "output_type": "stream",
     "text": [
      "Wine Quality Range: (3, 8)\n",
      "\n",
      "Logistic Regression Model 1: coeffs =\n",
      "\n",
      "[[ 3.17507730e-01  1.12747345e+00  1.42632534e-01 -1.88643476e-01\n",
      "   7.15051446e-01  3.72098191e-01 -7.57441134e-01  7.79892871e-01\n",
      "   6.49671017e-01 -6.48408105e-01 -9.66823928e-01]\n",
      " [ 2.25501994e-01  2.96032502e-01 -2.05282453e-04  3.40754953e-01\n",
      "   2.69454456e-01 -3.79885939e-01  2.77200893e-01 -6.90768359e-01\n",
      "   4.21066845e-01 -2.19050235e-01 -6.26407829e-01]\n",
      " [-4.44851940e-01 -6.23841013e-03 -5.51615498e-02 -1.84418230e-01\n",
      "   1.18346499e-01 -2.21474283e-01  7.86167818e-01  2.81661915e-01\n",
      "  -1.83054250e-01 -3.07315738e-01 -5.65850067e-01]\n",
      " [-2.17566501e-01 -4.28805216e-01 -2.58377350e-01 -1.65326476e-01\n",
      "   1.68933471e-03  8.20216986e-02  1.93375014e-01  2.07290930e-01\n",
      "  -1.54955181e-01  8.07007060e-02  2.75148791e-01]\n",
      " [ 2.70974385e-01 -7.96120525e-01 -1.55366126e-01  1.95648707e-01\n",
      "  -2.13449820e-01  8.54079083e-02 -1.66131997e-01 -3.24419883e-01\n",
      "  -1.69300693e-02  5.22101398e-01  7.78933090e-01]\n",
      " [-1.51565668e-01 -1.92341801e-01  3.26477775e-01  1.98452139e-03\n",
      "  -8.91091915e-01  6.18324239e-02 -3.33170595e-01 -2.53657474e-01\n",
      "  -7.15798362e-01  5.71971974e-01  1.10499994e+00]]\n",
      "\n",
      "Logistic Regression Model 1: intercept =\n",
      "[-3.52463482 -0.05650294  2.61759147  2.75212033  0.62858669 -2.41716072]\n"
     ]
    }
   ],
   "source": [
    "print('Wine Quality Range: ({}, {})'.format(y.min(), y.max()))\n",
    "print('\\nLogistic Regression Model 1: coeffs =\\n')\n",
    "print(classifier.coef_)\n",
    "print()\n",
    "print('Logistic Regression Model 1: intercept =')\n",
    "print(classifier.intercept_)"
   ]
  },
  {
   "cell_type": "code",
   "execution_count": 59,
   "id": "4f836c13",
   "metadata": {
    "execution": {
     "iopub.execute_input": "2022-03-11T10:24:36.028831Z",
     "iopub.status.busy": "2022-03-11T10:24:36.024026Z",
     "iopub.status.idle": "2022-03-11T10:24:36.031808Z",
     "shell.execute_reply": "2022-03-11T10:24:36.032511Z",
     "shell.execute_reply.started": "2022-02-27T13:12:58.416574Z"
    },
    "papermill": {
     "duration": 0.269972,
     "end_time": "2022-03-11T10:24:36.032721",
     "exception": false,
     "start_time": "2022-03-11T10:24:35.762749",
     "status": "completed"
    },
    "tags": []
   },
   "outputs": [
    {
     "name": "stdout",
     "output_type": "stream",
     "text": [
      "Actual training data set quality range: (3, 8)\n",
      "Predicted training data set quality range: (3, 7)\n"
     ]
    }
   ],
   "source": [
    "# compute train_predictions using X_train\n",
    "train_predictions = classifier.predict(X_train)\n",
    "print('Actual training data set quality range: ({}, {})'.format(y_train.min(), y_train.max()))\n",
    "print('Predicted training data set quality range: ({}, {})'.format(train_predictions.min(), train_predictions.max()))"
   ]
  },
  {
   "cell_type": "code",
   "execution_count": 60,
   "id": "b2a7427a",
   "metadata": {
    "execution": {
     "iopub.execute_input": "2022-03-11T10:24:36.640304Z",
     "iopub.status.busy": "2022-03-11T10:24:36.639189Z",
     "iopub.status.idle": "2022-03-11T10:24:36.657181Z",
     "shell.execute_reply": "2022-03-11T10:24:36.657737Z",
     "shell.execute_reply.started": "2022-02-27T13:12:58.434027Z"
    },
    "papermill": {
     "duration": 0.275353,
     "end_time": "2022-03-11T10:24:36.657967",
     "exception": false,
     "start_time": "2022-03-11T10:24:36.382614",
     "status": "completed"
    },
    "tags": []
   },
   "outputs": [
    {
     "data": {
      "text/html": [
       "<div>\n",
       "<style scoped>\n",
       "    .dataframe tbody tr th:only-of-type {\n",
       "        vertical-align: middle;\n",
       "    }\n",
       "\n",
       "    .dataframe tbody tr th {\n",
       "        vertical-align: top;\n",
       "    }\n",
       "\n",
       "    .dataframe thead th {\n",
       "        text-align: right;\n",
       "    }\n",
       "</style>\n",
       "<table border=\"1\" class=\"dataframe\">\n",
       "  <thead>\n",
       "    <tr style=\"text-align: right;\">\n",
       "      <th></th>\n",
       "      <th>3</th>\n",
       "      <th>4</th>\n",
       "      <th>5</th>\n",
       "      <th>6</th>\n",
       "      <th>7</th>\n",
       "      <th>8</th>\n",
       "    </tr>\n",
       "  </thead>\n",
       "  <tbody>\n",
       "    <tr>\n",
       "      <th>3</th>\n",
       "      <td>1</td>\n",
       "      <td>1</td>\n",
       "      <td>6</td>\n",
       "      <td>1</td>\n",
       "      <td>0</td>\n",
       "      <td>0</td>\n",
       "    </tr>\n",
       "    <tr>\n",
       "      <th>4</th>\n",
       "      <td>0</td>\n",
       "      <td>0</td>\n",
       "      <td>27</td>\n",
       "      <td>15</td>\n",
       "      <td>1</td>\n",
       "      <td>0</td>\n",
       "    </tr>\n",
       "    <tr>\n",
       "      <th>5</th>\n",
       "      <td>2</td>\n",
       "      <td>0</td>\n",
       "      <td>423</td>\n",
       "      <td>123</td>\n",
       "      <td>3</td>\n",
       "      <td>0</td>\n",
       "    </tr>\n",
       "    <tr>\n",
       "      <th>6</th>\n",
       "      <td>0</td>\n",
       "      <td>0</td>\n",
       "      <td>164</td>\n",
       "      <td>313</td>\n",
       "      <td>29</td>\n",
       "      <td>0</td>\n",
       "    </tr>\n",
       "    <tr>\n",
       "      <th>7</th>\n",
       "      <td>0</td>\n",
       "      <td>0</td>\n",
       "      <td>8</td>\n",
       "      <td>94</td>\n",
       "      <td>55</td>\n",
       "      <td>0</td>\n",
       "    </tr>\n",
       "    <tr>\n",
       "      <th>8</th>\n",
       "      <td>0</td>\n",
       "      <td>0</td>\n",
       "      <td>0</td>\n",
       "      <td>9</td>\n",
       "      <td>4</td>\n",
       "      <td>0</td>\n",
       "    </tr>\n",
       "  </tbody>\n",
       "</table>\n",
       "</div>"
      ],
      "text/plain": [
       "   3  4    5    6   7  8\n",
       "3  1  1    6    1   0  0\n",
       "4  0  0   27   15   1  0\n",
       "5  2  0  423  123   3  0\n",
       "6  0  0  164  313  29  0\n",
       "7  0  0    8   94  55  0\n",
       "8  0  0    0    9   4  0"
      ]
     },
     "execution_count": 60,
     "metadata": {},
     "output_type": "execute_result"
    }
   ],
   "source": [
    "#create a confusion matrix for training data set  \n",
    "from sklearn.metrics import confusion_matrix  \n",
    "cm= confusion_matrix(y_train,train_predictions)  \n",
    "coords = [x for x in range(3,9)]\n",
    "cm = pd.DataFrame(cm,columns=coords, index=coords )\n",
    "cm"
   ]
  },
  {
   "cell_type": "code",
   "execution_count": 61,
   "id": "cfb1191b",
   "metadata": {
    "execution": {
     "iopub.execute_input": "2022-03-11T10:24:37.160470Z",
     "iopub.status.busy": "2022-03-11T10:24:37.159371Z",
     "iopub.status.idle": "2022-03-11T10:24:37.166755Z",
     "shell.execute_reply": "2022-03-11T10:24:37.167271Z",
     "shell.execute_reply.started": "2022-02-27T13:12:58.457454Z"
    },
    "papermill": {
     "duration": 0.260518,
     "end_time": "2022-03-11T10:24:37.167478",
     "exception": false,
     "start_time": "2022-03-11T10:24:36.906960",
     "status": "completed"
    },
    "tags": []
   },
   "outputs": [
    {
     "name": "stdout",
     "output_type": "stream",
     "text": [
      "Actual test data set quality range: (3, 8)\n",
      "Predicted test data set quality range: (4, 7)\n"
     ]
    }
   ],
   "source": [
    "# compute test predictions using X_test\n",
    "test_preds= classifier.predict(X_test)\n",
    "print('Actual test data set quality range: ({}, {})'.format(y_test.min(), y_test.max()))\n",
    "print('Predicted test data set quality range: ({}, {})'.format(test_preds.min(), test_preds.max()))"
   ]
  },
  {
   "cell_type": "code",
   "execution_count": 62,
   "id": "ed4381ca",
   "metadata": {
    "execution": {
     "iopub.execute_input": "2022-03-11T10:24:37.669225Z",
     "iopub.status.busy": "2022-03-11T10:24:37.668029Z",
     "iopub.status.idle": "2022-03-11T10:24:37.681651Z",
     "shell.execute_reply": "2022-03-11T10:24:37.682241Z",
     "shell.execute_reply.started": "2022-02-27T13:12:58.464594Z"
    },
    "papermill": {
     "duration": 0.268438,
     "end_time": "2022-03-11T10:24:37.682459",
     "exception": false,
     "start_time": "2022-03-11T10:24:37.414021",
     "status": "completed"
    },
    "tags": []
   },
   "outputs": [
    {
     "data": {
      "text/html": [
       "<div>\n",
       "<style scoped>\n",
       "    .dataframe tbody tr th:only-of-type {\n",
       "        vertical-align: middle;\n",
       "    }\n",
       "\n",
       "    .dataframe tbody tr th {\n",
       "        vertical-align: top;\n",
       "    }\n",
       "\n",
       "    .dataframe thead th {\n",
       "        text-align: right;\n",
       "    }\n",
       "</style>\n",
       "<table border=\"1\" class=\"dataframe\">\n",
       "  <thead>\n",
       "    <tr style=\"text-align: right;\">\n",
       "      <th></th>\n",
       "      <th>3</th>\n",
       "      <th>4</th>\n",
       "      <th>5</th>\n",
       "      <th>6</th>\n",
       "      <th>7</th>\n",
       "      <th>8</th>\n",
       "    </tr>\n",
       "  </thead>\n",
       "  <tbody>\n",
       "    <tr>\n",
       "      <th>3</th>\n",
       "      <td>0</td>\n",
       "      <td>0</td>\n",
       "      <td>1</td>\n",
       "      <td>0</td>\n",
       "      <td>0</td>\n",
       "      <td>0</td>\n",
       "    </tr>\n",
       "    <tr>\n",
       "      <th>4</th>\n",
       "      <td>0</td>\n",
       "      <td>1</td>\n",
       "      <td>7</td>\n",
       "      <td>2</td>\n",
       "      <td>0</td>\n",
       "      <td>0</td>\n",
       "    </tr>\n",
       "    <tr>\n",
       "      <th>5</th>\n",
       "      <td>0</td>\n",
       "      <td>0</td>\n",
       "      <td>98</td>\n",
       "      <td>32</td>\n",
       "      <td>0</td>\n",
       "      <td>0</td>\n",
       "    </tr>\n",
       "    <tr>\n",
       "      <th>6</th>\n",
       "      <td>0</td>\n",
       "      <td>0</td>\n",
       "      <td>46</td>\n",
       "      <td>76</td>\n",
       "      <td>10</td>\n",
       "      <td>0</td>\n",
       "    </tr>\n",
       "    <tr>\n",
       "      <th>7</th>\n",
       "      <td>0</td>\n",
       "      <td>0</td>\n",
       "      <td>3</td>\n",
       "      <td>30</td>\n",
       "      <td>9</td>\n",
       "      <td>0</td>\n",
       "    </tr>\n",
       "    <tr>\n",
       "      <th>8</th>\n",
       "      <td>0</td>\n",
       "      <td>0</td>\n",
       "      <td>0</td>\n",
       "      <td>1</td>\n",
       "      <td>4</td>\n",
       "      <td>0</td>\n",
       "    </tr>\n",
       "  </tbody>\n",
       "</table>\n",
       "</div>"
      ],
      "text/plain": [
       "   3  4   5   6   7  8\n",
       "3  0  0   1   0   0  0\n",
       "4  0  1   7   2   0  0\n",
       "5  0  0  98  32   0  0\n",
       "6  0  0  46  76  10  0\n",
       "7  0  0   3  30   9  0\n",
       "8  0  0   0   1   4  0"
      ]
     },
     "execution_count": 62,
     "metadata": {},
     "output_type": "execute_result"
    }
   ],
   "source": [
    "#create a confusion matrix for test data set  \n",
    "cm= confusion_matrix(y_test,test_preds)  \n",
    "coords = [x for x in range(3,9)]\n",
    "cm = pd.DataFrame(cm,columns=coords, index=coords )\n",
    "cm"
   ]
  },
  {
   "cell_type": "code",
   "execution_count": 63,
   "id": "d29ac894",
   "metadata": {
    "execution": {
     "iopub.execute_input": "2022-03-11T10:24:38.187505Z",
     "iopub.status.busy": "2022-03-11T10:24:38.186650Z",
     "iopub.status.idle": "2022-03-11T10:24:38.193386Z",
     "shell.execute_reply": "2022-03-11T10:24:38.193912Z",
     "shell.execute_reply.started": "2022-02-27T13:12:58.487796Z"
    },
    "papermill": {
     "duration": 0.258779,
     "end_time": "2022-03-11T10:24:38.194133",
     "exception": false,
     "start_time": "2022-03-11T10:24:37.935354",
     "status": "completed"
    },
    "tags": []
   },
   "outputs": [
    {
     "name": "stdout",
     "output_type": "stream",
     "text": [
      "Train Accuracy Score 0.619233776387803\n"
     ]
    }
   ],
   "source": [
    "log_train_score1 = classifier.score(X_train, y_train)\n",
    "print('Train Accuracy Score', log_train_score1)"
   ]
  },
  {
   "cell_type": "code",
   "execution_count": 64,
   "id": "a3667e36",
   "metadata": {
    "execution": {
     "iopub.execute_input": "2022-03-11T10:24:38.704850Z",
     "iopub.status.busy": "2022-03-11T10:24:38.701959Z",
     "iopub.status.idle": "2022-03-11T10:24:38.710860Z",
     "shell.execute_reply": "2022-03-11T10:24:38.710073Z",
     "shell.execute_reply.started": "2022-02-27T13:12:58.494188Z"
    },
    "papermill": {
     "duration": 0.266129,
     "end_time": "2022-03-11T10:24:38.711035",
     "exception": false,
     "start_time": "2022-03-11T10:24:38.444906",
     "status": "completed"
    },
    "tags": []
   },
   "outputs": [
    {
     "name": "stdout",
     "output_type": "stream",
     "text": [
      "Test Accuracy Score 0.575\n"
     ]
    }
   ],
   "source": [
    "log_test_score1 = classifier.score(X_test, y_test)\n",
    "print('Test Accuracy Score', log_test_score1)"
   ]
  },
  {
   "cell_type": "markdown",
   "id": "cc0b8a06",
   "metadata": {
    "papermill": {
     "duration": 0.249083,
     "end_time": "2022-03-11T10:24:39.212002",
     "exception": false,
     "start_time": "2022-03-11T10:24:38.962919",
     "status": "completed"
    },
    "tags": []
   },
   "source": [
    "#### Apply cross-validations to improve the model performance\n",
    "1. Apply cross-validation\n",
    "2. Apply k-fold cross validation"
   ]
  },
  {
   "cell_type": "code",
   "execution_count": 65,
   "id": "952b3c6e",
   "metadata": {
    "execution": {
     "iopub.execute_input": "2022-03-11T10:24:39.719424Z",
     "iopub.status.busy": "2022-03-11T10:24:39.718376Z",
     "iopub.status.idle": "2022-03-11T10:24:40.114719Z",
     "shell.execute_reply": "2022-03-11T10:24:40.115637Z",
     "shell.execute_reply.started": "2022-02-27T13:12:58.507218Z"
    },
    "papermill": {
     "duration": 0.653571,
     "end_time": "2022-03-11T10:24:40.115937",
     "exception": false,
     "start_time": "2022-03-11T10:24:39.462366",
     "status": "completed"
    },
    "tags": []
   },
   "outputs": [
    {
     "name": "stdout",
     "output_type": "stream",
     "text": [
      "dict_keys(['fit_time', 'score_time', 'estimator', 'test_score'])\n",
      "(LogisticRegression(max_iter=200, random_state=42), LogisticRegression(max_iter=200, random_state=42), LogisticRegression(max_iter=200, random_state=42), LogisticRegression(max_iter=200, random_state=42), LogisticRegression(max_iter=200, random_state=42))\n",
      "[0.5859375  0.58984375 0.5703125  0.6171875  0.67058824]\n"
     ]
    }
   ],
   "source": [
    "# obtain scores and corresponding estimators\n",
    "\n",
    "# cross_validate returns the scores and also the underlying estimators\n",
    "scores = cross_validate(classifier, X_train, y_train, cv=5, return_estimator=True)\n",
    "\n",
    "# visually locate the estimator that has the maximum score.\n",
    "# in this case, it is estimator[4] which gives 67% accuracy.\n",
    "print(scores.keys())\n",
    "print(scores['estimator'])\n",
    "print(scores['test_score'])\n",
    "\n",
    "# pick up the estimator that gives the most accurate prediction\n",
    "# we can use the estimator to obtain predictions; we are not doing this here\n",
    "estimator = scores['estimator'][4]\n"
   ]
  },
  {
   "cell_type": "code",
   "execution_count": 66,
   "id": "d80a50b2",
   "metadata": {
    "execution": {
     "iopub.execute_input": "2022-03-11T10:24:40.630841Z",
     "iopub.status.busy": "2022-03-11T10:24:40.629570Z",
     "iopub.status.idle": "2022-03-11T10:24:41.050003Z",
     "shell.execute_reply": "2022-03-11T10:24:41.050642Z",
     "shell.execute_reply.started": "2022-02-27T13:12:58.796672Z"
    },
    "papermill": {
     "duration": 0.681973,
     "end_time": "2022-03-11T10:24:41.050883",
     "exception": false,
     "start_time": "2022-03-11T10:24:40.368910",
     "status": "completed"
    },
    "tags": []
   },
   "outputs": [
    {
     "name": "stdout",
     "output_type": "stream",
     "text": [
      "K-fold scores: [0.57421875 0.59765625 0.5625     0.6015625  0.6745098 ]\n",
      "Mean accuracy of k-fold scores: 60.21\n",
      "highest kfold score = 0.6745098039215687\n"
     ]
    }
   ],
   "source": [
    "# 2. Apply K-fold cross validation\n",
    "kfold = KFold(n_splits=5)\n",
    "\n",
    "# cross_validate returns the scores and also the underlying estimators\n",
    "results = cross_validate(classifier, X_train, y_train, cv=kfold, return_estimator=True)\n",
    "print('K-fold scores:', results['test_score'])\n",
    "print('Mean accuracy of k-fold scores:', round(results['test_score'].mean()*100,2))\n",
    "\n",
    "# pick up the estimator that gives the most accurate prediction\n",
    "# we can use the estimator to obtain predictions; we are not doing this here\n",
    "estimator = results['estimator'][4]\n",
    "score1_max = results['test_score'][4]\n",
    "print('highest kfold score =', score1_max)"
   ]
  },
  {
   "cell_type": "markdown",
   "id": "f554e7fc",
   "metadata": {
    "papermill": {
     "duration": 0.249801,
     "end_time": "2022-03-11T10:24:41.548709",
     "exception": false,
     "start_time": "2022-03-11T10:24:41.298908",
     "status": "completed"
    },
    "tags": []
   },
   "source": [
    "#### Step 2: Develop the second Logistic Regression Model after dropping columns showing very weak correlations (0.0 - 0.2)\n",
    "1. Drop `pH`, `free sulfur dioxide`, `residual sugar` columns.\n",
    "2. Build the ML model, test and validate the predictions."
   ]
  },
  {
   "cell_type": "code",
   "execution_count": 67,
   "id": "3da42a6f",
   "metadata": {
    "execution": {
     "iopub.execute_input": "2022-03-11T10:24:42.057666Z",
     "iopub.status.busy": "2022-03-11T10:24:42.056864Z",
     "iopub.status.idle": "2022-03-11T10:24:42.086058Z",
     "shell.execute_reply": "2022-03-11T10:24:42.085436Z",
     "shell.execute_reply.started": "2022-02-27T13:12:59.074713Z"
    },
    "papermill": {
     "duration": 0.287791,
     "end_time": "2022-03-11T10:24:42.086230",
     "exception": false,
     "start_time": "2022-03-11T10:24:41.798439",
     "status": "completed"
    },
    "tags": []
   },
   "outputs": [
    {
     "data": {
      "text/html": [
       "<div>\n",
       "<style scoped>\n",
       "    .dataframe tbody tr th:only-of-type {\n",
       "        vertical-align: middle;\n",
       "    }\n",
       "\n",
       "    .dataframe tbody tr th {\n",
       "        vertical-align: top;\n",
       "    }\n",
       "\n",
       "    .dataframe thead th {\n",
       "        text-align: right;\n",
       "    }\n",
       "</style>\n",
       "<table border=\"1\" class=\"dataframe\">\n",
       "  <thead>\n",
       "    <tr style=\"text-align: right;\">\n",
       "      <th></th>\n",
       "      <th>fixed acidity</th>\n",
       "      <th>volatile acidity</th>\n",
       "      <th>citric acid</th>\n",
       "      <th>residual sugar</th>\n",
       "      <th>chlorides</th>\n",
       "      <th>free sulfur dioxide</th>\n",
       "      <th>total sulfur dioxide</th>\n",
       "      <th>density</th>\n",
       "      <th>pH</th>\n",
       "      <th>sulphates</th>\n",
       "      <th>alcohol</th>\n",
       "      <th>quality</th>\n",
       "    </tr>\n",
       "  </thead>\n",
       "  <tbody>\n",
       "    <tr>\n",
       "      <th>0</th>\n",
       "      <td>7.4</td>\n",
       "      <td>0.70</td>\n",
       "      <td>0.00</td>\n",
       "      <td>1.9</td>\n",
       "      <td>0.076</td>\n",
       "      <td>11.0</td>\n",
       "      <td>34.0</td>\n",
       "      <td>0.9978</td>\n",
       "      <td>3.51</td>\n",
       "      <td>0.56</td>\n",
       "      <td>9.4</td>\n",
       "      <td>5</td>\n",
       "    </tr>\n",
       "    <tr>\n",
       "      <th>1</th>\n",
       "      <td>7.8</td>\n",
       "      <td>0.88</td>\n",
       "      <td>0.00</td>\n",
       "      <td>2.6</td>\n",
       "      <td>0.098</td>\n",
       "      <td>25.0</td>\n",
       "      <td>67.0</td>\n",
       "      <td>0.9968</td>\n",
       "      <td>3.20</td>\n",
       "      <td>0.68</td>\n",
       "      <td>9.8</td>\n",
       "      <td>5</td>\n",
       "    </tr>\n",
       "    <tr>\n",
       "      <th>2</th>\n",
       "      <td>7.8</td>\n",
       "      <td>0.76</td>\n",
       "      <td>0.04</td>\n",
       "      <td>2.3</td>\n",
       "      <td>0.092</td>\n",
       "      <td>15.0</td>\n",
       "      <td>54.0</td>\n",
       "      <td>0.9970</td>\n",
       "      <td>3.26</td>\n",
       "      <td>0.65</td>\n",
       "      <td>9.8</td>\n",
       "      <td>5</td>\n",
       "    </tr>\n",
       "    <tr>\n",
       "      <th>3</th>\n",
       "      <td>11.2</td>\n",
       "      <td>0.28</td>\n",
       "      <td>0.56</td>\n",
       "      <td>1.9</td>\n",
       "      <td>0.075</td>\n",
       "      <td>17.0</td>\n",
       "      <td>60.0</td>\n",
       "      <td>0.9980</td>\n",
       "      <td>3.16</td>\n",
       "      <td>0.58</td>\n",
       "      <td>9.8</td>\n",
       "      <td>6</td>\n",
       "    </tr>\n",
       "    <tr>\n",
       "      <th>4</th>\n",
       "      <td>7.4</td>\n",
       "      <td>0.70</td>\n",
       "      <td>0.00</td>\n",
       "      <td>1.9</td>\n",
       "      <td>0.076</td>\n",
       "      <td>11.0</td>\n",
       "      <td>34.0</td>\n",
       "      <td>0.9978</td>\n",
       "      <td>3.51</td>\n",
       "      <td>0.56</td>\n",
       "      <td>9.4</td>\n",
       "      <td>5</td>\n",
       "    </tr>\n",
       "  </tbody>\n",
       "</table>\n",
       "</div>"
      ],
      "text/plain": [
       "   fixed acidity  volatile acidity  citric acid  residual sugar  chlorides  \\\n",
       "0            7.4              0.70         0.00             1.9      0.076   \n",
       "1            7.8              0.88         0.00             2.6      0.098   \n",
       "2            7.8              0.76         0.04             2.3      0.092   \n",
       "3           11.2              0.28         0.56             1.9      0.075   \n",
       "4            7.4              0.70         0.00             1.9      0.076   \n",
       "\n",
       "   free sulfur dioxide  total sulfur dioxide  density    pH  sulphates  \\\n",
       "0                 11.0                  34.0   0.9978  3.51       0.56   \n",
       "1                 25.0                  67.0   0.9968  3.20       0.68   \n",
       "2                 15.0                  54.0   0.9970  3.26       0.65   \n",
       "3                 17.0                  60.0   0.9980  3.16       0.58   \n",
       "4                 11.0                  34.0   0.9978  3.51       0.56   \n",
       "\n",
       "   alcohol  quality  \n",
       "0      9.4        5  \n",
       "1      9.8        5  \n",
       "2      9.8        5  \n",
       "3      9.8        6  \n",
       "4      9.4        5  "
      ]
     },
     "execution_count": 67,
     "metadata": {},
     "output_type": "execute_result"
    }
   ],
   "source": [
    "# refresh the red wine dataset\n",
    "red_wine_data = pd.read_csv(fpath, delimiter =';')\n",
    "red_wine_data.head()"
   ]
  },
  {
   "cell_type": "code",
   "execution_count": 68,
   "id": "6a832374",
   "metadata": {
    "execution": {
     "iopub.execute_input": "2022-03-11T10:24:42.598300Z",
     "iopub.status.busy": "2022-03-11T10:24:42.597130Z",
     "iopub.status.idle": "2022-03-11T10:24:42.599233Z",
     "shell.execute_reply": "2022-03-11T10:24:42.599887Z",
     "shell.execute_reply.started": "2022-02-27T13:12:59.096080Z"
    },
    "papermill": {
     "duration": 0.262501,
     "end_time": "2022-03-11T10:24:42.600097",
     "exception": false,
     "start_time": "2022-03-11T10:24:42.337596",
     "status": "completed"
    },
    "tags": []
   },
   "outputs": [],
   "source": [
    "### drop columns showing very weak correlations\n",
    "lst = ['pH', 'free sulfur dioxide', 'residual sugar']\n",
    "red_wine_data.drop(lst, axis =1, inplace = True)"
   ]
  },
  {
   "cell_type": "code",
   "execution_count": 69,
   "id": "f5466b2b",
   "metadata": {
    "execution": {
     "iopub.execute_input": "2022-03-11T10:24:43.112157Z",
     "iopub.status.busy": "2022-03-11T10:24:43.111385Z",
     "iopub.status.idle": "2022-03-11T10:24:43.118091Z",
     "shell.execute_reply": "2022-03-11T10:24:43.117484Z",
     "shell.execute_reply.started": "2022-02-27T13:12:59.102153Z"
    },
    "papermill": {
     "duration": 0.264524,
     "end_time": "2022-03-11T10:24:43.118275",
     "exception": false,
     "start_time": "2022-03-11T10:24:42.853751",
     "status": "completed"
    },
    "tags": []
   },
   "outputs": [],
   "source": [
    "# create the \"features and target\" data sets\n",
    "X = red_wine_data.drop('quality',axis=1)\n",
    "y = red_wine_data['quality']"
   ]
  },
  {
   "cell_type": "code",
   "execution_count": 70,
   "id": "e056c1d6",
   "metadata": {
    "execution": {
     "iopub.execute_input": "2022-03-11T10:24:43.634962Z",
     "iopub.status.busy": "2022-03-11T10:24:43.633791Z",
     "iopub.status.idle": "2022-03-11T10:24:43.643740Z",
     "shell.execute_reply": "2022-03-11T10:24:43.644309Z",
     "shell.execute_reply.started": "2022-02-27T13:12:59.119846Z"
    },
    "papermill": {
     "duration": 0.27182,
     "end_time": "2022-03-11T10:24:43.644552",
     "exception": false,
     "start_time": "2022-03-11T10:24:43.372732",
     "status": "completed"
    },
    "tags": []
   },
   "outputs": [],
   "source": [
    "#Feature Scaling\n",
    "from sklearn.preprocessing import StandardScaler\n",
    "scaler = StandardScaler()\n",
    "X = scaler.fit_transform(X)"
   ]
  },
  {
   "cell_type": "code",
   "execution_count": 71,
   "id": "b4b2a8d1",
   "metadata": {
    "execution": {
     "iopub.execute_input": "2022-03-11T10:24:44.159508Z",
     "iopub.status.busy": "2022-03-11T10:24:44.158426Z",
     "iopub.status.idle": "2022-03-11T10:24:44.168790Z",
     "shell.execute_reply": "2022-03-11T10:24:44.169550Z",
     "shell.execute_reply.started": "2022-02-27T13:12:59.136268Z"
    },
    "papermill": {
     "duration": 0.271246,
     "end_time": "2022-03-11T10:24:44.169833",
     "exception": false,
     "start_time": "2022-03-11T10:24:43.898587",
     "status": "completed"
    },
    "tags": []
   },
   "outputs": [
    {
     "name": "stdout",
     "output_type": "stream",
     "text": [
      "Logistic Regression: Model 2 train shapes:\n",
      "(1279, 8) (1279,)\n",
      "\n",
      "Logistic Regression: Model 2 test shapes:\n",
      "(320, 8) (320,)\n"
     ]
    }
   ],
   "source": [
    "# split the features and target data sets into train and test sets\n",
    "X_train, X_test, y_train, y_test = train_test_split(X, y, test_size=0.2, random_state=42)\n",
    "print('Logistic Regression: Model 2 train shapes:')\n",
    "print(X_train.shape, y_train.shape)\n",
    "print()\n",
    "print('Logistic Regression: Model 2 test shapes:')\n",
    "print(X_test.shape, y_test.shape)"
   ]
  },
  {
   "cell_type": "code",
   "execution_count": 72,
   "id": "84eabf78",
   "metadata": {
    "execution": {
     "iopub.execute_input": "2022-03-11T10:24:44.681346Z",
     "iopub.status.busy": "2022-03-11T10:24:44.678228Z",
     "iopub.status.idle": "2022-03-11T10:24:44.756416Z",
     "shell.execute_reply": "2022-03-11T10:24:44.755751Z",
     "shell.execute_reply.started": "2022-02-27T13:12:59.151515Z"
    },
    "papermill": {
     "duration": 0.334875,
     "end_time": "2022-03-11T10:24:44.756610",
     "exception": false,
     "start_time": "2022-03-11T10:24:44.421735",
     "status": "completed"
    },
    "tags": []
   },
   "outputs": [],
   "source": [
    "# create and fit a Logistic regression model\n",
    "classifier2 = LogisticRegression(random_state=42)  \n",
    "classifier2 = classifier2.fit(X_train, y_train)"
   ]
  },
  {
   "cell_type": "code",
   "execution_count": 73,
   "id": "491cd282",
   "metadata": {
    "execution": {
     "iopub.execute_input": "2022-03-11T10:24:45.279881Z",
     "iopub.status.busy": "2022-03-11T10:24:45.279091Z",
     "iopub.status.idle": "2022-03-11T10:24:45.285340Z",
     "shell.execute_reply": "2022-03-11T10:24:45.285899Z",
     "shell.execute_reply.started": "2022-02-27T13:12:59.268664Z"
    },
    "papermill": {
     "duration": 0.271727,
     "end_time": "2022-03-11T10:24:45.286126",
     "exception": false,
     "start_time": "2022-03-11T10:24:45.014399",
     "status": "completed"
    },
    "tags": []
   },
   "outputs": [
    {
     "name": "stdout",
     "output_type": "stream",
     "text": [
      "Wine Quality Range: (3, 8)\n",
      "\n",
      "Logistic Regression Model 2: coeffs =\n",
      "\n",
      "[[-3.36508927e-02  1.15481688e+00 -1.74391019e-03  6.47904666e-01\n",
      "  -5.71869798e-01  8.23847664e-01 -6.74644646e-01 -8.52096704e-01]\n",
      " [-3.95683427e-01  3.58367311e-01  8.47999430e-02  2.24373649e-01\n",
      "   4.56073029e-02 -1.29683680e-01 -3.20750585e-01 -2.92978488e-01]\n",
      " [-1.54082631e-01  1.58117836e-02 -4.63289630e-02  1.24107152e-01\n",
      "   6.15356983e-01  9.53084031e-04 -2.65110874e-01 -7.53054714e-01]\n",
      " [ 2.84554421e-02 -4.58275691e-01 -3.15182962e-01  1.81689506e-02\n",
      "   2.43189558e-01 -1.50085843e-02  1.18927533e-01  1.49149516e-01]\n",
      " [ 2.34272289e-01 -8.40928072e-01 -1.78930102e-01 -2.12215461e-01\n",
      "  -9.78361695e-02 -1.87939445e-01  5.04624654e-01  8.45163819e-01]\n",
      " [ 3.20689220e-01 -2.29792207e-01  4.57385994e-01 -8.02338957e-01\n",
      "  -2.34447876e-01 -4.92169039e-01  6.36953918e-01  9.03816570e-01]]\n",
      "\n",
      "Logistic Regression Model 2: intercept =\n",
      "[-3.52670881 -0.01590016  2.58444082  2.72554169  0.61772236 -2.38509589]\n"
     ]
    }
   ],
   "source": [
    "print('Wine Quality Range: ({}, {})'.format(y.min(), y.max()))\n",
    "print('\\nLogistic Regression Model 2: coeffs =\\n')\n",
    "print(classifier2.coef_)\n",
    "print()\n",
    "print('Logistic Regression Model 2: intercept =')\n",
    "print(classifier2.intercept_)"
   ]
  },
  {
   "cell_type": "code",
   "execution_count": 74,
   "id": "2d60f478",
   "metadata": {
    "execution": {
     "iopub.execute_input": "2022-03-11T10:24:45.802886Z",
     "iopub.status.busy": "2022-03-11T10:24:45.802118Z",
     "iopub.status.idle": "2022-03-11T10:24:45.810437Z",
     "shell.execute_reply": "2022-03-11T10:24:45.809837Z",
     "shell.execute_reply.started": "2022-02-27T13:12:59.278041Z"
    },
    "papermill": {
     "duration": 0.267871,
     "end_time": "2022-03-11T10:24:45.810604",
     "exception": false,
     "start_time": "2022-03-11T10:24:45.542733",
     "status": "completed"
    },
    "tags": []
   },
   "outputs": [
    {
     "name": "stdout",
     "output_type": "stream",
     "text": [
      "Actual training data set quality range: (3, 8)\n",
      "Predicted training data set quality range: (3, 7)\n"
     ]
    }
   ],
   "source": [
    "# compute train_predictions using X_train\n",
    "train_predictions = classifier2.predict(X_train)\n",
    "print('Actual training data set quality range: ({}, {})'.format(y_train.min(), y_train.max()))\n",
    "print('Predicted training data set quality range: ({}, {})'.format(train_predictions.min(), train_predictions.max()))"
   ]
  },
  {
   "cell_type": "code",
   "execution_count": 75,
   "id": "0346d717",
   "metadata": {
    "execution": {
     "iopub.execute_input": "2022-03-11T10:24:46.325146Z",
     "iopub.status.busy": "2022-03-11T10:24:46.323991Z",
     "iopub.status.idle": "2022-03-11T10:24:46.338831Z",
     "shell.execute_reply": "2022-03-11T10:24:46.338087Z",
     "shell.execute_reply.started": "2022-02-27T13:12:59.295870Z"
    },
    "papermill": {
     "duration": 0.273167,
     "end_time": "2022-03-11T10:24:46.338997",
     "exception": false,
     "start_time": "2022-03-11T10:24:46.065830",
     "status": "completed"
    },
    "tags": []
   },
   "outputs": [
    {
     "data": {
      "text/html": [
       "<div>\n",
       "<style scoped>\n",
       "    .dataframe tbody tr th:only-of-type {\n",
       "        vertical-align: middle;\n",
       "    }\n",
       "\n",
       "    .dataframe tbody tr th {\n",
       "        vertical-align: top;\n",
       "    }\n",
       "\n",
       "    .dataframe thead th {\n",
       "        text-align: right;\n",
       "    }\n",
       "</style>\n",
       "<table border=\"1\" class=\"dataframe\">\n",
       "  <thead>\n",
       "    <tr style=\"text-align: right;\">\n",
       "      <th></th>\n",
       "      <th>3</th>\n",
       "      <th>4</th>\n",
       "      <th>5</th>\n",
       "      <th>6</th>\n",
       "      <th>7</th>\n",
       "      <th>8</th>\n",
       "    </tr>\n",
       "  </thead>\n",
       "  <tbody>\n",
       "    <tr>\n",
       "      <th>3</th>\n",
       "      <td>1</td>\n",
       "      <td>0</td>\n",
       "      <td>7</td>\n",
       "      <td>1</td>\n",
       "      <td>0</td>\n",
       "      <td>0</td>\n",
       "    </tr>\n",
       "    <tr>\n",
       "      <th>4</th>\n",
       "      <td>0</td>\n",
       "      <td>0</td>\n",
       "      <td>28</td>\n",
       "      <td>15</td>\n",
       "      <td>0</td>\n",
       "      <td>0</td>\n",
       "    </tr>\n",
       "    <tr>\n",
       "      <th>5</th>\n",
       "      <td>2</td>\n",
       "      <td>0</td>\n",
       "      <td>417</td>\n",
       "      <td>131</td>\n",
       "      <td>1</td>\n",
       "      <td>0</td>\n",
       "    </tr>\n",
       "    <tr>\n",
       "      <th>6</th>\n",
       "      <td>0</td>\n",
       "      <td>0</td>\n",
       "      <td>169</td>\n",
       "      <td>311</td>\n",
       "      <td>26</td>\n",
       "      <td>0</td>\n",
       "    </tr>\n",
       "    <tr>\n",
       "      <th>7</th>\n",
       "      <td>0</td>\n",
       "      <td>0</td>\n",
       "      <td>10</td>\n",
       "      <td>99</td>\n",
       "      <td>48</td>\n",
       "      <td>0</td>\n",
       "    </tr>\n",
       "    <tr>\n",
       "      <th>8</th>\n",
       "      <td>0</td>\n",
       "      <td>0</td>\n",
       "      <td>0</td>\n",
       "      <td>9</td>\n",
       "      <td>4</td>\n",
       "      <td>0</td>\n",
       "    </tr>\n",
       "  </tbody>\n",
       "</table>\n",
       "</div>"
      ],
      "text/plain": [
       "   3  4    5    6   7  8\n",
       "3  1  0    7    1   0  0\n",
       "4  0  0   28   15   0  0\n",
       "5  2  0  417  131   1  0\n",
       "6  0  0  169  311  26  0\n",
       "7  0  0   10   99  48  0\n",
       "8  0  0    0    9   4  0"
      ]
     },
     "execution_count": 75,
     "metadata": {},
     "output_type": "execute_result"
    }
   ],
   "source": [
    "#create a confusion matrix for training data set  \n",
    "cm= confusion_matrix(y_train,train_predictions)  \n",
    "coords = [x for x in range(3,9)]\n",
    "cm = pd.DataFrame(cm,columns=coords, index=coords )\n",
    "cm"
   ]
  },
  {
   "cell_type": "code",
   "execution_count": 76,
   "id": "b0b9185e",
   "metadata": {
    "execution": {
     "iopub.execute_input": "2022-03-11T10:24:46.857403Z",
     "iopub.status.busy": "2022-03-11T10:24:46.856547Z",
     "iopub.status.idle": "2022-03-11T10:24:46.861892Z",
     "shell.execute_reply": "2022-03-11T10:24:46.862420Z",
     "shell.execute_reply.started": "2022-02-27T13:12:59.318604Z"
    },
    "papermill": {
     "duration": 0.270763,
     "end_time": "2022-03-11T10:24:46.862636",
     "exception": false,
     "start_time": "2022-03-11T10:24:46.591873",
     "status": "completed"
    },
    "tags": []
   },
   "outputs": [
    {
     "name": "stdout",
     "output_type": "stream",
     "text": [
      "Actual test data set quality range: (3, 8)\n",
      "Predicted test data set quality range: (5, 7)\n"
     ]
    }
   ],
   "source": [
    "# compute test predictions using X_test\n",
    "test_preds= classifier2.predict(X_test)\n",
    "print('Actual test data set quality range: ({}, {})'.format(y_test.min(), y_test.max()))\n",
    "print('Predicted test data set quality range: ({}, {})'.format(test_preds.min(), test_preds.max()))"
   ]
  },
  {
   "cell_type": "code",
   "execution_count": 77,
   "id": "bbca52fd",
   "metadata": {
    "execution": {
     "iopub.execute_input": "2022-03-11T10:24:47.386603Z",
     "iopub.status.busy": "2022-03-11T10:24:47.385830Z",
     "iopub.status.idle": "2022-03-11T10:24:47.400700Z",
     "shell.execute_reply": "2022-03-11T10:24:47.399992Z",
     "shell.execute_reply.started": "2022-02-27T13:12:59.329117Z"
    },
    "papermill": {
     "duration": 0.278658,
     "end_time": "2022-03-11T10:24:47.400924",
     "exception": false,
     "start_time": "2022-03-11T10:24:47.122266",
     "status": "completed"
    },
    "tags": []
   },
   "outputs": [
    {
     "data": {
      "text/html": [
       "<div>\n",
       "<style scoped>\n",
       "    .dataframe tbody tr th:only-of-type {\n",
       "        vertical-align: middle;\n",
       "    }\n",
       "\n",
       "    .dataframe tbody tr th {\n",
       "        vertical-align: top;\n",
       "    }\n",
       "\n",
       "    .dataframe thead th {\n",
       "        text-align: right;\n",
       "    }\n",
       "</style>\n",
       "<table border=\"1\" class=\"dataframe\">\n",
       "  <thead>\n",
       "    <tr style=\"text-align: right;\">\n",
       "      <th></th>\n",
       "      <th>3</th>\n",
       "      <th>4</th>\n",
       "      <th>5</th>\n",
       "      <th>6</th>\n",
       "      <th>7</th>\n",
       "      <th>8</th>\n",
       "    </tr>\n",
       "  </thead>\n",
       "  <tbody>\n",
       "    <tr>\n",
       "      <th>3</th>\n",
       "      <td>0</td>\n",
       "      <td>0</td>\n",
       "      <td>1</td>\n",
       "      <td>0</td>\n",
       "      <td>0</td>\n",
       "      <td>0</td>\n",
       "    </tr>\n",
       "    <tr>\n",
       "      <th>4</th>\n",
       "      <td>0</td>\n",
       "      <td>0</td>\n",
       "      <td>8</td>\n",
       "      <td>2</td>\n",
       "      <td>0</td>\n",
       "      <td>0</td>\n",
       "    </tr>\n",
       "    <tr>\n",
       "      <th>5</th>\n",
       "      <td>0</td>\n",
       "      <td>0</td>\n",
       "      <td>100</td>\n",
       "      <td>29</td>\n",
       "      <td>1</td>\n",
       "      <td>0</td>\n",
       "    </tr>\n",
       "    <tr>\n",
       "      <th>6</th>\n",
       "      <td>0</td>\n",
       "      <td>0</td>\n",
       "      <td>46</td>\n",
       "      <td>76</td>\n",
       "      <td>10</td>\n",
       "      <td>0</td>\n",
       "    </tr>\n",
       "    <tr>\n",
       "      <th>7</th>\n",
       "      <td>0</td>\n",
       "      <td>0</td>\n",
       "      <td>3</td>\n",
       "      <td>31</td>\n",
       "      <td>8</td>\n",
       "      <td>0</td>\n",
       "    </tr>\n",
       "    <tr>\n",
       "      <th>8</th>\n",
       "      <td>0</td>\n",
       "      <td>0</td>\n",
       "      <td>0</td>\n",
       "      <td>1</td>\n",
       "      <td>4</td>\n",
       "      <td>0</td>\n",
       "    </tr>\n",
       "  </tbody>\n",
       "</table>\n",
       "</div>"
      ],
      "text/plain": [
       "   3  4    5   6   7  8\n",
       "3  0  0    1   0   0  0\n",
       "4  0  0    8   2   0  0\n",
       "5  0  0  100  29   1  0\n",
       "6  0  0   46  76  10  0\n",
       "7  0  0    3  31   8  0\n",
       "8  0  0    0   1   4  0"
      ]
     },
     "execution_count": 77,
     "metadata": {},
     "output_type": "execute_result"
    }
   ],
   "source": [
    "#create a confusion matrix for test data set  \n",
    "cm= confusion_matrix(y_test,test_preds)  \n",
    "coords = [x for x in range(3,9)]\n",
    "cm = pd.DataFrame(cm,columns=coords, index=coords )\n",
    "cm"
   ]
  },
  {
   "cell_type": "code",
   "execution_count": 78,
   "id": "44111c26",
   "metadata": {
    "execution": {
     "iopub.execute_input": "2022-03-11T10:24:47.920437Z",
     "iopub.status.busy": "2022-03-11T10:24:47.919472Z",
     "iopub.status.idle": "2022-03-11T10:24:47.925824Z",
     "shell.execute_reply": "2022-03-11T10:24:47.925098Z",
     "shell.execute_reply.started": "2022-02-27T13:12:59.354999Z"
    },
    "papermill": {
     "duration": 0.266813,
     "end_time": "2022-03-11T10:24:47.925991",
     "exception": false,
     "start_time": "2022-03-11T10:24:47.659178",
     "status": "completed"
    },
    "tags": []
   },
   "outputs": [
    {
     "name": "stdout",
     "output_type": "stream",
     "text": [
      "Train Accuracy Score 0.6075058639562158\n"
     ]
    }
   ],
   "source": [
    "score = classifier2.score(X_train, y_train)\n",
    "print('Train Accuracy Score', score)"
   ]
  },
  {
   "cell_type": "code",
   "execution_count": 79,
   "id": "5de37a83",
   "metadata": {
    "execution": {
     "iopub.execute_input": "2022-03-11T10:24:48.446264Z",
     "iopub.status.busy": "2022-03-11T10:24:48.445498Z",
     "iopub.status.idle": "2022-03-11T10:24:48.449899Z",
     "shell.execute_reply": "2022-03-11T10:24:48.450387Z",
     "shell.execute_reply.started": "2022-02-27T13:12:59.366674Z"
    },
    "papermill": {
     "duration": 0.262949,
     "end_time": "2022-03-11T10:24:48.450674",
     "exception": false,
     "start_time": "2022-03-11T10:24:48.187725",
     "status": "completed"
    },
    "tags": []
   },
   "outputs": [
    {
     "name": "stdout",
     "output_type": "stream",
     "text": [
      "Test Accuracy Score 0.6075058639562158\n"
     ]
    }
   ],
   "source": [
    "score2 = classifier2.score(X_test, y_test)\n",
    "print('Test Accuracy Score', score)"
   ]
  },
  {
   "cell_type": "markdown",
   "id": "c2bb0ead",
   "metadata": {
    "papermill": {
     "duration": 0.259832,
     "end_time": "2022-03-11T10:24:48.966073",
     "exception": false,
     "start_time": "2022-03-11T10:24:48.706241",
     "status": "completed"
    },
    "tags": []
   },
   "source": [
    "#### Apply cross-validations to improve the model performance\n",
    "1. Apply cross-validation\n",
    "2. Apply k-fold cross validation"
   ]
  },
  {
   "cell_type": "code",
   "execution_count": 80,
   "id": "d69fb0e7",
   "metadata": {
    "execution": {
     "iopub.execute_input": "2022-03-11T10:24:49.488165Z",
     "iopub.status.busy": "2022-03-11T10:24:49.487238Z",
     "iopub.status.idle": "2022-03-11T10:24:49.811950Z",
     "shell.execute_reply": "2022-03-11T10:24:49.812596Z",
     "shell.execute_reply.started": "2022-02-27T13:12:59.379501Z"
    },
    "papermill": {
     "duration": 0.59225,
     "end_time": "2022-03-11T10:24:49.812820",
     "exception": false,
     "start_time": "2022-03-11T10:24:49.220570",
     "status": "completed"
    },
    "tags": []
   },
   "outputs": [
    {
     "name": "stdout",
     "output_type": "stream",
     "text": [
      "dict_keys(['fit_time', 'score_time', 'estimator', 'test_score'])\n",
      "(LogisticRegression(random_state=42), LogisticRegression(random_state=42), LogisticRegression(random_state=42), LogisticRegression(random_state=42), LogisticRegression(random_state=42))\n",
      "[0.578125   0.58203125 0.57421875 0.625      0.65882353]\n"
     ]
    }
   ],
   "source": [
    "# obtain scores and corresponding estimators\n",
    "\n",
    "# cross_validate returns the scores and also the underlying estimators\n",
    "scores = cross_validate(classifier2, X_train, y_train, cv=5, return_estimator=True)\n",
    "\n",
    "# visually locate the estimator that has the maximum score.\n",
    "# in this case, it is estimator[4] which gives 67% accuracy.\n",
    "print(scores.keys())\n",
    "print(scores['estimator'])\n",
    "print(scores['test_score'])\n",
    "\n",
    "# pick up the estimator that gives the most accurate prediction\n",
    "# we can use the estimator to obtain predictions; we are not doing this here\n",
    "estimator = scores['estimator'][4]\n"
   ]
  },
  {
   "cell_type": "code",
   "execution_count": 81,
   "id": "6f2d6163",
   "metadata": {
    "execution": {
     "iopub.execute_input": "2022-03-11T10:24:50.357391Z",
     "iopub.status.busy": "2022-03-11T10:24:50.355946Z",
     "iopub.status.idle": "2022-03-11T10:24:50.687806Z",
     "shell.execute_reply": "2022-03-11T10:24:50.686762Z",
     "shell.execute_reply.started": "2022-02-27T13:12:59.621430Z"
    },
    "papermill": {
     "duration": 0.614053,
     "end_time": "2022-03-11T10:24:50.688046",
     "exception": false,
     "start_time": "2022-03-11T10:24:50.073993",
     "status": "completed"
    },
    "tags": []
   },
   "outputs": [
    {
     "name": "stdout",
     "output_type": "stream",
     "text": [
      "K-fold scores: [0.56640625 0.59765625 0.57421875 0.6171875  0.65882353]\n",
      "Mean accuracy of k-fold scores: 60.29\n",
      "logistic regression model 2: highest kfold score = 0.6588235294117647\n"
     ]
    }
   ],
   "source": [
    "# 2. Apply K-fold cross validation\n",
    "kfold = KFold(n_splits=5)\n",
    "\n",
    "# cross_validate returns the scores and also the underlying estimators\n",
    "results = cross_validate(classifier2, X_train, y_train, cv=kfold, return_estimator=True)\n",
    "print('K-fold scores:', results['test_score'])\n",
    "print('Mean accuracy of k-fold scores:', round(results['test_score'].mean()*100,2))\n",
    "\n",
    "# pick up the estimator that gives the most accurate prediction\n",
    "# we can use the estimator to obtain predictions; we are not doing this here\n",
    "estimator = results['estimator'][4]\n",
    "scores2_max = scores['test_score'][4]\n",
    "print('logistic regression model 2: highest kfold score =', scores2_max)"
   ]
  },
  {
   "cell_type": "markdown",
   "id": "9b4220a4",
   "metadata": {
    "papermill": {
     "duration": 0.257987,
     "end_time": "2022-03-11T10:24:51.234601",
     "exception": false,
     "start_time": "2022-03-11T10:24:50.976614",
     "status": "completed"
    },
    "tags": []
   },
   "source": [
    "#### Step 3: Develop the third Logistic Regression Model - after dropping columns showing weak correlations (0.2 - 0.4)\n",
    "1. Drop columns `fixed acidity`, `citric acid`, `chlorides`, `total sulfur dioxide`, `density`.\n",
    "2. Build the ML model, test and validate the predictions."
   ]
  },
  {
   "cell_type": "code",
   "execution_count": 82,
   "id": "246913c3",
   "metadata": {
    "execution": {
     "iopub.execute_input": "2022-03-11T10:24:51.796346Z",
     "iopub.status.busy": "2022-03-11T10:24:51.795353Z",
     "iopub.status.idle": "2022-03-11T10:24:51.797155Z",
     "shell.execute_reply": "2022-03-11T10:24:51.797665Z",
     "shell.execute_reply.started": "2022-02-27T13:12:59.844709Z"
    },
    "papermill": {
     "duration": 0.299622,
     "end_time": "2022-03-11T10:24:51.797888",
     "exception": false,
     "start_time": "2022-03-11T10:24:51.498266",
     "status": "completed"
    },
    "tags": []
   },
   "outputs": [],
   "source": [
    "### 3. Drop the columns showing weak correlations\n",
    "lst = ['fixed acidity', 'citric acid', 'chlorides', 'total sulfur dioxide', 'density']\n",
    "red_wine_data.drop(lst, axis =1, inplace = True)"
   ]
  },
  {
   "cell_type": "code",
   "execution_count": 83,
   "id": "664b8dbb",
   "metadata": {
    "execution": {
     "iopub.execute_input": "2022-03-11T10:24:52.321571Z",
     "iopub.status.busy": "2022-03-11T10:24:52.318689Z",
     "iopub.status.idle": "2022-03-11T10:24:52.326125Z",
     "shell.execute_reply": "2022-03-11T10:24:52.325485Z",
     "shell.execute_reply.started": "2022-02-27T13:12:59.851057Z"
    },
    "papermill": {
     "duration": 0.269322,
     "end_time": "2022-03-11T10:24:52.326300",
     "exception": false,
     "start_time": "2022-03-11T10:24:52.056978",
     "status": "completed"
    },
    "tags": []
   },
   "outputs": [],
   "source": [
    "# create the \"features and target\" data sets\n",
    "X = red_wine_data.drop('quality',axis=1)\n",
    "y = red_wine_data['quality']"
   ]
  },
  {
   "cell_type": "code",
   "execution_count": 84,
   "id": "e98cdb28",
   "metadata": {
    "execution": {
     "iopub.execute_input": "2022-03-11T10:24:52.844389Z",
     "iopub.status.busy": "2022-03-11T10:24:52.843564Z",
     "iopub.status.idle": "2022-03-11T10:24:52.849471Z",
     "shell.execute_reply": "2022-03-11T10:24:52.850006Z",
     "shell.execute_reply.started": "2022-02-27T13:12:59.868031Z"
    },
    "papermill": {
     "duration": 0.270416,
     "end_time": "2022-03-11T10:24:52.850232",
     "exception": false,
     "start_time": "2022-03-11T10:24:52.579816",
     "status": "completed"
    },
    "tags": []
   },
   "outputs": [],
   "source": [
    "#Feature Scaling\n",
    "from sklearn.preprocessing import StandardScaler\n",
    "scaler = StandardScaler()\n",
    "X = scaler.fit_transform(X)"
   ]
  },
  {
   "cell_type": "code",
   "execution_count": 85,
   "id": "3196f4aa",
   "metadata": {
    "execution": {
     "iopub.execute_input": "2022-03-11T10:24:53.367911Z",
     "iopub.status.busy": "2022-03-11T10:24:53.367113Z",
     "iopub.status.idle": "2022-03-11T10:24:53.377356Z",
     "shell.execute_reply": "2022-03-11T10:24:53.378235Z",
     "shell.execute_reply.started": "2022-02-27T13:12:59.891668Z"
    },
    "papermill": {
     "duration": 0.269052,
     "end_time": "2022-03-11T10:24:53.378520",
     "exception": false,
     "start_time": "2022-03-11T10:24:53.109468",
     "status": "completed"
    },
    "tags": []
   },
   "outputs": [
    {
     "name": "stdout",
     "output_type": "stream",
     "text": [
      "Logistic Regression: Model 3 train shapes:\n",
      "(1279, 3) (1279,)\n",
      "\n",
      "Logistic Regression: Model 3 test shapes:\n",
      "(320, 3) (320,)\n"
     ]
    }
   ],
   "source": [
    "# split the features and target data sets into train and test sets\n",
    "X_train, X_test, y_train, y_test = train_test_split(X, y, test_size=0.2, random_state=42)\n",
    "print('Logistic Regression: Model 3 train shapes:')\n",
    "print(X_train.shape, y_train.shape)\n",
    "print()\n",
    "print('Logistic Regression: Model 3 test shapes:')\n",
    "print(X_test.shape, y_test.shape)"
   ]
  },
  {
   "cell_type": "code",
   "execution_count": 86,
   "id": "dafa9ade",
   "metadata": {
    "execution": {
     "iopub.execute_input": "2022-03-11T10:24:53.902294Z",
     "iopub.status.busy": "2022-03-11T10:24:53.901552Z",
     "iopub.status.idle": "2022-03-11T10:24:53.945295Z",
     "shell.execute_reply": "2022-03-11T10:24:53.945933Z",
     "shell.execute_reply.started": "2022-02-27T13:12:59.899848Z"
    },
    "papermill": {
     "duration": 0.304205,
     "end_time": "2022-03-11T10:24:53.946175",
     "exception": false,
     "start_time": "2022-03-11T10:24:53.641970",
     "status": "completed"
    },
    "tags": []
   },
   "outputs": [],
   "source": [
    "# create and fit a logistic regression model\n",
    "classifier3 = LogisticRegression(random_state=42)  \n",
    "classifier3 = classifier3.fit(X_train, y_train)"
   ]
  },
  {
   "cell_type": "code",
   "execution_count": 87,
   "id": "744c9ebb",
   "metadata": {
    "execution": {
     "iopub.execute_input": "2022-03-11T10:24:54.465583Z",
     "iopub.status.busy": "2022-03-11T10:24:54.464630Z",
     "iopub.status.idle": "2022-03-11T10:24:54.473368Z",
     "shell.execute_reply": "2022-03-11T10:24:54.473995Z",
     "shell.execute_reply.started": "2022-02-27T13:12:59.942169Z"
    },
    "papermill": {
     "duration": 0.269583,
     "end_time": "2022-03-11T10:24:54.474208",
     "exception": false,
     "start_time": "2022-03-11T10:24:54.204625",
     "status": "completed"
    },
    "tags": []
   },
   "outputs": [
    {
     "name": "stdout",
     "output_type": "stream",
     "text": [
      "Wine Quality Range: (3, 8)\n",
      "\n",
      "Logistic Regression Model 3: coeffs =\n",
      "\n",
      "[[ 1.17996622 -0.20575491 -0.92483039]\n",
      " [ 0.45640416 -0.29450005 -0.23664581]\n",
      " [ 0.12035703 -0.22764997 -0.90260972]\n",
      " [-0.27349158  0.02033144  0.09920038]\n",
      " [-0.85980234  0.30917349  0.86845164]\n",
      " [-0.62343347  0.39840001  1.0964339 ]]\n",
      "\n",
      "Logistic Regression Model 3: intercept =\n",
      "[-2.82805638 -0.21744754  2.29951555  2.44377325  0.475164   -2.17294887]\n"
     ]
    }
   ],
   "source": [
    "print('Wine Quality Range: ({}, {})'.format(y.min(), y.max()))\n",
    "print('\\nLogistic Regression Model 3: coeffs =\\n')\n",
    "print(classifier3.coef_)\n",
    "print()\n",
    "print('Logistic Regression Model 3: intercept =')\n",
    "print(classifier3.intercept_)"
   ]
  },
  {
   "cell_type": "code",
   "execution_count": 88,
   "id": "5847a353",
   "metadata": {
    "execution": {
     "iopub.execute_input": "2022-03-11T10:24:54.991596Z",
     "iopub.status.busy": "2022-03-11T10:24:54.990813Z",
     "iopub.status.idle": "2022-03-11T10:24:54.998670Z",
     "shell.execute_reply": "2022-03-11T10:24:54.999197Z",
     "shell.execute_reply.started": "2022-02-27T13:12:59.949522Z"
    },
    "papermill": {
     "duration": 0.268686,
     "end_time": "2022-03-11T10:24:54.999434",
     "exception": false,
     "start_time": "2022-03-11T10:24:54.730748",
     "status": "completed"
    },
    "tags": []
   },
   "outputs": [
    {
     "name": "stdout",
     "output_type": "stream",
     "text": [
      "Actual training data set quality range: (3, 8)\n",
      "Predicted training data set quality range: (3, 7)\n"
     ]
    }
   ],
   "source": [
    "# compute train_predictions using X_train\n",
    "train_predictions = classifier3.predict(X_train)\n",
    "print('Actual training data set quality range: ({}, {})'.format(y_train.min(), y_train.max()))\n",
    "print('Predicted training data set quality range: ({}, {})'.format(train_predictions.min(), train_predictions.max()))"
   ]
  },
  {
   "cell_type": "code",
   "execution_count": 89,
   "id": "552d74f6",
   "metadata": {
    "execution": {
     "iopub.execute_input": "2022-03-11T10:24:55.518494Z",
     "iopub.status.busy": "2022-03-11T10:24:55.517750Z",
     "iopub.status.idle": "2022-03-11T10:24:55.532975Z",
     "shell.execute_reply": "2022-03-11T10:24:55.532421Z",
     "shell.execute_reply.started": "2022-02-27T13:12:59.964724Z"
    },
    "papermill": {
     "duration": 0.27651,
     "end_time": "2022-03-11T10:24:55.533145",
     "exception": false,
     "start_time": "2022-03-11T10:24:55.256635",
     "status": "completed"
    },
    "tags": []
   },
   "outputs": [
    {
     "data": {
      "text/html": [
       "<div>\n",
       "<style scoped>\n",
       "    .dataframe tbody tr th:only-of-type {\n",
       "        vertical-align: middle;\n",
       "    }\n",
       "\n",
       "    .dataframe tbody tr th {\n",
       "        vertical-align: top;\n",
       "    }\n",
       "\n",
       "    .dataframe thead th {\n",
       "        text-align: right;\n",
       "    }\n",
       "</style>\n",
       "<table border=\"1\" class=\"dataframe\">\n",
       "  <thead>\n",
       "    <tr style=\"text-align: right;\">\n",
       "      <th></th>\n",
       "      <th>3</th>\n",
       "      <th>4</th>\n",
       "      <th>5</th>\n",
       "      <th>6</th>\n",
       "      <th>7</th>\n",
       "      <th>8</th>\n",
       "    </tr>\n",
       "  </thead>\n",
       "  <tbody>\n",
       "    <tr>\n",
       "      <th>3</th>\n",
       "      <td>1</td>\n",
       "      <td>0</td>\n",
       "      <td>7</td>\n",
       "      <td>1</td>\n",
       "      <td>0</td>\n",
       "      <td>0</td>\n",
       "    </tr>\n",
       "    <tr>\n",
       "      <th>4</th>\n",
       "      <td>0</td>\n",
       "      <td>0</td>\n",
       "      <td>30</td>\n",
       "      <td>13</td>\n",
       "      <td>0</td>\n",
       "      <td>0</td>\n",
       "    </tr>\n",
       "    <tr>\n",
       "      <th>5</th>\n",
       "      <td>0</td>\n",
       "      <td>0</td>\n",
       "      <td>410</td>\n",
       "      <td>139</td>\n",
       "      <td>2</td>\n",
       "      <td>0</td>\n",
       "    </tr>\n",
       "    <tr>\n",
       "      <th>6</th>\n",
       "      <td>0</td>\n",
       "      <td>0</td>\n",
       "      <td>193</td>\n",
       "      <td>290</td>\n",
       "      <td>23</td>\n",
       "      <td>0</td>\n",
       "    </tr>\n",
       "    <tr>\n",
       "      <th>7</th>\n",
       "      <td>0</td>\n",
       "      <td>0</td>\n",
       "      <td>14</td>\n",
       "      <td>105</td>\n",
       "      <td>38</td>\n",
       "      <td>0</td>\n",
       "    </tr>\n",
       "    <tr>\n",
       "      <th>8</th>\n",
       "      <td>0</td>\n",
       "      <td>0</td>\n",
       "      <td>0</td>\n",
       "      <td>10</td>\n",
       "      <td>3</td>\n",
       "      <td>0</td>\n",
       "    </tr>\n",
       "  </tbody>\n",
       "</table>\n",
       "</div>"
      ],
      "text/plain": [
       "   3  4    5    6   7  8\n",
       "3  1  0    7    1   0  0\n",
       "4  0  0   30   13   0  0\n",
       "5  0  0  410  139   2  0\n",
       "6  0  0  193  290  23  0\n",
       "7  0  0   14  105  38  0\n",
       "8  0  0    0   10   3  0"
      ]
     },
     "execution_count": 89,
     "metadata": {},
     "output_type": "execute_result"
    }
   ],
   "source": [
    "#create a confusion matrix for training data set  \n",
    "cm= confusion_matrix(y_train,train_predictions)  \n",
    "coords = [x for x in range(3,9)]\n",
    "cm = pd.DataFrame(cm,columns=coords, index=coords )\n",
    "cm"
   ]
  },
  {
   "cell_type": "code",
   "execution_count": 90,
   "id": "4845c069",
   "metadata": {
    "execution": {
     "iopub.execute_input": "2022-03-11T10:24:56.056792Z",
     "iopub.status.busy": "2022-03-11T10:24:56.055485Z",
     "iopub.status.idle": "2022-03-11T10:24:56.061906Z",
     "shell.execute_reply": "2022-03-11T10:24:56.061277Z",
     "shell.execute_reply.started": "2022-02-27T13:12:59.985158Z"
    },
    "papermill": {
     "duration": 0.272412,
     "end_time": "2022-03-11T10:24:56.062103",
     "exception": false,
     "start_time": "2022-03-11T10:24:55.789691",
     "status": "completed"
    },
    "tags": []
   },
   "outputs": [
    {
     "name": "stdout",
     "output_type": "stream",
     "text": [
      "Actual test data set quality range: (3, 8)\n",
      "Predicted test data set quality range: (5, 7)\n"
     ]
    }
   ],
   "source": [
    "# compute test predictions using X_test\n",
    "test_preds= classifier3.predict(X_test)\n",
    "print('Actual test data set quality range: ({}, {})'.format(y_test.min(), y_test.max()))\n",
    "print('Predicted test data set quality range: ({}, {})'.format(test_preds.min(), test_preds.max()))"
   ]
  },
  {
   "cell_type": "code",
   "execution_count": 91,
   "id": "e345832b",
   "metadata": {
    "execution": {
     "iopub.execute_input": "2022-03-11T10:24:56.586626Z",
     "iopub.status.busy": "2022-03-11T10:24:56.585867Z",
     "iopub.status.idle": "2022-03-11T10:24:56.598200Z",
     "shell.execute_reply": "2022-03-11T10:24:56.598747Z",
     "shell.execute_reply.started": "2022-02-27T13:12:59.994758Z"
    },
    "papermill": {
     "duration": 0.276101,
     "end_time": "2022-03-11T10:24:56.598974",
     "exception": false,
     "start_time": "2022-03-11T10:24:56.322873",
     "status": "completed"
    },
    "tags": []
   },
   "outputs": [
    {
     "data": {
      "text/html": [
       "<div>\n",
       "<style scoped>\n",
       "    .dataframe tbody tr th:only-of-type {\n",
       "        vertical-align: middle;\n",
       "    }\n",
       "\n",
       "    .dataframe tbody tr th {\n",
       "        vertical-align: top;\n",
       "    }\n",
       "\n",
       "    .dataframe thead th {\n",
       "        text-align: right;\n",
       "    }\n",
       "</style>\n",
       "<table border=\"1\" class=\"dataframe\">\n",
       "  <thead>\n",
       "    <tr style=\"text-align: right;\">\n",
       "      <th></th>\n",
       "      <th>3</th>\n",
       "      <th>4</th>\n",
       "      <th>5</th>\n",
       "      <th>6</th>\n",
       "      <th>7</th>\n",
       "      <th>8</th>\n",
       "    </tr>\n",
       "  </thead>\n",
       "  <tbody>\n",
       "    <tr>\n",
       "      <th>3</th>\n",
       "      <td>0</td>\n",
       "      <td>0</td>\n",
       "      <td>1</td>\n",
       "      <td>0</td>\n",
       "      <td>0</td>\n",
       "      <td>0</td>\n",
       "    </tr>\n",
       "    <tr>\n",
       "      <th>4</th>\n",
       "      <td>0</td>\n",
       "      <td>0</td>\n",
       "      <td>10</td>\n",
       "      <td>0</td>\n",
       "      <td>0</td>\n",
       "      <td>0</td>\n",
       "    </tr>\n",
       "    <tr>\n",
       "      <th>5</th>\n",
       "      <td>0</td>\n",
       "      <td>0</td>\n",
       "      <td>103</td>\n",
       "      <td>26</td>\n",
       "      <td>1</td>\n",
       "      <td>0</td>\n",
       "    </tr>\n",
       "    <tr>\n",
       "      <th>6</th>\n",
       "      <td>0</td>\n",
       "      <td>0</td>\n",
       "      <td>56</td>\n",
       "      <td>67</td>\n",
       "      <td>9</td>\n",
       "      <td>0</td>\n",
       "    </tr>\n",
       "    <tr>\n",
       "      <th>7</th>\n",
       "      <td>0</td>\n",
       "      <td>0</td>\n",
       "      <td>3</td>\n",
       "      <td>31</td>\n",
       "      <td>8</td>\n",
       "      <td>0</td>\n",
       "    </tr>\n",
       "    <tr>\n",
       "      <th>8</th>\n",
       "      <td>0</td>\n",
       "      <td>0</td>\n",
       "      <td>0</td>\n",
       "      <td>1</td>\n",
       "      <td>4</td>\n",
       "      <td>0</td>\n",
       "    </tr>\n",
       "  </tbody>\n",
       "</table>\n",
       "</div>"
      ],
      "text/plain": [
       "   3  4    5   6  7  8\n",
       "3  0  0    1   0  0  0\n",
       "4  0  0   10   0  0  0\n",
       "5  0  0  103  26  1  0\n",
       "6  0  0   56  67  9  0\n",
       "7  0  0    3  31  8  0\n",
       "8  0  0    0   1  4  0"
      ]
     },
     "execution_count": 91,
     "metadata": {},
     "output_type": "execute_result"
    }
   ],
   "source": [
    "#create a confusion matrix for test data set  \n",
    "cm= confusion_matrix(y_test,test_preds)  \n",
    "coords = [x for x in range(3,9)]\n",
    "cm = pd.DataFrame(cm,columns=coords, index=coords )\n",
    "cm"
   ]
  },
  {
   "cell_type": "code",
   "execution_count": 92,
   "id": "d66089aa",
   "metadata": {
    "execution": {
     "iopub.execute_input": "2022-03-11T10:24:57.125246Z",
     "iopub.status.busy": "2022-03-11T10:24:57.124105Z",
     "iopub.status.idle": "2022-03-11T10:24:57.129791Z",
     "shell.execute_reply": "2022-03-11T10:24:57.129155Z",
     "shell.execute_reply.started": "2022-02-27T13:13:00.015576Z"
    },
    "papermill": {
     "duration": 0.272892,
     "end_time": "2022-03-11T10:24:57.129961",
     "exception": false,
     "start_time": "2022-03-11T10:24:56.857069",
     "status": "completed"
    },
    "tags": []
   },
   "outputs": [
    {
     "name": "stdout",
     "output_type": "stream",
     "text": [
      "Train Accuracy Score 0.5777951524628616\n"
     ]
    }
   ],
   "source": [
    "score = classifier3.score(X_train, y_train)\n",
    "print('Train Accuracy Score', score)"
   ]
  },
  {
   "cell_type": "code",
   "execution_count": 93,
   "id": "edbe208d",
   "metadata": {
    "execution": {
     "iopub.execute_input": "2022-03-11T10:24:57.654917Z",
     "iopub.status.busy": "2022-03-11T10:24:57.654006Z",
     "iopub.status.idle": "2022-03-11T10:24:57.661511Z",
     "shell.execute_reply": "2022-03-11T10:24:57.662272Z",
     "shell.execute_reply.started": "2022-02-27T13:13:00.023349Z"
    },
    "papermill": {
     "duration": 0.274556,
     "end_time": "2022-03-11T10:24:57.662516",
     "exception": false,
     "start_time": "2022-03-11T10:24:57.387960",
     "status": "completed"
    },
    "tags": []
   },
   "outputs": [
    {
     "name": "stdout",
     "output_type": "stream",
     "text": [
      "Test Accuracy Score 0.5777951524628616\n"
     ]
    }
   ],
   "source": [
    "score3 = classifier3.score(X_test, y_test)\n",
    "print('Test Accuracy Score', score)"
   ]
  },
  {
   "cell_type": "markdown",
   "id": "b42a229b",
   "metadata": {
    "papermill": {
     "duration": 0.263137,
     "end_time": "2022-03-11T10:24:58.188115",
     "exception": false,
     "start_time": "2022-03-11T10:24:57.924978",
     "status": "completed"
    },
    "tags": []
   },
   "source": [
    "#### Apply cross-validations to improve the model performance\n",
    "1. Apply cross-validation\n",
    "2. Apply k-fold cross validation"
   ]
  },
  {
   "cell_type": "code",
   "execution_count": 94,
   "id": "50983ae3",
   "metadata": {
    "execution": {
     "iopub.execute_input": "2022-03-11T10:24:58.713808Z",
     "iopub.status.busy": "2022-03-11T10:24:58.713024Z",
     "iopub.status.idle": "2022-03-11T10:24:58.918012Z",
     "shell.execute_reply": "2022-03-11T10:24:58.917147Z",
     "shell.execute_reply.started": "2022-02-27T13:13:00.040371Z"
    },
    "papermill": {
     "duration": 0.47113,
     "end_time": "2022-03-11T10:24:58.918200",
     "exception": false,
     "start_time": "2022-03-11T10:24:58.447070",
     "status": "completed"
    },
    "tags": []
   },
   "outputs": [
    {
     "name": "stdout",
     "output_type": "stream",
     "text": [
      "dict_keys(['fit_time', 'score_time', 'estimator', 'test_score'])\n",
      "(LogisticRegression(random_state=42), LogisticRegression(random_state=42), LogisticRegression(random_state=42), LogisticRegression(random_state=42), LogisticRegression(random_state=42))\n",
      "[0.53515625 0.52734375 0.5625     0.59765625 0.64705882]\n"
     ]
    }
   ],
   "source": [
    "# obtain scores and corresponding estimators\n",
    "\n",
    "# cross_validate returns the scores and also the underlying estimators\n",
    "scores = cross_validate(classifier3, X_train, y_train, cv=5, return_estimator=True)\n",
    "\n",
    "# visually locate the estimator that has the maximum score.\n",
    "# in this case, it is estimator[4] which gives 67% accuracy.\n",
    "print(scores.keys())\n",
    "print(scores['estimator'])\n",
    "print(scores['test_score'])\n",
    "\n",
    "# pick up the estimator that gives the most accurate prediction\n",
    "# we can use the estimator to obtain predictions; we are not doing this here\n",
    "estimator = scores['estimator'][4]\n"
   ]
  },
  {
   "cell_type": "code",
   "execution_count": 95,
   "id": "56f4f619",
   "metadata": {
    "execution": {
     "iopub.execute_input": "2022-03-11T10:24:59.454274Z",
     "iopub.status.busy": "2022-03-11T10:24:59.449061Z",
     "iopub.status.idle": "2022-03-11T10:24:59.650127Z",
     "shell.execute_reply": "2022-03-11T10:24:59.650638Z",
     "shell.execute_reply.started": "2022-02-27T13:13:00.317872Z"
    },
    "papermill": {
     "duration": 0.466036,
     "end_time": "2022-03-11T10:24:59.650912",
     "exception": false,
     "start_time": "2022-03-11T10:24:59.184876",
     "status": "completed"
    },
    "tags": []
   },
   "outputs": [
    {
     "name": "stdout",
     "output_type": "stream",
     "text": [
      "K-fold scores: [0.53515625 0.57421875 0.546875   0.58984375 0.64313725]\n",
      "Mean accuracy of k-fold scores: 57.78\n",
      "logistic regression model 3: highest kfold score = 0.6470588235294118\n"
     ]
    }
   ],
   "source": [
    "# 2. Apply K-fold cross validation\n",
    "kfold = KFold(n_splits=5)\n",
    "\n",
    "# cross_validate returns the scores and also the underlying estimators\n",
    "results = cross_validate(classifier3, X_train, y_train, cv=kfold, return_estimator=True)\n",
    "print('K-fold scores:', results['test_score'])\n",
    "print('Mean accuracy of k-fold scores:', round(results['test_score'].mean()*100,2))\n",
    "\n",
    "# pick up the estimator that gives the most accurate prediction\n",
    "# we can use the estimator to obtain predictions; we are not doing this here\n",
    "estimator = results['estimator'][4]\n",
    "estimator = results['estimator'][4]\n",
    "scores3_max = scores['test_score'][4]\n",
    "print('logistic regression model 3: highest kfold score =', scores3_max)"
   ]
  },
  {
   "cell_type": "code",
   "execution_count": 96,
   "id": "da1fdc29",
   "metadata": {
    "execution": {
     "iopub.execute_input": "2022-03-11T10:25:00.184731Z",
     "iopub.status.busy": "2022-03-11T10:25:00.183934Z",
     "iopub.status.idle": "2022-03-11T10:25:00.187131Z",
     "shell.execute_reply": "2022-03-11T10:25:00.187645Z",
     "shell.execute_reply.started": "2022-02-27T13:13:00.565352Z"
    },
    "papermill": {
     "duration": 0.275148,
     "end_time": "2022-03-11T10:25:00.187867",
     "exception": false,
     "start_time": "2022-03-11T10:24:59.912719",
     "status": "completed"
    },
    "tags": []
   },
   "outputs": [
    {
     "name": "stdout",
     "output_type": "stream",
     "text": [
      "Model1 Accuracy 0.6745098039215687\n",
      "Model2 Accuracy 0.6588235294117647\n",
      "Model3 Accuracy 0.6470588235294118\n"
     ]
    }
   ],
   "source": [
    "# compare accuracy of all logistic regression models\n",
    "print(\"Model1 Accuracy {}\".format(score1_max))\n",
    "print(\"Model2 Accuracy {}\".format(scores2_max))\n",
    "print(\"Model3 Accuracy {}\".format(scores3_max))"
   ]
  },
  {
   "cell_type": "markdown",
   "id": "cd7bdf2a",
   "metadata": {
    "papermill": {
     "duration": 0.263736,
     "end_time": "2022-03-11T10:25:00.713007",
     "exception": false,
     "start_time": "2022-03-11T10:25:00.449271",
     "status": "completed"
    },
    "tags": []
   },
   "source": [
    "#### Choose the best model for deployment.\n",
    "\n",
    "Since we are getting highest accuracy for model1, we are going for model1."
   ]
  },
  {
   "cell_type": "code",
   "execution_count": 97,
   "id": "aec96f1e",
   "metadata": {
    "execution": {
     "iopub.execute_input": "2022-03-11T10:25:01.240585Z",
     "iopub.status.busy": "2022-03-11T10:25:01.239701Z",
     "iopub.status.idle": "2022-03-11T10:25:01.244016Z",
     "shell.execute_reply": "2022-03-11T10:25:01.243404Z",
     "shell.execute_reply.started": "2022-02-27T13:13:00.573892Z"
    },
    "papermill": {
     "duration": 0.268959,
     "end_time": "2022-03-11T10:25:01.244201",
     "exception": false,
     "start_time": "2022-03-11T10:25:00.975242",
     "status": "completed"
    },
    "tags": []
   },
   "outputs": [],
   "source": [
    "# note the accuracy for final comparison\n",
    "log_accuracy = score1_max"
   ]
  },
  {
   "cell_type": "code",
   "execution_count": 98,
   "id": "ef9b975d",
   "metadata": {
    "execution": {
     "iopub.execute_input": "2022-03-11T10:25:01.777468Z",
     "iopub.status.busy": "2022-03-11T10:25:01.776639Z",
     "iopub.status.idle": "2022-03-11T10:25:01.781346Z",
     "shell.execute_reply": "2022-03-11T10:25:01.781873Z",
     "shell.execute_reply.started": "2022-02-27T13:13:00.588021Z"
    },
    "papermill": {
     "duration": 0.273749,
     "end_time": "2022-03-11T10:25:01.782154",
     "exception": false,
     "start_time": "2022-03-11T10:25:01.508405",
     "status": "completed"
    },
    "tags": []
   },
   "outputs": [],
   "source": [
    "# save red_model1 as per analysis\n",
    "fname = 'log_red_wine_model.pkl'\n",
    "model_file = open(fname, 'wb')\n",
    "pickle.dump(obj=classifier, file=model_file)\n",
    "model_file.close()"
   ]
  },
  {
   "cell_type": "code",
   "execution_count": 99,
   "id": "2f03702f",
   "metadata": {
    "execution": {
     "iopub.execute_input": "2022-03-11T10:25:02.317554Z",
     "iopub.status.busy": "2022-03-11T10:25:02.316754Z",
     "iopub.status.idle": "2022-03-11T10:25:02.323300Z",
     "shell.execute_reply": "2022-03-11T10:25:02.324009Z",
     "shell.execute_reply.started": "2022-02-27T13:13:00.601695Z"
    },
    "papermill": {
     "duration": 0.281442,
     "end_time": "2022-03-11T10:25:02.324289",
     "exception": false,
     "start_time": "2022-03-11T10:25:02.042847",
     "status": "completed"
    },
    "tags": []
   },
   "outputs": [
    {
     "name": "stdout",
     "output_type": "stream",
     "text": [
      "LogisticRegression(max_iter=200, random_state=42)\n"
     ]
    }
   ],
   "source": [
    "# reload the model from disk and check if it is saved\n",
    "model_file = open(fname, 'rb')\n",
    "logistic_model = pickle.load(model_file)\n",
    "model_file.close()\n",
    "print(logistic_model)"
   ]
  },
  {
   "cell_type": "markdown",
   "id": "245a53c7",
   "metadata": {
    "papermill": {
     "duration": 0.30861,
     "end_time": "2022-03-11T10:25:02.898757",
     "exception": false,
     "start_time": "2022-03-11T10:25:02.590147",
     "status": "completed"
    },
    "tags": []
   },
   "source": [
    "## Section 3: Decision Tree for Red Wine Quality"
   ]
  },
  {
   "cell_type": "markdown",
   "id": "3fad63e7",
   "metadata": {
    "papermill": {
     "duration": 0.259389,
     "end_time": "2022-03-11T10:25:03.423079",
     "exception": false,
     "start_time": "2022-03-11T10:25:03.163690",
     "status": "completed"
    },
    "tags": []
   },
   "source": [
    "We've already done the sanity checks and EDA earlier. We only need to build various decision tree models based on the correlations we've observed, and compare the accuracies obtained."
   ]
  },
  {
   "cell_type": "code",
   "execution_count": 100,
   "id": "4481f700",
   "metadata": {
    "execution": {
     "iopub.execute_input": "2022-03-11T10:25:03.960522Z",
     "iopub.status.busy": "2022-03-11T10:25:03.959094Z",
     "iopub.status.idle": "2022-03-11T10:25:03.985192Z",
     "shell.execute_reply": "2022-03-11T10:25:03.985909Z",
     "shell.execute_reply.started": "2022-02-27T13:13:00.620409Z"
    },
    "papermill": {
     "duration": 0.297043,
     "end_time": "2022-03-11T10:25:03.986139",
     "exception": false,
     "start_time": "2022-03-11T10:25:03.689096",
     "status": "completed"
    },
    "tags": []
   },
   "outputs": [
    {
     "data": {
      "text/html": [
       "<div>\n",
       "<style scoped>\n",
       "    .dataframe tbody tr th:only-of-type {\n",
       "        vertical-align: middle;\n",
       "    }\n",
       "\n",
       "    .dataframe tbody tr th {\n",
       "        vertical-align: top;\n",
       "    }\n",
       "\n",
       "    .dataframe thead th {\n",
       "        text-align: right;\n",
       "    }\n",
       "</style>\n",
       "<table border=\"1\" class=\"dataframe\">\n",
       "  <thead>\n",
       "    <tr style=\"text-align: right;\">\n",
       "      <th></th>\n",
       "      <th>fixed acidity</th>\n",
       "      <th>volatile acidity</th>\n",
       "      <th>citric acid</th>\n",
       "      <th>residual sugar</th>\n",
       "      <th>chlorides</th>\n",
       "      <th>free sulfur dioxide</th>\n",
       "      <th>total sulfur dioxide</th>\n",
       "      <th>density</th>\n",
       "      <th>pH</th>\n",
       "      <th>sulphates</th>\n",
       "      <th>alcohol</th>\n",
       "      <th>quality</th>\n",
       "    </tr>\n",
       "  </thead>\n",
       "  <tbody>\n",
       "    <tr>\n",
       "      <th>0</th>\n",
       "      <td>7.4</td>\n",
       "      <td>0.70</td>\n",
       "      <td>0.00</td>\n",
       "      <td>1.9</td>\n",
       "      <td>0.076</td>\n",
       "      <td>11.0</td>\n",
       "      <td>34.0</td>\n",
       "      <td>0.9978</td>\n",
       "      <td>3.51</td>\n",
       "      <td>0.56</td>\n",
       "      <td>9.4</td>\n",
       "      <td>5</td>\n",
       "    </tr>\n",
       "    <tr>\n",
       "      <th>1</th>\n",
       "      <td>7.8</td>\n",
       "      <td>0.88</td>\n",
       "      <td>0.00</td>\n",
       "      <td>2.6</td>\n",
       "      <td>0.098</td>\n",
       "      <td>25.0</td>\n",
       "      <td>67.0</td>\n",
       "      <td>0.9968</td>\n",
       "      <td>3.20</td>\n",
       "      <td>0.68</td>\n",
       "      <td>9.8</td>\n",
       "      <td>5</td>\n",
       "    </tr>\n",
       "    <tr>\n",
       "      <th>2</th>\n",
       "      <td>7.8</td>\n",
       "      <td>0.76</td>\n",
       "      <td>0.04</td>\n",
       "      <td>2.3</td>\n",
       "      <td>0.092</td>\n",
       "      <td>15.0</td>\n",
       "      <td>54.0</td>\n",
       "      <td>0.9970</td>\n",
       "      <td>3.26</td>\n",
       "      <td>0.65</td>\n",
       "      <td>9.8</td>\n",
       "      <td>5</td>\n",
       "    </tr>\n",
       "    <tr>\n",
       "      <th>3</th>\n",
       "      <td>11.2</td>\n",
       "      <td>0.28</td>\n",
       "      <td>0.56</td>\n",
       "      <td>1.9</td>\n",
       "      <td>0.075</td>\n",
       "      <td>17.0</td>\n",
       "      <td>60.0</td>\n",
       "      <td>0.9980</td>\n",
       "      <td>3.16</td>\n",
       "      <td>0.58</td>\n",
       "      <td>9.8</td>\n",
       "      <td>6</td>\n",
       "    </tr>\n",
       "    <tr>\n",
       "      <th>4</th>\n",
       "      <td>7.4</td>\n",
       "      <td>0.70</td>\n",
       "      <td>0.00</td>\n",
       "      <td>1.9</td>\n",
       "      <td>0.076</td>\n",
       "      <td>11.0</td>\n",
       "      <td>34.0</td>\n",
       "      <td>0.9978</td>\n",
       "      <td>3.51</td>\n",
       "      <td>0.56</td>\n",
       "      <td>9.4</td>\n",
       "      <td>5</td>\n",
       "    </tr>\n",
       "  </tbody>\n",
       "</table>\n",
       "</div>"
      ],
      "text/plain": [
       "   fixed acidity  volatile acidity  citric acid  residual sugar  chlorides  \\\n",
       "0            7.4              0.70         0.00             1.9      0.076   \n",
       "1            7.8              0.88         0.00             2.6      0.098   \n",
       "2            7.8              0.76         0.04             2.3      0.092   \n",
       "3           11.2              0.28         0.56             1.9      0.075   \n",
       "4            7.4              0.70         0.00             1.9      0.076   \n",
       "\n",
       "   free sulfur dioxide  total sulfur dioxide  density    pH  sulphates  \\\n",
       "0                 11.0                  34.0   0.9978  3.51       0.56   \n",
       "1                 25.0                  67.0   0.9968  3.20       0.68   \n",
       "2                 15.0                  54.0   0.9970  3.26       0.65   \n",
       "3                 17.0                  60.0   0.9980  3.16       0.58   \n",
       "4                 11.0                  34.0   0.9978  3.51       0.56   \n",
       "\n",
       "   alcohol  quality  \n",
       "0      9.4        5  \n",
       "1      9.8        5  \n",
       "2      9.8        5  \n",
       "3      9.8        6  \n",
       "4      9.4        5  "
      ]
     },
     "execution_count": 100,
     "metadata": {},
     "output_type": "execute_result"
    }
   ],
   "source": [
    "# refresh the red wine dataset\n",
    "red_wine_data = pd.read_csv(fpath, delimiter =';')\n",
    "red_wine_data.head()"
   ]
  },
  {
   "cell_type": "markdown",
   "id": "cf0ba53c",
   "metadata": {
    "papermill": {
     "duration": 0.263903,
     "end_time": "2022-03-11T10:25:04.512881",
     "exception": false,
     "start_time": "2022-03-11T10:25:04.248978",
     "status": "completed"
    },
    "tags": []
   },
   "source": [
    "#### Step 1: Develop the first Decision Tree Model using all the features\n",
    "Build the ML model with the complete data, test and validate the predictions."
   ]
  },
  {
   "cell_type": "code",
   "execution_count": 101,
   "id": "b737dbdb",
   "metadata": {
    "execution": {
     "iopub.execute_input": "2022-03-11T10:25:05.132287Z",
     "iopub.status.busy": "2022-03-11T10:25:05.131563Z",
     "iopub.status.idle": "2022-03-11T10:25:05.137791Z",
     "shell.execute_reply": "2022-03-11T10:25:05.138332Z",
     "shell.execute_reply.started": "2022-02-27T13:13:00.650288Z"
    },
    "papermill": {
     "duration": 0.276888,
     "end_time": "2022-03-11T10:25:05.138568",
     "exception": false,
     "start_time": "2022-03-11T10:25:04.861680",
     "status": "completed"
    },
    "tags": []
   },
   "outputs": [],
   "source": [
    "# create the \"features and target\" data sets\n",
    "X = red_wine_data.drop('quality',axis=1)\n",
    "y = red_wine_data['quality']"
   ]
  },
  {
   "cell_type": "code",
   "execution_count": 102,
   "id": "366f201c",
   "metadata": {
    "execution": {
     "iopub.execute_input": "2022-03-11T10:25:05.664211Z",
     "iopub.status.busy": "2022-03-11T10:25:05.663371Z",
     "iopub.status.idle": "2022-03-11T10:25:05.672489Z",
     "shell.execute_reply": "2022-03-11T10:25:05.673174Z",
     "shell.execute_reply.started": "2022-02-27T13:13:00.656748Z"
    },
    "papermill": {
     "duration": 0.272717,
     "end_time": "2022-03-11T10:25:05.673398",
     "exception": false,
     "start_time": "2022-03-11T10:25:05.400681",
     "status": "completed"
    },
    "tags": []
   },
   "outputs": [],
   "source": [
    "#Feature Scaling\n",
    "from sklearn.preprocessing import StandardScaler\n",
    "object = StandardScaler()\n",
    "X = object.fit_transform(X)"
   ]
  },
  {
   "cell_type": "code",
   "execution_count": 103,
   "id": "55ae5888",
   "metadata": {
    "execution": {
     "iopub.execute_input": "2022-03-11T10:25:06.202477Z",
     "iopub.status.busy": "2022-03-11T10:25:06.201655Z",
     "iopub.status.idle": "2022-03-11T10:25:06.211903Z",
     "shell.execute_reply": "2022-03-11T10:25:06.212526Z",
     "shell.execute_reply.started": "2022-02-27T13:13:00.682980Z"
    },
    "papermill": {
     "duration": 0.277917,
     "end_time": "2022-03-11T10:25:06.212736",
     "exception": false,
     "start_time": "2022-03-11T10:25:05.934819",
     "status": "completed"
    },
    "tags": []
   },
   "outputs": [
    {
     "name": "stdout",
     "output_type": "stream",
     "text": [
      "Decison Tree: Model 1 train shapes:\n",
      "(1279, 11) (1279,)\n",
      "\n",
      "Decision Tree: Model 1 test shapes:\n",
      "(320, 11) (320,)\n"
     ]
    }
   ],
   "source": [
    "# split the features and target data sets into train and test sets\n",
    "X_train, X_test, y_train, y_test = train_test_split(X, y, test_size=0.2, random_state=42)\n",
    "print('Decison Tree: Model 1 train shapes:')\n",
    "print(X_train.shape, y_train.shape)\n",
    "print()\n",
    "print('Decision Tree: Model 1 test shapes:')\n",
    "print(X_test.shape, y_test.shape)"
   ]
  },
  {
   "cell_type": "code",
   "execution_count": 104,
   "id": "578f0b14",
   "metadata": {
    "execution": {
     "iopub.execute_input": "2022-03-11T10:25:06.754139Z",
     "iopub.status.busy": "2022-03-11T10:25:06.749591Z",
     "iopub.status.idle": "2022-03-11T10:25:06.759157Z",
     "shell.execute_reply": "2022-03-11T10:25:06.759703Z",
     "shell.execute_reply.started": "2022-02-27T13:13:00.698382Z"
    },
    "papermill": {
     "duration": 0.28356,
     "end_time": "2022-03-11T10:25:06.759929",
     "exception": false,
     "start_time": "2022-03-11T10:25:06.476369",
     "status": "completed"
    },
    "tags": []
   },
   "outputs": [],
   "source": [
    "# create and fit a Decision tree model\n",
    "classifier = DecisionTreeClassifier(criterion=\"gini\", random_state=42, max_depth=3, min_samples_leaf=5)\n",
    "classifier = classifier.fit(X_train,y_train)"
   ]
  },
  {
   "cell_type": "code",
   "execution_count": 105,
   "id": "64c30723",
   "metadata": {
    "execution": {
     "iopub.execute_input": "2022-03-11T10:25:07.293102Z",
     "iopub.status.busy": "2022-03-11T10:25:07.292022Z",
     "iopub.status.idle": "2022-03-11T10:25:07.300328Z",
     "shell.execute_reply": "2022-03-11T10:25:07.301416Z",
     "shell.execute_reply.started": "2022-02-27T13:13:00.711659Z"
    },
    "papermill": {
     "duration": 0.277087,
     "end_time": "2022-03-11T10:25:07.301811",
     "exception": false,
     "start_time": "2022-03-11T10:25:07.024724",
     "status": "completed"
    },
    "scrolled": true,
    "tags": []
   },
   "outputs": [
    {
     "name": "stdout",
     "output_type": "stream",
     "text": [
      "Actual training data set quality range: (3, 8)\n",
      "Predicted training data set quality range: (5, 7)\n"
     ]
    }
   ],
   "source": [
    "# compute train_predictions using X_train\n",
    "train_predictions = classifier.predict(X_train)\n",
    "print('Actual training data set quality range: ({}, {})'.format(y_train.min(), y_train.max()))\n",
    "print('Predicted training data set quality range: ({}, {})'.format(train_predictions.min(), train_predictions.max()))"
   ]
  },
  {
   "cell_type": "code",
   "execution_count": 106,
   "id": "1e47e625",
   "metadata": {
    "execution": {
     "iopub.execute_input": "2022-03-11T10:25:07.833336Z",
     "iopub.status.busy": "2022-03-11T10:25:07.830163Z",
     "iopub.status.idle": "2022-03-11T10:25:07.847358Z",
     "shell.execute_reply": "2022-03-11T10:25:07.847945Z",
     "shell.execute_reply.started": "2022-02-27T13:13:00.726044Z"
    },
    "papermill": {
     "duration": 0.283905,
     "end_time": "2022-03-11T10:25:07.848175",
     "exception": false,
     "start_time": "2022-03-11T10:25:07.564270",
     "status": "completed"
    },
    "tags": []
   },
   "outputs": [
    {
     "data": {
      "text/html": [
       "<div>\n",
       "<style scoped>\n",
       "    .dataframe tbody tr th:only-of-type {\n",
       "        vertical-align: middle;\n",
       "    }\n",
       "\n",
       "    .dataframe tbody tr th {\n",
       "        vertical-align: top;\n",
       "    }\n",
       "\n",
       "    .dataframe thead th {\n",
       "        text-align: right;\n",
       "    }\n",
       "</style>\n",
       "<table border=\"1\" class=\"dataframe\">\n",
       "  <thead>\n",
       "    <tr style=\"text-align: right;\">\n",
       "      <th></th>\n",
       "      <th>3</th>\n",
       "      <th>4</th>\n",
       "      <th>5</th>\n",
       "      <th>6</th>\n",
       "      <th>7</th>\n",
       "      <th>8</th>\n",
       "    </tr>\n",
       "  </thead>\n",
       "  <tbody>\n",
       "    <tr>\n",
       "      <th>3</th>\n",
       "      <td>0</td>\n",
       "      <td>0</td>\n",
       "      <td>9</td>\n",
       "      <td>0</td>\n",
       "      <td>0</td>\n",
       "      <td>0</td>\n",
       "    </tr>\n",
       "    <tr>\n",
       "      <th>4</th>\n",
       "      <td>0</td>\n",
       "      <td>0</td>\n",
       "      <td>37</td>\n",
       "      <td>6</td>\n",
       "      <td>0</td>\n",
       "      <td>0</td>\n",
       "    </tr>\n",
       "    <tr>\n",
       "      <th>5</th>\n",
       "      <td>0</td>\n",
       "      <td>0</td>\n",
       "      <td>499</td>\n",
       "      <td>50</td>\n",
       "      <td>2</td>\n",
       "      <td>0</td>\n",
       "    </tr>\n",
       "    <tr>\n",
       "      <th>6</th>\n",
       "      <td>0</td>\n",
       "      <td>0</td>\n",
       "      <td>282</td>\n",
       "      <td>197</td>\n",
       "      <td>27</td>\n",
       "      <td>0</td>\n",
       "    </tr>\n",
       "    <tr>\n",
       "      <th>7</th>\n",
       "      <td>0</td>\n",
       "      <td>0</td>\n",
       "      <td>35</td>\n",
       "      <td>68</td>\n",
       "      <td>54</td>\n",
       "      <td>0</td>\n",
       "    </tr>\n",
       "    <tr>\n",
       "      <th>8</th>\n",
       "      <td>0</td>\n",
       "      <td>0</td>\n",
       "      <td>2</td>\n",
       "      <td>4</td>\n",
       "      <td>7</td>\n",
       "      <td>0</td>\n",
       "    </tr>\n",
       "  </tbody>\n",
       "</table>\n",
       "</div>"
      ],
      "text/plain": [
       "   3  4    5    6   7  8\n",
       "3  0  0    9    0   0  0\n",
       "4  0  0   37    6   0  0\n",
       "5  0  0  499   50   2  0\n",
       "6  0  0  282  197  27  0\n",
       "7  0  0   35   68  54  0\n",
       "8  0  0    2    4   7  0"
      ]
     },
     "execution_count": 106,
     "metadata": {},
     "output_type": "execute_result"
    }
   ],
   "source": [
    "#create a confusion matrix for training data set  \n",
    "cm= confusion_matrix(y_train,train_predictions)  \n",
    "coords = [x for x in range(3,9)]\n",
    "cm = pd.DataFrame(cm,columns=coords, index=coords )\n",
    "cm"
   ]
  },
  {
   "cell_type": "code",
   "execution_count": 107,
   "id": "b87b0e43",
   "metadata": {
    "execution": {
     "iopub.execute_input": "2022-03-11T10:25:08.384840Z",
     "iopub.status.busy": "2022-03-11T10:25:08.383968Z",
     "iopub.status.idle": "2022-03-11T10:25:08.388568Z",
     "shell.execute_reply": "2022-03-11T10:25:08.389124Z",
     "shell.execute_reply.started": "2022-02-27T13:13:00.755270Z"
    },
    "papermill": {
     "duration": 0.27457,
     "end_time": "2022-03-11T10:25:08.389353",
     "exception": false,
     "start_time": "2022-03-11T10:25:08.114783",
     "status": "completed"
    },
    "tags": []
   },
   "outputs": [
    {
     "name": "stdout",
     "output_type": "stream",
     "text": [
      "Actual test data set quality range: (3, 8)\n",
      "Predicted test data set quality range: (5, 7)\n"
     ]
    }
   ],
   "source": [
    "# compute test predictions using X_test\n",
    "test_preds= classifier.predict(X_test)\n",
    "print('Actual test data set quality range: ({}, {})'.format(y_test.min(), y_test.max()))\n",
    "print('Predicted test data set quality range: ({}, {})'.format(test_preds.min(), test_preds.max()))"
   ]
  },
  {
   "cell_type": "code",
   "execution_count": 108,
   "id": "fb9b077e",
   "metadata": {
    "execution": {
     "iopub.execute_input": "2022-03-11T10:25:08.922980Z",
     "iopub.status.busy": "2022-03-11T10:25:08.921708Z",
     "iopub.status.idle": "2022-03-11T10:25:08.936285Z",
     "shell.execute_reply": "2022-03-11T10:25:08.937015Z",
     "shell.execute_reply.started": "2022-02-27T13:13:00.763018Z"
    },
    "papermill": {
     "duration": 0.282602,
     "end_time": "2022-03-11T10:25:08.937247",
     "exception": false,
     "start_time": "2022-03-11T10:25:08.654645",
     "status": "completed"
    },
    "scrolled": true,
    "tags": []
   },
   "outputs": [
    {
     "data": {
      "text/html": [
       "<div>\n",
       "<style scoped>\n",
       "    .dataframe tbody tr th:only-of-type {\n",
       "        vertical-align: middle;\n",
       "    }\n",
       "\n",
       "    .dataframe tbody tr th {\n",
       "        vertical-align: top;\n",
       "    }\n",
       "\n",
       "    .dataframe thead th {\n",
       "        text-align: right;\n",
       "    }\n",
       "</style>\n",
       "<table border=\"1\" class=\"dataframe\">\n",
       "  <thead>\n",
       "    <tr style=\"text-align: right;\">\n",
       "      <th></th>\n",
       "      <th>3</th>\n",
       "      <th>4</th>\n",
       "      <th>5</th>\n",
       "      <th>6</th>\n",
       "      <th>7</th>\n",
       "      <th>8</th>\n",
       "    </tr>\n",
       "  </thead>\n",
       "  <tbody>\n",
       "    <tr>\n",
       "      <th>3</th>\n",
       "      <td>0</td>\n",
       "      <td>0</td>\n",
       "      <td>1</td>\n",
       "      <td>0</td>\n",
       "      <td>0</td>\n",
       "      <td>0</td>\n",
       "    </tr>\n",
       "    <tr>\n",
       "      <th>4</th>\n",
       "      <td>0</td>\n",
       "      <td>0</td>\n",
       "      <td>8</td>\n",
       "      <td>2</td>\n",
       "      <td>0</td>\n",
       "      <td>0</td>\n",
       "    </tr>\n",
       "    <tr>\n",
       "      <th>5</th>\n",
       "      <td>0</td>\n",
       "      <td>0</td>\n",
       "      <td>118</td>\n",
       "      <td>11</td>\n",
       "      <td>1</td>\n",
       "      <td>0</td>\n",
       "    </tr>\n",
       "    <tr>\n",
       "      <th>6</th>\n",
       "      <td>0</td>\n",
       "      <td>0</td>\n",
       "      <td>82</td>\n",
       "      <td>41</td>\n",
       "      <td>9</td>\n",
       "      <td>0</td>\n",
       "    </tr>\n",
       "    <tr>\n",
       "      <th>7</th>\n",
       "      <td>0</td>\n",
       "      <td>0</td>\n",
       "      <td>9</td>\n",
       "      <td>23</td>\n",
       "      <td>10</td>\n",
       "      <td>0</td>\n",
       "    </tr>\n",
       "    <tr>\n",
       "      <th>8</th>\n",
       "      <td>0</td>\n",
       "      <td>0</td>\n",
       "      <td>0</td>\n",
       "      <td>1</td>\n",
       "      <td>4</td>\n",
       "      <td>0</td>\n",
       "    </tr>\n",
       "  </tbody>\n",
       "</table>\n",
       "</div>"
      ],
      "text/plain": [
       "   3  4    5   6   7  8\n",
       "3  0  0    1   0   0  0\n",
       "4  0  0    8   2   0  0\n",
       "5  0  0  118  11   1  0\n",
       "6  0  0   82  41   9  0\n",
       "7  0  0    9  23  10  0\n",
       "8  0  0    0   1   4  0"
      ]
     },
     "execution_count": 108,
     "metadata": {},
     "output_type": "execute_result"
    }
   ],
   "source": [
    "#create a confusion matrix for test data set  \n",
    "cm= confusion_matrix(y_test,test_preds)  \n",
    "coords = [x for x in range(3,9)]\n",
    "cm = pd.DataFrame(cm,columns=coords, index=coords )\n",
    "cm"
   ]
  },
  {
   "cell_type": "code",
   "execution_count": 109,
   "id": "9535973d",
   "metadata": {
    "execution": {
     "iopub.execute_input": "2022-03-11T10:25:09.470090Z",
     "iopub.status.busy": "2022-03-11T10:25:09.468988Z",
     "iopub.status.idle": "2022-03-11T10:25:09.476380Z",
     "shell.execute_reply": "2022-03-11T10:25:09.476926Z",
     "shell.execute_reply.started": "2022-02-27T13:13:00.785938Z"
    },
    "papermill": {
     "duration": 0.274469,
     "end_time": "2022-03-11T10:25:09.477133",
     "exception": false,
     "start_time": "2022-03-11T10:25:09.202664",
     "status": "completed"
    },
    "tags": []
   },
   "outputs": [
    {
     "name": "stdout",
     "output_type": "stream",
     "text": [
      "training accuracy: 0.5863956215793589\n",
      "test accuracy: 0.528125\n"
     ]
    }
   ],
   "source": [
    "dt_accuracy1_train = accuracy_score(y_train, train_predictions)\n",
    "dt_accuracy1_test = accuracy_score(y_test, test_preds)\n",
    "print('training accuracy: {}'.format(dt_accuracy1_train))\n",
    "print('test accuracy: {}'.format(dt_accuracy1_test))"
   ]
  },
  {
   "cell_type": "markdown",
   "id": "7f451bef",
   "metadata": {
    "papermill": {
     "duration": 0.26514,
     "end_time": "2022-03-11T10:25:10.012961",
     "exception": false,
     "start_time": "2022-03-11T10:25:09.747821",
     "status": "completed"
    },
    "tags": []
   },
   "source": [
    "#### Visualize Model 1 - Decision Tree "
   ]
  },
  {
   "cell_type": "code",
   "execution_count": 110,
   "id": "9ad83edf",
   "metadata": {
    "execution": {
     "iopub.execute_input": "2022-03-11T10:25:10.549528Z",
     "iopub.status.busy": "2022-03-11T10:25:10.548301Z",
     "iopub.status.idle": "2022-03-11T10:25:11.456671Z",
     "shell.execute_reply": "2022-03-11T10:25:11.457290Z",
     "shell.execute_reply.started": "2022-02-27T13:13:00.793696Z"
    },
    "papermill": {
     "duration": 1.178832,
     "end_time": "2022-03-11T10:25:11.457530",
     "exception": false,
     "start_time": "2022-03-11T10:25:10.278698",
     "status": "completed"
    },
    "tags": []
   },
   "outputs": [
    {
     "data": {
      "image/png": "[encoded data removed]",
      "text/plain": [
       "<Figure size 1584x864 with 1 Axes>"
      ]
     },
     "metadata": {
      "needs_background": "light"
     },
     "output_type": "display_data"
    }
   ],
   "source": [
    "fig, ax = plt.subplots(figsize=(22, 12))\n",
    "tree.plot_tree(classifier, fontsize=10)\n",
    "plt.show()"
   ]
  },
  {
   "cell_type": "markdown",
   "id": "7e07282a",
   "metadata": {
    "papermill": {
     "duration": 0.271964,
     "end_time": "2022-03-11T10:25:11.998964",
     "exception": false,
     "start_time": "2022-03-11T10:25:11.727000",
     "status": "completed"
    },
    "tags": []
   },
   "source": [
    "#### Step 2: Develop the second Decision Tree Model after dropping columns showing very weak correlations (0.0 - 0.2)\n",
    "1. Drop `pH`, `free sulfur dioxide`, `residual sugar` columns.\n",
    "2. Build the ML model, test and validate the predictions."
   ]
  },
  {
   "cell_type": "code",
   "execution_count": 111,
   "id": "6d4fba24",
   "metadata": {
    "execution": {
     "iopub.execute_input": "2022-03-11T10:25:12.547961Z",
     "iopub.status.busy": "2022-03-11T10:25:12.546872Z",
     "iopub.status.idle": "2022-03-11T10:25:12.549980Z",
     "shell.execute_reply": "2022-03-11T10:25:12.549348Z",
     "shell.execute_reply.started": "2022-02-27T13:13:01.530689Z"
    },
    "papermill": {
     "duration": 0.278574,
     "end_time": "2022-03-11T10:25:12.550153",
     "exception": false,
     "start_time": "2022-03-11T10:25:12.271579",
     "status": "completed"
    },
    "tags": []
   },
   "outputs": [],
   "source": [
    "### drop columns showing very weak correlations\n",
    "lst = ['pH', 'free sulfur dioxide', 'residual sugar']\n",
    "red_wine_data.drop(lst, axis =1, inplace = True)"
   ]
  },
  {
   "cell_type": "code",
   "execution_count": 112,
   "id": "6634f97d",
   "metadata": {
    "execution": {
     "iopub.execute_input": "2022-03-11T10:25:13.099454Z",
     "iopub.status.busy": "2022-03-11T10:25:13.098038Z",
     "iopub.status.idle": "2022-03-11T10:25:13.100481Z",
     "shell.execute_reply": "2022-03-11T10:25:13.101189Z",
     "shell.execute_reply.started": "2022-02-27T13:13:01.539657Z"
    },
    "papermill": {
     "duration": 0.278984,
     "end_time": "2022-03-11T10:25:13.101402",
     "exception": false,
     "start_time": "2022-03-11T10:25:12.822418",
     "status": "completed"
    },
    "tags": []
   },
   "outputs": [],
   "source": [
    "# create the \"features and target\" data sets\n",
    "X = red_wine_data.drop('quality',axis=1)\n",
    "y = red_wine_data['quality']"
   ]
  },
  {
   "cell_type": "code",
   "execution_count": 113,
   "id": "361939ea",
   "metadata": {
    "execution": {
     "iopub.execute_input": "2022-03-11T10:25:13.660508Z",
     "iopub.status.busy": "2022-03-11T10:25:13.659421Z",
     "iopub.status.idle": "2022-03-11T10:25:13.671838Z",
     "shell.execute_reply": "2022-03-11T10:25:13.672752Z",
     "shell.execute_reply.started": "2022-02-27T13:13:01.554344Z"
    },
    "papermill": {
     "duration": 0.302264,
     "end_time": "2022-03-11T10:25:13.673092",
     "exception": false,
     "start_time": "2022-03-11T10:25:13.370828",
     "status": "completed"
    },
    "tags": []
   },
   "outputs": [],
   "source": [
    "#Feature Scaling\n",
    "from sklearn.preprocessing import StandardScaler\n",
    "scaler = StandardScaler()\n",
    "X = scaler.fit_transform(X)"
   ]
  },
  {
   "cell_type": "code",
   "execution_count": 114,
   "id": "1e3019e6",
   "metadata": {
    "execution": {
     "iopub.execute_input": "2022-03-11T10:25:14.249034Z",
     "iopub.status.busy": "2022-03-11T10:25:14.247760Z",
     "iopub.status.idle": "2022-03-11T10:25:14.256249Z",
     "shell.execute_reply": "2022-03-11T10:25:14.255337Z",
     "shell.execute_reply.started": "2022-02-27T13:13:01.570869Z"
    },
    "papermill": {
     "duration": 0.288531,
     "end_time": "2022-03-11T10:25:14.256442",
     "exception": false,
     "start_time": "2022-03-11T10:25:13.967911",
     "status": "completed"
    },
    "tags": []
   },
   "outputs": [
    {
     "name": "stdout",
     "output_type": "stream",
     "text": [
      "Decision Tree: Model 2 train shapes:\n",
      "(1279, 8) (1279,)\n",
      "\n",
      "Decision Tree: Model 2 test shapes:\n",
      "(320, 8) (320,)\n"
     ]
    }
   ],
   "source": [
    "# split the features and target data sets into train and test sets\n",
    "X_train, X_test, y_train, y_test = train_test_split(X, y, test_size=0.2, random_state=42)\n",
    "print('Decision Tree: Model 2 train shapes:')\n",
    "print(X_train.shape, y_train.shape)\n",
    "print()\n",
    "print('Decision Tree: Model 2 test shapes:')\n",
    "print(X_test.shape, y_test.shape)"
   ]
  },
  {
   "cell_type": "code",
   "execution_count": 115,
   "id": "4c011903",
   "metadata": {
    "execution": {
     "iopub.execute_input": "2022-03-11T10:25:14.804801Z",
     "iopub.status.busy": "2022-03-11T10:25:14.803655Z",
     "iopub.status.idle": "2022-03-11T10:25:14.810421Z",
     "shell.execute_reply": "2022-03-11T10:25:14.811076Z",
     "shell.execute_reply.started": "2022-02-27T13:13:01.585880Z"
    },
    "papermill": {
     "duration": 0.287299,
     "end_time": "2022-03-11T10:25:14.811299",
     "exception": false,
     "start_time": "2022-03-11T10:25:14.524000",
     "status": "completed"
    },
    "tags": []
   },
   "outputs": [],
   "source": [
    "# create and fit a Decision tree model\n",
    "classifier2 = DecisionTreeClassifier(criterion=\"gini\", random_state=42,max_depth=3, min_samples_leaf=5)   \n",
    "classifier2 = classifier2.fit(X_train,y_train)"
   ]
  },
  {
   "cell_type": "code",
   "execution_count": 116,
   "id": "53ceeced",
   "metadata": {
    "execution": {
     "iopub.execute_input": "2022-03-11T10:25:15.356335Z",
     "iopub.status.busy": "2022-03-11T10:25:15.355145Z",
     "iopub.status.idle": "2022-03-11T10:25:15.360243Z",
     "shell.execute_reply": "2022-03-11T10:25:15.359565Z",
     "shell.execute_reply.started": "2022-02-27T13:13:01.598310Z"
    },
    "papermill": {
     "duration": 0.28174,
     "end_time": "2022-03-11T10:25:15.360422",
     "exception": false,
     "start_time": "2022-03-11T10:25:15.078682",
     "status": "completed"
    },
    "tags": []
   },
   "outputs": [
    {
     "name": "stdout",
     "output_type": "stream",
     "text": [
      "Actual training data set quality range: (3, 8)\n",
      "Predicted training data set quality range: (5, 7)\n"
     ]
    }
   ],
   "source": [
    "# compute train_predictions using X_train\n",
    "train_predictions = classifier2.predict(X_train)\n",
    "print('Actual training data set quality range: ({}, {})'.format(y_train.min(), y_train.max()))\n",
    "print('Predicted training data set quality range: ({}, {})'.format(train_predictions.min(), train_predictions.max()))"
   ]
  },
  {
   "cell_type": "code",
   "execution_count": 117,
   "id": "d5aae9a8",
   "metadata": {
    "execution": {
     "iopub.execute_input": "2022-03-11T10:25:15.902719Z",
     "iopub.status.busy": "2022-03-11T10:25:15.901592Z",
     "iopub.status.idle": "2022-03-11T10:25:15.916586Z",
     "shell.execute_reply": "2022-03-11T10:25:15.915949Z",
     "shell.execute_reply.started": "2022-02-27T13:13:01.613680Z"
    },
    "papermill": {
     "duration": 0.289931,
     "end_time": "2022-03-11T10:25:15.916753",
     "exception": false,
     "start_time": "2022-03-11T10:25:15.626822",
     "status": "completed"
    },
    "tags": []
   },
   "outputs": [
    {
     "data": {
      "text/html": [
       "<div>\n",
       "<style scoped>\n",
       "    .dataframe tbody tr th:only-of-type {\n",
       "        vertical-align: middle;\n",
       "    }\n",
       "\n",
       "    .dataframe tbody tr th {\n",
       "        vertical-align: top;\n",
       "    }\n",
       "\n",
       "    .dataframe thead th {\n",
       "        text-align: right;\n",
       "    }\n",
       "</style>\n",
       "<table border=\"1\" class=\"dataframe\">\n",
       "  <thead>\n",
       "    <tr style=\"text-align: right;\">\n",
       "      <th></th>\n",
       "      <th>3</th>\n",
       "      <th>4</th>\n",
       "      <th>5</th>\n",
       "      <th>6</th>\n",
       "      <th>7</th>\n",
       "      <th>8</th>\n",
       "    </tr>\n",
       "  </thead>\n",
       "  <tbody>\n",
       "    <tr>\n",
       "      <th>3</th>\n",
       "      <td>0</td>\n",
       "      <td>0</td>\n",
       "      <td>9</td>\n",
       "      <td>0</td>\n",
       "      <td>0</td>\n",
       "      <td>0</td>\n",
       "    </tr>\n",
       "    <tr>\n",
       "      <th>4</th>\n",
       "      <td>0</td>\n",
       "      <td>0</td>\n",
       "      <td>37</td>\n",
       "      <td>6</td>\n",
       "      <td>0</td>\n",
       "      <td>0</td>\n",
       "    </tr>\n",
       "    <tr>\n",
       "      <th>5</th>\n",
       "      <td>0</td>\n",
       "      <td>0</td>\n",
       "      <td>499</td>\n",
       "      <td>50</td>\n",
       "      <td>2</td>\n",
       "      <td>0</td>\n",
       "    </tr>\n",
       "    <tr>\n",
       "      <th>6</th>\n",
       "      <td>0</td>\n",
       "      <td>0</td>\n",
       "      <td>282</td>\n",
       "      <td>197</td>\n",
       "      <td>27</td>\n",
       "      <td>0</td>\n",
       "    </tr>\n",
       "    <tr>\n",
       "      <th>7</th>\n",
       "      <td>0</td>\n",
       "      <td>0</td>\n",
       "      <td>35</td>\n",
       "      <td>68</td>\n",
       "      <td>54</td>\n",
       "      <td>0</td>\n",
       "    </tr>\n",
       "    <tr>\n",
       "      <th>8</th>\n",
       "      <td>0</td>\n",
       "      <td>0</td>\n",
       "      <td>2</td>\n",
       "      <td>4</td>\n",
       "      <td>7</td>\n",
       "      <td>0</td>\n",
       "    </tr>\n",
       "  </tbody>\n",
       "</table>\n",
       "</div>"
      ],
      "text/plain": [
       "   3  4    5    6   7  8\n",
       "3  0  0    9    0   0  0\n",
       "4  0  0   37    6   0  0\n",
       "5  0  0  499   50   2  0\n",
       "6  0  0  282  197  27  0\n",
       "7  0  0   35   68  54  0\n",
       "8  0  0    2    4   7  0"
      ]
     },
     "execution_count": 117,
     "metadata": {},
     "output_type": "execute_result"
    }
   ],
   "source": [
    "#create a confusion matrix for training data set  \n",
    "cm= confusion_matrix(y_train,train_predictions)  \n",
    "coords = [x for x in range(3,9)]\n",
    "cm = pd.DataFrame(cm,columns=coords, index=coords )\n",
    "cm"
   ]
  },
  {
   "cell_type": "code",
   "execution_count": 118,
   "id": "e57fe2dc",
   "metadata": {
    "execution": {
     "iopub.execute_input": "2022-03-11T10:25:16.465335Z",
     "iopub.status.busy": "2022-03-11T10:25:16.464597Z",
     "iopub.status.idle": "2022-03-11T10:25:16.467491Z",
     "shell.execute_reply": "2022-03-11T10:25:16.468005Z",
     "shell.execute_reply.started": "2022-02-27T13:13:01.633618Z"
    },
    "papermill": {
     "duration": 0.279282,
     "end_time": "2022-03-11T10:25:16.468209",
     "exception": false,
     "start_time": "2022-03-11T10:25:16.188927",
     "status": "completed"
    },
    "tags": []
   },
   "outputs": [
    {
     "name": "stdout",
     "output_type": "stream",
     "text": [
      "Actual test data set quality range: (3, 8)\n",
      "Predicted test data set quality range: (5, 7)\n"
     ]
    }
   ],
   "source": [
    "# compute test predictions using X_test\n",
    "test_preds= classifier2.predict(X_test)\n",
    "print('Actual test data set quality range: ({}, {})'.format(y_test.min(), y_test.max()))\n",
    "print('Predicted test data set quality range: ({}, {})'.format(test_preds.min(), test_preds.max()))"
   ]
  },
  {
   "cell_type": "code",
   "execution_count": 119,
   "id": "00dc661f",
   "metadata": {
    "execution": {
     "iopub.execute_input": "2022-03-11T10:25:17.026065Z",
     "iopub.status.busy": "2022-03-11T10:25:17.025053Z",
     "iopub.status.idle": "2022-03-11T10:25:17.029662Z",
     "shell.execute_reply": "2022-03-11T10:25:17.029058Z",
     "shell.execute_reply.started": "2022-02-27T13:13:01.649403Z"
    },
    "papermill": {
     "duration": 0.295281,
     "end_time": "2022-03-11T10:25:17.029849",
     "exception": false,
     "start_time": "2022-03-11T10:25:16.734568",
     "status": "completed"
    },
    "scrolled": true,
    "tags": []
   },
   "outputs": [
    {
     "data": {
      "text/html": [
       "<div>\n",
       "<style scoped>\n",
       "    .dataframe tbody tr th:only-of-type {\n",
       "        vertical-align: middle;\n",
       "    }\n",
       "\n",
       "    .dataframe tbody tr th {\n",
       "        vertical-align: top;\n",
       "    }\n",
       "\n",
       "    .dataframe thead th {\n",
       "        text-align: right;\n",
       "    }\n",
       "</style>\n",
       "<table border=\"1\" class=\"dataframe\">\n",
       "  <thead>\n",
       "    <tr style=\"text-align: right;\">\n",
       "      <th></th>\n",
       "      <th>3</th>\n",
       "      <th>4</th>\n",
       "      <th>5</th>\n",
       "      <th>6</th>\n",
       "      <th>7</th>\n",
       "      <th>8</th>\n",
       "    </tr>\n",
       "  </thead>\n",
       "  <tbody>\n",
       "    <tr>\n",
       "      <th>3</th>\n",
       "      <td>0</td>\n",
       "      <td>0</td>\n",
       "      <td>1</td>\n",
       "      <td>0</td>\n",
       "      <td>0</td>\n",
       "      <td>0</td>\n",
       "    </tr>\n",
       "    <tr>\n",
       "      <th>4</th>\n",
       "      <td>0</td>\n",
       "      <td>0</td>\n",
       "      <td>8</td>\n",
       "      <td>2</td>\n",
       "      <td>0</td>\n",
       "      <td>0</td>\n",
       "    </tr>\n",
       "    <tr>\n",
       "      <th>5</th>\n",
       "      <td>0</td>\n",
       "      <td>0</td>\n",
       "      <td>118</td>\n",
       "      <td>11</td>\n",
       "      <td>1</td>\n",
       "      <td>0</td>\n",
       "    </tr>\n",
       "    <tr>\n",
       "      <th>6</th>\n",
       "      <td>0</td>\n",
       "      <td>0</td>\n",
       "      <td>82</td>\n",
       "      <td>41</td>\n",
       "      <td>9</td>\n",
       "      <td>0</td>\n",
       "    </tr>\n",
       "    <tr>\n",
       "      <th>7</th>\n",
       "      <td>0</td>\n",
       "      <td>0</td>\n",
       "      <td>9</td>\n",
       "      <td>23</td>\n",
       "      <td>10</td>\n",
       "      <td>0</td>\n",
       "    </tr>\n",
       "    <tr>\n",
       "      <th>8</th>\n",
       "      <td>0</td>\n",
       "      <td>0</td>\n",
       "      <td>0</td>\n",
       "      <td>1</td>\n",
       "      <td>4</td>\n",
       "      <td>0</td>\n",
       "    </tr>\n",
       "  </tbody>\n",
       "</table>\n",
       "</div>"
      ],
      "text/plain": [
       "   3  4    5   6   7  8\n",
       "3  0  0    1   0   0  0\n",
       "4  0  0    8   2   0  0\n",
       "5  0  0  118  11   1  0\n",
       "6  0  0   82  41   9  0\n",
       "7  0  0    9  23  10  0\n",
       "8  0  0    0   1   4  0"
      ]
     },
     "execution_count": 119,
     "metadata": {},
     "output_type": "execute_result"
    }
   ],
   "source": [
    "#create a confusion matrix for test data set  \n",
    "cm = confusion_matrix(y_test, test_preds)  \n",
    "coords = [x for x in range(3,9)]\n",
    "cm = pd.DataFrame(cm, columns=coords, index=coords )\n",
    "cm"
   ]
  },
  {
   "cell_type": "code",
   "execution_count": 120,
   "id": "8ac17e34",
   "metadata": {
    "execution": {
     "iopub.execute_input": "2022-03-11T10:25:17.578076Z",
     "iopub.status.busy": "2022-03-11T10:25:17.577232Z",
     "iopub.status.idle": "2022-03-11T10:25:17.581968Z",
     "shell.execute_reply": "2022-03-11T10:25:17.581129Z",
     "shell.execute_reply.started": "2022-02-27T13:13:01.669032Z"
    },
    "papermill": {
     "duration": 0.281955,
     "end_time": "2022-03-11T10:25:17.582195",
     "exception": false,
     "start_time": "2022-03-11T10:25:17.300240",
     "status": "completed"
    },
    "tags": []
   },
   "outputs": [
    {
     "name": "stdout",
     "output_type": "stream",
     "text": [
      "training accuracy: 0.5863956215793589\n",
      "test accuracy: 0.528125\n"
     ]
    }
   ],
   "source": [
    "dt_accuracy2_train = accuracy_score(y_train, train_predictions)\n",
    "dt_accuracy2_test = accuracy_score(y_test, test_preds)\n",
    "print('training accuracy: {}'.format(dt_accuracy2_train))\n",
    "print('test accuracy: {}'.format(dt_accuracy2_test))"
   ]
  },
  {
   "cell_type": "markdown",
   "id": "3b7d5866",
   "metadata": {
    "papermill": {
     "duration": 0.27127,
     "end_time": "2022-03-11T10:25:18.123064",
     "exception": false,
     "start_time": "2022-03-11T10:25:17.851794",
     "status": "completed"
    },
    "tags": []
   },
   "source": [
    "#### Visualize Model 2 - Decision Tree "
   ]
  },
  {
   "cell_type": "code",
   "execution_count": 121,
   "id": "ea3f2504",
   "metadata": {
    "execution": {
     "iopub.execute_input": "2022-03-11T10:25:18.671939Z",
     "iopub.status.busy": "2022-03-11T10:25:18.671114Z",
     "iopub.status.idle": "2022-03-11T10:25:19.567491Z",
     "shell.execute_reply": "2022-03-11T10:25:19.568178Z",
     "shell.execute_reply.started": "2022-02-27T13:13:01.679765Z"
    },
    "papermill": {
     "duration": 1.174355,
     "end_time": "2022-03-11T10:25:19.568397",
     "exception": false,
     "start_time": "2022-03-11T10:25:18.394042",
     "status": "completed"
    },
    "tags": []
   },
   "outputs": [
    {
     "data": {
      "image/png": "[encoded data removed]",
      "text/plain": [
       "<Figure size 1584x864 with 1 Axes>"
      ]
     },
     "metadata": {
      "needs_background": "light"
     },
     "output_type": "display_data"
    }
   ],
   "source": [
    "fig, ax = plt.subplots(figsize=(22, 12))\n",
    "tree.plot_tree(classifier2, fontsize=10)\n",
    "plt.show()"
   ]
  },
  {
   "cell_type": "markdown",
   "id": "0ef19084",
   "metadata": {
    "papermill": {
     "duration": 0.277517,
     "end_time": "2022-03-11T10:25:20.120418",
     "exception": false,
     "start_time": "2022-03-11T10:25:19.842901",
     "status": "completed"
    },
    "tags": []
   },
   "source": [
    "#### Step 3: Develop the third Decision Tree Model - after dropping columns showing weak correlations (0.2 - 0.4)\n",
    "1. Drop columns `fixed acidity`, `citric acid`, `chlorides`, `total sulfur dioxide`, `density`\n",
    "2. Build the ML model, test and validate the predictions.\n",
    "\n"
   ]
  },
  {
   "cell_type": "code",
   "execution_count": 122,
   "id": "c9744db2",
   "metadata": {
    "execution": {
     "iopub.execute_input": "2022-03-11T10:25:20.679918Z",
     "iopub.status.busy": "2022-03-11T10:25:20.679023Z",
     "iopub.status.idle": "2022-03-11T10:25:20.680629Z",
     "shell.execute_reply": "2022-03-11T10:25:20.681234Z",
     "shell.execute_reply.started": "2022-02-27T13:13:02.509064Z"
    },
    "papermill": {
     "duration": 0.285128,
     "end_time": "2022-03-11T10:25:20.681448",
     "exception": false,
     "start_time": "2022-03-11T10:25:20.396320",
     "status": "completed"
    },
    "tags": []
   },
   "outputs": [],
   "source": [
    "### drop columns showing weak correlations\n",
    "lst = ['fixed acidity', 'citric acid', 'chlorides', 'total sulfur dioxide', 'density']\n",
    "red_wine_data.drop(lst, axis =1, inplace = True)"
   ]
  },
  {
   "cell_type": "code",
   "execution_count": 123,
   "id": "e6c3fa45",
   "metadata": {
    "execution": {
     "iopub.execute_input": "2022-03-11T10:25:21.246719Z",
     "iopub.status.busy": "2022-03-11T10:25:21.245958Z",
     "iopub.status.idle": "2022-03-11T10:25:21.251720Z",
     "shell.execute_reply": "2022-03-11T10:25:21.252358Z",
     "shell.execute_reply.started": "2022-02-27T13:13:02.516251Z"
    },
    "papermill": {
     "duration": 0.2891,
     "end_time": "2022-03-11T10:25:21.252568",
     "exception": false,
     "start_time": "2022-03-11T10:25:20.963468",
     "status": "completed"
    },
    "tags": []
   },
   "outputs": [],
   "source": [
    "# create the \"features and target\" data sets\n",
    "X = red_wine_data.drop('quality',axis=1)\n",
    "y = red_wine_data['quality']"
   ]
  },
  {
   "cell_type": "code",
   "execution_count": 124,
   "id": "8e605122",
   "metadata": {
    "execution": {
     "iopub.execute_input": "2022-03-11T10:25:21.810051Z",
     "iopub.status.busy": "2022-03-11T10:25:21.805683Z",
     "iopub.status.idle": "2022-03-11T10:25:21.816218Z",
     "shell.execute_reply": "2022-03-11T10:25:21.815455Z",
     "shell.execute_reply.started": "2022-02-27T13:13:02.531199Z"
    },
    "papermill": {
     "duration": 0.288485,
     "end_time": "2022-03-11T10:25:21.816392",
     "exception": false,
     "start_time": "2022-03-11T10:25:21.527907",
     "status": "completed"
    },
    "tags": []
   },
   "outputs": [],
   "source": [
    "#Feature Scaling\n",
    "scaler = StandardScaler()\n",
    "X = scaler.fit_transform(X)"
   ]
  },
  {
   "cell_type": "code",
   "execution_count": 125,
   "id": "6cea2a15",
   "metadata": {
    "execution": {
     "iopub.execute_input": "2022-03-11T10:25:22.413353Z",
     "iopub.status.busy": "2022-03-11T10:25:22.412233Z",
     "iopub.status.idle": "2022-03-11T10:25:22.422054Z",
     "shell.execute_reply": "2022-03-11T10:25:22.422613Z",
     "shell.execute_reply.started": "2022-02-27T13:13:02.547428Z"
    },
    "papermill": {
     "duration": 0.330814,
     "end_time": "2022-03-11T10:25:22.422837",
     "exception": false,
     "start_time": "2022-03-11T10:25:22.092023",
     "status": "completed"
    },
    "tags": []
   },
   "outputs": [
    {
     "name": "stdout",
     "output_type": "stream",
     "text": [
      "Decision Tree: Model 3 train shapes:\n",
      "(1279, 3) (1279,)\n",
      "\n",
      "Decision Tree: Model 3 test shapes:\n",
      "(320, 3) (320,)\n"
     ]
    }
   ],
   "source": [
    "# split the features and target data sets into train and test sets\n",
    "X_train, X_test, y_train, y_test = train_test_split(X, y, test_size=0.2, random_state=42)\n",
    "print('Decision Tree: Model 3 train shapes:')\n",
    "print(X_train.shape, y_train.shape)\n",
    "print()\n",
    "print('Decision Tree: Model 3 test shapes:')\n",
    "print(X_test.shape, y_test.shape)"
   ]
  },
  {
   "cell_type": "code",
   "execution_count": 126,
   "id": "f584d1ea",
   "metadata": {
    "execution": {
     "iopub.execute_input": "2022-03-11T10:25:23.030221Z",
     "iopub.status.busy": "2022-03-11T10:25:23.026858Z",
     "iopub.status.idle": "2022-03-11T10:25:23.037546Z",
     "shell.execute_reply": "2022-03-11T10:25:23.038227Z",
     "shell.execute_reply.started": "2022-02-27T13:13:02.570842Z"
    },
    "papermill": {
     "duration": 0.311866,
     "end_time": "2022-03-11T10:25:23.038473",
     "exception": false,
     "start_time": "2022-03-11T10:25:22.726607",
     "status": "completed"
    },
    "tags": []
   },
   "outputs": [],
   "source": [
    "# create and fit a Decision tree model\n",
    "classifier3 = DecisionTreeClassifier(criterion=\"gini\", random_state=42,max_depth=3, min_samples_leaf=5)   \n",
    "classifier3 = classifier3.fit(X_train,y_train)"
   ]
  },
  {
   "cell_type": "code",
   "execution_count": 127,
   "id": "0b6e138e",
   "metadata": {
    "execution": {
     "iopub.execute_input": "2022-03-11T10:25:23.641230Z",
     "iopub.status.busy": "2022-03-11T10:25:23.640230Z",
     "iopub.status.idle": "2022-03-11T10:25:23.645242Z",
     "shell.execute_reply": "2022-03-11T10:25:23.646307Z",
     "shell.execute_reply.started": "2022-02-27T13:13:02.584637Z"
    },
    "papermill": {
     "duration": 0.30876,
     "end_time": "2022-03-11T10:25:23.646613",
     "exception": false,
     "start_time": "2022-03-11T10:25:23.337853",
     "status": "completed"
    },
    "tags": []
   },
   "outputs": [
    {
     "name": "stdout",
     "output_type": "stream",
     "text": [
      "Actual training data set quality range: (3, 8)\n",
      "Predicted training data set quality range: (5, 7)\n"
     ]
    }
   ],
   "source": [
    "# compute train_predictions using X_train\n",
    "train_predictions = classifier3.predict(X_train)\n",
    "print('Actual training data set quality range: ({}, {})'.format(y_train.min(), y_train.max()))\n",
    "print('Predicted training data set quality range: ({}, {})'.format(train_predictions.min(), train_predictions.max()))"
   ]
  },
  {
   "cell_type": "code",
   "execution_count": 128,
   "id": "1bcd6e06",
   "metadata": {
    "execution": {
     "iopub.execute_input": "2022-03-11T10:25:24.238994Z",
     "iopub.status.busy": "2022-03-11T10:25:24.237962Z",
     "iopub.status.idle": "2022-03-11T10:25:24.250872Z",
     "shell.execute_reply": "2022-03-11T10:25:24.251568Z",
     "shell.execute_reply.started": "2022-02-27T13:13:02.597840Z"
    },
    "papermill": {
     "duration": 0.312478,
     "end_time": "2022-03-11T10:25:24.251936",
     "exception": false,
     "start_time": "2022-03-11T10:25:23.939458",
     "status": "completed"
    },
    "tags": []
   },
   "outputs": [
    {
     "data": {
      "text/html": [
       "<div>\n",
       "<style scoped>\n",
       "    .dataframe tbody tr th:only-of-type {\n",
       "        vertical-align: middle;\n",
       "    }\n",
       "\n",
       "    .dataframe tbody tr th {\n",
       "        vertical-align: top;\n",
       "    }\n",
       "\n",
       "    .dataframe thead th {\n",
       "        text-align: right;\n",
       "    }\n",
       "</style>\n",
       "<table border=\"1\" class=\"dataframe\">\n",
       "  <thead>\n",
       "    <tr style=\"text-align: right;\">\n",
       "      <th></th>\n",
       "      <th>3</th>\n",
       "      <th>4</th>\n",
       "      <th>5</th>\n",
       "      <th>6</th>\n",
       "      <th>7</th>\n",
       "      <th>8</th>\n",
       "    </tr>\n",
       "  </thead>\n",
       "  <tbody>\n",
       "    <tr>\n",
       "      <th>3</th>\n",
       "      <td>0</td>\n",
       "      <td>0</td>\n",
       "      <td>9</td>\n",
       "      <td>0</td>\n",
       "      <td>0</td>\n",
       "      <td>0</td>\n",
       "    </tr>\n",
       "    <tr>\n",
       "      <th>4</th>\n",
       "      <td>0</td>\n",
       "      <td>0</td>\n",
       "      <td>36</td>\n",
       "      <td>7</td>\n",
       "      <td>0</td>\n",
       "      <td>0</td>\n",
       "    </tr>\n",
       "    <tr>\n",
       "      <th>5</th>\n",
       "      <td>0</td>\n",
       "      <td>0</td>\n",
       "      <td>466</td>\n",
       "      <td>83</td>\n",
       "      <td>2</td>\n",
       "      <td>0</td>\n",
       "    </tr>\n",
       "    <tr>\n",
       "      <th>6</th>\n",
       "      <td>0</td>\n",
       "      <td>0</td>\n",
       "      <td>222</td>\n",
       "      <td>257</td>\n",
       "      <td>27</td>\n",
       "      <td>0</td>\n",
       "    </tr>\n",
       "    <tr>\n",
       "      <th>7</th>\n",
       "      <td>0</td>\n",
       "      <td>0</td>\n",
       "      <td>21</td>\n",
       "      <td>82</td>\n",
       "      <td>54</td>\n",
       "      <td>0</td>\n",
       "    </tr>\n",
       "    <tr>\n",
       "      <th>8</th>\n",
       "      <td>0</td>\n",
       "      <td>0</td>\n",
       "      <td>0</td>\n",
       "      <td>6</td>\n",
       "      <td>7</td>\n",
       "      <td>0</td>\n",
       "    </tr>\n",
       "  </tbody>\n",
       "</table>\n",
       "</div>"
      ],
      "text/plain": [
       "   3  4    5    6   7  8\n",
       "3  0  0    9    0   0  0\n",
       "4  0  0   36    7   0  0\n",
       "5  0  0  466   83   2  0\n",
       "6  0  0  222  257  27  0\n",
       "7  0  0   21   82  54  0\n",
       "8  0  0    0    6   7  0"
      ]
     },
     "execution_count": 128,
     "metadata": {},
     "output_type": "execute_result"
    }
   ],
   "source": [
    "#create a confusion matrix for training data set  \n",
    "cm= confusion_matrix(y_train,train_predictions)  \n",
    "coords = [x for x in range(3,9)]\n",
    "cm = pd.DataFrame(cm,columns=coords, index=coords )\n",
    "cm"
   ]
  },
  {
   "cell_type": "code",
   "execution_count": 129,
   "id": "b7d5947a",
   "metadata": {
    "execution": {
     "iopub.execute_input": "2022-03-11T10:25:24.889394Z",
     "iopub.status.busy": "2022-03-11T10:25:24.888323Z",
     "iopub.status.idle": "2022-03-11T10:25:24.896075Z",
     "shell.execute_reply": "2022-03-11T10:25:24.896926Z",
     "shell.execute_reply.started": "2022-02-27T13:13:02.622161Z"
    },
    "papermill": {
     "duration": 0.324877,
     "end_time": "2022-03-11T10:25:24.897205",
     "exception": false,
     "start_time": "2022-03-11T10:25:24.572328",
     "status": "completed"
    },
    "tags": []
   },
   "outputs": [
    {
     "name": "stdout",
     "output_type": "stream",
     "text": [
      "Actual test data set quality range: (3, 8)\n",
      "Predicted test data set quality range: (5, 7)\n"
     ]
    }
   ],
   "source": [
    "# compute test predictions using X_test\n",
    "test_preds= classifier3.predict(X_test)\n",
    "print('Actual test data set quality range: ({}, {})'.format(y_test.min(), y_test.max()))\n",
    "print('Predicted test data set quality range: ({}, {})'.format(test_preds.min(), test_preds.max()))"
   ]
  },
  {
   "cell_type": "code",
   "execution_count": 130,
   "id": "71156ce7",
   "metadata": {
    "execution": {
     "iopub.execute_input": "2022-03-11T10:25:25.483693Z",
     "iopub.status.busy": "2022-03-11T10:25:25.482807Z",
     "iopub.status.idle": "2022-03-11T10:25:25.496528Z",
     "shell.execute_reply": "2022-03-11T10:25:25.497176Z",
     "shell.execute_reply.started": "2022-02-27T13:13:02.632202Z"
    },
    "papermill": {
     "duration": 0.317985,
     "end_time": "2022-03-11T10:25:25.497402",
     "exception": false,
     "start_time": "2022-03-11T10:25:25.179417",
     "status": "completed"
    },
    "scrolled": true,
    "tags": []
   },
   "outputs": [
    {
     "data": {
      "text/html": [
       "<div>\n",
       "<style scoped>\n",
       "    .dataframe tbody tr th:only-of-type {\n",
       "        vertical-align: middle;\n",
       "    }\n",
       "\n",
       "    .dataframe tbody tr th {\n",
       "        vertical-align: top;\n",
       "    }\n",
       "\n",
       "    .dataframe thead th {\n",
       "        text-align: right;\n",
       "    }\n",
       "</style>\n",
       "<table border=\"1\" class=\"dataframe\">\n",
       "  <thead>\n",
       "    <tr style=\"text-align: right;\">\n",
       "      <th></th>\n",
       "      <th>3</th>\n",
       "      <th>4</th>\n",
       "      <th>5</th>\n",
       "      <th>6</th>\n",
       "      <th>7</th>\n",
       "      <th>8</th>\n",
       "    </tr>\n",
       "  </thead>\n",
       "  <tbody>\n",
       "    <tr>\n",
       "      <th>3</th>\n",
       "      <td>0</td>\n",
       "      <td>0</td>\n",
       "      <td>1</td>\n",
       "      <td>0</td>\n",
       "      <td>0</td>\n",
       "      <td>0</td>\n",
       "    </tr>\n",
       "    <tr>\n",
       "      <th>4</th>\n",
       "      <td>0</td>\n",
       "      <td>0</td>\n",
       "      <td>8</td>\n",
       "      <td>2</td>\n",
       "      <td>0</td>\n",
       "      <td>0</td>\n",
       "    </tr>\n",
       "    <tr>\n",
       "      <th>5</th>\n",
       "      <td>0</td>\n",
       "      <td>0</td>\n",
       "      <td>107</td>\n",
       "      <td>22</td>\n",
       "      <td>1</td>\n",
       "      <td>0</td>\n",
       "    </tr>\n",
       "    <tr>\n",
       "      <th>6</th>\n",
       "      <td>0</td>\n",
       "      <td>0</td>\n",
       "      <td>63</td>\n",
       "      <td>60</td>\n",
       "      <td>9</td>\n",
       "      <td>0</td>\n",
       "    </tr>\n",
       "    <tr>\n",
       "      <th>7</th>\n",
       "      <td>0</td>\n",
       "      <td>0</td>\n",
       "      <td>5</td>\n",
       "      <td>27</td>\n",
       "      <td>10</td>\n",
       "      <td>0</td>\n",
       "    </tr>\n",
       "    <tr>\n",
       "      <th>8</th>\n",
       "      <td>0</td>\n",
       "      <td>0</td>\n",
       "      <td>0</td>\n",
       "      <td>1</td>\n",
       "      <td>4</td>\n",
       "      <td>0</td>\n",
       "    </tr>\n",
       "  </tbody>\n",
       "</table>\n",
       "</div>"
      ],
      "text/plain": [
       "   3  4    5   6   7  8\n",
       "3  0  0    1   0   0  0\n",
       "4  0  0    8   2   0  0\n",
       "5  0  0  107  22   1  0\n",
       "6  0  0   63  60   9  0\n",
       "7  0  0    5  27  10  0\n",
       "8  0  0    0   1   4  0"
      ]
     },
     "execution_count": 130,
     "metadata": {},
     "output_type": "execute_result"
    }
   ],
   "source": [
    "#create a confusion matrix for test data set  \n",
    "cm = confusion_matrix(y_test, test_preds)  \n",
    "coords = [x for x in range(3,9)]\n",
    "cm = pd.DataFrame(cm, columns=coords, index=coords )\n",
    "cm"
   ]
  },
  {
   "cell_type": "code",
   "execution_count": 131,
   "id": "4cf176b4",
   "metadata": {
    "execution": {
     "iopub.execute_input": "2022-03-11T10:25:26.089269Z",
     "iopub.status.busy": "2022-03-11T10:25:26.088483Z",
     "iopub.status.idle": "2022-03-11T10:25:26.093319Z",
     "shell.execute_reply": "2022-03-11T10:25:26.094184Z",
     "shell.execute_reply.started": "2022-02-27T13:13:02.653034Z"
    },
    "papermill": {
     "duration": 0.299324,
     "end_time": "2022-03-11T10:25:26.094476",
     "exception": false,
     "start_time": "2022-03-11T10:25:25.795152",
     "status": "completed"
    },
    "tags": []
   },
   "outputs": [
    {
     "name": "stdout",
     "output_type": "stream",
     "text": [
      "training accuracy: 0.6075058639562158\n",
      "test accuracy: 0.553125\n"
     ]
    }
   ],
   "source": [
    "dt_accuracy3_train = accuracy_score(y_train, train_predictions)\n",
    "dt_accuracy3_test = accuracy_score(y_test, test_preds)\n",
    "print('training accuracy: {}'.format(dt_accuracy3_train))\n",
    "print('test accuracy: {}'.format(dt_accuracy3_test))"
   ]
  },
  {
   "cell_type": "markdown",
   "id": "78d4620e",
   "metadata": {
    "papermill": {
     "duration": 0.285591,
     "end_time": "2022-03-11T10:25:26.677272",
     "exception": false,
     "start_time": "2022-03-11T10:25:26.391681",
     "status": "completed"
    },
    "tags": []
   },
   "source": [
    "#### Visualize Model 3 - Decision Tree "
   ]
  },
  {
   "cell_type": "code",
   "execution_count": 132,
   "id": "64f25c7f",
   "metadata": {
    "execution": {
     "iopub.execute_input": "2022-03-11T10:25:27.251300Z",
     "iopub.status.busy": "2022-03-11T10:25:27.250331Z",
     "iopub.status.idle": "2022-03-11T10:25:28.147863Z",
     "shell.execute_reply": "2022-03-11T10:25:28.148416Z",
     "shell.execute_reply.started": "2022-02-27T13:13:02.667219Z"
    },
    "papermill": {
     "duration": 1.191833,
     "end_time": "2022-03-11T10:25:28.148636",
     "exception": false,
     "start_time": "2022-03-11T10:25:26.956803",
     "status": "completed"
    },
    "tags": []
   },
   "outputs": [
    {
     "data": {
      "image/png": "[encoded data removed]",
      "text/plain": [
       "<Figure size 1584x864 with 1 Axes>"
      ]
     },
     "metadata": {
      "needs_background": "light"
     },
     "output_type": "display_data"
    }
   ],
   "source": [
    "fig, ax = plt.subplots(figsize=(22, 12))\n",
    "tree.plot_tree(classifier3, fontsize=10)\n",
    "plt.show()"
   ]
  },
  {
   "cell_type": "code",
   "execution_count": 133,
   "id": "e5bfa207",
   "metadata": {
    "execution": {
     "iopub.execute_input": "2022-03-11T10:25:28.707629Z",
     "iopub.status.busy": "2022-03-11T10:25:28.706812Z",
     "iopub.status.idle": "2022-03-11T10:25:28.715596Z",
     "shell.execute_reply": "2022-03-11T10:25:28.716229Z",
     "shell.execute_reply.started": "2022-02-27T13:13:03.359062Z"
    },
    "papermill": {
     "duration": 0.291209,
     "end_time": "2022-03-11T10:25:28.716452",
     "exception": false,
     "start_time": "2022-03-11T10:25:28.425243",
     "status": "completed"
    },
    "tags": []
   },
   "outputs": [
    {
     "name": "stdout",
     "output_type": "stream",
     "text": [
      "Model 1 Accuracy:\n",
      "\ttraining accuracy: 0.5863956215793589\n",
      "\ttest accuracy: 0.528125\n",
      "\n",
      "Model 2 Accuracy:\n",
      "\ttraining accuracy: 0.5863956215793589\n",
      "\ttest accuracy: 0.528125\n",
      "\n",
      "Model 3 Accuracy:\n",
      "\ttraining accuracy: 0.6075058639562158\n",
      "\ttest accuracy: 0.553125\n"
     ]
    }
   ],
   "source": [
    "# compare the accuracy of the 3 models\n",
    "print('Model 1 Accuracy:')\n",
    "print('\\ttraining accuracy: {}'.format(dt_accuracy1_train))\n",
    "print('\\ttest accuracy: {}'.format(dt_accuracy1_test))\n",
    "print()\n",
    "print('Model 2 Accuracy:')\n",
    "print('\\ttraining accuracy: {}'.format(dt_accuracy2_train))\n",
    "print('\\ttest accuracy: {}'.format(dt_accuracy2_test))\n",
    "print()\n",
    "print('Model 3 Accuracy:')\n",
    "print('\\ttraining accuracy: {}'.format(dt_accuracy3_train))\n",
    "print('\\ttest accuracy: {}'.format(dt_accuracy3_test))"
   ]
  },
  {
   "cell_type": "code",
   "execution_count": 134,
   "id": "4bb0e5d6",
   "metadata": {
    "execution": {
     "iopub.execute_input": "2022-03-11T10:25:29.375555Z",
     "iopub.status.busy": "2022-03-11T10:25:29.374620Z",
     "iopub.status.idle": "2022-03-11T10:25:29.378333Z",
     "shell.execute_reply": "2022-03-11T10:25:29.378867Z",
     "shell.execute_reply.started": "2022-02-27T13:13:03.368547Z"
    },
    "papermill": {
     "duration": 0.378717,
     "end_time": "2022-03-11T10:25:29.379073",
     "exception": false,
     "start_time": "2022-03-11T10:25:29.000356",
     "status": "completed"
    },
    "tags": []
   },
   "outputs": [
    {
     "data": {
      "text/plain": [
       "0.553125"
      ]
     },
     "execution_count": 134,
     "metadata": {},
     "output_type": "execute_result"
    }
   ],
   "source": [
    "dtree_accuracy = dt_accuracy3_test\n",
    "dtree_accuracy"
   ]
  },
  {
   "cell_type": "code",
   "execution_count": 135,
   "id": "d75d8f7b",
   "metadata": {
    "execution": {
     "iopub.execute_input": "2022-03-11T10:25:29.939181Z",
     "iopub.status.busy": "2022-03-11T10:25:29.938073Z",
     "iopub.status.idle": "2022-03-11T10:25:29.945507Z",
     "shell.execute_reply": "2022-03-11T10:25:29.946108Z",
     "shell.execute_reply.started": "2022-02-27T13:13:03.382320Z"
    },
    "papermill": {
     "duration": 0.289824,
     "end_time": "2022-03-11T10:25:29.946329",
     "exception": false,
     "start_time": "2022-03-11T10:25:29.656505",
     "status": "completed"
    },
    "tags": []
   },
   "outputs": [
    {
     "name": "stdout",
     "output_type": "stream",
     "text": [
      "Accuracy of Decision Tree Models on test set:\n",
      "Model1 Accuracy 0.528125\n",
      "Model2 Accuracy 0.528125\n",
      "Model3 Accuracy 0.553125\n"
     ]
    }
   ],
   "source": [
    "# compare accuracy of all decision tree models\n",
    "print(\"Accuracy of Decision Tree Models on test set:\")\n",
    "print(\"Model1 Accuracy {}\".format(dt_accuracy1_test))\n",
    "print(\"Model2 Accuracy {}\".format(dt_accuracy2_test))\n",
    "print(\"Model3 Accuracy {}\".format(dt_accuracy3_test))"
   ]
  },
  {
   "cell_type": "markdown",
   "id": "57f209d4",
   "metadata": {
    "papermill": {
     "duration": 0.279456,
     "end_time": "2022-03-11T10:25:30.507950",
     "exception": false,
     "start_time": "2022-03-11T10:25:30.228494",
     "status": "completed"
    },
    "tags": []
   },
   "source": [
    "#### Choose the best model for deployment.\n",
    "\n",
    "Since we are getting highest accuracy for model3, we are going for model3"
   ]
  },
  {
   "cell_type": "code",
   "execution_count": 136,
   "id": "1e7c5139",
   "metadata": {
    "execution": {
     "iopub.execute_input": "2022-03-11T10:25:31.073964Z",
     "iopub.status.busy": "2022-03-11T10:25:31.072698Z",
     "iopub.status.idle": "2022-03-11T10:25:31.076715Z",
     "shell.execute_reply": "2022-03-11T10:25:31.076149Z",
     "shell.execute_reply.started": "2022-02-27T13:13:03.396363Z"
    },
    "papermill": {
     "duration": 0.293003,
     "end_time": "2022-03-11T10:25:31.076934",
     "exception": false,
     "start_time": "2022-03-11T10:25:30.783931",
     "status": "completed"
    },
    "tags": []
   },
   "outputs": [],
   "source": [
    "# save red_model3 as per analysis\n",
    "fname = 'dtree_red_wine_model.pkl'\n",
    "model_file = open(fname, 'wb')\n",
    "pickle.dump(obj=classifier3, file=model_file)\n",
    "model_file.close()"
   ]
  },
  {
   "cell_type": "code",
   "execution_count": 137,
   "id": "99f1ce81",
   "metadata": {
    "execution": {
     "iopub.execute_input": "2022-03-11T10:25:31.642231Z",
     "iopub.status.busy": "2022-03-11T10:25:31.640987Z",
     "iopub.status.idle": "2022-03-11T10:25:31.644801Z",
     "shell.execute_reply": "2022-03-11T10:25:31.645325Z",
     "shell.execute_reply.started": "2022-02-27T13:13:03.407569Z"
    },
    "papermill": {
     "duration": 0.291708,
     "end_time": "2022-03-11T10:25:31.645526",
     "exception": false,
     "start_time": "2022-03-11T10:25:31.353818",
     "status": "completed"
    },
    "tags": []
   },
   "outputs": [
    {
     "name": "stdout",
     "output_type": "stream",
     "text": [
      "DecisionTreeClassifier(max_depth=3, min_samples_leaf=5, random_state=42)\n"
     ]
    }
   ],
   "source": [
    "# reload the model from disk and check if it is saved properly.\n",
    "model_file = open(fname, 'rb')\n",
    "decision_model = pickle.load(model_file)\n",
    "model_file.close()\n",
    "print(decision_model)"
   ]
  },
  {
   "cell_type": "markdown",
   "id": "77233cc0",
   "metadata": {
    "papermill": {
     "duration": 0.287767,
     "end_time": "2022-03-11T10:25:32.214935",
     "exception": false,
     "start_time": "2022-03-11T10:25:31.927168",
     "status": "completed"
    },
    "tags": []
   },
   "source": [
    "## Section 4: Random Forest for Red Wine Quality"
   ]
  },
  {
   "cell_type": "markdown",
   "id": "4bb1ecce",
   "metadata": {
    "papermill": {
     "duration": 0.28336,
     "end_time": "2022-03-11T10:25:32.784483",
     "exception": false,
     "start_time": "2022-03-11T10:25:32.501123",
     "status": "completed"
    },
    "tags": []
   },
   "source": [
    "We've already done the sanity checks and EDA earlier. We only need to build various Random Forest models based on the correlations we've observed, and compare the accuracies obtained."
   ]
  },
  {
   "cell_type": "code",
   "execution_count": 138,
   "id": "d3c0595a",
   "metadata": {
    "execution": {
     "iopub.execute_input": "2022-03-11T10:25:33.349503Z",
     "iopub.status.busy": "2022-03-11T10:25:33.348604Z",
     "iopub.status.idle": "2022-03-11T10:25:33.376396Z",
     "shell.execute_reply": "2022-03-11T10:25:33.375687Z",
     "shell.execute_reply.started": "2022-02-27T13:13:03.420330Z"
    },
    "papermill": {
     "duration": 0.310566,
     "end_time": "2022-03-11T10:25:33.376566",
     "exception": false,
     "start_time": "2022-03-11T10:25:33.066000",
     "status": "completed"
    },
    "tags": []
   },
   "outputs": [
    {
     "data": {
      "text/html": [
       "<div>\n",
       "<style scoped>\n",
       "    .dataframe tbody tr th:only-of-type {\n",
       "        vertical-align: middle;\n",
       "    }\n",
       "\n",
       "    .dataframe tbody tr th {\n",
       "        vertical-align: top;\n",
       "    }\n",
       "\n",
       "    .dataframe thead th {\n",
       "        text-align: right;\n",
       "    }\n",
       "</style>\n",
       "<table border=\"1\" class=\"dataframe\">\n",
       "  <thead>\n",
       "    <tr style=\"text-align: right;\">\n",
       "      <th></th>\n",
       "      <th>fixed acidity</th>\n",
       "      <th>volatile acidity</th>\n",
       "      <th>citric acid</th>\n",
       "      <th>residual sugar</th>\n",
       "      <th>chlorides</th>\n",
       "      <th>free sulfur dioxide</th>\n",
       "      <th>total sulfur dioxide</th>\n",
       "      <th>density</th>\n",
       "      <th>pH</th>\n",
       "      <th>sulphates</th>\n",
       "      <th>alcohol</th>\n",
       "      <th>quality</th>\n",
       "    </tr>\n",
       "  </thead>\n",
       "  <tbody>\n",
       "    <tr>\n",
       "      <th>0</th>\n",
       "      <td>7.4</td>\n",
       "      <td>0.70</td>\n",
       "      <td>0.00</td>\n",
       "      <td>1.9</td>\n",
       "      <td>0.076</td>\n",
       "      <td>11.0</td>\n",
       "      <td>34.0</td>\n",
       "      <td>0.9978</td>\n",
       "      <td>3.51</td>\n",
       "      <td>0.56</td>\n",
       "      <td>9.4</td>\n",
       "      <td>5</td>\n",
       "    </tr>\n",
       "    <tr>\n",
       "      <th>1</th>\n",
       "      <td>7.8</td>\n",
       "      <td>0.88</td>\n",
       "      <td>0.00</td>\n",
       "      <td>2.6</td>\n",
       "      <td>0.098</td>\n",
       "      <td>25.0</td>\n",
       "      <td>67.0</td>\n",
       "      <td>0.9968</td>\n",
       "      <td>3.20</td>\n",
       "      <td>0.68</td>\n",
       "      <td>9.8</td>\n",
       "      <td>5</td>\n",
       "    </tr>\n",
       "    <tr>\n",
       "      <th>2</th>\n",
       "      <td>7.8</td>\n",
       "      <td>0.76</td>\n",
       "      <td>0.04</td>\n",
       "      <td>2.3</td>\n",
       "      <td>0.092</td>\n",
       "      <td>15.0</td>\n",
       "      <td>54.0</td>\n",
       "      <td>0.9970</td>\n",
       "      <td>3.26</td>\n",
       "      <td>0.65</td>\n",
       "      <td>9.8</td>\n",
       "      <td>5</td>\n",
       "    </tr>\n",
       "    <tr>\n",
       "      <th>3</th>\n",
       "      <td>11.2</td>\n",
       "      <td>0.28</td>\n",
       "      <td>0.56</td>\n",
       "      <td>1.9</td>\n",
       "      <td>0.075</td>\n",
       "      <td>17.0</td>\n",
       "      <td>60.0</td>\n",
       "      <td>0.9980</td>\n",
       "      <td>3.16</td>\n",
       "      <td>0.58</td>\n",
       "      <td>9.8</td>\n",
       "      <td>6</td>\n",
       "    </tr>\n",
       "    <tr>\n",
       "      <th>4</th>\n",
       "      <td>7.4</td>\n",
       "      <td>0.70</td>\n",
       "      <td>0.00</td>\n",
       "      <td>1.9</td>\n",
       "      <td>0.076</td>\n",
       "      <td>11.0</td>\n",
       "      <td>34.0</td>\n",
       "      <td>0.9978</td>\n",
       "      <td>3.51</td>\n",
       "      <td>0.56</td>\n",
       "      <td>9.4</td>\n",
       "      <td>5</td>\n",
       "    </tr>\n",
       "  </tbody>\n",
       "</table>\n",
       "</div>"
      ],
      "text/plain": [
       "   fixed acidity  volatile acidity  citric acid  residual sugar  chlorides  \\\n",
       "0            7.4              0.70         0.00             1.9      0.076   \n",
       "1            7.8              0.88         0.00             2.6      0.098   \n",
       "2            7.8              0.76         0.04             2.3      0.092   \n",
       "3           11.2              0.28         0.56             1.9      0.075   \n",
       "4            7.4              0.70         0.00             1.9      0.076   \n",
       "\n",
       "   free sulfur dioxide  total sulfur dioxide  density    pH  sulphates  \\\n",
       "0                 11.0                  34.0   0.9978  3.51       0.56   \n",
       "1                 25.0                  67.0   0.9968  3.20       0.68   \n",
       "2                 15.0                  54.0   0.9970  3.26       0.65   \n",
       "3                 17.0                  60.0   0.9980  3.16       0.58   \n",
       "4                 11.0                  34.0   0.9978  3.51       0.56   \n",
       "\n",
       "   alcohol  quality  \n",
       "0      9.4        5  \n",
       "1      9.8        5  \n",
       "2      9.8        5  \n",
       "3      9.8        6  \n",
       "4      9.4        5  "
      ]
     },
     "execution_count": 138,
     "metadata": {},
     "output_type": "execute_result"
    }
   ],
   "source": [
    "# refresh the red wine dataset\n",
    "red_wine_data = pd.read_csv(fpath, delimiter =';')\n",
    "red_wine_data.head()"
   ]
  },
  {
   "cell_type": "markdown",
   "id": "32f39a72",
   "metadata": {
    "papermill": {
     "duration": 0.281853,
     "end_time": "2022-03-11T10:25:33.945386",
     "exception": false,
     "start_time": "2022-03-11T10:25:33.663533",
     "status": "completed"
    },
    "tags": []
   },
   "source": [
    "#### Step 1: Develop the first Random Forest Model using all the features\n",
    "Build the ML model with the complete data, test and validate the predictions."
   ]
  },
  {
   "cell_type": "code",
   "execution_count": 139,
   "id": "9e3da49f",
   "metadata": {
    "execution": {
     "iopub.execute_input": "2022-03-11T10:25:34.513647Z",
     "iopub.status.busy": "2022-03-11T10:25:34.512645Z",
     "iopub.status.idle": "2022-03-11T10:25:34.515739Z",
     "shell.execute_reply": "2022-03-11T10:25:34.515140Z",
     "shell.execute_reply.started": "2022-02-27T13:13:03.455415Z"
    },
    "papermill": {
     "duration": 0.289116,
     "end_time": "2022-03-11T10:25:34.515917",
     "exception": false,
     "start_time": "2022-03-11T10:25:34.226801",
     "status": "completed"
    },
    "tags": []
   },
   "outputs": [],
   "source": [
    "# create the \"features and target\" data sets\n",
    "X = red_wine_data.drop('quality',axis=1)\n",
    "y = red_wine_data['quality']"
   ]
  },
  {
   "cell_type": "code",
   "execution_count": 140,
   "id": "f8bde0dd",
   "metadata": {
    "execution": {
     "iopub.execute_input": "2022-03-11T10:25:35.098133Z",
     "iopub.status.busy": "2022-03-11T10:25:35.096761Z",
     "iopub.status.idle": "2022-03-11T10:25:35.103970Z",
     "shell.execute_reply": "2022-03-11T10:25:35.103166Z",
     "shell.execute_reply.started": "2022-02-27T13:13:03.462875Z"
    },
    "papermill": {
     "duration": 0.298676,
     "end_time": "2022-03-11T10:25:35.104140",
     "exception": false,
     "start_time": "2022-03-11T10:25:34.805464",
     "status": "completed"
    },
    "tags": []
   },
   "outputs": [],
   "source": [
    "#Feature Scaling\n",
    "from sklearn.preprocessing import StandardScaler\n",
    "object = StandardScaler()\n",
    "X = object.fit_transform(X)"
   ]
  },
  {
   "cell_type": "code",
   "execution_count": 141,
   "id": "7b3ae7c5",
   "metadata": {
    "execution": {
     "iopub.execute_input": "2022-03-11T10:25:35.691728Z",
     "iopub.status.busy": "2022-03-11T10:25:35.690537Z",
     "iopub.status.idle": "2022-03-11T10:25:35.698364Z",
     "shell.execute_reply": "2022-03-11T10:25:35.699582Z",
     "shell.execute_reply.started": "2022-02-27T13:13:03.477153Z"
    },
    "papermill": {
     "duration": 0.311522,
     "end_time": "2022-03-11T10:25:35.700003",
     "exception": false,
     "start_time": "2022-03-11T10:25:35.388481",
     "status": "completed"
    },
    "tags": []
   },
   "outputs": [
    {
     "name": "stdout",
     "output_type": "stream",
     "text": [
      "Random Forest: Model 1 train shapes:\n",
      "(1279, 11) (1279,)\n",
      "\n",
      "Random Forest: Model 1 test shapes:\n",
      "(320, 11) (320,)\n"
     ]
    }
   ],
   "source": [
    "# split the features and target data sets into train and test sets\n",
    "X_train, X_test, y_train, y_test = train_test_split(X, y, test_size=0.2, random_state=42)\n",
    "print('Random Forest: Model 1 train shapes:')\n",
    "print(X_train.shape, y_train.shape)\n",
    "print()\n",
    "print('Random Forest: Model 1 test shapes:')\n",
    "print(X_test.shape, y_test.shape)"
   ]
  },
  {
   "cell_type": "code",
   "execution_count": 142,
   "id": "46d66d58",
   "metadata": {
    "execution": {
     "iopub.execute_input": "2022-03-11T10:25:36.286591Z",
     "iopub.status.busy": "2022-03-11T10:25:36.285818Z",
     "iopub.status.idle": "2022-03-11T10:25:36.344287Z",
     "shell.execute_reply": "2022-03-11T10:25:36.343577Z",
     "shell.execute_reply.started": "2022-02-27T13:13:03.494772Z"
    },
    "papermill": {
     "duration": 0.346325,
     "end_time": "2022-03-11T10:25:36.344477",
     "exception": false,
     "start_time": "2022-03-11T10:25:35.998152",
     "status": "completed"
    },
    "tags": []
   },
   "outputs": [],
   "source": [
    "# create and fit a Random Forest model\n",
    "classifier = RandomForestClassifier(n_estimators= 10, criterion=\"entropy\")  \n",
    "classifier = classifier.fit(X_train, y_train)  "
   ]
  },
  {
   "cell_type": "code",
   "execution_count": 143,
   "id": "ce10a3e1",
   "metadata": {
    "execution": {
     "iopub.execute_input": "2022-03-11T10:25:36.926793Z",
     "iopub.status.busy": "2022-03-11T10:25:36.926004Z",
     "iopub.status.idle": "2022-03-11T10:25:36.935185Z",
     "shell.execute_reply": "2022-03-11T10:25:36.935998Z",
     "shell.execute_reply.started": "2022-02-27T13:13:03.548440Z"
    },
    "papermill": {
     "duration": 0.308911,
     "end_time": "2022-03-11T10:25:36.936301",
     "exception": false,
     "start_time": "2022-03-11T10:25:36.627390",
     "status": "completed"
    },
    "tags": []
   },
   "outputs": [
    {
     "name": "stdout",
     "output_type": "stream",
     "text": [
      "Actual training data set quality range: (3, 8)\n",
      "Predicted training data set quality range: (3, 8)\n"
     ]
    }
   ],
   "source": [
    "# compute train_predictions using X_train\n",
    "train_predictions = classifier.predict(X_train)\n",
    "print('Actual training data set quality range: ({}, {})'.format(y_train.min(), y_train.max()))\n",
    "print('Predicted training data set quality range: ({}, {})'.format(train_predictions.min(), train_predictions.max()))"
   ]
  },
  {
   "cell_type": "code",
   "execution_count": 144,
   "id": "a47d1770",
   "metadata": {
    "execution": {
     "iopub.execute_input": "2022-03-11T10:25:37.517757Z",
     "iopub.status.busy": "2022-03-11T10:25:37.516576Z",
     "iopub.status.idle": "2022-03-11T10:25:37.531463Z",
     "shell.execute_reply": "2022-03-11T10:25:37.532025Z",
     "shell.execute_reply.started": "2022-02-27T13:13:03.560422Z"
    },
    "papermill": {
     "duration": 0.311487,
     "end_time": "2022-03-11T10:25:37.532247",
     "exception": false,
     "start_time": "2022-03-11T10:25:37.220760",
     "status": "completed"
    },
    "tags": []
   },
   "outputs": [
    {
     "data": {
      "text/html": [
       "<div>\n",
       "<style scoped>\n",
       "    .dataframe tbody tr th:only-of-type {\n",
       "        vertical-align: middle;\n",
       "    }\n",
       "\n",
       "    .dataframe tbody tr th {\n",
       "        vertical-align: top;\n",
       "    }\n",
       "\n",
       "    .dataframe thead th {\n",
       "        text-align: right;\n",
       "    }\n",
       "</style>\n",
       "<table border=\"1\" class=\"dataframe\">\n",
       "  <thead>\n",
       "    <tr style=\"text-align: right;\">\n",
       "      <th></th>\n",
       "      <th>3</th>\n",
       "      <th>4</th>\n",
       "      <th>5</th>\n",
       "      <th>6</th>\n",
       "      <th>7</th>\n",
       "      <th>8</th>\n",
       "    </tr>\n",
       "  </thead>\n",
       "  <tbody>\n",
       "    <tr>\n",
       "      <th>3</th>\n",
       "      <td>9</td>\n",
       "      <td>0</td>\n",
       "      <td>0</td>\n",
       "      <td>0</td>\n",
       "      <td>0</td>\n",
       "      <td>0</td>\n",
       "    </tr>\n",
       "    <tr>\n",
       "      <th>4</th>\n",
       "      <td>0</td>\n",
       "      <td>40</td>\n",
       "      <td>3</td>\n",
       "      <td>0</td>\n",
       "      <td>0</td>\n",
       "      <td>0</td>\n",
       "    </tr>\n",
       "    <tr>\n",
       "      <th>5</th>\n",
       "      <td>0</td>\n",
       "      <td>0</td>\n",
       "      <td>547</td>\n",
       "      <td>4</td>\n",
       "      <td>0</td>\n",
       "      <td>0</td>\n",
       "    </tr>\n",
       "    <tr>\n",
       "      <th>6</th>\n",
       "      <td>0</td>\n",
       "      <td>0</td>\n",
       "      <td>9</td>\n",
       "      <td>497</td>\n",
       "      <td>0</td>\n",
       "      <td>0</td>\n",
       "    </tr>\n",
       "    <tr>\n",
       "      <th>7</th>\n",
       "      <td>0</td>\n",
       "      <td>0</td>\n",
       "      <td>1</td>\n",
       "      <td>5</td>\n",
       "      <td>151</td>\n",
       "      <td>0</td>\n",
       "    </tr>\n",
       "    <tr>\n",
       "      <th>8</th>\n",
       "      <td>0</td>\n",
       "      <td>0</td>\n",
       "      <td>0</td>\n",
       "      <td>1</td>\n",
       "      <td>1</td>\n",
       "      <td>11</td>\n",
       "    </tr>\n",
       "  </tbody>\n",
       "</table>\n",
       "</div>"
      ],
      "text/plain": [
       "   3   4    5    6    7   8\n",
       "3  9   0    0    0    0   0\n",
       "4  0  40    3    0    0   0\n",
       "5  0   0  547    4    0   0\n",
       "6  0   0    9  497    0   0\n",
       "7  0   0    1    5  151   0\n",
       "8  0   0    0    1    1  11"
      ]
     },
     "execution_count": 144,
     "metadata": {},
     "output_type": "execute_result"
    }
   ],
   "source": [
    "#create a confusion matrix for training data set  \n",
    "cm= confusion_matrix(y_train,train_predictions)  \n",
    "coords = [x for x in range(3,9)]\n",
    "cm = pd.DataFrame(cm,columns=coords, index=coords )\n",
    "cm"
   ]
  },
  {
   "cell_type": "code",
   "execution_count": 145,
   "id": "0347e60f",
   "metadata": {
    "execution": {
     "iopub.execute_input": "2022-03-11T10:25:38.099749Z",
     "iopub.status.busy": "2022-03-11T10:25:38.098754Z",
     "iopub.status.idle": "2022-03-11T10:25:38.108492Z",
     "shell.execute_reply": "2022-03-11T10:25:38.109241Z",
     "shell.execute_reply.started": "2022-02-27T13:13:03.576669Z"
    },
    "papermill": {
     "duration": 0.295451,
     "end_time": "2022-03-11T10:25:38.109484",
     "exception": false,
     "start_time": "2022-03-11T10:25:37.814033",
     "status": "completed"
    },
    "tags": []
   },
   "outputs": [
    {
     "name": "stdout",
     "output_type": "stream",
     "text": [
      "Actual test data set quality range: (3, 8)\n",
      "Predicted test data set quality range: (4, 7)\n"
     ]
    }
   ],
   "source": [
    "# compute test predictions using X_test\n",
    "test_preds= classifier.predict(X_test)\n",
    "print('Actual test data set quality range: ({}, {})'.format(y_test.min(), y_test.max()))\n",
    "print('Predicted test data set quality range: ({}, {})'.format(test_preds.min(), test_preds.max()))"
   ]
  },
  {
   "cell_type": "code",
   "execution_count": 146,
   "id": "1af8ae95",
   "metadata": {
    "execution": {
     "iopub.execute_input": "2022-03-11T10:25:38.692180Z",
     "iopub.status.busy": "2022-03-11T10:25:38.683515Z",
     "iopub.status.idle": "2022-03-11T10:25:38.696745Z",
     "shell.execute_reply": "2022-03-11T10:25:38.696155Z",
     "shell.execute_reply.started": "2022-02-27T13:13:03.589019Z"
    },
    "papermill": {
     "duration": 0.304826,
     "end_time": "2022-03-11T10:25:38.696934",
     "exception": false,
     "start_time": "2022-03-11T10:25:38.392108",
     "status": "completed"
    },
    "tags": []
   },
   "outputs": [
    {
     "data": {
      "text/html": [
       "<div>\n",
       "<style scoped>\n",
       "    .dataframe tbody tr th:only-of-type {\n",
       "        vertical-align: middle;\n",
       "    }\n",
       "\n",
       "    .dataframe tbody tr th {\n",
       "        vertical-align: top;\n",
       "    }\n",
       "\n",
       "    .dataframe thead th {\n",
       "        text-align: right;\n",
       "    }\n",
       "</style>\n",
       "<table border=\"1\" class=\"dataframe\">\n",
       "  <thead>\n",
       "    <tr style=\"text-align: right;\">\n",
       "      <th></th>\n",
       "      <th>3</th>\n",
       "      <th>4</th>\n",
       "      <th>5</th>\n",
       "      <th>6</th>\n",
       "      <th>7</th>\n",
       "      <th>8</th>\n",
       "    </tr>\n",
       "  </thead>\n",
       "  <tbody>\n",
       "    <tr>\n",
       "      <th>3</th>\n",
       "      <td>0</td>\n",
       "      <td>0</td>\n",
       "      <td>0</td>\n",
       "      <td>1</td>\n",
       "      <td>0</td>\n",
       "      <td>0</td>\n",
       "    </tr>\n",
       "    <tr>\n",
       "      <th>4</th>\n",
       "      <td>0</td>\n",
       "      <td>0</td>\n",
       "      <td>6</td>\n",
       "      <td>4</td>\n",
       "      <td>0</td>\n",
       "      <td>0</td>\n",
       "    </tr>\n",
       "    <tr>\n",
       "      <th>5</th>\n",
       "      <td>0</td>\n",
       "      <td>1</td>\n",
       "      <td>98</td>\n",
       "      <td>29</td>\n",
       "      <td>2</td>\n",
       "      <td>0</td>\n",
       "    </tr>\n",
       "    <tr>\n",
       "      <th>6</th>\n",
       "      <td>0</td>\n",
       "      <td>0</td>\n",
       "      <td>38</td>\n",
       "      <td>88</td>\n",
       "      <td>6</td>\n",
       "      <td>0</td>\n",
       "    </tr>\n",
       "    <tr>\n",
       "      <th>7</th>\n",
       "      <td>0</td>\n",
       "      <td>1</td>\n",
       "      <td>1</td>\n",
       "      <td>20</td>\n",
       "      <td>20</td>\n",
       "      <td>0</td>\n",
       "    </tr>\n",
       "    <tr>\n",
       "      <th>8</th>\n",
       "      <td>0</td>\n",
       "      <td>0</td>\n",
       "      <td>0</td>\n",
       "      <td>1</td>\n",
       "      <td>4</td>\n",
       "      <td>0</td>\n",
       "    </tr>\n",
       "  </tbody>\n",
       "</table>\n",
       "</div>"
      ],
      "text/plain": [
       "   3  4   5   6   7  8\n",
       "3  0  0   0   1   0  0\n",
       "4  0  0   6   4   0  0\n",
       "5  0  1  98  29   2  0\n",
       "6  0  0  38  88   6  0\n",
       "7  0  1   1  20  20  0\n",
       "8  0  0   0   1   4  0"
      ]
     },
     "execution_count": 146,
     "metadata": {},
     "output_type": "execute_result"
    }
   ],
   "source": [
    "#create a confusion matrix for test data set  \n",
    "cm= confusion_matrix(y_test,test_preds)  \n",
    "coords = [x for x in range(3,9)]\n",
    "cm = pd.DataFrame(cm,columns=coords, index=coords )\n",
    "cm"
   ]
  },
  {
   "cell_type": "code",
   "execution_count": 147,
   "id": "5631d3f1",
   "metadata": {
    "execution": {
     "iopub.execute_input": "2022-03-11T10:25:39.274132Z",
     "iopub.status.busy": "2022-03-11T10:25:39.273327Z",
     "iopub.status.idle": "2022-03-11T10:25:39.279344Z",
     "shell.execute_reply": "2022-03-11T10:25:39.279862Z",
     "shell.execute_reply.started": "2022-02-27T13:13:03.607298Z"
    },
    "papermill": {
     "duration": 0.29826,
     "end_time": "2022-03-11T10:25:39.280118",
     "exception": false,
     "start_time": "2022-03-11T10:25:38.981858",
     "status": "completed"
    },
    "tags": []
   },
   "outputs": [
    {
     "name": "stdout",
     "output_type": "stream",
     "text": [
      "training accuracy: 0.9812353401094606\n",
      "test accuracy: 0.64375\n"
     ]
    }
   ],
   "source": [
    "rf_accuracy1_train = accuracy_score(y_train, train_predictions)\n",
    "rf_accuracy1_test = accuracy_score(y_test, test_preds)\n",
    "print('training accuracy: {}'.format(rf_accuracy1_train))\n",
    "print('test accuracy: {}'.format(rf_accuracy1_test))"
   ]
  },
  {
   "cell_type": "markdown",
   "id": "9f101029",
   "metadata": {
    "papermill": {
     "duration": 0.283152,
     "end_time": "2022-03-11T10:25:39.851217",
     "exception": false,
     "start_time": "2022-03-11T10:25:39.568065",
     "status": "completed"
    },
    "tags": []
   },
   "source": [
    "##### Try increasing the accuracy through GridSearchCV"
   ]
  },
  {
   "cell_type": "code",
   "execution_count": 148,
   "id": "cf5be2a4",
   "metadata": {
    "execution": {
     "iopub.execute_input": "2022-03-11T10:25:40.434435Z",
     "iopub.status.busy": "2022-03-11T10:25:40.433500Z",
     "iopub.status.idle": "2022-03-11T10:32:01.240602Z",
     "shell.execute_reply": "2022-03-11T10:32:01.241171Z",
     "shell.execute_reply.started": "2022-02-27T13:13:03.614382Z"
    },
    "papermill": {
     "duration": 381.101789,
     "end_time": "2022-03-11T10:32:01.241382",
     "exception": false,
     "start_time": "2022-03-11T10:25:40.139593",
     "status": "completed"
    },
    "tags": []
   },
   "outputs": [
    {
     "data": {
      "text/plain": [
       "GridSearchCV(cv=5,\n",
       "             estimator=RandomForestClassifier(criterion='entropy',\n",
       "                                              n_estimators=10),\n",
       "             param_grid={'criterion': ['gini', 'entropy'],\n",
       "                         'max_depth': [7, 8, 9, 10, 11],\n",
       "                         'max_features': ['auto', 'sqrt', 'log2'],\n",
       "                         'n_estimators': [200, 500]})"
      ]
     },
     "execution_count": 148,
     "metadata": {},
     "output_type": "execute_result"
    }
   ],
   "source": [
    "# define gridsearchcv configuration params\n",
    "param_grid = { \n",
    "    'n_estimators': [200, 500],\n",
    "    'max_features': ['auto', 'sqrt', 'log2'],\n",
    "    'max_depth' : [7,8,9,10,11],\n",
    "    'criterion' :['gini', 'entropy']\n",
    "}\n",
    "\n",
    "# fit the training dataset via grid search\n",
    "CV_rfc = GridSearchCV(estimator=classifier, param_grid=param_grid, cv= 5)\n",
    "CV_rfc.fit(X_train, y_train)\n"
   ]
  },
  {
   "cell_type": "code",
   "execution_count": 149,
   "id": "3e8fa557",
   "metadata": {
    "execution": {
     "iopub.execute_input": "2022-03-11T10:32:01.828457Z",
     "iopub.status.busy": "2022-03-11T10:32:01.827669Z",
     "iopub.status.idle": "2022-03-11T10:32:01.832901Z",
     "shell.execute_reply": "2022-03-11T10:32:01.833390Z",
     "shell.execute_reply.started": "2022-02-27T13:18:34.955445Z"
    },
    "papermill": {
     "duration": 0.304172,
     "end_time": "2022-03-11T10:32:01.833716",
     "exception": false,
     "start_time": "2022-03-11T10:32:01.529544",
     "status": "completed"
    },
    "tags": []
   },
   "outputs": [
    {
     "name": "stdout",
     "output_type": "stream",
     "text": [
      "{'criterion': 'entropy', 'max_depth': 10, 'max_features': 'sqrt', 'n_estimators': 200}\n"
     ]
    }
   ],
   "source": [
    "best_params = CV_rfc.best_params_\n",
    "print(best_params)"
   ]
  },
  {
   "cell_type": "code",
   "execution_count": 150,
   "id": "933e3fad",
   "metadata": {
    "execution": {
     "iopub.execute_input": "2022-03-11T10:32:02.421111Z",
     "iopub.status.busy": "2022-03-11T10:32:02.418025Z",
     "iopub.status.idle": "2022-03-11T10:32:02.483235Z",
     "shell.execute_reply": "2022-03-11T10:32:02.482416Z",
     "shell.execute_reply.started": "2022-02-27T13:18:34.962591Z"
    },
    "papermill": {
     "duration": 0.35601,
     "end_time": "2022-03-11T10:32:02.483470",
     "exception": false,
     "start_time": "2022-03-11T10:32:02.127460",
     "status": "completed"
    },
    "scrolled": true,
    "tags": []
   },
   "outputs": [],
   "source": [
    "classifier = CV_rfc.best_estimator_\n",
    "train_predictions = classifier.predict(X_train)"
   ]
  },
  {
   "cell_type": "code",
   "execution_count": 151,
   "id": "2fedc896",
   "metadata": {
    "execution": {
     "iopub.execute_input": "2022-03-11T10:32:03.063895Z",
     "iopub.status.busy": "2022-03-11T10:32:03.063040Z",
     "iopub.status.idle": "2022-03-11T10:32:03.126474Z",
     "shell.execute_reply": "2022-03-11T10:32:03.125644Z",
     "shell.execute_reply.started": "2022-02-27T13:18:35.029153Z"
    },
    "papermill": {
     "duration": 0.355744,
     "end_time": "2022-03-11T10:32:03.126661",
     "exception": false,
     "start_time": "2022-03-11T10:32:02.770917",
     "status": "completed"
    },
    "tags": []
   },
   "outputs": [
    {
     "name": "stdout",
     "output_type": "stream",
     "text": [
      "Actual training data set quality range: (3, 8)\n",
      "Predicted training data set quality range: (3, 8)\n"
     ]
    }
   ],
   "source": [
    "# compute train_predictions using X_train\n",
    "train_predictions = classifier.predict(X_train)\n",
    "print('Actual training data set quality range: ({}, {})'.format(y_train.min(), y_train.max()))\n",
    "print('Predicted training data set quality range: ({}, {})'.format(train_predictions.min(), train_predictions.max()))"
   ]
  },
  {
   "cell_type": "code",
   "execution_count": 152,
   "id": "8ac4c21d",
   "metadata": {
    "execution": {
     "iopub.execute_input": "2022-03-11T10:32:03.714385Z",
     "iopub.status.busy": "2022-03-11T10:32:03.713569Z",
     "iopub.status.idle": "2022-03-11T10:32:03.728905Z",
     "shell.execute_reply": "2022-03-11T10:32:03.728227Z",
     "shell.execute_reply.started": "2022-02-27T13:18:35.086558Z"
    },
    "papermill": {
     "duration": 0.317127,
     "end_time": "2022-03-11T10:32:03.729079",
     "exception": false,
     "start_time": "2022-03-11T10:32:03.411952",
     "status": "completed"
    },
    "tags": []
   },
   "outputs": [
    {
     "data": {
      "text/html": [
       "<div>\n",
       "<style scoped>\n",
       "    .dataframe tbody tr th:only-of-type {\n",
       "        vertical-align: middle;\n",
       "    }\n",
       "\n",
       "    .dataframe tbody tr th {\n",
       "        vertical-align: top;\n",
       "    }\n",
       "\n",
       "    .dataframe thead th {\n",
       "        text-align: right;\n",
       "    }\n",
       "</style>\n",
       "<table border=\"1\" class=\"dataframe\">\n",
       "  <thead>\n",
       "    <tr style=\"text-align: right;\">\n",
       "      <th></th>\n",
       "      <th>3</th>\n",
       "      <th>4</th>\n",
       "      <th>5</th>\n",
       "      <th>6</th>\n",
       "      <th>7</th>\n",
       "      <th>8</th>\n",
       "    </tr>\n",
       "  </thead>\n",
       "  <tbody>\n",
       "    <tr>\n",
       "      <th>3</th>\n",
       "      <td>9</td>\n",
       "      <td>0</td>\n",
       "      <td>0</td>\n",
       "      <td>0</td>\n",
       "      <td>0</td>\n",
       "      <td>0</td>\n",
       "    </tr>\n",
       "    <tr>\n",
       "      <th>4</th>\n",
       "      <td>0</td>\n",
       "      <td>41</td>\n",
       "      <td>2</td>\n",
       "      <td>0</td>\n",
       "      <td>0</td>\n",
       "      <td>0</td>\n",
       "    </tr>\n",
       "    <tr>\n",
       "      <th>5</th>\n",
       "      <td>0</td>\n",
       "      <td>0</td>\n",
       "      <td>549</td>\n",
       "      <td>2</td>\n",
       "      <td>0</td>\n",
       "      <td>0</td>\n",
       "    </tr>\n",
       "    <tr>\n",
       "      <th>6</th>\n",
       "      <td>0</td>\n",
       "      <td>0</td>\n",
       "      <td>27</td>\n",
       "      <td>479</td>\n",
       "      <td>0</td>\n",
       "      <td>0</td>\n",
       "    </tr>\n",
       "    <tr>\n",
       "      <th>7</th>\n",
       "      <td>0</td>\n",
       "      <td>0</td>\n",
       "      <td>4</td>\n",
       "      <td>4</td>\n",
       "      <td>149</td>\n",
       "      <td>0</td>\n",
       "    </tr>\n",
       "    <tr>\n",
       "      <th>8</th>\n",
       "      <td>0</td>\n",
       "      <td>0</td>\n",
       "      <td>0</td>\n",
       "      <td>0</td>\n",
       "      <td>0</td>\n",
       "      <td>13</td>\n",
       "    </tr>\n",
       "  </tbody>\n",
       "</table>\n",
       "</div>"
      ],
      "text/plain": [
       "   3   4    5    6    7   8\n",
       "3  9   0    0    0    0   0\n",
       "4  0  41    2    0    0   0\n",
       "5  0   0  549    2    0   0\n",
       "6  0   0   27  479    0   0\n",
       "7  0   0    4    4  149   0\n",
       "8  0   0    0    0    0  13"
      ]
     },
     "execution_count": 152,
     "metadata": {},
     "output_type": "execute_result"
    }
   ],
   "source": [
    "#create a confusion matrix for training data set  \n",
    "cm= confusion_matrix(y_train,train_predictions)  \n",
    "coords = [x for x in range(3,9)]\n",
    "cm = pd.DataFrame(cm,columns=coords, index=coords )\n",
    "cm"
   ]
  },
  {
   "cell_type": "code",
   "execution_count": 153,
   "id": "52b48063",
   "metadata": {
    "execution": {
     "iopub.execute_input": "2022-03-11T10:32:04.308713Z",
     "iopub.status.busy": "2022-03-11T10:32:04.307919Z",
     "iopub.status.idle": "2022-03-11T10:32:04.344552Z",
     "shell.execute_reply": "2022-03-11T10:32:04.343843Z",
     "shell.execute_reply.started": "2022-02-27T13:18:35.101453Z"
    },
    "papermill": {
     "duration": 0.329569,
     "end_time": "2022-03-11T10:32:04.344754",
     "exception": false,
     "start_time": "2022-03-11T10:32:04.015185",
     "status": "completed"
    },
    "tags": []
   },
   "outputs": [
    {
     "name": "stdout",
     "output_type": "stream",
     "text": [
      "Actual test data set quality range: (3, 8)\n",
      "Predicted test data set quality range: (5, 8)\n"
     ]
    }
   ],
   "source": [
    "# compute test predictions using X_test\n",
    "test_preds= classifier.predict(X_test)\n",
    "print('Actual test data set quality range: ({}, {})'.format(y_test.min(), y_test.max()))\n",
    "print('Predicted test data set quality range: ({}, {})'.format(test_preds.min(), test_preds.max()))"
   ]
  },
  {
   "cell_type": "code",
   "execution_count": 154,
   "id": "6f8be910",
   "metadata": {
    "execution": {
     "iopub.execute_input": "2022-03-11T10:32:04.939946Z",
     "iopub.status.busy": "2022-03-11T10:32:04.939103Z",
     "iopub.status.idle": "2022-03-11T10:32:04.944110Z",
     "shell.execute_reply": "2022-03-11T10:32:04.943470Z",
     "shell.execute_reply.started": "2022-02-27T13:18:35.138292Z"
    },
    "papermill": {
     "duration": 0.311943,
     "end_time": "2022-03-11T10:32:04.944284",
     "exception": false,
     "start_time": "2022-03-11T10:32:04.632341",
     "status": "completed"
    },
    "tags": []
   },
   "outputs": [
    {
     "data": {
      "text/html": [
       "<div>\n",
       "<style scoped>\n",
       "    .dataframe tbody tr th:only-of-type {\n",
       "        vertical-align: middle;\n",
       "    }\n",
       "\n",
       "    .dataframe tbody tr th {\n",
       "        vertical-align: top;\n",
       "    }\n",
       "\n",
       "    .dataframe thead th {\n",
       "        text-align: right;\n",
       "    }\n",
       "</style>\n",
       "<table border=\"1\" class=\"dataframe\">\n",
       "  <thead>\n",
       "    <tr style=\"text-align: right;\">\n",
       "      <th></th>\n",
       "      <th>3</th>\n",
       "      <th>4</th>\n",
       "      <th>5</th>\n",
       "      <th>6</th>\n",
       "      <th>7</th>\n",
       "      <th>8</th>\n",
       "    </tr>\n",
       "  </thead>\n",
       "  <tbody>\n",
       "    <tr>\n",
       "      <th>3</th>\n",
       "      <td>0</td>\n",
       "      <td>0</td>\n",
       "      <td>1</td>\n",
       "      <td>0</td>\n",
       "      <td>0</td>\n",
       "      <td>0</td>\n",
       "    </tr>\n",
       "    <tr>\n",
       "      <th>4</th>\n",
       "      <td>0</td>\n",
       "      <td>0</td>\n",
       "      <td>7</td>\n",
       "      <td>3</td>\n",
       "      <td>0</td>\n",
       "      <td>0</td>\n",
       "    </tr>\n",
       "    <tr>\n",
       "      <th>5</th>\n",
       "      <td>0</td>\n",
       "      <td>0</td>\n",
       "      <td>102</td>\n",
       "      <td>28</td>\n",
       "      <td>0</td>\n",
       "      <td>0</td>\n",
       "    </tr>\n",
       "    <tr>\n",
       "      <th>6</th>\n",
       "      <td>0</td>\n",
       "      <td>0</td>\n",
       "      <td>39</td>\n",
       "      <td>86</td>\n",
       "      <td>7</td>\n",
       "      <td>0</td>\n",
       "    </tr>\n",
       "    <tr>\n",
       "      <th>7</th>\n",
       "      <td>0</td>\n",
       "      <td>0</td>\n",
       "      <td>0</td>\n",
       "      <td>19</td>\n",
       "      <td>22</td>\n",
       "      <td>1</td>\n",
       "    </tr>\n",
       "    <tr>\n",
       "      <th>8</th>\n",
       "      <td>0</td>\n",
       "      <td>0</td>\n",
       "      <td>0</td>\n",
       "      <td>1</td>\n",
       "      <td>4</td>\n",
       "      <td>0</td>\n",
       "    </tr>\n",
       "  </tbody>\n",
       "</table>\n",
       "</div>"
      ],
      "text/plain": [
       "   3  4    5   6   7  8\n",
       "3  0  0    1   0   0  0\n",
       "4  0  0    7   3   0  0\n",
       "5  0  0  102  28   0  0\n",
       "6  0  0   39  86   7  0\n",
       "7  0  0    0  19  22  1\n",
       "8  0  0    0   1   4  0"
      ]
     },
     "execution_count": 154,
     "metadata": {},
     "output_type": "execute_result"
    }
   ],
   "source": [
    "#create a confusion matrix for test data set  \n",
    "cm= confusion_matrix(y_test,test_preds)  \n",
    "coords = [x for x in range(3,9)]\n",
    "cm = pd.DataFrame(cm,columns=coords, index=coords )\n",
    "cm"
   ]
  },
  {
   "cell_type": "code",
   "execution_count": 155,
   "id": "c98feab6",
   "metadata": {
    "execution": {
     "iopub.execute_input": "2022-03-11T10:32:05.527723Z",
     "iopub.status.busy": "2022-03-11T10:32:05.526976Z",
     "iopub.status.idle": "2022-03-11T10:32:05.531147Z",
     "shell.execute_reply": "2022-03-11T10:32:05.530559Z",
     "shell.execute_reply.started": "2022-02-27T13:18:35.153401Z"
    },
    "papermill": {
     "duration": 0.29817,
     "end_time": "2022-03-11T10:32:05.531306",
     "exception": false,
     "start_time": "2022-03-11T10:32:05.233136",
     "status": "completed"
    },
    "tags": []
   },
   "outputs": [
    {
     "name": "stdout",
     "output_type": "stream",
     "text": [
      "compare rf and gs accuracy:\n",
      "\n",
      "rf1 training accuracy: 0.9812353401094606\n",
      "rf1 test accuracy: 0.64375\n",
      "\n",
      "gs1 training accuracy: 0.9695074276778733\n",
      "gs1 test accuracy: 0.65625\n"
     ]
    }
   ],
   "source": [
    "print('compare rf and gs accuracy:\\n')\n",
    "print('rf1 training accuracy: {}'.format(rf_accuracy1_train))\n",
    "print('rf1 test accuracy: {}'.format(rf_accuracy1_test))\n",
    "print()\n",
    "gs_accuracy1_train = accuracy_score(y_train, train_predictions)\n",
    "gs_accuracy1_test = accuracy_score(y_test, test_preds)\n",
    "print('gs1 training accuracy: {}'.format(gs_accuracy1_train))\n",
    "print('gs1 test accuracy: {}'.format(gs_accuracy1_test))\n"
   ]
  },
  {
   "cell_type": "markdown",
   "id": "ffdce4da",
   "metadata": {
    "papermill": {
     "duration": 0.28533,
     "end_time": "2022-03-11T10:32:06.110278",
     "exception": false,
     "start_time": "2022-03-11T10:32:05.824948",
     "status": "completed"
    },
    "tags": []
   },
   "source": [
    "#### Step 2: Develop the second Random Forest Model after dropping columns showing very weak correlations (0.0 - 0.2)\n",
    "1. Drop `pH`, `free sulfur dioxide`, `residual sugar` columns.\n",
    "2. Build the ML model, test and validate the predictions."
   ]
  },
  {
   "cell_type": "code",
   "execution_count": 156,
   "id": "8961e3b9",
   "metadata": {
    "execution": {
     "iopub.execute_input": "2022-03-11T10:32:06.705532Z",
     "iopub.status.busy": "2022-03-11T10:32:06.704742Z",
     "iopub.status.idle": "2022-03-11T10:32:06.707387Z",
     "shell.execute_reply": "2022-03-11T10:32:06.706725Z",
     "shell.execute_reply.started": "2022-02-27T13:18:35.165134Z"
    },
    "papermill": {
     "duration": 0.308313,
     "end_time": "2022-03-11T10:32:06.707552",
     "exception": false,
     "start_time": "2022-03-11T10:32:06.399239",
     "status": "completed"
    },
    "tags": []
   },
   "outputs": [],
   "source": [
    "### drop columns showing very weak correlations\n",
    "lst = ['pH', 'free sulfur dioxide', 'residual sugar']\n",
    "red_wine_data.drop(lst, axis =1, inplace = True)"
   ]
  },
  {
   "cell_type": "code",
   "execution_count": 157,
   "id": "24701f86",
   "metadata": {
    "execution": {
     "iopub.execute_input": "2022-03-11T10:32:07.293560Z",
     "iopub.status.busy": "2022-03-11T10:32:07.292804Z",
     "iopub.status.idle": "2022-03-11T10:32:07.299123Z",
     "shell.execute_reply": "2022-03-11T10:32:07.299800Z",
     "shell.execute_reply.started": "2022-02-27T13:18:35.178358Z"
    },
    "papermill": {
     "duration": 0.302164,
     "end_time": "2022-03-11T10:32:07.300029",
     "exception": false,
     "start_time": "2022-03-11T10:32:06.997865",
     "status": "completed"
    },
    "tags": []
   },
   "outputs": [],
   "source": [
    "# create the \"features and target\" data sets\n",
    "X = red_wine_data.drop('quality',axis=1)\n",
    "y = red_wine_data['quality']"
   ]
  },
  {
   "cell_type": "code",
   "execution_count": 158,
   "id": "a0fb7ca9",
   "metadata": {
    "execution": {
     "iopub.execute_input": "2022-03-11T10:32:07.890892Z",
     "iopub.status.busy": "2022-03-11T10:32:07.890101Z",
     "iopub.status.idle": "2022-03-11T10:32:07.897082Z",
     "shell.execute_reply": "2022-03-11T10:32:07.897815Z",
     "shell.execute_reply.started": "2022-02-27T13:18:35.198655Z"
    },
    "papermill": {
     "duration": 0.303081,
     "end_time": "2022-03-11T10:32:07.898121",
     "exception": false,
     "start_time": "2022-03-11T10:32:07.595040",
     "status": "completed"
    },
    "tags": []
   },
   "outputs": [],
   "source": [
    "#Feature Scaling\n",
    "object = StandardScaler()\n",
    "X = object.fit_transform(X)"
   ]
  },
  {
   "cell_type": "code",
   "execution_count": 159,
   "id": "7dda6f22",
   "metadata": {
    "execution": {
     "iopub.execute_input": "2022-03-11T10:32:08.474406Z",
     "iopub.status.busy": "2022-03-11T10:32:08.473646Z",
     "iopub.status.idle": "2022-03-11T10:32:08.481987Z",
     "shell.execute_reply": "2022-03-11T10:32:08.482622Z",
     "shell.execute_reply.started": "2022-02-27T13:18:35.218990Z"
    },
    "papermill": {
     "duration": 0.296341,
     "end_time": "2022-03-11T10:32:08.482850",
     "exception": false,
     "start_time": "2022-03-11T10:32:08.186509",
     "status": "completed"
    },
    "tags": []
   },
   "outputs": [
    {
     "name": "stdout",
     "output_type": "stream",
     "text": [
      "Random Forest: Model 2 train shapes:\n",
      "(1279, 8) (1279,)\n",
      "\n",
      "Random Forest: Model 2 test shapes:\n",
      "(320, 8) (320,)\n"
     ]
    }
   ],
   "source": [
    "# split the features and target data sets into train and test sets\n",
    "X_train, X_test, y_train, y_test = train_test_split(X, y, test_size=0.2, random_state=42)\n",
    "print('Random Forest: Model 2 train shapes:')\n",
    "print(X_train.shape, y_train.shape)\n",
    "print()\n",
    "print('Random Forest: Model 2 test shapes:')\n",
    "print(X_test.shape, y_test.shape)"
   ]
  },
  {
   "cell_type": "code",
   "execution_count": 160,
   "id": "cafd52b1",
   "metadata": {
    "execution": {
     "iopub.execute_input": "2022-03-11T10:32:09.062923Z",
     "iopub.status.busy": "2022-03-11T10:32:09.062146Z",
     "iopub.status.idle": "2022-03-11T10:32:09.108817Z",
     "shell.execute_reply": "2022-03-11T10:32:09.109464Z",
     "shell.execute_reply.started": "2022-02-27T13:18:35.233349Z"
    },
    "papermill": {
     "duration": 0.339042,
     "end_time": "2022-03-11T10:32:09.109690",
     "exception": false,
     "start_time": "2022-03-11T10:32:08.770648",
     "status": "completed"
    },
    "tags": []
   },
   "outputs": [],
   "source": [
    "# create and fit a Random Forest model\n",
    "classifier2 = RandomForestClassifier(n_estimators= 10, criterion=\"entropy\")  \n",
    "classifier2 = classifier2.fit(X_train, y_train)  "
   ]
  },
  {
   "cell_type": "code",
   "execution_count": 161,
   "id": "c9dc7630",
   "metadata": {
    "execution": {
     "iopub.execute_input": "2022-03-11T10:32:09.692415Z",
     "iopub.status.busy": "2022-03-11T10:32:09.688530Z",
     "iopub.status.idle": "2022-03-11T10:32:09.701000Z",
     "shell.execute_reply": "2022-03-11T10:32:09.701573Z",
     "shell.execute_reply.started": "2022-02-27T13:18:35.281133Z"
    },
    "papermill": {
     "duration": 0.305154,
     "end_time": "2022-03-11T10:32:09.701816",
     "exception": false,
     "start_time": "2022-03-11T10:32:09.396662",
     "status": "completed"
    },
    "tags": []
   },
   "outputs": [
    {
     "name": "stdout",
     "output_type": "stream",
     "text": [
      "Actual training data set quality range: (3, 8)\n",
      "Predicted training data set quality range: (3, 8)\n"
     ]
    }
   ],
   "source": [
    "# compute train_predictions using X_train\n",
    "train_predictions = classifier2.predict(X_train)\n",
    "print('Actual training data set quality range: ({}, {})'.format(y_train.min(), y_train.max()))\n",
    "print('Predicted training data set quality range: ({}, {})'.format(train_predictions.min(), train_predictions.max()))"
   ]
  },
  {
   "cell_type": "code",
   "execution_count": 162,
   "id": "3eac4492",
   "metadata": {
    "execution": {
     "iopub.execute_input": "2022-03-11T10:32:10.286084Z",
     "iopub.status.busy": "2022-03-11T10:32:10.285035Z",
     "iopub.status.idle": "2022-03-11T10:32:10.301014Z",
     "shell.execute_reply": "2022-03-11T10:32:10.301643Z",
     "shell.execute_reply.started": "2022-02-27T13:18:35.291604Z"
    },
    "papermill": {
     "duration": 0.305846,
     "end_time": "2022-03-11T10:32:10.301886",
     "exception": false,
     "start_time": "2022-03-11T10:32:09.996040",
     "status": "completed"
    },
    "tags": []
   },
   "outputs": [
    {
     "data": {
      "text/html": [
       "<div>\n",
       "<style scoped>\n",
       "    .dataframe tbody tr th:only-of-type {\n",
       "        vertical-align: middle;\n",
       "    }\n",
       "\n",
       "    .dataframe tbody tr th {\n",
       "        vertical-align: top;\n",
       "    }\n",
       "\n",
       "    .dataframe thead th {\n",
       "        text-align: right;\n",
       "    }\n",
       "</style>\n",
       "<table border=\"1\" class=\"dataframe\">\n",
       "  <thead>\n",
       "    <tr style=\"text-align: right;\">\n",
       "      <th></th>\n",
       "      <th>3</th>\n",
       "      <th>4</th>\n",
       "      <th>5</th>\n",
       "      <th>6</th>\n",
       "      <th>7</th>\n",
       "      <th>8</th>\n",
       "    </tr>\n",
       "  </thead>\n",
       "  <tbody>\n",
       "    <tr>\n",
       "      <th>3</th>\n",
       "      <td>9</td>\n",
       "      <td>0</td>\n",
       "      <td>0</td>\n",
       "      <td>0</td>\n",
       "      <td>0</td>\n",
       "      <td>0</td>\n",
       "    </tr>\n",
       "    <tr>\n",
       "      <th>4</th>\n",
       "      <td>0</td>\n",
       "      <td>43</td>\n",
       "      <td>0</td>\n",
       "      <td>0</td>\n",
       "      <td>0</td>\n",
       "      <td>0</td>\n",
       "    </tr>\n",
       "    <tr>\n",
       "      <th>5</th>\n",
       "      <td>0</td>\n",
       "      <td>0</td>\n",
       "      <td>550</td>\n",
       "      <td>1</td>\n",
       "      <td>0</td>\n",
       "      <td>0</td>\n",
       "    </tr>\n",
       "    <tr>\n",
       "      <th>6</th>\n",
       "      <td>0</td>\n",
       "      <td>0</td>\n",
       "      <td>8</td>\n",
       "      <td>498</td>\n",
       "      <td>0</td>\n",
       "      <td>0</td>\n",
       "    </tr>\n",
       "    <tr>\n",
       "      <th>7</th>\n",
       "      <td>0</td>\n",
       "      <td>0</td>\n",
       "      <td>0</td>\n",
       "      <td>4</td>\n",
       "      <td>153</td>\n",
       "      <td>0</td>\n",
       "    </tr>\n",
       "    <tr>\n",
       "      <th>8</th>\n",
       "      <td>0</td>\n",
       "      <td>0</td>\n",
       "      <td>0</td>\n",
       "      <td>1</td>\n",
       "      <td>0</td>\n",
       "      <td>12</td>\n",
       "    </tr>\n",
       "  </tbody>\n",
       "</table>\n",
       "</div>"
      ],
      "text/plain": [
       "   3   4    5    6    7   8\n",
       "3  9   0    0    0    0   0\n",
       "4  0  43    0    0    0   0\n",
       "5  0   0  550    1    0   0\n",
       "6  0   0    8  498    0   0\n",
       "7  0   0    0    4  153   0\n",
       "8  0   0    0    1    0  12"
      ]
     },
     "execution_count": 162,
     "metadata": {},
     "output_type": "execute_result"
    }
   ],
   "source": [
    "#create a confusion matrix for training data set  \n",
    "cm= confusion_matrix(y_train,train_predictions)  \n",
    "coords = [x for x in range(3,9)]\n",
    "cm = pd.DataFrame(cm,columns=coords, index=coords )\n",
    "cm"
   ]
  },
  {
   "cell_type": "code",
   "execution_count": 163,
   "id": "6eb7ddc2",
   "metadata": {
    "execution": {
     "iopub.execute_input": "2022-03-11T10:32:10.969674Z",
     "iopub.status.busy": "2022-03-11T10:32:10.968819Z",
     "iopub.status.idle": "2022-03-11T10:32:10.978201Z",
     "shell.execute_reply": "2022-03-11T10:32:10.979078Z",
     "shell.execute_reply.started": "2022-02-27T13:18:35.312906Z"
    },
    "papermill": {
     "duration": 0.391275,
     "end_time": "2022-03-11T10:32:10.979360",
     "exception": false,
     "start_time": "2022-03-11T10:32:10.588085",
     "status": "completed"
    },
    "tags": []
   },
   "outputs": [
    {
     "name": "stdout",
     "output_type": "stream",
     "text": [
      "Actual test data set quality range: (3, 8)\n",
      "Predicted test data set quality range: (4, 7)\n"
     ]
    }
   ],
   "source": [
    "# compute test predictions using X_test\n",
    "test_preds= classifier2.predict(X_test)\n",
    "print('Actual test data set quality range: ({}, {})'.format(y_test.min(), y_test.max()))\n",
    "print('Predicted test data set quality range: ({}, {})'.format(test_preds.min(), test_preds.max()))"
   ]
  },
  {
   "cell_type": "code",
   "execution_count": 164,
   "id": "a58e99a8",
   "metadata": {
    "execution": {
     "iopub.execute_input": "2022-03-11T10:32:11.567346Z",
     "iopub.status.busy": "2022-03-11T10:32:11.566149Z",
     "iopub.status.idle": "2022-03-11T10:32:11.583390Z",
     "shell.execute_reply": "2022-03-11T10:32:11.584089Z",
     "shell.execute_reply.started": "2022-02-27T13:18:35.325207Z"
    },
    "papermill": {
     "duration": 0.313307,
     "end_time": "2022-03-11T10:32:11.584328",
     "exception": false,
     "start_time": "2022-03-11T10:32:11.271021",
     "status": "completed"
    },
    "tags": []
   },
   "outputs": [
    {
     "data": {
      "text/html": [
       "<div>\n",
       "<style scoped>\n",
       "    .dataframe tbody tr th:only-of-type {\n",
       "        vertical-align: middle;\n",
       "    }\n",
       "\n",
       "    .dataframe tbody tr th {\n",
       "        vertical-align: top;\n",
       "    }\n",
       "\n",
       "    .dataframe thead th {\n",
       "        text-align: right;\n",
       "    }\n",
       "</style>\n",
       "<table border=\"1\" class=\"dataframe\">\n",
       "  <thead>\n",
       "    <tr style=\"text-align: right;\">\n",
       "      <th></th>\n",
       "      <th>3</th>\n",
       "      <th>4</th>\n",
       "      <th>5</th>\n",
       "      <th>6</th>\n",
       "      <th>7</th>\n",
       "      <th>8</th>\n",
       "    </tr>\n",
       "  </thead>\n",
       "  <tbody>\n",
       "    <tr>\n",
       "      <th>3</th>\n",
       "      <td>0</td>\n",
       "      <td>0</td>\n",
       "      <td>0</td>\n",
       "      <td>1</td>\n",
       "      <td>0</td>\n",
       "      <td>0</td>\n",
       "    </tr>\n",
       "    <tr>\n",
       "      <th>4</th>\n",
       "      <td>0</td>\n",
       "      <td>2</td>\n",
       "      <td>6</td>\n",
       "      <td>2</td>\n",
       "      <td>0</td>\n",
       "      <td>0</td>\n",
       "    </tr>\n",
       "    <tr>\n",
       "      <th>5</th>\n",
       "      <td>0</td>\n",
       "      <td>1</td>\n",
       "      <td>103</td>\n",
       "      <td>25</td>\n",
       "      <td>1</td>\n",
       "      <td>0</td>\n",
       "    </tr>\n",
       "    <tr>\n",
       "      <th>6</th>\n",
       "      <td>0</td>\n",
       "      <td>2</td>\n",
       "      <td>39</td>\n",
       "      <td>85</td>\n",
       "      <td>6</td>\n",
       "      <td>0</td>\n",
       "    </tr>\n",
       "    <tr>\n",
       "      <th>7</th>\n",
       "      <td>0</td>\n",
       "      <td>1</td>\n",
       "      <td>1</td>\n",
       "      <td>21</td>\n",
       "      <td>19</td>\n",
       "      <td>0</td>\n",
       "    </tr>\n",
       "    <tr>\n",
       "      <th>8</th>\n",
       "      <td>0</td>\n",
       "      <td>0</td>\n",
       "      <td>0</td>\n",
       "      <td>3</td>\n",
       "      <td>2</td>\n",
       "      <td>0</td>\n",
       "    </tr>\n",
       "  </tbody>\n",
       "</table>\n",
       "</div>"
      ],
      "text/plain": [
       "   3  4    5   6   7  8\n",
       "3  0  0    0   1   0  0\n",
       "4  0  2    6   2   0  0\n",
       "5  0  1  103  25   1  0\n",
       "6  0  2   39  85   6  0\n",
       "7  0  1    1  21  19  0\n",
       "8  0  0    0   3   2  0"
      ]
     },
     "execution_count": 164,
     "metadata": {},
     "output_type": "execute_result"
    }
   ],
   "source": [
    "#create a confusion matrix for test data set  \n",
    "cm= confusion_matrix(y_test,test_preds)  \n",
    "coords = [x for x in range(3,9)]\n",
    "cm = pd.DataFrame(cm,columns=coords, index=coords )\n",
    "cm"
   ]
  },
  {
   "cell_type": "code",
   "execution_count": 165,
   "id": "29625859",
   "metadata": {
    "execution": {
     "iopub.execute_input": "2022-03-11T10:32:12.204025Z",
     "iopub.status.busy": "2022-03-11T10:32:12.203184Z",
     "iopub.status.idle": "2022-03-11T10:32:12.208038Z",
     "shell.execute_reply": "2022-03-11T10:32:12.208569Z",
     "shell.execute_reply.started": "2022-02-27T13:18:35.343945Z"
    },
    "papermill": {
     "duration": 0.305249,
     "end_time": "2022-03-11T10:32:12.208788",
     "exception": false,
     "start_time": "2022-03-11T10:32:11.903539",
     "status": "completed"
    },
    "tags": []
   },
   "outputs": [
    {
     "name": "stdout",
     "output_type": "stream",
     "text": [
      "training accuracy: 0.9890539483971853\n",
      "test accuracy: 0.653125\n"
     ]
    }
   ],
   "source": [
    "rf_accuracy2_train = accuracy_score(y_train, train_predictions)\n",
    "rf_accuracy2_test = accuracy_score(y_test, test_preds)\n",
    "print('training accuracy: {}'.format(rf_accuracy2_train))\n",
    "print('test accuracy: {}'.format(rf_accuracy2_test))"
   ]
  },
  {
   "cell_type": "markdown",
   "id": "18bffd02",
   "metadata": {
    "papermill": {
     "duration": 0.291685,
     "end_time": "2022-03-11T10:32:12.797331",
     "exception": false,
     "start_time": "2022-03-11T10:32:12.505646",
     "status": "completed"
    },
    "tags": []
   },
   "source": [
    "##### Try increasing the accuracy through GridSearchCV"
   ]
  },
  {
   "cell_type": "code",
   "execution_count": 166,
   "id": "22e0aa50",
   "metadata": {
    "execution": {
     "iopub.execute_input": "2022-03-11T10:32:13.387304Z",
     "iopub.status.busy": "2022-03-11T10:32:13.386455Z",
     "iopub.status.idle": "2022-03-11T10:37:59.274320Z",
     "shell.execute_reply": "2022-03-11T10:37:59.274897Z",
     "shell.execute_reply.started": "2022-02-27T13:18:35.351971Z"
    },
    "papermill": {
     "duration": 346.185998,
     "end_time": "2022-03-11T10:37:59.275110",
     "exception": false,
     "start_time": "2022-03-11T10:32:13.089112",
     "status": "completed"
    },
    "tags": []
   },
   "outputs": [
    {
     "data": {
      "text/plain": [
       "GridSearchCV(cv=5,\n",
       "             estimator=RandomForestClassifier(criterion='entropy', max_depth=10,\n",
       "                                              max_features='sqrt',\n",
       "                                              n_estimators=200),\n",
       "             param_grid={'criterion': ['gini', 'entropy'],\n",
       "                         'max_depth': [7, 8, 9, 10, 11],\n",
       "                         'max_features': ['auto', 'sqrt', 'log2'],\n",
       "                         'n_estimators': [200, 500]})"
      ]
     },
     "execution_count": 166,
     "metadata": {},
     "output_type": "execute_result"
    }
   ],
   "source": [
    "# define gridsearchcv configuration params\n",
    "param_grid = { \n",
    "    'n_estimators': [200, 500],\n",
    "    'max_features': ['auto', 'sqrt', 'log2'],\n",
    "    'max_depth' : [7,8,9,10,11],\n",
    "    'criterion' :['gini', 'entropy']\n",
    "}\n",
    "\n",
    "# fit the training dataset via grid search\n",
    "CV_rfc = GridSearchCV(estimator=classifier, param_grid=param_grid, cv= 5)\n",
    "CV_rfc.fit(X_train, y_train)\n"
   ]
  },
  {
   "cell_type": "code",
   "execution_count": 167,
   "id": "2fd0040f",
   "metadata": {
    "execution": {
     "iopub.execute_input": "2022-03-11T10:37:59.859970Z",
     "iopub.status.busy": "2022-03-11T10:37:59.859195Z",
     "iopub.status.idle": "2022-03-11T10:37:59.862627Z",
     "shell.execute_reply": "2022-03-11T10:37:59.862050Z",
     "shell.execute_reply.started": "2022-02-27T13:23:17.458521Z"
    },
    "papermill": {
     "duration": 0.300715,
     "end_time": "2022-03-11T10:37:59.862805",
     "exception": false,
     "start_time": "2022-03-11T10:37:59.562090",
     "status": "completed"
    },
    "tags": []
   },
   "outputs": [
    {
     "name": "stdout",
     "output_type": "stream",
     "text": [
      "{'criterion': 'gini', 'max_depth': 11, 'max_features': 'auto', 'n_estimators': 200}\n"
     ]
    }
   ],
   "source": [
    "best_params = CV_rfc.best_params_\n",
    "print(best_params)"
   ]
  },
  {
   "cell_type": "code",
   "execution_count": 168,
   "id": "41df99f3",
   "metadata": {
    "execution": {
     "iopub.execute_input": "2022-03-11T10:38:00.458709Z",
     "iopub.status.busy": "2022-03-11T10:38:00.457978Z",
     "iopub.status.idle": "2022-03-11T10:38:00.524360Z",
     "shell.execute_reply": "2022-03-11T10:38:00.523733Z",
     "shell.execute_reply.started": "2022-02-27T13:23:17.465663Z"
    },
    "papermill": {
     "duration": 0.3623,
     "end_time": "2022-03-11T10:38:00.524537",
     "exception": false,
     "start_time": "2022-03-11T10:38:00.162237",
     "status": "completed"
    },
    "scrolled": true,
    "tags": []
   },
   "outputs": [],
   "source": [
    "classifier2 = CV_rfc.best_estimator_\n",
    "train_predictions = classifier2.predict(X_train)"
   ]
  },
  {
   "cell_type": "code",
   "execution_count": 169,
   "id": "47484a0e",
   "metadata": {
    "execution": {
     "iopub.execute_input": "2022-03-11T10:38:01.120848Z",
     "iopub.status.busy": "2022-03-11T10:38:01.119977Z",
     "iopub.status.idle": "2022-03-11T10:38:01.185992Z",
     "shell.execute_reply": "2022-03-11T10:38:01.186536Z",
     "shell.execute_reply.started": "2022-02-27T13:23:17.530815Z"
    },
    "papermill": {
     "duration": 0.368619,
     "end_time": "2022-03-11T10:38:01.186761",
     "exception": false,
     "start_time": "2022-03-11T10:38:00.818142",
     "status": "completed"
    },
    "tags": []
   },
   "outputs": [
    {
     "name": "stdout",
     "output_type": "stream",
     "text": [
      "Actual training data set quality range: (3, 8)\n",
      "Predicted training data set quality range: (3, 8)\n"
     ]
    }
   ],
   "source": [
    "# compute train_predictions using X_train\n",
    "train_predictions = classifier2.predict(X_train)\n",
    "print('Actual training data set quality range: ({}, {})'.format(y_train.min(), y_train.max()))\n",
    "print('Predicted training data set quality range: ({}, {})'.format(train_predictions.min(), train_predictions.max()))"
   ]
  },
  {
   "cell_type": "code",
   "execution_count": 170,
   "id": "319f34c0",
   "metadata": {
    "execution": {
     "iopub.execute_input": "2022-03-11T10:38:01.775400Z",
     "iopub.status.busy": "2022-03-11T10:38:01.774640Z",
     "iopub.status.idle": "2022-03-11T10:38:01.792031Z",
     "shell.execute_reply": "2022-03-11T10:38:01.791439Z",
     "shell.execute_reply.started": "2022-02-27T13:23:17.589624Z"
    },
    "papermill": {
     "duration": 0.31289,
     "end_time": "2022-03-11T10:38:01.792207",
     "exception": false,
     "start_time": "2022-03-11T10:38:01.479317",
     "status": "completed"
    },
    "tags": []
   },
   "outputs": [
    {
     "data": {
      "text/html": [
       "<div>\n",
       "<style scoped>\n",
       "    .dataframe tbody tr th:only-of-type {\n",
       "        vertical-align: middle;\n",
       "    }\n",
       "\n",
       "    .dataframe tbody tr th {\n",
       "        vertical-align: top;\n",
       "    }\n",
       "\n",
       "    .dataframe thead th {\n",
       "        text-align: right;\n",
       "    }\n",
       "</style>\n",
       "<table border=\"1\" class=\"dataframe\">\n",
       "  <thead>\n",
       "    <tr style=\"text-align: right;\">\n",
       "      <th></th>\n",
       "      <th>3</th>\n",
       "      <th>4</th>\n",
       "      <th>5</th>\n",
       "      <th>6</th>\n",
       "      <th>7</th>\n",
       "      <th>8</th>\n",
       "    </tr>\n",
       "  </thead>\n",
       "  <tbody>\n",
       "    <tr>\n",
       "      <th>3</th>\n",
       "      <td>8</td>\n",
       "      <td>0</td>\n",
       "      <td>1</td>\n",
       "      <td>0</td>\n",
       "      <td>0</td>\n",
       "      <td>0</td>\n",
       "    </tr>\n",
       "    <tr>\n",
       "      <th>4</th>\n",
       "      <td>0</td>\n",
       "      <td>36</td>\n",
       "      <td>7</td>\n",
       "      <td>0</td>\n",
       "      <td>0</td>\n",
       "      <td>0</td>\n",
       "    </tr>\n",
       "    <tr>\n",
       "      <th>5</th>\n",
       "      <td>0</td>\n",
       "      <td>0</td>\n",
       "      <td>547</td>\n",
       "      <td>4</td>\n",
       "      <td>0</td>\n",
       "      <td>0</td>\n",
       "    </tr>\n",
       "    <tr>\n",
       "      <th>6</th>\n",
       "      <td>0</td>\n",
       "      <td>0</td>\n",
       "      <td>14</td>\n",
       "      <td>492</td>\n",
       "      <td>0</td>\n",
       "      <td>0</td>\n",
       "    </tr>\n",
       "    <tr>\n",
       "      <th>7</th>\n",
       "      <td>0</td>\n",
       "      <td>0</td>\n",
       "      <td>4</td>\n",
       "      <td>5</td>\n",
       "      <td>148</td>\n",
       "      <td>0</td>\n",
       "    </tr>\n",
       "    <tr>\n",
       "      <th>8</th>\n",
       "      <td>0</td>\n",
       "      <td>0</td>\n",
       "      <td>0</td>\n",
       "      <td>0</td>\n",
       "      <td>0</td>\n",
       "      <td>13</td>\n",
       "    </tr>\n",
       "  </tbody>\n",
       "</table>\n",
       "</div>"
      ],
      "text/plain": [
       "   3   4    5    6    7   8\n",
       "3  8   0    1    0    0   0\n",
       "4  0  36    7    0    0   0\n",
       "5  0   0  547    4    0   0\n",
       "6  0   0   14  492    0   0\n",
       "7  0   0    4    5  148   0\n",
       "8  0   0    0    0    0  13"
      ]
     },
     "execution_count": 170,
     "metadata": {},
     "output_type": "execute_result"
    }
   ],
   "source": [
    "#create a confusion matrix for training data set  \n",
    "cm= confusion_matrix(y_train,train_predictions)  \n",
    "coords = [x for x in range(3,9)]\n",
    "cm = pd.DataFrame(cm,columns=coords, index=coords )\n",
    "cm"
   ]
  },
  {
   "cell_type": "code",
   "execution_count": 171,
   "id": "14e926f1",
   "metadata": {
    "execution": {
     "iopub.execute_input": "2022-03-11T10:38:02.383469Z",
     "iopub.status.busy": "2022-03-11T10:38:02.382732Z",
     "iopub.status.idle": "2022-03-11T10:38:02.420493Z",
     "shell.execute_reply": "2022-03-11T10:38:02.419859Z",
     "shell.execute_reply.started": "2022-02-27T13:23:17.603579Z"
    },
    "papermill": {
     "duration": 0.335564,
     "end_time": "2022-03-11T10:38:02.420654",
     "exception": false,
     "start_time": "2022-03-11T10:38:02.085090",
     "status": "completed"
    },
    "tags": []
   },
   "outputs": [
    {
     "name": "stdout",
     "output_type": "stream",
     "text": [
      "Actual test data set quality range: (3, 8)\n",
      "Predicted test data set quality range: (5, 8)\n"
     ]
    }
   ],
   "source": [
    "# compute test predictions using X_test\n",
    "test_preds= classifier2.predict(X_test)\n",
    "print('Actual test data set quality range: ({}, {})'.format(y_test.min(), y_test.max()))\n",
    "print('Predicted test data set quality range: ({}, {})'.format(test_preds.min(), test_preds.max()))"
   ]
  },
  {
   "cell_type": "code",
   "execution_count": 172,
   "id": "c4e92cfb",
   "metadata": {
    "execution": {
     "iopub.execute_input": "2022-03-11T10:38:03.017879Z",
     "iopub.status.busy": "2022-03-11T10:38:03.015028Z",
     "iopub.status.idle": "2022-03-11T10:38:03.031093Z",
     "shell.execute_reply": "2022-03-11T10:38:03.030372Z",
     "shell.execute_reply.started": "2022-02-27T13:23:17.642566Z"
    },
    "papermill": {
     "duration": 0.314832,
     "end_time": "2022-03-11T10:38:03.031278",
     "exception": false,
     "start_time": "2022-03-11T10:38:02.716446",
     "status": "completed"
    },
    "scrolled": true,
    "tags": []
   },
   "outputs": [
    {
     "data": {
      "text/html": [
       "<div>\n",
       "<style scoped>\n",
       "    .dataframe tbody tr th:only-of-type {\n",
       "        vertical-align: middle;\n",
       "    }\n",
       "\n",
       "    .dataframe tbody tr th {\n",
       "        vertical-align: top;\n",
       "    }\n",
       "\n",
       "    .dataframe thead th {\n",
       "        text-align: right;\n",
       "    }\n",
       "</style>\n",
       "<table border=\"1\" class=\"dataframe\">\n",
       "  <thead>\n",
       "    <tr style=\"text-align: right;\">\n",
       "      <th></th>\n",
       "      <th>3</th>\n",
       "      <th>4</th>\n",
       "      <th>5</th>\n",
       "      <th>6</th>\n",
       "      <th>7</th>\n",
       "      <th>8</th>\n",
       "    </tr>\n",
       "  </thead>\n",
       "  <tbody>\n",
       "    <tr>\n",
       "      <th>3</th>\n",
       "      <td>0</td>\n",
       "      <td>0</td>\n",
       "      <td>1</td>\n",
       "      <td>0</td>\n",
       "      <td>0</td>\n",
       "      <td>0</td>\n",
       "    </tr>\n",
       "    <tr>\n",
       "      <th>4</th>\n",
       "      <td>0</td>\n",
       "      <td>0</td>\n",
       "      <td>7</td>\n",
       "      <td>3</td>\n",
       "      <td>0</td>\n",
       "      <td>0</td>\n",
       "    </tr>\n",
       "    <tr>\n",
       "      <th>5</th>\n",
       "      <td>0</td>\n",
       "      <td>0</td>\n",
       "      <td>101</td>\n",
       "      <td>28</td>\n",
       "      <td>1</td>\n",
       "      <td>0</td>\n",
       "    </tr>\n",
       "    <tr>\n",
       "      <th>6</th>\n",
       "      <td>0</td>\n",
       "      <td>0</td>\n",
       "      <td>32</td>\n",
       "      <td>94</td>\n",
       "      <td>6</td>\n",
       "      <td>0</td>\n",
       "    </tr>\n",
       "    <tr>\n",
       "      <th>7</th>\n",
       "      <td>0</td>\n",
       "      <td>0</td>\n",
       "      <td>0</td>\n",
       "      <td>21</td>\n",
       "      <td>20</td>\n",
       "      <td>1</td>\n",
       "    </tr>\n",
       "    <tr>\n",
       "      <th>8</th>\n",
       "      <td>0</td>\n",
       "      <td>0</td>\n",
       "      <td>0</td>\n",
       "      <td>1</td>\n",
       "      <td>4</td>\n",
       "      <td>0</td>\n",
       "    </tr>\n",
       "  </tbody>\n",
       "</table>\n",
       "</div>"
      ],
      "text/plain": [
       "   3  4    5   6   7  8\n",
       "3  0  0    1   0   0  0\n",
       "4  0  0    7   3   0  0\n",
       "5  0  0  101  28   1  0\n",
       "6  0  0   32  94   6  0\n",
       "7  0  0    0  21  20  1\n",
       "8  0  0    0   1   4  0"
      ]
     },
     "execution_count": 172,
     "metadata": {},
     "output_type": "execute_result"
    }
   ],
   "source": [
    "#create a confusion matrix for test data set  \n",
    "cm= confusion_matrix(y_test,test_preds)  \n",
    "coords = [x for x in range(3,9)]\n",
    "cm = pd.DataFrame(cm,columns=coords, index=coords )\n",
    "cm"
   ]
  },
  {
   "cell_type": "code",
   "execution_count": 173,
   "id": "0eb89cce",
   "metadata": {
    "execution": {
     "iopub.execute_input": "2022-03-11T10:38:03.639746Z",
     "iopub.status.busy": "2022-03-11T10:38:03.638942Z",
     "iopub.status.idle": "2022-03-11T10:38:03.646248Z",
     "shell.execute_reply": "2022-03-11T10:38:03.647113Z",
     "shell.execute_reply.started": "2022-02-27T13:23:17.656901Z"
    },
    "papermill": {
     "duration": 0.322251,
     "end_time": "2022-03-11T10:38:03.647406",
     "exception": false,
     "start_time": "2022-03-11T10:38:03.325155",
     "status": "completed"
    },
    "tags": []
   },
   "outputs": [
    {
     "name": "stdout",
     "output_type": "stream",
     "text": [
      "compare rf and gs accuracy:\n",
      "\n",
      "rf2 training accuracy: 0.9890539483971853\n",
      "rf2 test accuracy: 0.653125\n",
      "\n",
      "gs2 training accuracy: 0.9726348709929633\n",
      "gs2 test accuracy: 0.671875\n"
     ]
    }
   ],
   "source": [
    "print('compare rf and gs accuracy:\\n')\n",
    "print('rf2 training accuracy: {}'.format(rf_accuracy2_train))\n",
    "print('rf2 test accuracy: {}'.format(rf_accuracy2_test))\n",
    "print()\n",
    "gs_accuracy2_train = accuracy_score(y_train, train_predictions)\n",
    "gs_accuracy2_test = accuracy_score(y_test, test_preds)\n",
    "print('gs2 training accuracy: {}'.format(gs_accuracy2_train))\n",
    "print('gs2 test accuracy: {}'.format(gs_accuracy2_test))\n"
   ]
  },
  {
   "cell_type": "markdown",
   "id": "71336618",
   "metadata": {
    "papermill": {
     "duration": 0.292733,
     "end_time": "2022-03-11T10:38:04.247194",
     "exception": false,
     "start_time": "2022-03-11T10:38:03.954461",
     "status": "completed"
    },
    "tags": []
   },
   "source": [
    "#### Step 3: Develop the third Random Forest Model after dropping columns showing weak correlations (0.2 - 0.4)\n",
    "\n",
    "1. Drop columns `fixed acidity`, `citric acid`, `chlorides`, `total sulfur dioxide`, `density`\n",
    "2. Build the ML model, test and validate the predictions."
   ]
  },
  {
   "cell_type": "code",
   "execution_count": 174,
   "id": "05c32e1d",
   "metadata": {
    "execution": {
     "iopub.execute_input": "2022-03-11T10:38:04.843161Z",
     "iopub.status.busy": "2022-03-11T10:38:04.842418Z",
     "iopub.status.idle": "2022-03-11T10:38:04.848351Z",
     "shell.execute_reply": "2022-03-11T10:38:04.848981Z",
     "shell.execute_reply.started": "2022-02-27T13:23:17.670367Z"
    },
    "papermill": {
     "duration": 0.309228,
     "end_time": "2022-03-11T10:38:04.849223",
     "exception": false,
     "start_time": "2022-03-11T10:38:04.539995",
     "status": "completed"
    },
    "tags": []
   },
   "outputs": [],
   "source": [
    "### drop columns showing weak correlations\n",
    "lst = ['fixed acidity', 'citric acid', 'chlorides', 'total sulfur dioxide', 'density']\n",
    "red_wine_data.drop(lst, axis =1, inplace = True)"
   ]
  },
  {
   "cell_type": "code",
   "execution_count": 175,
   "id": "1ebb3267",
   "metadata": {
    "execution": {
     "iopub.execute_input": "2022-03-11T10:38:05.436197Z",
     "iopub.status.busy": "2022-03-11T10:38:05.435443Z",
     "iopub.status.idle": "2022-03-11T10:38:05.440939Z",
     "shell.execute_reply": "2022-03-11T10:38:05.441436Z",
     "shell.execute_reply.started": "2022-02-27T13:23:17.688691Z"
    },
    "papermill": {
     "duration": 0.302556,
     "end_time": "2022-03-11T10:38:05.441716",
     "exception": false,
     "start_time": "2022-03-11T10:38:05.139160",
     "status": "completed"
    },
    "tags": []
   },
   "outputs": [],
   "source": [
    "# create the \"features and target\" data sets\n",
    "X = red_wine_data.drop('quality',axis=1)\n",
    "y = red_wine_data['quality']"
   ]
  },
  {
   "cell_type": "code",
   "execution_count": 176,
   "id": "9c3c1cd7",
   "metadata": {
    "execution": {
     "iopub.execute_input": "2022-03-11T10:38:06.037057Z",
     "iopub.status.busy": "2022-03-11T10:38:06.034115Z",
     "iopub.status.idle": "2022-03-11T10:38:06.040530Z",
     "shell.execute_reply": "2022-03-11T10:38:06.039902Z",
     "shell.execute_reply.started": "2022-02-27T13:23:17.705958Z"
    },
    "papermill": {
     "duration": 0.307551,
     "end_time": "2022-03-11T10:38:06.040722",
     "exception": false,
     "start_time": "2022-03-11T10:38:05.733171",
     "status": "completed"
    },
    "tags": []
   },
   "outputs": [],
   "source": [
    "#Feature Scaling\n",
    "object = StandardScaler()\n",
    "X = object.fit_transform(X)"
   ]
  },
  {
   "cell_type": "code",
   "execution_count": 177,
   "id": "f7806f75",
   "metadata": {
    "execution": {
     "iopub.execute_input": "2022-03-11T10:38:06.640694Z",
     "iopub.status.busy": "2022-03-11T10:38:06.639896Z",
     "iopub.status.idle": "2022-03-11T10:38:06.647809Z",
     "shell.execute_reply": "2022-03-11T10:38:06.648347Z",
     "shell.execute_reply.started": "2022-02-27T13:23:17.726098Z"
    },
    "papermill": {
     "duration": 0.308437,
     "end_time": "2022-03-11T10:38:06.648595",
     "exception": false,
     "start_time": "2022-03-11T10:38:06.340158",
     "status": "completed"
    },
    "tags": []
   },
   "outputs": [
    {
     "name": "stdout",
     "output_type": "stream",
     "text": [
      "Random Forest: Model 2 train shapes:\n",
      "(1279, 3) (1279,)\n",
      "\n",
      "Random Forest: Model 2 test shapes:\n",
      "(320, 3) (320,)\n"
     ]
    }
   ],
   "source": [
    "# split the features and target data sets into train and test sets\n",
    "X_train, X_test, y_train, y_test = train_test_split(X, y, test_size=0.2, random_state=42)\n",
    "print('Random Forest: Model 2 train shapes:')\n",
    "print(X_train.shape, y_train.shape)\n",
    "print()\n",
    "print('Random Forest: Model 2 test shapes:')\n",
    "print(X_test.shape, y_test.shape)"
   ]
  },
  {
   "cell_type": "code",
   "execution_count": 178,
   "id": "0ae538bb",
   "metadata": {
    "execution": {
     "iopub.execute_input": "2022-03-11T10:38:07.258073Z",
     "iopub.status.busy": "2022-03-11T10:38:07.250161Z",
     "iopub.status.idle": "2022-03-11T10:38:07.289236Z",
     "shell.execute_reply": "2022-03-11T10:38:07.288327Z",
     "shell.execute_reply.started": "2022-02-27T13:23:17.742464Z"
    },
    "papermill": {
     "duration": 0.345086,
     "end_time": "2022-03-11T10:38:07.289414",
     "exception": false,
     "start_time": "2022-03-11T10:38:06.944328",
     "status": "completed"
    },
    "tags": []
   },
   "outputs": [],
   "source": [
    "# create and fit a Random Forest model\n",
    "classifier3 = RandomForestClassifier(n_estimators= 10, criterion=\"entropy\")  \n",
    "classifier3 = classifier3.fit(X_train, y_train)  "
   ]
  },
  {
   "cell_type": "code",
   "execution_count": 179,
   "id": "43d84db7",
   "metadata": {
    "execution": {
     "iopub.execute_input": "2022-03-11T10:38:07.886988Z",
     "iopub.status.busy": "2022-03-11T10:38:07.886184Z",
     "iopub.status.idle": "2022-03-11T10:38:07.895868Z",
     "shell.execute_reply": "2022-03-11T10:38:07.895233Z",
     "shell.execute_reply.started": "2022-02-27T13:23:17.798864Z"
    },
    "papermill": {
     "duration": 0.308977,
     "end_time": "2022-03-11T10:38:07.896034",
     "exception": false,
     "start_time": "2022-03-11T10:38:07.587057",
     "status": "completed"
    },
    "tags": []
   },
   "outputs": [
    {
     "name": "stdout",
     "output_type": "stream",
     "text": [
      "Actual training data set quality range: (3, 8)\n",
      "Predicted training data set quality range: (3, 8)\n"
     ]
    }
   ],
   "source": [
    "# compute train_predictions using X_train\n",
    "train_predictions = classifier3.predict(X_train)\n",
    "print('Actual training data set quality range: ({}, {})'.format(y_train.min(), y_train.max()))\n",
    "print('Predicted training data set quality range: ({}, {})'.format(train_predictions.min(), train_predictions.max()))"
   ]
  },
  {
   "cell_type": "code",
   "execution_count": 180,
   "id": "e85f8d8d",
   "metadata": {
    "execution": {
     "iopub.execute_input": "2022-03-11T10:38:08.496836Z",
     "iopub.status.busy": "2022-03-11T10:38:08.493495Z",
     "iopub.status.idle": "2022-03-11T10:38:08.510250Z",
     "shell.execute_reply": "2022-03-11T10:38:08.509564Z",
     "shell.execute_reply.started": "2022-02-27T13:23:17.812683Z"
    },
    "papermill": {
     "duration": 0.312038,
     "end_time": "2022-03-11T10:38:08.510418",
     "exception": false,
     "start_time": "2022-03-11T10:38:08.198380",
     "status": "completed"
    },
    "tags": []
   },
   "outputs": [
    {
     "data": {
      "text/html": [
       "<div>\n",
       "<style scoped>\n",
       "    .dataframe tbody tr th:only-of-type {\n",
       "        vertical-align: middle;\n",
       "    }\n",
       "\n",
       "    .dataframe tbody tr th {\n",
       "        vertical-align: top;\n",
       "    }\n",
       "\n",
       "    .dataframe thead th {\n",
       "        text-align: right;\n",
       "    }\n",
       "</style>\n",
       "<table border=\"1\" class=\"dataframe\">\n",
       "  <thead>\n",
       "    <tr style=\"text-align: right;\">\n",
       "      <th></th>\n",
       "      <th>3</th>\n",
       "      <th>4</th>\n",
       "      <th>5</th>\n",
       "      <th>6</th>\n",
       "      <th>7</th>\n",
       "      <th>8</th>\n",
       "    </tr>\n",
       "  </thead>\n",
       "  <tbody>\n",
       "    <tr>\n",
       "      <th>3</th>\n",
       "      <td>8</td>\n",
       "      <td>0</td>\n",
       "      <td>1</td>\n",
       "      <td>0</td>\n",
       "      <td>0</td>\n",
       "      <td>0</td>\n",
       "    </tr>\n",
       "    <tr>\n",
       "      <th>4</th>\n",
       "      <td>0</td>\n",
       "      <td>41</td>\n",
       "      <td>1</td>\n",
       "      <td>1</td>\n",
       "      <td>0</td>\n",
       "      <td>0</td>\n",
       "    </tr>\n",
       "    <tr>\n",
       "      <th>5</th>\n",
       "      <td>0</td>\n",
       "      <td>0</td>\n",
       "      <td>544</td>\n",
       "      <td>6</td>\n",
       "      <td>1</td>\n",
       "      <td>0</td>\n",
       "    </tr>\n",
       "    <tr>\n",
       "      <th>6</th>\n",
       "      <td>0</td>\n",
       "      <td>0</td>\n",
       "      <td>16</td>\n",
       "      <td>489</td>\n",
       "      <td>0</td>\n",
       "      <td>1</td>\n",
       "    </tr>\n",
       "    <tr>\n",
       "      <th>7</th>\n",
       "      <td>0</td>\n",
       "      <td>0</td>\n",
       "      <td>1</td>\n",
       "      <td>8</td>\n",
       "      <td>148</td>\n",
       "      <td>0</td>\n",
       "    </tr>\n",
       "    <tr>\n",
       "      <th>8</th>\n",
       "      <td>0</td>\n",
       "      <td>0</td>\n",
       "      <td>0</td>\n",
       "      <td>1</td>\n",
       "      <td>1</td>\n",
       "      <td>11</td>\n",
       "    </tr>\n",
       "  </tbody>\n",
       "</table>\n",
       "</div>"
      ],
      "text/plain": [
       "   3   4    5    6    7   8\n",
       "3  8   0    1    0    0   0\n",
       "4  0  41    1    1    0   0\n",
       "5  0   0  544    6    1   0\n",
       "6  0   0   16  489    0   1\n",
       "7  0   0    1    8  148   0\n",
       "8  0   0    0    1    1  11"
      ]
     },
     "execution_count": 180,
     "metadata": {},
     "output_type": "execute_result"
    }
   ],
   "source": [
    "#create a confusion matrix for training data set  \n",
    "cm= confusion_matrix(y_train,train_predictions)  \n",
    "coords = [x for x in range(3,9)]\n",
    "cm = pd.DataFrame(cm,columns=coords, index=coords )\n",
    "cm"
   ]
  },
  {
   "cell_type": "code",
   "execution_count": 181,
   "id": "fb28b52e",
   "metadata": {
    "execution": {
     "iopub.execute_input": "2022-03-11T10:38:09.112486Z",
     "iopub.status.busy": "2022-03-11T10:38:09.111628Z",
     "iopub.status.idle": "2022-03-11T10:38:09.116009Z",
     "shell.execute_reply": "2022-03-11T10:38:09.115025Z",
     "shell.execute_reply.started": "2022-02-27T13:23:17.830229Z"
    },
    "papermill": {
     "duration": 0.311408,
     "end_time": "2022-03-11T10:38:09.116240",
     "exception": false,
     "start_time": "2022-03-11T10:38:08.804832",
     "status": "completed"
    },
    "tags": []
   },
   "outputs": [
    {
     "name": "stdout",
     "output_type": "stream",
     "text": [
      "Actual test data set quality range: (3, 8)\n",
      "Predicted test data set quality range: (3, 7)\n"
     ]
    }
   ],
   "source": [
    "# compute test predictions using X_test\n",
    "test_preds= classifier3.predict(X_test)\n",
    "print('Actual test data set quality range: ({}, {})'.format(y_test.min(), y_test.max()))\n",
    "print('Predicted test data set quality range: ({}, {})'.format(test_preds.min(), test_preds.max()))"
   ]
  },
  {
   "cell_type": "code",
   "execution_count": 182,
   "id": "b5fd2fb3",
   "metadata": {
    "execution": {
     "iopub.execute_input": "2022-03-11T10:38:09.722757Z",
     "iopub.status.busy": "2022-03-11T10:38:09.722010Z",
     "iopub.status.idle": "2022-03-11T10:38:09.735788Z",
     "shell.execute_reply": "2022-03-11T10:38:09.736412Z",
     "shell.execute_reply.started": "2022-02-27T13:23:17.840339Z"
    },
    "papermill": {
     "duration": 0.315971,
     "end_time": "2022-03-11T10:38:09.736616",
     "exception": false,
     "start_time": "2022-03-11T10:38:09.420645",
     "status": "completed"
    },
    "tags": []
   },
   "outputs": [
    {
     "data": {
      "text/html": [
       "<div>\n",
       "<style scoped>\n",
       "    .dataframe tbody tr th:only-of-type {\n",
       "        vertical-align: middle;\n",
       "    }\n",
       "\n",
       "    .dataframe tbody tr th {\n",
       "        vertical-align: top;\n",
       "    }\n",
       "\n",
       "    .dataframe thead th {\n",
       "        text-align: right;\n",
       "    }\n",
       "</style>\n",
       "<table border=\"1\" class=\"dataframe\">\n",
       "  <thead>\n",
       "    <tr style=\"text-align: right;\">\n",
       "      <th></th>\n",
       "      <th>3</th>\n",
       "      <th>4</th>\n",
       "      <th>5</th>\n",
       "      <th>6</th>\n",
       "      <th>7</th>\n",
       "      <th>8</th>\n",
       "    </tr>\n",
       "  </thead>\n",
       "  <tbody>\n",
       "    <tr>\n",
       "      <th>3</th>\n",
       "      <td>0</td>\n",
       "      <td>0</td>\n",
       "      <td>1</td>\n",
       "      <td>0</td>\n",
       "      <td>0</td>\n",
       "      <td>0</td>\n",
       "    </tr>\n",
       "    <tr>\n",
       "      <th>4</th>\n",
       "      <td>0</td>\n",
       "      <td>0</td>\n",
       "      <td>7</td>\n",
       "      <td>3</td>\n",
       "      <td>0</td>\n",
       "      <td>0</td>\n",
       "    </tr>\n",
       "    <tr>\n",
       "      <th>5</th>\n",
       "      <td>0</td>\n",
       "      <td>1</td>\n",
       "      <td>104</td>\n",
       "      <td>22</td>\n",
       "      <td>3</td>\n",
       "      <td>0</td>\n",
       "    </tr>\n",
       "    <tr>\n",
       "      <th>6</th>\n",
       "      <td>1</td>\n",
       "      <td>2</td>\n",
       "      <td>43</td>\n",
       "      <td>72</td>\n",
       "      <td>14</td>\n",
       "      <td>0</td>\n",
       "    </tr>\n",
       "    <tr>\n",
       "      <th>7</th>\n",
       "      <td>0</td>\n",
       "      <td>0</td>\n",
       "      <td>3</td>\n",
       "      <td>16</td>\n",
       "      <td>23</td>\n",
       "      <td>0</td>\n",
       "    </tr>\n",
       "    <tr>\n",
       "      <th>8</th>\n",
       "      <td>0</td>\n",
       "      <td>0</td>\n",
       "      <td>0</td>\n",
       "      <td>2</td>\n",
       "      <td>3</td>\n",
       "      <td>0</td>\n",
       "    </tr>\n",
       "  </tbody>\n",
       "</table>\n",
       "</div>"
      ],
      "text/plain": [
       "   3  4    5   6   7  8\n",
       "3  0  0    1   0   0  0\n",
       "4  0  0    7   3   0  0\n",
       "5  0  1  104  22   3  0\n",
       "6  1  2   43  72  14  0\n",
       "7  0  0    3  16  23  0\n",
       "8  0  0    0   2   3  0"
      ]
     },
     "execution_count": 182,
     "metadata": {},
     "output_type": "execute_result"
    }
   ],
   "source": [
    "#create a confusion matrix for test data set  \n",
    "cm= confusion_matrix(y_test,test_preds)  \n",
    "coords = [x for x in range(3,9)]\n",
    "cm = pd.DataFrame(cm,columns=coords, index=coords )\n",
    "cm"
   ]
  },
  {
   "cell_type": "code",
   "execution_count": 183,
   "id": "8972ae4d",
   "metadata": {
    "execution": {
     "iopub.execute_input": "2022-03-11T10:38:10.337882Z",
     "iopub.status.busy": "2022-03-11T10:38:10.337097Z",
     "iopub.status.idle": "2022-03-11T10:38:10.341462Z",
     "shell.execute_reply": "2022-03-11T10:38:10.340564Z",
     "shell.execute_reply.started": "2022-02-27T13:23:17.865794Z"
    },
    "papermill": {
     "duration": 0.30874,
     "end_time": "2022-03-11T10:38:10.341682",
     "exception": false,
     "start_time": "2022-03-11T10:38:10.032942",
     "status": "completed"
    },
    "tags": []
   },
   "outputs": [
    {
     "name": "stdout",
     "output_type": "stream",
     "text": [
      "training accuracy: 0.9702892885066459\n",
      "test accuracy: 0.621875\n"
     ]
    }
   ],
   "source": [
    "rf_accuracy3_train = accuracy_score(y_train, train_predictions)\n",
    "rf_accuracy3_test = accuracy_score(y_test, test_preds)\n",
    "print('training accuracy: {}'.format(rf_accuracy3_train))\n",
    "print('test accuracy: {}'.format(rf_accuracy3_test))"
   ]
  },
  {
   "cell_type": "markdown",
   "id": "20ead2fd",
   "metadata": {
    "papermill": {
     "duration": 0.299044,
     "end_time": "2022-03-11T10:38:10.937802",
     "exception": false,
     "start_time": "2022-03-11T10:38:10.638758",
     "status": "completed"
    },
    "tags": []
   },
   "source": [
    "##### Try increasing the accuracy through GridSearchCV"
   ]
  },
  {
   "cell_type": "code",
   "execution_count": 184,
   "id": "da040c25",
   "metadata": {
    "execution": {
     "iopub.execute_input": "2022-03-11T10:38:11.541474Z",
     "iopub.status.busy": "2022-03-11T10:38:11.540619Z",
     "iopub.status.idle": "2022-03-11T10:42:41.693408Z",
     "shell.execute_reply": "2022-03-11T10:42:41.694013Z",
     "shell.execute_reply.started": "2022-02-27T13:23:17.875624Z"
    },
    "papermill": {
     "duration": 270.459282,
     "end_time": "2022-03-11T10:42:41.694229",
     "exception": false,
     "start_time": "2022-03-11T10:38:11.234947",
     "status": "completed"
    },
    "tags": []
   },
   "outputs": [
    {
     "data": {
      "text/plain": [
       "GridSearchCV(cv=5,\n",
       "             estimator=RandomForestClassifier(criterion='entropy', max_depth=10,\n",
       "                                              max_features='sqrt',\n",
       "                                              n_estimators=200),\n",
       "             param_grid={'criterion': ['gini', 'entropy'],\n",
       "                         'max_depth': [7, 8, 9, 10, 11],\n",
       "                         'max_features': ['auto', 'sqrt', 'log2'],\n",
       "                         'n_estimators': [200, 500]})"
      ]
     },
     "execution_count": 184,
     "metadata": {},
     "output_type": "execute_result"
    }
   ],
   "source": [
    "# define gridsearchcv configuration params\n",
    "param_grid = { \n",
    "    'n_estimators': [200, 500],\n",
    "    'max_features': ['auto', 'sqrt', 'log2'],\n",
    "    'max_depth' : [7,8,9,10,11],\n",
    "    'criterion' :['gini', 'entropy']\n",
    "}\n",
    "\n",
    "# fit the training dataset via grid search\n",
    "CV_rfc = GridSearchCV(estimator=classifier, param_grid=param_grid, cv= 5)\n",
    "CV_rfc.fit(X_train, y_train)\n"
   ]
  },
  {
   "cell_type": "code",
   "execution_count": 185,
   "id": "6ac8de92",
   "metadata": {
    "execution": {
     "iopub.execute_input": "2022-03-11T10:42:42.308382Z",
     "iopub.status.busy": "2022-03-11T10:42:42.307633Z",
     "iopub.status.idle": "2022-03-11T10:42:42.313575Z",
     "shell.execute_reply": "2022-03-11T10:42:42.314172Z",
     "shell.execute_reply.started": "2022-02-27T13:27:17.570196Z"
    },
    "papermill": {
     "duration": 0.31934,
     "end_time": "2022-03-11T10:42:42.314375",
     "exception": false,
     "start_time": "2022-03-11T10:42:41.995035",
     "status": "completed"
    },
    "tags": []
   },
   "outputs": [
    {
     "name": "stdout",
     "output_type": "stream",
     "text": [
      "{'criterion': 'entropy', 'max_depth': 11, 'max_features': 'sqrt', 'n_estimators': 500}\n"
     ]
    }
   ],
   "source": [
    "best_params = CV_rfc.best_params_\n",
    "print(best_params)"
   ]
  },
  {
   "cell_type": "code",
   "execution_count": 186,
   "id": "fa807866",
   "metadata": {
    "execution": {
     "iopub.execute_input": "2022-03-11T10:42:42.926726Z",
     "iopub.status.busy": "2022-03-11T10:42:42.923418Z",
     "iopub.status.idle": "2022-03-11T10:42:43.091139Z",
     "shell.execute_reply": "2022-03-11T10:42:43.090341Z",
     "shell.execute_reply.started": "2022-02-27T13:27:17.575762Z"
    },
    "papermill": {
     "duration": 0.473113,
     "end_time": "2022-03-11T10:42:43.091326",
     "exception": false,
     "start_time": "2022-03-11T10:42:42.618213",
     "status": "completed"
    },
    "scrolled": true,
    "tags": []
   },
   "outputs": [],
   "source": [
    "classifier2 = CV_rfc.best_estimator_\n",
    "train_predictions = classifier2.predict(X_train)"
   ]
  },
  {
   "cell_type": "code",
   "execution_count": 187,
   "id": "f2edcf19",
   "metadata": {
    "execution": {
     "iopub.execute_input": "2022-03-11T10:42:43.705146Z",
     "iopub.status.busy": "2022-03-11T10:42:43.703937Z",
     "iopub.status.idle": "2022-03-11T10:42:43.875737Z",
     "shell.execute_reply": "2022-03-11T10:42:43.876439Z",
     "shell.execute_reply.started": "2022-02-27T13:27:17.725302Z"
    },
    "papermill": {
     "duration": 0.485147,
     "end_time": "2022-03-11T10:42:43.876672",
     "exception": false,
     "start_time": "2022-03-11T10:42:43.391525",
     "status": "completed"
    },
    "tags": []
   },
   "outputs": [
    {
     "name": "stdout",
     "output_type": "stream",
     "text": [
      "Actual training data set quality range: (3, 8)\n",
      "Predicted training data set quality range: (3, 8)\n"
     ]
    }
   ],
   "source": [
    "# compute train_predictions using X_train\n",
    "train_predictions = classifier2.predict(X_train)\n",
    "print('Actual training data set quality range: ({}, {})'.format(y_train.min(), y_train.max()))\n",
    "print('Predicted training data set quality range: ({}, {})'.format(train_predictions.min(), train_predictions.max()))"
   ]
  },
  {
   "cell_type": "code",
   "execution_count": 188,
   "id": "e3d810d1",
   "metadata": {
    "execution": {
     "iopub.execute_input": "2022-03-11T10:42:44.489306Z",
     "iopub.status.busy": "2022-03-11T10:42:44.488489Z",
     "iopub.status.idle": "2022-03-11T10:42:44.503743Z",
     "shell.execute_reply": "2022-03-11T10:42:44.504462Z",
     "shell.execute_reply.started": "2022-02-27T13:27:17.869577Z"
    },
    "papermill": {
     "duration": 0.32374,
     "end_time": "2022-03-11T10:42:44.504692",
     "exception": false,
     "start_time": "2022-03-11T10:42:44.180952",
     "status": "completed"
    },
    "tags": []
   },
   "outputs": [
    {
     "data": {
      "text/html": [
       "<div>\n",
       "<style scoped>\n",
       "    .dataframe tbody tr th:only-of-type {\n",
       "        vertical-align: middle;\n",
       "    }\n",
       "\n",
       "    .dataframe tbody tr th {\n",
       "        vertical-align: top;\n",
       "    }\n",
       "\n",
       "    .dataframe thead th {\n",
       "        text-align: right;\n",
       "    }\n",
       "</style>\n",
       "<table border=\"1\" class=\"dataframe\">\n",
       "  <thead>\n",
       "    <tr style=\"text-align: right;\">\n",
       "      <th></th>\n",
       "      <th>3</th>\n",
       "      <th>4</th>\n",
       "      <th>5</th>\n",
       "      <th>6</th>\n",
       "      <th>7</th>\n",
       "      <th>8</th>\n",
       "    </tr>\n",
       "  </thead>\n",
       "  <tbody>\n",
       "    <tr>\n",
       "      <th>3</th>\n",
       "      <td>9</td>\n",
       "      <td>0</td>\n",
       "      <td>0</td>\n",
       "      <td>0</td>\n",
       "      <td>0</td>\n",
       "      <td>0</td>\n",
       "    </tr>\n",
       "    <tr>\n",
       "      <th>4</th>\n",
       "      <td>0</td>\n",
       "      <td>41</td>\n",
       "      <td>2</td>\n",
       "      <td>0</td>\n",
       "      <td>0</td>\n",
       "      <td>0</td>\n",
       "    </tr>\n",
       "    <tr>\n",
       "      <th>5</th>\n",
       "      <td>0</td>\n",
       "      <td>0</td>\n",
       "      <td>546</td>\n",
       "      <td>4</td>\n",
       "      <td>1</td>\n",
       "      <td>0</td>\n",
       "    </tr>\n",
       "    <tr>\n",
       "      <th>6</th>\n",
       "      <td>0</td>\n",
       "      <td>0</td>\n",
       "      <td>33</td>\n",
       "      <td>471</td>\n",
       "      <td>1</td>\n",
       "      <td>1</td>\n",
       "    </tr>\n",
       "    <tr>\n",
       "      <th>7</th>\n",
       "      <td>0</td>\n",
       "      <td>0</td>\n",
       "      <td>2</td>\n",
       "      <td>6</td>\n",
       "      <td>149</td>\n",
       "      <td>0</td>\n",
       "    </tr>\n",
       "    <tr>\n",
       "      <th>8</th>\n",
       "      <td>0</td>\n",
       "      <td>0</td>\n",
       "      <td>0</td>\n",
       "      <td>0</td>\n",
       "      <td>0</td>\n",
       "      <td>13</td>\n",
       "    </tr>\n",
       "  </tbody>\n",
       "</table>\n",
       "</div>"
      ],
      "text/plain": [
       "   3   4    5    6    7   8\n",
       "3  9   0    0    0    0   0\n",
       "4  0  41    2    0    0   0\n",
       "5  0   0  546    4    1   0\n",
       "6  0   0   33  471    1   1\n",
       "7  0   0    2    6  149   0\n",
       "8  0   0    0    0    0  13"
      ]
     },
     "execution_count": 188,
     "metadata": {},
     "output_type": "execute_result"
    }
   ],
   "source": [
    "#create a confusion matrix for training data set  \n",
    "cm= confusion_matrix(y_train,train_predictions)  \n",
    "coords = [x for x in range(3,9)]\n",
    "cm = pd.DataFrame(cm,columns=coords, index=coords )\n",
    "cm"
   ]
  },
  {
   "cell_type": "code",
   "execution_count": 189,
   "id": "b6e6f6d7",
   "metadata": {
    "execution": {
     "iopub.execute_input": "2022-03-11T10:42:45.113274Z",
     "iopub.status.busy": "2022-03-11T10:42:45.112398Z",
     "iopub.status.idle": "2022-03-11T10:42:45.202430Z",
     "shell.execute_reply": "2022-03-11T10:42:45.201542Z",
     "shell.execute_reply.started": "2022-02-27T13:27:17.886094Z"
    },
    "papermill": {
     "duration": 0.394278,
     "end_time": "2022-03-11T10:42:45.202684",
     "exception": false,
     "start_time": "2022-03-11T10:42:44.808406",
     "status": "completed"
    },
    "tags": []
   },
   "outputs": [
    {
     "name": "stdout",
     "output_type": "stream",
     "text": [
      "Actual test data set quality range: (3, 8)\n",
      "Predicted test data set quality range: (5, 8)\n"
     ]
    }
   ],
   "source": [
    "# compute test predictions using X_test\n",
    "test_preds= classifier2.predict(X_test)\n",
    "print('Actual test data set quality range: ({}, {})'.format(y_test.min(), y_test.max()))\n",
    "print('Predicted test data set quality range: ({}, {})'.format(test_preds.min(), test_preds.max()))"
   ]
  },
  {
   "cell_type": "code",
   "execution_count": 190,
   "id": "ed355113",
   "metadata": {
    "execution": {
     "iopub.execute_input": "2022-03-11T10:42:45.815520Z",
     "iopub.status.busy": "2022-03-11T10:42:45.814800Z",
     "iopub.status.idle": "2022-03-11T10:42:45.828884Z",
     "shell.execute_reply": "2022-03-11T10:42:45.829498Z",
     "shell.execute_reply.started": "2022-02-27T13:27:17.962627Z"
    },
    "papermill": {
     "duration": 0.322168,
     "end_time": "2022-03-11T10:42:45.829816",
     "exception": false,
     "start_time": "2022-03-11T10:42:45.507648",
     "status": "completed"
    },
    "scrolled": true,
    "tags": []
   },
   "outputs": [
    {
     "data": {
      "text/html": [
       "<div>\n",
       "<style scoped>\n",
       "    .dataframe tbody tr th:only-of-type {\n",
       "        vertical-align: middle;\n",
       "    }\n",
       "\n",
       "    .dataframe tbody tr th {\n",
       "        vertical-align: top;\n",
       "    }\n",
       "\n",
       "    .dataframe thead th {\n",
       "        text-align: right;\n",
       "    }\n",
       "</style>\n",
       "<table border=\"1\" class=\"dataframe\">\n",
       "  <thead>\n",
       "    <tr style=\"text-align: right;\">\n",
       "      <th></th>\n",
       "      <th>3</th>\n",
       "      <th>4</th>\n",
       "      <th>5</th>\n",
       "      <th>6</th>\n",
       "      <th>7</th>\n",
       "      <th>8</th>\n",
       "    </tr>\n",
       "  </thead>\n",
       "  <tbody>\n",
       "    <tr>\n",
       "      <th>3</th>\n",
       "      <td>0</td>\n",
       "      <td>0</td>\n",
       "      <td>1</td>\n",
       "      <td>0</td>\n",
       "      <td>0</td>\n",
       "      <td>0</td>\n",
       "    </tr>\n",
       "    <tr>\n",
       "      <th>4</th>\n",
       "      <td>0</td>\n",
       "      <td>0</td>\n",
       "      <td>6</td>\n",
       "      <td>4</td>\n",
       "      <td>0</td>\n",
       "      <td>0</td>\n",
       "    </tr>\n",
       "    <tr>\n",
       "      <th>5</th>\n",
       "      <td>0</td>\n",
       "      <td>0</td>\n",
       "      <td>104</td>\n",
       "      <td>25</td>\n",
       "      <td>1</td>\n",
       "      <td>0</td>\n",
       "    </tr>\n",
       "    <tr>\n",
       "      <th>6</th>\n",
       "      <td>0</td>\n",
       "      <td>0</td>\n",
       "      <td>45</td>\n",
       "      <td>77</td>\n",
       "      <td>10</td>\n",
       "      <td>0</td>\n",
       "    </tr>\n",
       "    <tr>\n",
       "      <th>7</th>\n",
       "      <td>0</td>\n",
       "      <td>0</td>\n",
       "      <td>3</td>\n",
       "      <td>16</td>\n",
       "      <td>22</td>\n",
       "      <td>1</td>\n",
       "    </tr>\n",
       "    <tr>\n",
       "      <th>8</th>\n",
       "      <td>0</td>\n",
       "      <td>0</td>\n",
       "      <td>0</td>\n",
       "      <td>2</td>\n",
       "      <td>3</td>\n",
       "      <td>0</td>\n",
       "    </tr>\n",
       "  </tbody>\n",
       "</table>\n",
       "</div>"
      ],
      "text/plain": [
       "   3  4    5   6   7  8\n",
       "3  0  0    1   0   0  0\n",
       "4  0  0    6   4   0  0\n",
       "5  0  0  104  25   1  0\n",
       "6  0  0   45  77  10  0\n",
       "7  0  0    3  16  22  1\n",
       "8  0  0    0   2   3  0"
      ]
     },
     "execution_count": 190,
     "metadata": {},
     "output_type": "execute_result"
    }
   ],
   "source": [
    "#create a confusion matrix for test data set  \n",
    "cm= confusion_matrix(y_test,test_preds)  \n",
    "coords = [x for x in range(3,9)]\n",
    "cm = pd.DataFrame(cm,columns=coords, index=coords )\n",
    "cm"
   ]
  },
  {
   "cell_type": "code",
   "execution_count": 191,
   "id": "eca42e0b",
   "metadata": {
    "execution": {
     "iopub.execute_input": "2022-03-11T10:42:46.432067Z",
     "iopub.status.busy": "2022-03-11T10:42:46.431210Z",
     "iopub.status.idle": "2022-03-11T10:42:46.439698Z",
     "shell.execute_reply": "2022-03-11T10:42:46.440236Z",
     "shell.execute_reply.started": "2022-02-27T13:27:17.975231Z"
    },
    "papermill": {
     "duration": 0.310892,
     "end_time": "2022-03-11T10:42:46.440457",
     "exception": false,
     "start_time": "2022-03-11T10:42:46.129565",
     "status": "completed"
    },
    "tags": []
   },
   "outputs": [
    {
     "name": "stdout",
     "output_type": "stream",
     "text": [
      "compare rf and gs accuracy:\n",
      "\n",
      "rf3 training accuracy: 0.9702892885066459\n",
      "rf3 test accuracy: 0.621875\n",
      "\n",
      "gs3 training accuracy: 0.9609069585613761\n",
      "gs3 test accuracy: 0.634375\n"
     ]
    }
   ],
   "source": [
    "print('compare rf and gs accuracy:\\n')\n",
    "print('rf3 training accuracy: {}'.format(rf_accuracy3_train))\n",
    "print('rf3 test accuracy: {}'.format(rf_accuracy3_test))\n",
    "print()\n",
    "gs_accuracy3_train = accuracy_score(y_train, train_predictions)\n",
    "gs_accuracy3_test = accuracy_score(y_test, test_preds)\n",
    "print('gs3 training accuracy: {}'.format(gs_accuracy3_train))\n",
    "print('gs3 test accuracy: {}'.format(gs_accuracy3_test))\n"
   ]
  },
  {
   "cell_type": "code",
   "execution_count": 192,
   "id": "084b94cb",
   "metadata": {
    "execution": {
     "iopub.execute_input": "2022-03-11T10:42:47.053511Z",
     "iopub.status.busy": "2022-03-11T10:42:47.052652Z",
     "iopub.status.idle": "2022-03-11T10:42:47.062218Z",
     "shell.execute_reply": "2022-03-11T10:42:47.063046Z",
     "shell.execute_reply.started": "2022-02-27T13:27:17.998963Z"
    },
    "papermill": {
     "duration": 0.318073,
     "end_time": "2022-03-11T10:42:47.063284",
     "exception": false,
     "start_time": "2022-03-11T10:42:46.745211",
     "status": "completed"
    },
    "tags": []
   },
   "outputs": [
    {
     "name": "stdout",
     "output_type": "stream",
     "text": [
      "Model 1 Accuracy:\n",
      "\ttraining accuracy: 0.9812353401094606\n",
      "\ttest accuracy: 0.64375\n",
      "\n",
      "Model 2 Accuracy:\n",
      "\ttraining accuracy: 0.9890539483971853\n",
      "\ttest accuracy: 0.653125\n",
      "\n",
      "Model 3 Accuracy:\n",
      "\ttraining accuracy: 0.9702892885066459\n",
      "\ttest accuracy: 0.621875\n"
     ]
    }
   ],
   "source": [
    "#### Step 4: Compare the Accuracy of all the three models developed\n",
    "print('Model 1 Accuracy:')\n",
    "print('\\ttraining accuracy: {}'.format(rf_accuracy1_train))\n",
    "print('\\ttest accuracy: {}'.format(rf_accuracy1_test))\n",
    "print()\n",
    "print('Model 2 Accuracy:')\n",
    "print('\\ttraining accuracy: {}'.format(rf_accuracy2_train))\n",
    "print('\\ttest accuracy: {}'.format(rf_accuracy2_test))\n",
    "print()\n",
    "print('Model 3 Accuracy:')\n",
    "print('\\ttraining accuracy: {}'.format(rf_accuracy3_train))\n",
    "print('\\ttest accuracy: {}'.format(rf_accuracy3_test))"
   ]
  },
  {
   "cell_type": "markdown",
   "id": "0037f464",
   "metadata": {
    "papermill": {
     "duration": 0.394895,
     "end_time": "2022-03-11T10:42:47.766015",
     "exception": false,
     "start_time": "2022-03-11T10:42:47.371120",
     "status": "completed"
    },
    "tags": []
   },
   "source": [
    "#### Choose the best model for deployment.\n",
    "\n",
    "Since we are getting almost the same accuracy across models, Model 1"
   ]
  },
  {
   "cell_type": "code",
   "execution_count": 193,
   "id": "eceb9223",
   "metadata": {
    "execution": {
     "iopub.execute_input": "2022-03-11T10:42:48.426664Z",
     "iopub.status.busy": "2022-03-11T10:42:48.425247Z",
     "iopub.status.idle": "2022-03-11T10:42:48.442883Z",
     "shell.execute_reply": "2022-03-11T10:42:48.441702Z",
     "shell.execute_reply.started": "2022-02-27T13:27:18.014064Z"
    },
    "papermill": {
     "duration": 0.367598,
     "end_time": "2022-03-11T10:42:48.443061",
     "exception": false,
     "start_time": "2022-03-11T10:42:48.075463",
     "status": "completed"
    },
    "tags": []
   },
   "outputs": [],
   "source": [
    "# save red_model1 as per analysis\n",
    "fname = 'rf_red_wine_model.pkl'\n",
    "model_file = open(fname, 'wb')\n",
    "pickle.dump(obj=classifier, file=model_file)\n",
    "model_file.close()"
   ]
  },
  {
   "cell_type": "code",
   "execution_count": 194,
   "id": "e12e4d68",
   "metadata": {
    "execution": {
     "iopub.execute_input": "2022-03-11T10:42:49.055513Z",
     "iopub.status.busy": "2022-03-11T10:42:49.054419Z",
     "iopub.status.idle": "2022-03-11T10:42:49.081495Z",
     "shell.execute_reply": "2022-03-11T10:42:49.082053Z",
     "shell.execute_reply.started": "2022-02-27T13:27:18.056793Z"
    },
    "papermill": {
     "duration": 0.335246,
     "end_time": "2022-03-11T10:42:49.082285",
     "exception": false,
     "start_time": "2022-03-11T10:42:48.747039",
     "status": "completed"
    },
    "tags": []
   },
   "outputs": [
    {
     "name": "stdout",
     "output_type": "stream",
     "text": [
      "RandomForestClassifier(criterion='entropy', max_depth=10, max_features='sqrt',\n",
      "                       n_estimators=200)\n"
     ]
    }
   ],
   "source": [
    "# reload the model from disk and check if it is saved properly.\n",
    "model_file = open(fname, 'rb')\n",
    "Random_Forest_model = pickle.load(model_file)\n",
    "model_file.close()\n",
    "print(Random_Forest_model)"
   ]
  },
  {
   "cell_type": "code",
   "execution_count": 195,
   "id": "b5febc50",
   "metadata": {
    "execution": {
     "iopub.execute_input": "2022-03-11T10:42:49.710429Z",
     "iopub.status.busy": "2022-03-11T10:42:49.709253Z",
     "iopub.status.idle": "2022-03-11T10:42:49.713724Z",
     "shell.execute_reply": "2022-03-11T10:42:49.714456Z",
     "shell.execute_reply.started": "2022-02-27T13:27:18.081949Z"
    },
    "papermill": {
     "duration": 0.333433,
     "end_time": "2022-03-11T10:42:49.714674",
     "exception": false,
     "start_time": "2022-03-11T10:42:49.381241",
     "status": "completed"
    },
    "tags": []
   },
   "outputs": [],
   "source": [
    "#note the accuracy for final comparison\n",
    "rf_accuracy = gs_accuracy1_test"
   ]
  },
  {
   "cell_type": "markdown",
   "id": "03b63410",
   "metadata": {
    "papermill": {
     "duration": 0.298455,
     "end_time": "2022-03-11T10:42:50.322839",
     "exception": false,
     "start_time": "2022-03-11T10:42:50.024384",
     "status": "completed"
    },
    "tags": []
   },
   "source": [
    "### Comparing the accuracies  we got using 4 ML algorithms"
   ]
  },
  {
   "cell_type": "code",
   "execution_count": 196,
   "id": "7dbc35bc",
   "metadata": {
    "execution": {
     "iopub.execute_input": "2022-03-11T10:42:50.946901Z",
     "iopub.status.busy": "2022-03-11T10:42:50.946145Z",
     "iopub.status.idle": "2022-03-11T10:42:50.952974Z",
     "shell.execute_reply": "2022-03-11T10:42:50.952254Z",
     "shell.execute_reply.started": "2022-02-27T13:27:18.087821Z"
    },
    "papermill": {
     "duration": 0.321491,
     "end_time": "2022-03-11T10:42:50.953144",
     "exception": false,
     "start_time": "2022-03-11T10:42:50.631653",
     "status": "completed"
    },
    "tags": []
   },
   "outputs": [
    {
     "name": "stdout",
     "output_type": "stream",
     "text": [
      "Best accuracy using Linear Regression is 91.86\n",
      "Best accuracy using Logistic Regression is 0.6745098039215687\n",
      "Best accuracy using Decision Tree is 0.553125\n",
      "Best accuracy using Random Forest is 0.65625\n"
     ]
    }
   ],
   "source": [
    "print(\"Best accuracy using Linear Regression is {}\".format(lin_accuracy))\n",
    "print(\"Best accuracy using Logistic Regression is {}\".format(log_accuracy))\n",
    "print(\"Best accuracy using Decision Tree is {}\".format(dtree_accuracy))\n",
    "print(\"Best accuracy using Random Forest is {}\".format(rf_accuracy ))\n"
   ]
  },
  {
   "cell_type": "markdown",
   "id": "e6d19a88",
   "metadata": {
    "papermill": {
     "duration": 0.30934,
     "end_time": "2022-03-11T10:42:51.568423",
     "exception": false,
     "start_time": "2022-03-11T10:42:51.259083",
     "status": "completed"
    },
    "tags": []
   },
   "source": [
    "## Conclusions\n",
    "Three Models were developed for each ML Method:\n",
    "\n",
    "1. considering all the features, \n",
    "2. dropping features showing very weak correlations (0.0-0.2)\n",
    "3. dropping features showing weak correlations (0.2-0.4)\n",
    "\n",
    "#### Linear Regression \n",
    "\n",
    "All models demonstrated more than 90% accuracy\n",
    "\n",
    "#### Logistic Regression\n",
    "Accuracy exhibited by all three models - between 57-60%. Using K-Fold the accuracy increased to between 65-67%\n",
    "\n",
    "#### Decision Tree\n",
    "\n",
    "Very poor accuracy exhibited by all three models - between 52-55%\n",
    "\n",
    "#### Random Forest\n",
    "\n",
    "Random forest Performed very well on training data with 98% to 99% accuracy but did not give good results with test dataset - accuracy was observed to be between 60-64%. Grid search CV gave 62-65% accuracy across models"
   ]
  }
 ],
 "metadata": {
  "kernelspec": {
   "display_name": "Python 3",
   "language": "python",
   "name": "python3"
  },
  "language_info": {
   "codemirror_mode": {
    "name": "ipython",
    "version": 3
   },
   "file_extension": ".py",
   "mimetype": "text/x-python",
   "name": "python",
   "nbconvert_exporter": "python",
   "pygments_lexer": "ipython3",
   "version": "3.7.12"
  },
  "papermill": {
   "default_parameters": {},
   "duration": 1156.845548,
   "end_time": "2022-03-11T10:42:52.993464",
   "environment_variables": {},
   "exception": null,
   "input_path": "__notebook__.ipynb",
   "output_path": "__notebook__.ipynb",
   "parameters": {},
   "start_time": "2022-03-11T10:23:36.147916",
   "version": "2.3.3"
  }
 },
 "nbformat": 4,
 "nbformat_minor": 5
}
