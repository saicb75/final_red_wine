{
 "cells": [
  {
   "cell_type": "markdown",
   "metadata": {},
   "source": [
    "# Red Wine Quality Analysis\n",
    "\n",
    "The Red and White Wine Quality data sets are available in UCI. Please refer to the abstract, problem statement and data sets description at https://archive.ics.uci.edu/ml/datasets/Wine+Quality. Each data set contain 12 features including `quality` as the target variable.\n",
    "\n",
    "## Notebook Abstract\n",
    "\n",
    "In this notebook, we have considered only the Red Wine quality data set.\n",
    "\n",
    "In the problem statement, the authors state _\"we are not sure if all input variables are relevant. So it could be interesting to test feature selection methods.\"_\n",
    "\n",
    "Accordingly, we have attempted to determine the accuracy of predictions using different subsets of the features. We have developed four Machine Learning Models and compared the accuracy of predictions resulting from each model. For each ML technique, we have considered (a) the complete set of 11 features (b) dropped 3 features that show very weak correlation i.e., `0.0-0.20` and (c) dropped an additional 5 features exhibiting weak correlation i.e., `0.20-0.40` with the target. In short 12 models have been developed.\n",
    "\n",
    "We find that predictions using Linear Regression exhibit the best accuracy of about 92% even with just three features. This may be due to the 'privacy and logistics issues' mentioned by the data set authors.\n",
    "\n",
    "Predictions made using Logistic Regression, Decision Tree and Random Forest yield poor accuracy between 50-70% even when K-fold and Grid Search CV methods are used to improve the predictions.\n",
    "\n",
    "## Git Repo\n",
    "\n",
    "The git repo contains the red wine dataset and code for a Flask app for deploying the red wine quality models on your local machine. For deploying on Heroku, the `requirements.txt` and `Procfile` are also provided.\n",
    "\n",
    "## Next Steps\n",
    "\n",
    "Red Wine quality prediction appears to depend on just three feature with minimal loss of prediction accuracy on the test set. This may be due to the privacy and logistics issues mentioned by the data set authors (e.g. there is no data about grape types, wine brand, wine selling price, etc.) or it may be due to other domain related factors that are not clear.\n",
    "\n",
    "Other ML techniques may be applied to improve the accuracy."
   ]
  },
  {
   "cell_type": "markdown",
   "metadata": {},
   "source": [
    "## Machine Learning Pipeline\n",
    "\n",
    "Developing an ML model involves a number of steps.\n",
    "\n",
    "We have adopted the following Machine Learning Pipeline:\n",
    "\n",
    "1. Sanity Check \n",
    "2. EDA/Preprocessing\n",
    "3. Feature Engineering\n",
    "4. Model Building\n",
    "5. Model Saving\n",
    "6. Model Deployment - this is covered under the `deployment` folder\n",
    "\n",
    "Once the model is deployed, the pipeline _extends_ to include the below steps:\n",
    "\n",
    "7. Model in Production\n",
    "8. Observe model behaviour\n",
    "9. Obtain updated datasets\n",
    "10. Redo steps 1..9 if required\n",
    "\n",
    "_Note: these extended steps 7-10 are not covered in this exercise_"
   ]
  },
  {
   "cell_type": "markdown",
   "metadata": {},
   "source": [
    "## Common Steps Performed on the Red Wine Dataset"
   ]
  },
  {
   "cell_type": "code",
   "execution_count": 133,
   "metadata": {
    "execution": {
     "iopub.execute_input": "2021-12-08T08:50:23.513408Z",
     "iopub.status.busy": "2021-12-08T08:50:23.512785Z",
     "iopub.status.idle": "2021-12-08T08:50:24.797999Z",
     "shell.execute_reply": "2021-12-08T08:50:24.797142Z",
     "shell.execute_reply.started": "2021-12-08T08:50:23.513294Z"
    }
   },
   "outputs": [],
   "source": [
    "#import the relevant libraries\n",
    "\n",
    "import pandas as pd\n",
    "import numpy as np\n",
    "import matplotlib.pyplot as plt\n",
    "import seaborn as sns\n",
    "import pickle\n",
    "\n",
    "from sklearn.linear_model import LinearRegression\n",
    "from sklearn.linear_model import LogisticRegression\n",
    "from sklearn.tree import DecisionTreeClassifier\n",
    "from sklearn import tree\n",
    "from sklearn.ensemble import RandomForestClassifier\n",
    "\n",
    "from sklearn.metrics import confusion_matrix, accuracy_score\n",
    "from sklearn.model_selection import train_test_split\n",
    "from sklearn.model_selection import cross_validate, KFold\n",
    "from sklearn.model_selection import GridSearchCV\n"
   ]
  },
  {
   "cell_type": "code",
   "execution_count": 2,
   "metadata": {
    "execution": {
     "iopub.execute_input": "2021-12-08T08:50:24.800381Z",
     "iopub.status.busy": "2021-12-08T08:50:24.800028Z",
     "iopub.status.idle": "2021-12-08T08:50:24.851130Z",
     "shell.execute_reply": "2021-12-08T08:50:24.850234Z",
     "shell.execute_reply.started": "2021-12-08T08:50:24.800337Z"
    },
    "scrolled": true
   },
   "outputs": [
    {
     "data": {
      "text/html": [
       "<div>\n",
       "<style scoped>\n",
       "    .dataframe tbody tr th:only-of-type {\n",
       "        vertical-align: middle;\n",
       "    }\n",
       "\n",
       "    .dataframe tbody tr th {\n",
       "        vertical-align: top;\n",
       "    }\n",
       "\n",
       "    .dataframe thead th {\n",
       "        text-align: right;\n",
       "    }\n",
       "</style>\n",
       "<table border=\"1\" class=\"dataframe\">\n",
       "  <thead>\n",
       "    <tr style=\"text-align: right;\">\n",
       "      <th></th>\n",
       "      <th>fixed acidity</th>\n",
       "      <th>volatile acidity</th>\n",
       "      <th>citric acid</th>\n",
       "      <th>residual sugar</th>\n",
       "      <th>chlorides</th>\n",
       "      <th>free sulfur dioxide</th>\n",
       "      <th>total sulfur dioxide</th>\n",
       "      <th>density</th>\n",
       "      <th>pH</th>\n",
       "      <th>sulphates</th>\n",
       "      <th>alcohol</th>\n",
       "      <th>quality</th>\n",
       "    </tr>\n",
       "  </thead>\n",
       "  <tbody>\n",
       "    <tr>\n",
       "      <th>0</th>\n",
       "      <td>7.4</td>\n",
       "      <td>0.70</td>\n",
       "      <td>0.00</td>\n",
       "      <td>1.9</td>\n",
       "      <td>0.076</td>\n",
       "      <td>11.0</td>\n",
       "      <td>34.0</td>\n",
       "      <td>0.9978</td>\n",
       "      <td>3.51</td>\n",
       "      <td>0.56</td>\n",
       "      <td>9.4</td>\n",
       "      <td>5</td>\n",
       "    </tr>\n",
       "    <tr>\n",
       "      <th>1</th>\n",
       "      <td>7.8</td>\n",
       "      <td>0.88</td>\n",
       "      <td>0.00</td>\n",
       "      <td>2.6</td>\n",
       "      <td>0.098</td>\n",
       "      <td>25.0</td>\n",
       "      <td>67.0</td>\n",
       "      <td>0.9968</td>\n",
       "      <td>3.20</td>\n",
       "      <td>0.68</td>\n",
       "      <td>9.8</td>\n",
       "      <td>5</td>\n",
       "    </tr>\n",
       "    <tr>\n",
       "      <th>2</th>\n",
       "      <td>7.8</td>\n",
       "      <td>0.76</td>\n",
       "      <td>0.04</td>\n",
       "      <td>2.3</td>\n",
       "      <td>0.092</td>\n",
       "      <td>15.0</td>\n",
       "      <td>54.0</td>\n",
       "      <td>0.9970</td>\n",
       "      <td>3.26</td>\n",
       "      <td>0.65</td>\n",
       "      <td>9.8</td>\n",
       "      <td>5</td>\n",
       "    </tr>\n",
       "    <tr>\n",
       "      <th>3</th>\n",
       "      <td>11.2</td>\n",
       "      <td>0.28</td>\n",
       "      <td>0.56</td>\n",
       "      <td>1.9</td>\n",
       "      <td>0.075</td>\n",
       "      <td>17.0</td>\n",
       "      <td>60.0</td>\n",
       "      <td>0.9980</td>\n",
       "      <td>3.16</td>\n",
       "      <td>0.58</td>\n",
       "      <td>9.8</td>\n",
       "      <td>6</td>\n",
       "    </tr>\n",
       "    <tr>\n",
       "      <th>4</th>\n",
       "      <td>7.4</td>\n",
       "      <td>0.70</td>\n",
       "      <td>0.00</td>\n",
       "      <td>1.9</td>\n",
       "      <td>0.076</td>\n",
       "      <td>11.0</td>\n",
       "      <td>34.0</td>\n",
       "      <td>0.9978</td>\n",
       "      <td>3.51</td>\n",
       "      <td>0.56</td>\n",
       "      <td>9.4</td>\n",
       "      <td>5</td>\n",
       "    </tr>\n",
       "  </tbody>\n",
       "</table>\n",
       "</div>"
      ],
      "text/plain": [
       "   fixed acidity  volatile acidity  citric acid  residual sugar  chlorides  \\\n",
       "0            7.4              0.70         0.00             1.9      0.076   \n",
       "1            7.8              0.88         0.00             2.6      0.098   \n",
       "2            7.8              0.76         0.04             2.3      0.092   \n",
       "3           11.2              0.28         0.56             1.9      0.075   \n",
       "4            7.4              0.70         0.00             1.9      0.076   \n",
       "\n",
       "   free sulfur dioxide  total sulfur dioxide  density    pH  sulphates  \\\n",
       "0                 11.0                  34.0   0.9978  3.51       0.56   \n",
       "1                 25.0                  67.0   0.9968  3.20       0.68   \n",
       "2                 15.0                  54.0   0.9970  3.26       0.65   \n",
       "3                 17.0                  60.0   0.9980  3.16       0.58   \n",
       "4                 11.0                  34.0   0.9978  3.51       0.56   \n",
       "\n",
       "   alcohol  quality  \n",
       "0      9.4        5  \n",
       "1      9.8        5  \n",
       "2      9.8        5  \n",
       "3      9.8        6  \n",
       "4      9.4        5  "
      ]
     },
     "execution_count": 2,
     "metadata": {},
     "output_type": "execute_result"
    }
   ],
   "source": [
    "# read the dataset\n",
    "red_wine_data = pd.read_csv('datasets/winequality-red.csv', delimiter =';')\n",
    "red_wine_data.head()"
   ]
  },
  {
   "cell_type": "markdown",
   "metadata": {},
   "source": [
    "### Sanity Check\n",
    "_Insights are drawn at the end of this section._"
   ]
  },
  {
   "cell_type": "code",
   "execution_count": 3,
   "metadata": {
    "execution": {
     "iopub.execute_input": "2021-12-08T08:50:24.853234Z",
     "iopub.status.busy": "2021-12-08T08:50:24.852457Z",
     "iopub.status.idle": "2021-12-08T08:50:24.859171Z",
     "shell.execute_reply": "2021-12-08T08:50:24.858534Z",
     "shell.execute_reply.started": "2021-12-08T08:50:24.853195Z"
    }
   },
   "outputs": [
    {
     "data": {
      "text/plain": [
       "(1599, 12)"
      ]
     },
     "execution_count": 3,
     "metadata": {},
     "output_type": "execute_result"
    }
   ],
   "source": [
    "#1. Shape and data sufficiency: Check if there are sufficient rows of data for an ML problem\n",
    "red_wine_data.shape"
   ]
  },
  {
   "cell_type": "code",
   "execution_count": 4,
   "metadata": {
    "execution": {
     "iopub.execute_input": "2021-12-08T08:50:24.860805Z",
     "iopub.status.busy": "2021-12-08T08:50:24.860435Z",
     "iopub.status.idle": "2021-12-08T08:50:24.873542Z",
     "shell.execute_reply": "2021-12-08T08:50:24.872672Z",
     "shell.execute_reply.started": "2021-12-08T08:50:24.860752Z"
    }
   },
   "outputs": [
    {
     "data": {
      "text/plain": [
       "fixed acidity           float64\n",
       "volatile acidity        float64\n",
       "citric acid             float64\n",
       "residual sugar          float64\n",
       "chlorides               float64\n",
       "free sulfur dioxide     float64\n",
       "total sulfur dioxide    float64\n",
       "density                 float64\n",
       "pH                      float64\n",
       "sulphates               float64\n",
       "alcohol                 float64\n",
       "quality                   int64\n",
       "dtype: object"
      ]
     },
     "execution_count": 4,
     "metadata": {},
     "output_type": "execute_result"
    }
   ],
   "source": [
    "# 2. Datatypes: Check the datatypes of each column; later, convert non-numeric columns to numeric\n",
    "red_wine_data.dtypes"
   ]
  },
  {
   "cell_type": "code",
   "execution_count": 5,
   "metadata": {
    "execution": {
     "iopub.execute_input": "2021-12-08T08:50:24.876164Z",
     "iopub.status.busy": "2021-12-08T08:50:24.875478Z",
     "iopub.status.idle": "2021-12-08T08:50:24.901387Z",
     "shell.execute_reply": "2021-12-08T08:50:24.900477Z",
     "shell.execute_reply.started": "2021-12-08T08:50:24.876126Z"
    }
   },
   "outputs": [
    {
     "name": "stdout",
     "output_type": "stream",
     "text": [
      "<class 'pandas.core.frame.DataFrame'>\n",
      "RangeIndex: 1599 entries, 0 to 1598\n",
      "Data columns (total 12 columns):\n",
      " #   Column                Non-Null Count  Dtype  \n",
      "---  ------                --------------  -----  \n",
      " 0   fixed acidity         1599 non-null   float64\n",
      " 1   volatile acidity      1599 non-null   float64\n",
      " 2   citric acid           1599 non-null   float64\n",
      " 3   residual sugar        1599 non-null   float64\n",
      " 4   chlorides             1599 non-null   float64\n",
      " 5   free sulfur dioxide   1599 non-null   float64\n",
      " 6   total sulfur dioxide  1599 non-null   float64\n",
      " 7   density               1599 non-null   float64\n",
      " 8   pH                    1599 non-null   float64\n",
      " 9   sulphates             1599 non-null   float64\n",
      " 10  alcohol               1599 non-null   float64\n",
      " 11  quality               1599 non-null   int64  \n",
      "dtypes: float64(11), int64(1)\n",
      "memory usage: 150.0 KB\n"
     ]
    }
   ],
   "source": [
    "# 3 Missing Values: Check whether there are missing values\n",
    "red_wine_data.info()"
   ]
  },
  {
   "cell_type": "code",
   "execution_count": 6,
   "metadata": {
    "execution": {
     "iopub.execute_input": "2021-12-08T08:50:24.912402Z",
     "iopub.status.busy": "2021-12-08T08:50:24.912173Z",
     "iopub.status.idle": "2021-12-08T08:50:24.938623Z",
     "shell.execute_reply": "2021-12-08T08:50:24.937864Z",
     "shell.execute_reply.started": "2021-12-08T08:50:24.912370Z"
    }
   },
   "outputs": [
    {
     "name": "stdout",
     "output_type": "stream",
     "text": [
      "fixed acidity 96\n",
      "volatile acidity 143\n",
      "citric acid 80\n",
      "residual sugar 91\n",
      "chlorides 153\n",
      "free sulfur dioxide 60\n",
      "total sulfur dioxide 144\n",
      "density 436\n",
      "pH 89\n",
      "sulphates 96\n",
      "alcohol 65\n",
      "quality 6\n"
     ]
    }
   ],
   "source": [
    "# 4 Zero-variance: Check if there are any zero variance column in the dataset\n",
    "for col in red_wine_data:\n",
    "    print(col, red_wine_data[col].value_counts().count())"
   ]
  },
  {
   "cell_type": "code",
   "execution_count": 7,
   "metadata": {},
   "outputs": [
    {
     "name": "stdout",
     "output_type": "stream",
     "text": [
      "range of fixed acidity: (4.6, 15.9) \n",
      "range of volatile acidity: (0.12, 1.58) \n",
      "range of citric acid: (0.0, 1.0) \n",
      "range of residual sugar: (0.9, 15.5) \n",
      "range of chlorides: (0.012, 0.611) \n",
      "range of free sulfur dioxide: (1.0, 72.0) \n",
      "range of total sulfur dioxide: (6.0, 289.0) \n",
      "range of density: (0.9900700000000001, 1.00369) \n",
      "range of pH: (2.74, 4.01) \n",
      "range of sulphates: (0.33, 2.0) \n",
      "range of alcohol: (8.4, 14.9) \n",
      "range of quality: (3, 8) \n"
     ]
    }
   ],
   "source": [
    "# 5 Range of numbers in each column: Check the range of variation in each numeric column \n",
    "for i in red_wine_data.columns:\n",
    "    print(\"range of {}: ({}, {}) \" .format(i, red_wine_data[i].min(), red_wine_data[i].max()))"
   ]
  },
  {
   "cell_type": "code",
   "execution_count": 8,
   "metadata": {},
   "outputs": [
    {
     "data": {
      "text/plain": [
       "<AxesSubplot:xlabel='quality', ylabel='fixed acidity'>"
      ]
     },
     "execution_count": 8,
     "metadata": {},
     "output_type": "execute_result"
    },
    {
     "data": {
      "image/png": "[encoded data removed]",
      "text/plain": [
       "<Figure size 432x288 with 1 Axes>"
      ]
     },
     "metadata": {
      "needs_background": "light"
     },
     "output_type": "display_data"
    }
   ],
   "source": [
    "# 6 Correlation: Check correlation between feature columns & target\n",
    "\n",
    "# 6a check how the quality is influenced by fixed acidity\n",
    "# e.g., does higher quality mean higher fixed acidity?\n",
    "sns.barplot(x=red_wine_data['quality'], y=red_wine_data['fixed acidity'])"
   ]
  },
  {
   "cell_type": "code",
   "execution_count": 9,
   "metadata": {},
   "outputs": [
    {
     "data": {
      "text/plain": [
       "<AxesSubplot:xlabel='quality', ylabel='volatile acidity'>"
      ]
     },
     "execution_count": 9,
     "metadata": {},
     "output_type": "execute_result"
    },
    {
     "data": {
      "image/png": "[encoded data removed]",
      "text/plain": [
       "<Figure size 432x288 with 1 Axes>"
      ]
     },
     "metadata": {
      "needs_background": "light"
     },
     "output_type": "display_data"
    }
   ],
   "source": [
    "# 6b check how the quality is influenced by volatile acidity\n",
    "# e.g., does higher quality mean higher volatile acidity?\n",
    "sns.barplot(x=red_wine_data['quality'], y=red_wine_data['volatile acidity'])"
   ]
  },
  {
   "cell_type": "code",
   "execution_count": 10,
   "metadata": {},
   "outputs": [
    {
     "data": {
      "text/plain": [
       "<AxesSubplot:xlabel='quality', ylabel='citric acid'>"
      ]
     },
     "execution_count": 10,
     "metadata": {},
     "output_type": "execute_result"
    },
    {
     "data": {
      "image/png": "[encoded data removed]",
      "text/plain": [
       "<Figure size 432x288 with 1 Axes>"
      ]
     },
     "metadata": {
      "needs_background": "light"
     },
     "output_type": "display_data"
    }
   ],
   "source": [
    "# 6c check how the quality is influenced by citric acid\n",
    "# e.g., does higher quality mean higher citric acid?\n",
    "sns.barplot(x=red_wine_data['quality'], y=red_wine_data['citric acid'])"
   ]
  },
  {
   "cell_type": "code",
   "execution_count": 11,
   "metadata": {},
   "outputs": [
    {
     "data": {
      "text/plain": [
       "<AxesSubplot:xlabel='quality', ylabel='residual sugar'>"
      ]
     },
     "execution_count": 11,
     "metadata": {},
     "output_type": "execute_result"
    },
    {
     "data": {
      "image/png": "[encoded data removed]",
      "text/plain": [
       "<Figure size 432x288 with 1 Axes>"
      ]
     },
     "metadata": {
      "needs_background": "light"
     },
     "output_type": "display_data"
    }
   ],
   "source": [
    "# 6d check how the quality is influenced by residual sugar\n",
    "# e.g., does higher quality mean higher residual sugar?\n",
    "sns.barplot(x=red_wine_data['quality'], y=red_wine_data['residual sugar'])"
   ]
  },
  {
   "cell_type": "code",
   "execution_count": 12,
   "metadata": {},
   "outputs": [
    {
     "data": {
      "text/plain": [
       "<AxesSubplot:xlabel='quality', ylabel='chlorides'>"
      ]
     },
     "execution_count": 12,
     "metadata": {},
     "output_type": "execute_result"
    },
    {
     "data": {
      "image/png": "[encoded data removed]",
      "text/plain": [
       "<Figure size 432x288 with 1 Axes>"
      ]
     },
     "metadata": {
      "needs_background": "light"
     },
     "output_type": "display_data"
    }
   ],
   "source": [
    "# 6e check how the quality is influenced by chlorides\n",
    "# e.g., does higher quality mean higher chlorides?\n",
    "sns.barplot(x=red_wine_data['quality'], y=red_wine_data['chlorides'])"
   ]
  },
  {
   "cell_type": "code",
   "execution_count": 13,
   "metadata": {},
   "outputs": [
    {
     "data": {
      "text/plain": [
       "<AxesSubplot:xlabel='quality', ylabel='free sulfur dioxide'>"
      ]
     },
     "execution_count": 13,
     "metadata": {},
     "output_type": "execute_result"
    },
    {
     "data": {
      "image/png": "[encoded data removed]",
      "text/plain": [
       "<Figure size 432x288 with 1 Axes>"
      ]
     },
     "metadata": {
      "needs_background": "light"
     },
     "output_type": "display_data"
    }
   ],
   "source": [
    "# 6f check how the quality is influenced by free sulfur dioxide\n",
    "# e.g., does higher quality mean higher free so2?\n",
    "sns.barplot(x=red_wine_data['quality'], y=red_wine_data['free sulfur dioxide'])"
   ]
  },
  {
   "cell_type": "code",
   "execution_count": 14,
   "metadata": {},
   "outputs": [
    {
     "data": {
      "text/plain": [
       "<AxesSubplot:xlabel='quality', ylabel='total sulfur dioxide'>"
      ]
     },
     "execution_count": 14,
     "metadata": {},
     "output_type": "execute_result"
    },
    {
     "data": {
      "image/png": "[encoded data removed]",
      "text/plain": [
       "<Figure size 432x288 with 1 Axes>"
      ]
     },
     "metadata": {
      "needs_background": "light"
     },
     "output_type": "display_data"
    }
   ],
   "source": [
    "# 6g check how the quality is influenced by total sulfur dioxide\n",
    "# e.g., does higher quality mean higher total so2?\n",
    "sns.barplot(x=red_wine_data['quality'], y=red_wine_data['total sulfur dioxide'])"
   ]
  },
  {
   "cell_type": "code",
   "execution_count": 15,
   "metadata": {},
   "outputs": [
    {
     "data": {
      "text/plain": [
       "<AxesSubplot:xlabel='quality', ylabel='density'>"
      ]
     },
     "execution_count": 15,
     "metadata": {},
     "output_type": "execute_result"
    },
    {
     "data": {
      "image/png": "[encoded data removed]",
      "text/plain": [
       "<Figure size 432x288 with 1 Axes>"
      ]
     },
     "metadata": {
      "needs_background": "light"
     },
     "output_type": "display_data"
    }
   ],
   "source": [
    "# 6h check how the quality is influenced by density\n",
    "# e.g., does higher quality mean higher density?\n",
    "sns.barplot(x=red_wine_data['quality'], y=red_wine_data['density'])"
   ]
  },
  {
   "cell_type": "code",
   "execution_count": 16,
   "metadata": {},
   "outputs": [
    {
     "data": {
      "text/plain": [
       "<AxesSubplot:xlabel='quality', ylabel='pH'>"
      ]
     },
     "execution_count": 16,
     "metadata": {},
     "output_type": "execute_result"
    },
    {
     "data": {
      "image/png": "[encoded data removed]",
      "text/plain": [
       "<Figure size 432x288 with 1 Axes>"
      ]
     },
     "metadata": {
      "needs_background": "light"
     },
     "output_type": "display_data"
    }
   ],
   "source": [
    "# 6i check how the quality is influenced by pH\n",
    "# e.g., does higher quality mean higher pH?\n",
    "sns.barplot(x=red_wine_data['quality'], y=red_wine_data['pH'])"
   ]
  },
  {
   "cell_type": "code",
   "execution_count": 17,
   "metadata": {},
   "outputs": [
    {
     "data": {
      "text/plain": [
       "<AxesSubplot:xlabel='quality', ylabel='sulphates'>"
      ]
     },
     "execution_count": 17,
     "metadata": {},
     "output_type": "execute_result"
    },
    {
     "data": {
      "image/png": "[encoded data removed]",
      "text/plain": [
       "<Figure size 432x288 with 1 Axes>"
      ]
     },
     "metadata": {
      "needs_background": "light"
     },
     "output_type": "display_data"
    }
   ],
   "source": [
    "# 6j check how the quality is influenced by sulphates\n",
    "# e.g., does higher quality mean higher sulphates?\n",
    "sns.barplot(x=red_wine_data['quality'], y=red_wine_data['sulphates'])"
   ]
  },
  {
   "cell_type": "code",
   "execution_count": 18,
   "metadata": {},
   "outputs": [
    {
     "data": {
      "text/plain": [
       "<AxesSubplot:xlabel='quality', ylabel='alcohol'>"
      ]
     },
     "execution_count": 18,
     "metadata": {},
     "output_type": "execute_result"
    },
    {
     "data": {
      "image/png": "[encoded data removed]",
      "text/plain": [
       "<Figure size 432x288 with 1 Axes>"
      ]
     },
     "metadata": {
      "needs_background": "light"
     },
     "output_type": "display_data"
    }
   ],
   "source": [
    "# 6k check how the quality is influenced by alcohol\n",
    "# e.g., does higher quality mean higher alcohol percentage?\n",
    "sns.barplot(x=red_wine_data['quality'], y=red_wine_data['alcohol'])"
   ]
  },
  {
   "cell_type": "code",
   "execution_count": 19,
   "metadata": {
    "execution": {
     "iopub.execute_input": "2021-12-08T08:50:24.940830Z",
     "iopub.status.busy": "2021-12-08T08:50:24.940556Z",
     "iopub.status.idle": "2021-12-08T08:50:24.968553Z",
     "shell.execute_reply": "2021-12-08T08:50:24.967538Z",
     "shell.execute_reply.started": "2021-12-08T08:50:24.940756Z"
    }
   },
   "outputs": [
    {
     "data": {
      "text/html": [
       "<div>\n",
       "<style scoped>\n",
       "    .dataframe tbody tr th:only-of-type {\n",
       "        vertical-align: middle;\n",
       "    }\n",
       "\n",
       "    .dataframe tbody tr th {\n",
       "        vertical-align: top;\n",
       "    }\n",
       "\n",
       "    .dataframe thead th {\n",
       "        text-align: right;\n",
       "    }\n",
       "</style>\n",
       "<table border=\"1\" class=\"dataframe\">\n",
       "  <thead>\n",
       "    <tr style=\"text-align: right;\">\n",
       "      <th></th>\n",
       "      <th>fixed acidity</th>\n",
       "      <th>volatile acidity</th>\n",
       "      <th>citric acid</th>\n",
       "      <th>residual sugar</th>\n",
       "      <th>chlorides</th>\n",
       "      <th>free sulfur dioxide</th>\n",
       "      <th>total sulfur dioxide</th>\n",
       "      <th>density</th>\n",
       "      <th>pH</th>\n",
       "      <th>sulphates</th>\n",
       "      <th>alcohol</th>\n",
       "      <th>quality</th>\n",
       "    </tr>\n",
       "  </thead>\n",
       "  <tbody>\n",
       "    <tr>\n",
       "      <th>fixed acidity</th>\n",
       "      <td>1.000000</td>\n",
       "      <td>-0.256131</td>\n",
       "      <td>0.671703</td>\n",
       "      <td>0.114777</td>\n",
       "      <td>0.093705</td>\n",
       "      <td>-0.153794</td>\n",
       "      <td>-0.113181</td>\n",
       "      <td>0.668047</td>\n",
       "      <td>-0.682978</td>\n",
       "      <td>0.183006</td>\n",
       "      <td>-0.061668</td>\n",
       "      <td>0.124052</td>\n",
       "    </tr>\n",
       "    <tr>\n",
       "      <th>volatile acidity</th>\n",
       "      <td>-0.256131</td>\n",
       "      <td>1.000000</td>\n",
       "      <td>-0.552496</td>\n",
       "      <td>0.001918</td>\n",
       "      <td>0.061298</td>\n",
       "      <td>-0.010504</td>\n",
       "      <td>0.076470</td>\n",
       "      <td>0.022026</td>\n",
       "      <td>0.234937</td>\n",
       "      <td>-0.260987</td>\n",
       "      <td>-0.202288</td>\n",
       "      <td>-0.390558</td>\n",
       "    </tr>\n",
       "    <tr>\n",
       "      <th>citric acid</th>\n",
       "      <td>0.671703</td>\n",
       "      <td>-0.552496</td>\n",
       "      <td>1.000000</td>\n",
       "      <td>0.143577</td>\n",
       "      <td>0.203823</td>\n",
       "      <td>-0.060978</td>\n",
       "      <td>0.035533</td>\n",
       "      <td>0.364947</td>\n",
       "      <td>-0.541904</td>\n",
       "      <td>0.312770</td>\n",
       "      <td>0.109903</td>\n",
       "      <td>0.226373</td>\n",
       "    </tr>\n",
       "    <tr>\n",
       "      <th>residual sugar</th>\n",
       "      <td>0.114777</td>\n",
       "      <td>0.001918</td>\n",
       "      <td>0.143577</td>\n",
       "      <td>1.000000</td>\n",
       "      <td>0.055610</td>\n",
       "      <td>0.187049</td>\n",
       "      <td>0.203028</td>\n",
       "      <td>0.355283</td>\n",
       "      <td>-0.085652</td>\n",
       "      <td>0.005527</td>\n",
       "      <td>0.042075</td>\n",
       "      <td>0.013732</td>\n",
       "    </tr>\n",
       "    <tr>\n",
       "      <th>chlorides</th>\n",
       "      <td>0.093705</td>\n",
       "      <td>0.061298</td>\n",
       "      <td>0.203823</td>\n",
       "      <td>0.055610</td>\n",
       "      <td>1.000000</td>\n",
       "      <td>0.005562</td>\n",
       "      <td>0.047400</td>\n",
       "      <td>0.200632</td>\n",
       "      <td>-0.265026</td>\n",
       "      <td>0.371260</td>\n",
       "      <td>-0.221141</td>\n",
       "      <td>-0.128907</td>\n",
       "    </tr>\n",
       "    <tr>\n",
       "      <th>free sulfur dioxide</th>\n",
       "      <td>-0.153794</td>\n",
       "      <td>-0.010504</td>\n",
       "      <td>-0.060978</td>\n",
       "      <td>0.187049</td>\n",
       "      <td>0.005562</td>\n",
       "      <td>1.000000</td>\n",
       "      <td>0.667666</td>\n",
       "      <td>-0.021946</td>\n",
       "      <td>0.070377</td>\n",
       "      <td>0.051658</td>\n",
       "      <td>-0.069408</td>\n",
       "      <td>-0.050656</td>\n",
       "    </tr>\n",
       "    <tr>\n",
       "      <th>total sulfur dioxide</th>\n",
       "      <td>-0.113181</td>\n",
       "      <td>0.076470</td>\n",
       "      <td>0.035533</td>\n",
       "      <td>0.203028</td>\n",
       "      <td>0.047400</td>\n",
       "      <td>0.667666</td>\n",
       "      <td>1.000000</td>\n",
       "      <td>0.071269</td>\n",
       "      <td>-0.066495</td>\n",
       "      <td>0.042947</td>\n",
       "      <td>-0.205654</td>\n",
       "      <td>-0.185100</td>\n",
       "    </tr>\n",
       "    <tr>\n",
       "      <th>density</th>\n",
       "      <td>0.668047</td>\n",
       "      <td>0.022026</td>\n",
       "      <td>0.364947</td>\n",
       "      <td>0.355283</td>\n",
       "      <td>0.200632</td>\n",
       "      <td>-0.021946</td>\n",
       "      <td>0.071269</td>\n",
       "      <td>1.000000</td>\n",
       "      <td>-0.341699</td>\n",
       "      <td>0.148506</td>\n",
       "      <td>-0.496180</td>\n",
       "      <td>-0.174919</td>\n",
       "    </tr>\n",
       "    <tr>\n",
       "      <th>pH</th>\n",
       "      <td>-0.682978</td>\n",
       "      <td>0.234937</td>\n",
       "      <td>-0.541904</td>\n",
       "      <td>-0.085652</td>\n",
       "      <td>-0.265026</td>\n",
       "      <td>0.070377</td>\n",
       "      <td>-0.066495</td>\n",
       "      <td>-0.341699</td>\n",
       "      <td>1.000000</td>\n",
       "      <td>-0.196648</td>\n",
       "      <td>0.205633</td>\n",
       "      <td>-0.057731</td>\n",
       "    </tr>\n",
       "    <tr>\n",
       "      <th>sulphates</th>\n",
       "      <td>0.183006</td>\n",
       "      <td>-0.260987</td>\n",
       "      <td>0.312770</td>\n",
       "      <td>0.005527</td>\n",
       "      <td>0.371260</td>\n",
       "      <td>0.051658</td>\n",
       "      <td>0.042947</td>\n",
       "      <td>0.148506</td>\n",
       "      <td>-0.196648</td>\n",
       "      <td>1.000000</td>\n",
       "      <td>0.093595</td>\n",
       "      <td>0.251397</td>\n",
       "    </tr>\n",
       "    <tr>\n",
       "      <th>alcohol</th>\n",
       "      <td>-0.061668</td>\n",
       "      <td>-0.202288</td>\n",
       "      <td>0.109903</td>\n",
       "      <td>0.042075</td>\n",
       "      <td>-0.221141</td>\n",
       "      <td>-0.069408</td>\n",
       "      <td>-0.205654</td>\n",
       "      <td>-0.496180</td>\n",
       "      <td>0.205633</td>\n",
       "      <td>0.093595</td>\n",
       "      <td>1.000000</td>\n",
       "      <td>0.476166</td>\n",
       "    </tr>\n",
       "    <tr>\n",
       "      <th>quality</th>\n",
       "      <td>0.124052</td>\n",
       "      <td>-0.390558</td>\n",
       "      <td>0.226373</td>\n",
       "      <td>0.013732</td>\n",
       "      <td>-0.128907</td>\n",
       "      <td>-0.050656</td>\n",
       "      <td>-0.185100</td>\n",
       "      <td>-0.174919</td>\n",
       "      <td>-0.057731</td>\n",
       "      <td>0.251397</td>\n",
       "      <td>0.476166</td>\n",
       "      <td>1.000000</td>\n",
       "    </tr>\n",
       "  </tbody>\n",
       "</table>\n",
       "</div>"
      ],
      "text/plain": [
       "                      fixed acidity  volatile acidity  citric acid  \\\n",
       "fixed acidity              1.000000         -0.256131     0.671703   \n",
       "volatile acidity          -0.256131          1.000000    -0.552496   \n",
       "citric acid                0.671703         -0.552496     1.000000   \n",
       "residual sugar             0.114777          0.001918     0.143577   \n",
       "chlorides                  0.093705          0.061298     0.203823   \n",
       "free sulfur dioxide       -0.153794         -0.010504    -0.060978   \n",
       "total sulfur dioxide      -0.113181          0.076470     0.035533   \n",
       "density                    0.668047          0.022026     0.364947   \n",
       "pH                        -0.682978          0.234937    -0.541904   \n",
       "sulphates                  0.183006         -0.260987     0.312770   \n",
       "alcohol                   -0.061668         -0.202288     0.109903   \n",
       "quality                    0.124052         -0.390558     0.226373   \n",
       "\n",
       "                      residual sugar  chlorides  free sulfur dioxide  \\\n",
       "fixed acidity               0.114777   0.093705            -0.153794   \n",
       "volatile acidity            0.001918   0.061298            -0.010504   \n",
       "citric acid                 0.143577   0.203823            -0.060978   \n",
       "residual sugar              1.000000   0.055610             0.187049   \n",
       "chlorides                   0.055610   1.000000             0.005562   \n",
       "free sulfur dioxide         0.187049   0.005562             1.000000   \n",
       "total sulfur dioxide        0.203028   0.047400             0.667666   \n",
       "density                     0.355283   0.200632            -0.021946   \n",
       "pH                         -0.085652  -0.265026             0.070377   \n",
       "sulphates                   0.005527   0.371260             0.051658   \n",
       "alcohol                     0.042075  -0.221141            -0.069408   \n",
       "quality                     0.013732  -0.128907            -0.050656   \n",
       "\n",
       "                      total sulfur dioxide   density        pH  sulphates  \\\n",
       "fixed acidity                    -0.113181  0.668047 -0.682978   0.183006   \n",
       "volatile acidity                  0.076470  0.022026  0.234937  -0.260987   \n",
       "citric acid                       0.035533  0.364947 -0.541904   0.312770   \n",
       "residual sugar                    0.203028  0.355283 -0.085652   0.005527   \n",
       "chlorides                         0.047400  0.200632 -0.265026   0.371260   \n",
       "free sulfur dioxide               0.667666 -0.021946  0.070377   0.051658   \n",
       "total sulfur dioxide              1.000000  0.071269 -0.066495   0.042947   \n",
       "density                           0.071269  1.000000 -0.341699   0.148506   \n",
       "pH                               -0.066495 -0.341699  1.000000  -0.196648   \n",
       "sulphates                         0.042947  0.148506 -0.196648   1.000000   \n",
       "alcohol                          -0.205654 -0.496180  0.205633   0.093595   \n",
       "quality                          -0.185100 -0.174919 -0.057731   0.251397   \n",
       "\n",
       "                       alcohol   quality  \n",
       "fixed acidity        -0.061668  0.124052  \n",
       "volatile acidity     -0.202288 -0.390558  \n",
       "citric acid           0.109903  0.226373  \n",
       "residual sugar        0.042075  0.013732  \n",
       "chlorides            -0.221141 -0.128907  \n",
       "free sulfur dioxide  -0.069408 -0.050656  \n",
       "total sulfur dioxide -0.205654 -0.185100  \n",
       "density              -0.496180 -0.174919  \n",
       "pH                    0.205633 -0.057731  \n",
       "sulphates             0.093595  0.251397  \n",
       "alcohol               1.000000  0.476166  \n",
       "quality               0.476166  1.000000  "
      ]
     },
     "execution_count": 19,
     "metadata": {},
     "output_type": "execute_result"
    }
   ],
   "source": [
    "# 6l Correlation: check correlation between feature columns & target via correlation matrix\n",
    "corr = red_wine_data.corr()\n",
    "corr"
   ]
  },
  {
   "cell_type": "code",
   "execution_count": 20,
   "metadata": {
    "execution": {
     "iopub.execute_input": "2021-12-08T08:50:24.970292Z",
     "iopub.status.busy": "2021-12-08T08:50:24.969720Z",
     "iopub.status.idle": "2021-12-08T08:50:26.127329Z",
     "shell.execute_reply": "2021-12-08T08:50:26.126127Z",
     "shell.execute_reply.started": "2021-12-08T08:50:24.970256Z"
    }
   },
   "outputs": [
    {
     "data": {
      "image/png": "[encoded data removed]",
      "text/plain": [
       "<Figure size 864x432 with 2 Axes>"
      ]
     },
     "metadata": {
      "needs_background": "light"
     },
     "output_type": "display_data"
    }
   ],
   "source": [
    "plt.figure(figsize=(12, 6))\n",
    "sns.heatmap(corr, annot=True);"
   ]
  },
  {
   "cell_type": "code",
   "execution_count": 21,
   "metadata": {
    "execution": {
     "iopub.execute_input": "2021-12-08T08:50:24.902962Z",
     "iopub.status.busy": "2021-12-08T08:50:24.902686Z",
     "iopub.status.idle": "2021-12-08T08:50:24.910663Z",
     "shell.execute_reply": "2021-12-08T08:50:24.909738Z",
     "shell.execute_reply.started": "2021-12-08T08:50:24.902930Z"
    }
   },
   "outputs": [
    {
     "data": {
      "text/plain": [
       "5    681\n",
       "6    638\n",
       "7    199\n",
       "4     53\n",
       "8     18\n",
       "3     10\n",
       "Name: quality, dtype: int64"
      ]
     },
     "execution_count": 21,
     "metadata": {},
     "output_type": "execute_result"
    }
   ],
   "source": [
    "#7. Target: Check for discrete values\n",
    "red_wine_data['quality'].value_counts()"
   ]
  },
  {
   "cell_type": "markdown",
   "metadata": {},
   "source": [
    "### Insights / Sanity Check Conclusions\n",
    "\n",
    "1. **Shape and data sufficiency: Check if there are sufficient rows of data for an ML problem**\n",
    "    1. **INSIGHT:** Shape of the data is (1599, 12). i.e., dataset contains ~1600 observations, which is much greater than number of columns (12). Hence we can apply ML techniques rather than statistical rule-based approach.\n",
    "\n",
    "\n",
    "2. **Datatypes: Check whether all the columns in the given dataset is numeric**\n",
    "    1. **INSIGHT:** `Dtype` indicates that all columns are numeric\n",
    "    \n",
    "\n",
    "3. **Missing Values: Check whether there are missing values**\n",
    "    1. **INSIGHT:** `Non-Null Count` indicates there are no missing values in the dataset\n",
    "\n",
    "\n",
    "4. **Zero-variance: Check if there are any zero variance column in the dataset**\n",
    "    1. **INSIGHT:** No zero-variance columns found in the dataset\n",
    "\n",
    "\n",
    "5. **Range of numbers in each column: Check the range of variation in each numeric column and apply scaling**\n",
    "    1. **INSIGHT:** Scaling is required for each column\n",
    "\n",
    "\n",
    "6. **Correlation: Check correlation between feature columns & target.** In the heatmap, check the correlation number for quality vs. feature. e.g., quality vs. pH = abs(-0.058) indicates very weak correlation between quality and pH.\n",
    "    1. **INSIGHT:** The columns `pH`, `free sulfur dioxide`, `residual sugar` have very weak correlation (0.00 - 0.20)\n",
    "    2. **INSIGHT:** The columns `fixed acidity`, `citric acid`, `chlorides`, `total sulfur dioxide`, `density` have weak correlation (0.20 - 0.40)\n",
    "    3. **INSIGHT:** The remaining columns show strong correlation (0.40 and above)\n",
    "    4. ***Note:*** *The barplots and correlation heatmap complement each other and reveal these findings*\n",
    "    5. ***Note:*** *absolute values of correlations were considered*\n",
    "\n",
    "\n",
    "7. **Other Observations:**\n",
    "    1. **INSIGHT:** Since (a) the target is given (b) target is numeric (number between 0..10), we can conclude that this is a supervised linear regression problem\n",
    "    2. **INSIGHT:** The target variable, i.e., `quality` has discrete values which indicates that this can be solved using classification methods also.\n"
   ]
  },
  {
   "cell_type": "markdown",
   "metadata": {},
   "source": [
    "### EDA/Preprocessing\n",
    "_(Based on the insights from the sanity check, we can now determine how to process the data.)_\n",
    "\n",
    "#### Checklist of STANDARD EDA items\n",
    "\n",
    "1. Strategy for missing data\n",
    "    1. Action: No missing data, no action to be taken\n",
    "    \n",
    "    \n",
    "2. Convert categorical to numeric\n",
    "    1. Action: No Categorical data, no action to be taken\n",
    "    \n",
    "    \n",
    "3. Dimensionality reduction/Drop the identified columns\n",
    "    1. Action: Drop identified columns in Insights 6A and 6B\n",
    "    \n",
    "    \n",
    "4. Check for Outliers, Check the range of variation in each numeric column and scale (*Optional*)\n",
    "    1. Action: As per Insights 5A each numeric column needs to be scaled\n"
   ]
  },
  {
   "cell_type": "markdown",
   "metadata": {},
   "source": [
    "### Approach for Developing ML Models\n",
    "We will apply 4 machine learing methods - Linear Regression, Logistic Regression, Decision Tree and Random Forest. For each method, we will follow a 3-step approach as outlined below:\n",
    "\n",
    "**Step 1: Develop the ML Model using all features**\n",
    "1. First, we will process the complete dataset without dropping any columns.\n",
    "2. We will build the ML model with the complete data, test and validate the predictions.\n",
    "\n",
    "**Step 2: Develop the ML Model after dropping columns showing very weak correlations (0.0-0.2)**\n",
    "1. As per Insights 6A, we will drop the columns that show very weak correlations. These columns are - `pH`, `free sulfur dioxide`, `residual sugar`\n",
    "2. The dataset will thus have 9 features (including target)\n",
    "3. We will build the ML model with the remaining data, test and validate the predictions\n",
    "\n",
    "**Step 3: Develop the ML Model after dropping columns showing weak correlations (0.2-0.4)**\n",
    "1. As per Insights 6B, we will next drop the columns that show weak correlations. These columns are - `fixed acidity`, `citric acid`, `chlorides`, `total sulfur dioxide`, `density`\n",
    "2. The dataset will thus have 4 features (including target)\n",
    "3. We will build the ML model with the remaining data, test and validate the predictions\n",
    "\n",
    "**Step 4:**\n",
    "1. Compare the Accuracy of all the three models developed\n",
    "2. Choose the best model for deployment\n",
    "\n",
    "**Conclusion**\n",
    "1. Summarize the results of all 4 methods - consider only the best models"
   ]
  },
  {
   "cell_type": "markdown",
   "metadata": {},
   "source": [
    "## Section 1: Linear Regression Models for Red Wine Quality"
   ]
  },
  {
   "cell_type": "markdown",
   "metadata": {},
   "source": [
    "#### **Step 1: Develop the ML Model using all features**\n",
    "1. First, we will process the complete dataset without dropping any columns.\n",
    "2. We will build the ML model with the complete data, test and validate the predictions."
   ]
  },
  {
   "cell_type": "code",
   "execution_count": 22,
   "metadata": {
    "execution": {
     "iopub.execute_input": "2021-12-08T08:50:26.128858Z",
     "iopub.status.busy": "2021-12-08T08:50:26.128527Z",
     "iopub.status.idle": "2021-12-08T08:50:26.146538Z",
     "shell.execute_reply": "2021-12-08T08:50:26.145356Z",
     "shell.execute_reply.started": "2021-12-08T08:50:26.128814Z"
    }
   },
   "outputs": [],
   "source": [
    "# create the \"features and target\" data sets\n",
    "X = red_wine_data.drop('quality',axis=1)\n",
    "y = red_wine_data['quality']"
   ]
  },
  {
   "cell_type": "code",
   "execution_count": 23,
   "metadata": {},
   "outputs": [],
   "source": [
    "#Feature Scaling\n",
    "from sklearn.preprocessing import StandardScaler\n",
    "scaler = StandardScaler()\n",
    "X = scaler.fit_transform(X)"
   ]
  },
  {
   "cell_type": "code",
   "execution_count": 24,
   "metadata": {
    "execution": {
     "iopub.execute_input": "2021-12-08T08:50:26.128858Z",
     "iopub.status.busy": "2021-12-08T08:50:26.128527Z",
     "iopub.status.idle": "2021-12-08T08:50:26.146538Z",
     "shell.execute_reply": "2021-12-08T08:50:26.145356Z",
     "shell.execute_reply.started": "2021-12-08T08:50:26.128814Z"
    }
   },
   "outputs": [
    {
     "name": "stdout",
     "output_type": "stream",
     "text": [
      "Model 1 train shapes:\n",
      "(1279, 11) (1279,)\n",
      "\n",
      "Model 1 test shapes:\n",
      "(320, 11) (320,)\n"
     ]
    }
   ],
   "source": [
    "# split the features and target data sets into train and test sets\n",
    "X_train, X_test, y_train, y_test = train_test_split(X, y, test_size=0.2, random_state=42)\n",
    "print('Model 1 train shapes:')\n",
    "print(X_train.shape, y_train.shape)\n",
    "print()\n",
    "print('Model 1 test shapes:')\n",
    "print(X_test.shape, y_test.shape)"
   ]
  },
  {
   "cell_type": "code",
   "execution_count": 25,
   "metadata": {
    "execution": {
     "iopub.execute_input": "2021-12-08T08:50:26.191623Z",
     "iopub.status.busy": "2021-12-08T08:50:26.190854Z",
     "iopub.status.idle": "2021-12-08T08:50:26.216898Z",
     "shell.execute_reply": "2021-12-08T08:50:26.215809Z",
     "shell.execute_reply.started": "2021-12-08T08:50:26.191568Z"
    }
   },
   "outputs": [],
   "source": [
    "# create and fit a linear regression model\n",
    "lm_red_wine1 = LinearRegression()\n",
    "red_model1 = lm_red_wine1.fit(X_train, y_train)"
   ]
  },
  {
   "cell_type": "code",
   "execution_count": 26,
   "metadata": {
    "execution": {
     "iopub.execute_input": "2021-12-08T08:50:26.191623Z",
     "iopub.status.busy": "2021-12-08T08:50:26.190854Z",
     "iopub.status.idle": "2021-12-08T08:50:26.216898Z",
     "shell.execute_reply": "2021-12-08T08:50:26.215809Z",
     "shell.execute_reply.started": "2021-12-08T08:50:26.191568Z"
    }
   },
   "outputs": [],
   "source": [
    "# predict using X training dataset - i.e., X_train\n",
    "train_predictions = red_model1.predict(X_train)\n",
    "train_prediction = [int(round(x,0)) for x in train_predictions]"
   ]
  },
  {
   "cell_type": "code",
   "execution_count": 27,
   "metadata": {},
   "outputs": [
    {
     "name": "stdout",
     "output_type": "stream",
     "text": [
      "red wine model1: coeffs = \n",
      "[ 0.04018122 -0.1792372  -0.0274236   0.00925231 -0.08499703  0.05884439\n",
      " -0.11984784 -0.0195308  -0.06076105  0.14253987  0.30030663]\n",
      "\n",
      "red wine model1: intercept = \n",
      "5.629424674390098\n"
     ]
    }
   ],
   "source": [
    "print('red wine model1: coeffs = ')\n",
    "print(red_model1.coef_)\n",
    "print()\n",
    "print('red wine model1: intercept = ')\n",
    "print(red_model1.intercept_)"
   ]
  },
  {
   "cell_type": "code",
   "execution_count": 28,
   "metadata": {
    "execution": {
     "iopub.execute_input": "2021-12-08T08:50:26.219198Z",
     "iopub.status.busy": "2021-12-08T08:50:26.218542Z",
     "iopub.status.idle": "2021-12-08T08:50:26.238826Z",
     "shell.execute_reply": "2021-12-08T08:50:26.237673Z",
     "shell.execute_reply.started": "2021-12-08T08:50:26.219139Z"
    }
   },
   "outputs": [],
   "source": [
    "# simple function to compare actual and predicted values i.e., MAPE\n",
    "def compare_prediction(y, yhat):\n",
    "    comp_matrix = pd.DataFrame(zip(y, yhat), columns = ['Actual', 'Predicted'])\n",
    "    comp_matrix['Err'] = abs(comp_matrix['Actual']-comp_matrix['Predicted'])\n",
    "    comp_matrix['PctErr'] = comp_matrix['Err']/comp_matrix['Actual'] * 100\n",
    "    mean_value = np.mean(comp_matrix['PctErr'])\n",
    "    return comp_matrix, mean_value"
   ]
  },
  {
   "cell_type": "code",
   "execution_count": 29,
   "metadata": {
    "execution": {
     "iopub.execute_input": "2021-12-08T08:50:26.248324Z",
     "iopub.status.busy": "2021-12-08T08:50:26.247641Z",
     "iopub.status.idle": "2021-12-08T08:50:26.269908Z",
     "shell.execute_reply": "2021-12-08T08:50:26.268955Z",
     "shell.execute_reply.started": "2021-12-08T08:50:26.248266Z"
    }
   },
   "outputs": [
    {
     "name": "stdout",
     "output_type": "stream",
     "text": [
      "Model 1 prediction comparison (training set):\n",
      "\n",
      "   Actual  Predicted  Err  PctErr\n",
      "0       6          6    0     0.0\n",
      "1       6          6    0     0.0\n",
      "2       6          6    0     0.0\n",
      "3       5          5    0     0.0\n",
      "4       5          5    0     0.0\n",
      "\n",
      "Model 1 mean error % (training set): 8.06\n",
      "Model1 accuracy (training set): 91.94\n"
     ]
    }
   ],
   "source": [
    "# compare actual and predicted values\n",
    "comp_matrix, mean = compare_prediction(y_train, train_prediction)\n",
    "print(\"Model 1 prediction comparison (training set):\\n\")\n",
    "print(comp_matrix.head())\n",
    "\n",
    "print(\"\\nModel 1 mean error % (training set):\", round(mean,2))\n",
    "\n",
    "accuracy1 = round((100-mean),2)\n",
    "print('Model1 accuracy (training set):', accuracy1)"
   ]
  },
  {
   "cell_type": "code",
   "execution_count": 30,
   "metadata": {},
   "outputs": [],
   "source": [
    "# predict using X_test dataset\n",
    "test_preds = red_model1.predict(X_test)\n",
    "test_preds = [int(round(x,0)) for x in test_preds]"
   ]
  },
  {
   "cell_type": "code",
   "execution_count": 31,
   "metadata": {
    "scrolled": true
   },
   "outputs": [
    {
     "name": "stdout",
     "output_type": "stream",
     "text": [
      "Model 1 prediction comparison (test set):\n",
      "\n",
      "   Actual  Predicted  Err  PctErr\n",
      "0       6          6    0     0.0\n",
      "1       6          6    0     0.0\n",
      "2       6          6    0     0.0\n",
      "3       5          5    0     0.0\n",
      "4       5          5    0     0.0\n",
      "\n",
      "Model 1 mean error % (test set): 8.06\n",
      "Model1 accuracy (test set) = 91.94\n"
     ]
    }
   ],
   "source": [
    "# compare y_test and test_preds\n",
    "test_cm, test_mean = compare_prediction(y=y_test, yhat=test_preds)\n",
    "print(\"Model 1 prediction comparison (test set):\\n\")\n",
    "print(comp_matrix.head())\n",
    "\n",
    "print(\"\\nModel 1 mean error % (test set):\", round(mean,2))\n",
    "\n",
    "accuracy1 = round((100-mean),2)\n",
    "print('Model1 accuracy (test set) =', accuracy1)"
   ]
  },
  {
   "cell_type": "markdown",
   "metadata": {},
   "source": [
    "#### ***Linear Regression Model 1 (using all features) shows a prediction accuracy of 91.94%***"
   ]
  },
  {
   "cell_type": "markdown",
   "metadata": {},
   "source": [
    "#### **Step 2: Develop the ML Model after dropping columns showing very weak correlations (0.0-0.2)**\n",
    "1. Drop the columns that show very weak correlations - `pH`, `free sulfur dioxide`, `residual sugar`\n",
    "2. Build the ML model with the remaining data, test and validate the predictions"
   ]
  },
  {
   "cell_type": "code",
   "execution_count": 32,
   "metadata": {
    "execution": {
     "iopub.execute_input": "2021-12-08T08:50:26.281456Z",
     "iopub.status.busy": "2021-12-08T08:50:26.280897Z",
     "iopub.status.idle": "2021-12-08T08:50:26.315665Z",
     "shell.execute_reply": "2021-12-08T08:50:26.314683Z",
     "shell.execute_reply.started": "2021-12-08T08:50:26.281405Z"
    }
   },
   "outputs": [],
   "source": [
    "### 3. Dimensionality reduction/Drop the identified columns\n",
    "lst = ['pH', 'free sulfur dioxide', 'residual sugar']\n",
    "red_wine_data.drop(lst, axis =1, inplace = True)"
   ]
  },
  {
   "cell_type": "code",
   "execution_count": 33,
   "metadata": {
    "execution": {
     "iopub.execute_input": "2021-12-08T08:50:26.317947Z",
     "iopub.status.busy": "2021-12-08T08:50:26.317392Z",
     "iopub.status.idle": "2021-12-08T08:50:26.338333Z",
     "shell.execute_reply": "2021-12-08T08:50:26.337084Z",
     "shell.execute_reply.started": "2021-12-08T08:50:26.317909Z"
    }
   },
   "outputs": [],
   "source": [
    "# create the \"features and target\" data sets\n",
    "X = red_wine_data.drop('quality',axis=1)\n",
    "y = red_wine_data['quality']"
   ]
  },
  {
   "cell_type": "code",
   "execution_count": 34,
   "metadata": {},
   "outputs": [],
   "source": [
    "#Feature Scaling\n",
    "from sklearn.preprocessing import StandardScaler\n",
    "scaler = StandardScaler()\n",
    "X = scaler.fit_transform(X)"
   ]
  },
  {
   "cell_type": "code",
   "execution_count": 35,
   "metadata": {
    "execution": {
     "iopub.execute_input": "2021-12-08T08:50:26.317947Z",
     "iopub.status.busy": "2021-12-08T08:50:26.317392Z",
     "iopub.status.idle": "2021-12-08T08:50:26.338333Z",
     "shell.execute_reply": "2021-12-08T08:50:26.337084Z",
     "shell.execute_reply.started": "2021-12-08T08:50:26.317909Z"
    }
   },
   "outputs": [
    {
     "name": "stdout",
     "output_type": "stream",
     "text": [
      "Model 2 train shapes:\n",
      "(1279, 8) (1279,)\n",
      "\n",
      "Model 2 test shapes:\n",
      "(320, 8) (320,)\n"
     ]
    }
   ],
   "source": [
    "# split the features and target data sets into train and test sets\n",
    "X_train, X_test, y_train, y_test = train_test_split(X, y, test_size=0.2, random_state=42)\n",
    "print('Model 2 train shapes:')\n",
    "print(X_train.shape, y_train.shape)\n",
    "print()\n",
    "print('Model 2 test shapes:')\n",
    "print(X_test.shape, y_test.shape)"
   ]
  },
  {
   "cell_type": "code",
   "execution_count": 36,
   "metadata": {
    "execution": {
     "iopub.execute_input": "2021-12-08T08:50:26.340097Z",
     "iopub.status.busy": "2021-12-08T08:50:26.339612Z",
     "iopub.status.idle": "2021-12-08T08:50:26.357538Z",
     "shell.execute_reply": "2021-12-08T08:50:26.356456Z",
     "shell.execute_reply.started": "2021-12-08T08:50:26.340049Z"
    }
   },
   "outputs": [],
   "source": [
    "# create and fit a linear regression model\n",
    "lm_red_wine2 = LinearRegression()\n",
    "red_model2 = lm_red_wine2.fit(X_train, y_train)\n",
    "\n",
    "# computing yhat (ie train_predictions) using X (ie train_features)\n",
    "train_predictions = red_model2.predict(X_train)\n",
    "train_prediction = [int(round(x,0)) for x in train_predictions] "
   ]
  },
  {
   "cell_type": "code",
   "execution_count": 37,
   "metadata": {},
   "outputs": [
    {
     "name": "stdout",
     "output_type": "stream",
     "text": [
      "red wine model2: coeffs = \n",
      "[ 0.09389249 -0.18930018 -0.03417444 -0.07277841 -0.07042481 -0.04269329\n",
      "  0.14615467  0.28690874]\n",
      "\n",
      "red wine model2: intercept = \n",
      "5.629104336877242\n"
     ]
    }
   ],
   "source": [
    "print('red wine model2: coeffs = ')\n",
    "print(red_model2.coef_)\n",
    "print()\n",
    "print('red wine model2: intercept = ')\n",
    "print(red_model2.intercept_)"
   ]
  },
  {
   "cell_type": "code",
   "execution_count": 38,
   "metadata": {
    "execution": {
     "iopub.execute_input": "2021-12-08T08:50:26.248324Z",
     "iopub.status.busy": "2021-12-08T08:50:26.247641Z",
     "iopub.status.idle": "2021-12-08T08:50:26.269908Z",
     "shell.execute_reply": "2021-12-08T08:50:26.268955Z",
     "shell.execute_reply.started": "2021-12-08T08:50:26.248266Z"
    }
   },
   "outputs": [
    {
     "name": "stdout",
     "output_type": "stream",
     "text": [
      "Model 2 prediction comparison (training set):\n",
      "\n",
      "   Actual  Predicted  Err  PctErr\n",
      "0       6          6    0     0.0\n",
      "1       6          6    0     0.0\n",
      "2       6          6    0     0.0\n",
      "3       5          5    0     0.0\n",
      "4       5          5    0     0.0\n",
      "\n",
      "Model 2 mean error % (training set): 8.08\n",
      "Model 2 accuracy (training set): 91.92\n"
     ]
    }
   ],
   "source": [
    "# model 2: compare actual and predicted values\n",
    "comp_matrix, mean = compare_prediction(y_train, train_prediction)\n",
    "print(\"Model 2 prediction comparison (training set):\\n\")\n",
    "print(comp_matrix.head())\n",
    "\n",
    "print(\"\\nModel 2 mean error % (training set):\", round(mean,2))\n",
    "\n",
    "accuracy2 = round((100-mean),2)\n",
    "print('Model 2 accuracy (training set):', accuracy2)"
   ]
  },
  {
   "cell_type": "code",
   "execution_count": 39,
   "metadata": {},
   "outputs": [],
   "source": [
    "# predict using X_test dataset\n",
    "test_preds = red_model2.predict(X_test)\n",
    "test_preds = [int(round(x,0)) for x in test_preds]"
   ]
  },
  {
   "cell_type": "code",
   "execution_count": 40,
   "metadata": {
    "scrolled": true
   },
   "outputs": [
    {
     "name": "stdout",
     "output_type": "stream",
     "text": [
      "Model 2 prediction comparison (test set):\n",
      "\n",
      "   Actual  Predicted  Err  PctErr\n",
      "0       6          6    0     0.0\n",
      "1       6          6    0     0.0\n",
      "2       6          6    0     0.0\n",
      "3       5          5    0     0.0\n",
      "4       5          5    0     0.0\n",
      "\n",
      "Model 2 mean error % (test set): 8.08\n",
      "Model 2 accuracy (test set) = 91.92\n"
     ]
    }
   ],
   "source": [
    "# compare y_test and test_preds\n",
    "test_cm, test_mean = compare_prediction(y=y_test, yhat=test_preds)\n",
    "print(\"Model 2 prediction comparison (test set):\\n\")\n",
    "print(comp_matrix.head())\n",
    "\n",
    "print(\"\\nModel 2 mean error % (test set):\", round(mean,2))\n",
    "\n",
    "accuracy2 = round((100-mean),2)\n",
    "print('Model 2 accuracy (test set) =', accuracy2)"
   ]
  },
  {
   "cell_type": "markdown",
   "metadata": {},
   "source": [
    "#### ***Linear Regression Model 2 (after dropping `pH`, `free sulfur dioxide`, `residual sugar`) shows a prediction accuracy of 91.92%***"
   ]
  },
  {
   "cell_type": "markdown",
   "metadata": {},
   "source": [
    "#### **Step 3: Develop the ML Model after dropping columns showing weak correlations (0.2-0.4)**\n",
    "1. Drop the columns that show weak correlations - `fixed acidity`, `citric acid`, `chlorides`, `total sulfur dioxide`, `density`\n",
    "2. Build the ML model, test and validate the predictions."
   ]
  },
  {
   "cell_type": "code",
   "execution_count": 41,
   "metadata": {
    "execution": {
     "iopub.execute_input": "2021-12-08T08:50:26.367693Z",
     "iopub.status.busy": "2021-12-08T08:50:26.367218Z",
     "iopub.status.idle": "2021-12-08T08:50:26.380299Z",
     "shell.execute_reply": "2021-12-08T08:50:26.379249Z",
     "shell.execute_reply.started": "2021-12-08T08:50:26.367651Z"
    }
   },
   "outputs": [],
   "source": [
    "### 3. Dimensionality reduction/Drop the identified columns\n",
    "lst = ['fixed acidity', 'citric acid', 'chlorides', 'total sulfur dioxide', 'density']\n",
    "red_wine_data.drop(lst, axis =1, inplace = True)"
   ]
  },
  {
   "cell_type": "code",
   "execution_count": 42,
   "metadata": {
    "execution": {
     "iopub.execute_input": "2021-12-08T08:50:26.382320Z",
     "iopub.status.busy": "2021-12-08T08:50:26.381826Z",
     "iopub.status.idle": "2021-12-08T08:50:26.399546Z",
     "shell.execute_reply": "2021-12-08T08:50:26.398115Z",
     "shell.execute_reply.started": "2021-12-08T08:50:26.382275Z"
    }
   },
   "outputs": [],
   "source": [
    "# create the \"features and target\" data sets\n",
    "X = red_wine_data.drop('quality',axis=1)\n",
    "y = red_wine_data['quality']"
   ]
  },
  {
   "cell_type": "code",
   "execution_count": 43,
   "metadata": {},
   "outputs": [],
   "source": [
    "#Feature Scaling\n",
    "from sklearn.preprocessing import StandardScaler\n",
    "scaler = StandardScaler()\n",
    "X = scaler.fit_transform(X)"
   ]
  },
  {
   "cell_type": "code",
   "execution_count": 44,
   "metadata": {
    "execution": {
     "iopub.execute_input": "2021-12-08T08:50:26.382320Z",
     "iopub.status.busy": "2021-12-08T08:50:26.381826Z",
     "iopub.status.idle": "2021-12-08T08:50:26.399546Z",
     "shell.execute_reply": "2021-12-08T08:50:26.398115Z",
     "shell.execute_reply.started": "2021-12-08T08:50:26.382275Z"
    }
   },
   "outputs": [
    {
     "name": "stdout",
     "output_type": "stream",
     "text": [
      "Model 3 train shapes:\n",
      "(1279, 3) (1279,)\n",
      "\n",
      "Model 3 test shapes:\n",
      "(320, 3) (320,)\n"
     ]
    }
   ],
   "source": [
    "# split the features and target data sets into train and test sets\n",
    "X_train, X_test, y_train, y_test = train_test_split(X, y, test_size=0.2, random_state=42)\n",
    "print('Model 3 train shapes:')\n",
    "print(X_train.shape, y_train.shape)\n",
    "print()\n",
    "print('Model 3 test shapes:')\n",
    "print(X_test.shape, y_test.shape)"
   ]
  },
  {
   "cell_type": "code",
   "execution_count": 45,
   "metadata": {
    "execution": {
     "iopub.execute_input": "2021-12-08T08:50:26.382320Z",
     "iopub.status.busy": "2021-12-08T08:50:26.381826Z",
     "iopub.status.idle": "2021-12-08T08:50:26.399546Z",
     "shell.execute_reply": "2021-12-08T08:50:26.398115Z",
     "shell.execute_reply.started": "2021-12-08T08:50:26.382275Z"
    }
   },
   "outputs": [],
   "source": [
    "# create and fit a linear regression model\n",
    "lm_red_wine3 = LinearRegression()\n",
    "red_model3 = lm_red_wine3.fit(X_train, y_train)\n",
    "\n",
    "# computing yhat (ie train_predictions) using X (ie train_features)\n",
    "train_predictions = red_model3.predict(X_train)\n",
    "train_prediction = [int(round(x,0)) for x in train_predictions]"
   ]
  },
  {
   "cell_type": "code",
   "execution_count": 46,
   "metadata": {},
   "outputs": [
    {
     "name": "stdout",
     "output_type": "stream",
     "text": [
      "Model 3 prediction comparison (training set):\n",
      "\n",
      "   Actual  Predicted  Err  PctErr\n",
      "0       6          6    0     0.0\n",
      "1       6          6    0     0.0\n",
      "2       6          6    0     0.0\n",
      "3       5          5    0     0.0\n",
      "4       5          5    0     0.0\n",
      "\n",
      "Model 3 mean error % (training set): 8.14\n",
      "Model 3 accuracy (training set): 91.86\n"
     ]
    }
   ],
   "source": [
    "# model 3: compare actual and predicted values\n",
    "comp_matrix, mean = compare_prediction(y_train, train_prediction)\n",
    "print(\"Model 3 prediction comparison (training set):\\n\")\n",
    "print(comp_matrix.head())\n",
    "\n",
    "print(\"\\nModel 3 mean error % (training set):\", round(mean,2))\n",
    "\n",
    "accuracy3 = round((100-mean),2)\n",
    "print('Model 3 accuracy (training set):', accuracy3)"
   ]
  },
  {
   "cell_type": "code",
   "execution_count": 47,
   "metadata": {},
   "outputs": [],
   "source": [
    "# model 3: predict using X_test dataset\n",
    "test_preds = red_model3.predict(X_test)\n",
    "test_preds = [int(round(x,0)) for x in test_preds]"
   ]
  },
  {
   "cell_type": "code",
   "execution_count": 48,
   "metadata": {
    "scrolled": false
   },
   "outputs": [
    {
     "name": "stdout",
     "output_type": "stream",
     "text": [
      "Model 3 prediction comparison (test set):\n",
      "\n",
      "   Actual  Predicted  Err  PctErr\n",
      "0       6          6    0     0.0\n",
      "1       6          6    0     0.0\n",
      "2       6          6    0     0.0\n",
      "3       5          5    0     0.0\n",
      "4       5          5    0     0.0\n",
      "\n",
      "Model 3 mean error % (test set): 8.14\n",
      "Model 3 accuracy (test set) = 91.86\n"
     ]
    }
   ],
   "source": [
    "# model 3: compare y_test and test_preds\n",
    "test_cm, test_mean = compare_prediction(y=y_test, yhat=test_preds)\n",
    "print(\"Model 3 prediction comparison (test set):\\n\")\n",
    "print(comp_matrix.head())\n",
    "\n",
    "print(\"\\nModel 3 mean error % (test set):\", round(mean,2))\n",
    "\n",
    "accuracy3 = round((100-mean),2)\n",
    "print('Model 3 accuracy (test set) =', accuracy3)"
   ]
  },
  {
   "cell_type": "markdown",
   "metadata": {},
   "source": [
    "#### ***Linear Regression Model 3 makes predictions using only 3 columns - `volatile acidity`, `sulphates`, `alcohol` and shows a prediction accuracy of 91.86%***.\n",
    "So far, we've dropped the following columns:\n",
    "\n",
    "1. Model 2: `pH`, `free sulfur dioxide`, `residual sugar` were  dropped.\n",
    "2. Model 3: `fixed acidity`, `citric acid`, `chlorides`, `total sulfur dioxide`, `density` were dropped."
   ]
  },
  {
   "cell_type": "markdown",
   "metadata": {},
   "source": [
    "#### Step 4: Compare the Accuracy of all the three models developed\n"
   ]
  },
  {
   "cell_type": "code",
   "execution_count": 49,
   "metadata": {
    "execution": {
     "iopub.execute_input": "2021-12-08T08:50:26.450510Z",
     "iopub.status.busy": "2021-12-08T08:50:26.449840Z",
     "iopub.status.idle": "2021-12-08T08:50:26.459822Z",
     "shell.execute_reply": "2021-12-08T08:50:26.458908Z",
     "shell.execute_reply.started": "2021-12-08T08:50:26.450462Z"
    }
   },
   "outputs": [
    {
     "name": "stdout",
     "output_type": "stream",
     "text": [
      "Model1 Accuracy 91.94\n",
      "Model2 Accuracy 91.92\n",
      "Model3 Accuracy 91.86\n"
     ]
    }
   ],
   "source": [
    "print(\"Model1 Accuracy {}\".format(accuracy1))\n",
    "print(\"Model2 Accuracy {}\".format(accuracy2))\n",
    "print(\"Model3 Accuracy {}\".format(accuracy3))"
   ]
  },
  {
   "cell_type": "markdown",
   "metadata": {},
   "source": [
    "#### Choose the best model for deployment.\n",
    "\n",
    "Since we are getting almost the same accuracy across models, Model 3 can be chosen as it has least number of features."
   ]
  },
  {
   "cell_type": "code",
   "execution_count": 50,
   "metadata": {},
   "outputs": [],
   "source": [
    "# note the linear regression accuracy here for the final comparison\n",
    "lin_accuracy = accuracy3"
   ]
  },
  {
   "cell_type": "markdown",
   "metadata": {},
   "source": [
    "#### Save the chosen model"
   ]
  },
  {
   "cell_type": "code",
   "execution_count": 51,
   "metadata": {
    "execution": {
     "iopub.execute_input": "2021-12-08T08:50:26.462827Z",
     "iopub.status.busy": "2021-12-08T08:50:26.462295Z",
     "iopub.status.idle": "2021-12-08T08:50:26.469522Z",
     "shell.execute_reply": "2021-12-08T08:50:26.468607Z",
     "shell.execute_reply.started": "2021-12-08T08:50:26.462757Z"
    }
   },
   "outputs": [],
   "source": [
    "# save red_model3 as per analysis\n",
    "pickle_fname = 'models/linear_red_wine_model.pkl'\n",
    "model_file = open(pickle_fname, 'wb')\n",
    "pickle.dump(obj=red_model3, file=model_file)\n",
    "model_file.close()"
   ]
  },
  {
   "cell_type": "code",
   "execution_count": 52,
   "metadata": {
    "execution": {
     "iopub.execute_input": "2021-12-08T08:50:26.471574Z",
     "iopub.status.busy": "2021-12-08T08:50:26.470717Z",
     "iopub.status.idle": "2021-12-08T08:50:26.482800Z",
     "shell.execute_reply": "2021-12-08T08:50:26.481831Z",
     "shell.execute_reply.started": "2021-12-08T08:50:26.471527Z"
    }
   },
   "outputs": [
    {
     "name": "stdout",
     "output_type": "stream",
     "text": [
      "LinearRegression()\n"
     ]
    }
   ],
   "source": [
    "# reload the model from disk and check if it is saved properly.\n",
    "model_file = open(pickle_fname, 'rb')\n",
    "lr_model = pickle.load(model_file)\n",
    "model_file.close()\n",
    "print(lr_model)"
   ]
  },
  {
   "cell_type": "markdown",
   "metadata": {},
   "source": [
    "# Section 2: Logistic Regression for Red Wine Quality"
   ]
  },
  {
   "cell_type": "markdown",
   "metadata": {},
   "source": [
    "We've already done the sanity checks and EDA earlier. We only need to build various logistic regression models based on the correlations we've observed, and compare the accuracies obtained. We will also use K-fold technique to increase the prediction accuracy for each logistic regression model."
   ]
  },
  {
   "cell_type": "markdown",
   "metadata": {},
   "source": [
    "#### **Step 1: Develop the ML Model using all features**\n",
    "1. First, we will process the complete dataset without dropping any columns.\n",
    "2. We will build the ML model with the complete data, test and validate the predictions."
   ]
  },
  {
   "cell_type": "code",
   "execution_count": 53,
   "metadata": {},
   "outputs": [
    {
     "data": {
      "text/html": [
       "<div>\n",
       "<style scoped>\n",
       "    .dataframe tbody tr th:only-of-type {\n",
       "        vertical-align: middle;\n",
       "    }\n",
       "\n",
       "    .dataframe tbody tr th {\n",
       "        vertical-align: top;\n",
       "    }\n",
       "\n",
       "    .dataframe thead th {\n",
       "        text-align: right;\n",
       "    }\n",
       "</style>\n",
       "<table border=\"1\" class=\"dataframe\">\n",
       "  <thead>\n",
       "    <tr style=\"text-align: right;\">\n",
       "      <th></th>\n",
       "      <th>fixed acidity</th>\n",
       "      <th>volatile acidity</th>\n",
       "      <th>citric acid</th>\n",
       "      <th>residual sugar</th>\n",
       "      <th>chlorides</th>\n",
       "      <th>free sulfur dioxide</th>\n",
       "      <th>total sulfur dioxide</th>\n",
       "      <th>density</th>\n",
       "      <th>pH</th>\n",
       "      <th>sulphates</th>\n",
       "      <th>alcohol</th>\n",
       "      <th>quality</th>\n",
       "    </tr>\n",
       "  </thead>\n",
       "  <tbody>\n",
       "    <tr>\n",
       "      <th>0</th>\n",
       "      <td>7.4</td>\n",
       "      <td>0.70</td>\n",
       "      <td>0.00</td>\n",
       "      <td>1.9</td>\n",
       "      <td>0.076</td>\n",
       "      <td>11.0</td>\n",
       "      <td>34.0</td>\n",
       "      <td>0.9978</td>\n",
       "      <td>3.51</td>\n",
       "      <td>0.56</td>\n",
       "      <td>9.4</td>\n",
       "      <td>5</td>\n",
       "    </tr>\n",
       "    <tr>\n",
       "      <th>1</th>\n",
       "      <td>7.8</td>\n",
       "      <td>0.88</td>\n",
       "      <td>0.00</td>\n",
       "      <td>2.6</td>\n",
       "      <td>0.098</td>\n",
       "      <td>25.0</td>\n",
       "      <td>67.0</td>\n",
       "      <td>0.9968</td>\n",
       "      <td>3.20</td>\n",
       "      <td>0.68</td>\n",
       "      <td>9.8</td>\n",
       "      <td>5</td>\n",
       "    </tr>\n",
       "    <tr>\n",
       "      <th>2</th>\n",
       "      <td>7.8</td>\n",
       "      <td>0.76</td>\n",
       "      <td>0.04</td>\n",
       "      <td>2.3</td>\n",
       "      <td>0.092</td>\n",
       "      <td>15.0</td>\n",
       "      <td>54.0</td>\n",
       "      <td>0.9970</td>\n",
       "      <td>3.26</td>\n",
       "      <td>0.65</td>\n",
       "      <td>9.8</td>\n",
       "      <td>5</td>\n",
       "    </tr>\n",
       "    <tr>\n",
       "      <th>3</th>\n",
       "      <td>11.2</td>\n",
       "      <td>0.28</td>\n",
       "      <td>0.56</td>\n",
       "      <td>1.9</td>\n",
       "      <td>0.075</td>\n",
       "      <td>17.0</td>\n",
       "      <td>60.0</td>\n",
       "      <td>0.9980</td>\n",
       "      <td>3.16</td>\n",
       "      <td>0.58</td>\n",
       "      <td>9.8</td>\n",
       "      <td>6</td>\n",
       "    </tr>\n",
       "    <tr>\n",
       "      <th>4</th>\n",
       "      <td>7.4</td>\n",
       "      <td>0.70</td>\n",
       "      <td>0.00</td>\n",
       "      <td>1.9</td>\n",
       "      <td>0.076</td>\n",
       "      <td>11.0</td>\n",
       "      <td>34.0</td>\n",
       "      <td>0.9978</td>\n",
       "      <td>3.51</td>\n",
       "      <td>0.56</td>\n",
       "      <td>9.4</td>\n",
       "      <td>5</td>\n",
       "    </tr>\n",
       "  </tbody>\n",
       "</table>\n",
       "</div>"
      ],
      "text/plain": [
       "   fixed acidity  volatile acidity  citric acid  residual sugar  chlorides  \\\n",
       "0            7.4              0.70         0.00             1.9      0.076   \n",
       "1            7.8              0.88         0.00             2.6      0.098   \n",
       "2            7.8              0.76         0.04             2.3      0.092   \n",
       "3           11.2              0.28         0.56             1.9      0.075   \n",
       "4            7.4              0.70         0.00             1.9      0.076   \n",
       "\n",
       "   free sulfur dioxide  total sulfur dioxide  density    pH  sulphates  \\\n",
       "0                 11.0                  34.0   0.9978  3.51       0.56   \n",
       "1                 25.0                  67.0   0.9968  3.20       0.68   \n",
       "2                 15.0                  54.0   0.9970  3.26       0.65   \n",
       "3                 17.0                  60.0   0.9980  3.16       0.58   \n",
       "4                 11.0                  34.0   0.9978  3.51       0.56   \n",
       "\n",
       "   alcohol  quality  \n",
       "0      9.4        5  \n",
       "1      9.8        5  \n",
       "2      9.8        5  \n",
       "3      9.8        6  \n",
       "4      9.4        5  "
      ]
     },
     "execution_count": 53,
     "metadata": {},
     "output_type": "execute_result"
    }
   ],
   "source": [
    "# refresh the red wine dataset\n",
    "red_wine_data = pd.read_csv('datasets/winequality-red.csv', delimiter =';')\n",
    "red_wine_data.head()"
   ]
  },
  {
   "cell_type": "code",
   "execution_count": 54,
   "metadata": {},
   "outputs": [],
   "source": [
    "# create the \"features and target\" data sets\n",
    "X = red_wine_data.drop('quality',axis=1)\n",
    "y = red_wine_data['quality']"
   ]
  },
  {
   "cell_type": "code",
   "execution_count": 55,
   "metadata": {},
   "outputs": [],
   "source": [
    "#Feature Scaling\n",
    "from sklearn.preprocessing import StandardScaler\n",
    "scaler = StandardScaler()\n",
    "X = scaler.fit_transform(X)"
   ]
  },
  {
   "cell_type": "code",
   "execution_count": 56,
   "metadata": {},
   "outputs": [
    {
     "name": "stdout",
     "output_type": "stream",
     "text": [
      "Logistic Regression: Model 1 train shapes:\n",
      "(1279, 11) (1279,)\n",
      "\n",
      "Logistic Regression: Model 1 test shapes:\n",
      "(320, 11) (320,)\n"
     ]
    }
   ],
   "source": [
    "# split the features and target data sets into train and test sets\n",
    "X_train, X_test, y_train, y_test = train_test_split(X, y, test_size=0.2, random_state=42)\n",
    "print('Logistic Regression: Model 1 train shapes:')\n",
    "print(X_train.shape, y_train.shape)\n",
    "print()\n",
    "print('Logistic Regression: Model 1 test shapes:')\n",
    "print(X_test.shape, y_test.shape)"
   ]
  },
  {
   "cell_type": "code",
   "execution_count": 66,
   "metadata": {},
   "outputs": [],
   "source": [
    "# create and fit a logistic regression model\n",
    "classifier = LogisticRegression(random_state=42, max_iter=200)  \n",
    "classifier = classifier.fit(X_train, y_train)"
   ]
  },
  {
   "cell_type": "code",
   "execution_count": 67,
   "metadata": {},
   "outputs": [
    {
     "name": "stdout",
     "output_type": "stream",
     "text": [
      "Wine Quality Range: (3, 8)\n",
      "\n",
      "Logistic Regression Model 1: coeffs =\n",
      "\n",
      "[[ 3.17551980e-01  1.12747592e+00  1.42652564e-01 -1.88647505e-01\n",
      "   7.15028892e-01  3.72006081e-01 -7.57388195e-01  7.79842843e-01\n",
      "   6.49722920e-01 -6.48385349e-01 -9.66787564e-01]\n",
      " [ 2.25502460e-01  2.96067904e-01 -1.78610938e-04  3.40735578e-01\n",
      "   2.69410231e-01 -3.79866520e-01  2.77181238e-01 -6.90762414e-01\n",
      "   4.21036204e-01 -2.18999556e-01 -6.26454418e-01]\n",
      " [-4.44847185e-01 -6.26465175e-03 -5.51341271e-02 -1.84409524e-01\n",
      "   1.18400804e-01 -2.21430144e-01  7.86206236e-01  2.81649702e-01\n",
      "  -1.83058775e-01 -3.07361904e-01 -5.65878564e-01]\n",
      " [-2.17576793e-01 -4.28838572e-01 -2.58330563e-01 -1.65339790e-01\n",
      "   1.73625351e-03  8.20320283e-02  1.93344474e-01  2.07295962e-01\n",
      "  -1.54986086e-01  8.06913425e-02  2.75165823e-01]\n",
      " [ 2.70913162e-01 -7.96051546e-01 -1.55425593e-01  1.95605175e-01\n",
      "  -2.13422443e-01  8.54508953e-02 -1.66135863e-01 -3.24330661e-01\n",
      "  -1.69273623e-02  5.22111525e-01  7.78991426e-01]\n",
      " [-1.51543624e-01 -1.92389052e-01  3.26416329e-01  2.05606657e-03\n",
      "  -8.91153738e-01  6.18076599e-02 -3.33207892e-01 -2.53695433e-01\n",
      "  -7.15786901e-01  5.71943942e-01  1.10496330e+00]]\n",
      "\n",
      "Logistic Regression Model 1: intercept =\n",
      "[-3.52455514 -0.05656912  2.61758452  2.7521139   0.62859209 -2.41716624]\n"
     ]
    }
   ],
   "source": [
    "print('Wine Quality Range: ({}, {})'.format(y.min(), y.max()))\n",
    "print('\\nLogistic Regression Model 1: coeffs =\\n')\n",
    "print(classifier.coef_)\n",
    "print()\n",
    "print('Logistic Regression Model 1: intercept =')\n",
    "print(classifier.intercept_)"
   ]
  },
  {
   "cell_type": "code",
   "execution_count": 68,
   "metadata": {},
   "outputs": [
    {
     "name": "stdout",
     "output_type": "stream",
     "text": [
      "Actual training data set quality range: (3, 8)\n",
      "Predicted training data set quality range: (3, 7)\n"
     ]
    }
   ],
   "source": [
    "# compute train_predictions using X_train\n",
    "train_predictions = classifier.predict(X_train)\n",
    "print('Actual training data set quality range: ({}, {})'.format(y_train.min(), y_train.max()))\n",
    "print('Predicted training data set quality range: ({}, {})'.format(train_predictions.min(), train_predictions.max()))"
   ]
  },
  {
   "cell_type": "code",
   "execution_count": 69,
   "metadata": {},
   "outputs": [
    {
     "data": {
      "text/html": [
       "<div>\n",
       "<style scoped>\n",
       "    .dataframe tbody tr th:only-of-type {\n",
       "        vertical-align: middle;\n",
       "    }\n",
       "\n",
       "    .dataframe tbody tr th {\n",
       "        vertical-align: top;\n",
       "    }\n",
       "\n",
       "    .dataframe thead th {\n",
       "        text-align: right;\n",
       "    }\n",
       "</style>\n",
       "<table border=\"1\" class=\"dataframe\">\n",
       "  <thead>\n",
       "    <tr style=\"text-align: right;\">\n",
       "      <th></th>\n",
       "      <th>3</th>\n",
       "      <th>4</th>\n",
       "      <th>5</th>\n",
       "      <th>6</th>\n",
       "      <th>7</th>\n",
       "      <th>8</th>\n",
       "    </tr>\n",
       "  </thead>\n",
       "  <tbody>\n",
       "    <tr>\n",
       "      <th>3</th>\n",
       "      <td>1</td>\n",
       "      <td>1</td>\n",
       "      <td>6</td>\n",
       "      <td>1</td>\n",
       "      <td>0</td>\n",
       "      <td>0</td>\n",
       "    </tr>\n",
       "    <tr>\n",
       "      <th>4</th>\n",
       "      <td>0</td>\n",
       "      <td>0</td>\n",
       "      <td>27</td>\n",
       "      <td>15</td>\n",
       "      <td>1</td>\n",
       "      <td>0</td>\n",
       "    </tr>\n",
       "    <tr>\n",
       "      <th>5</th>\n",
       "      <td>2</td>\n",
       "      <td>0</td>\n",
       "      <td>423</td>\n",
       "      <td>123</td>\n",
       "      <td>3</td>\n",
       "      <td>0</td>\n",
       "    </tr>\n",
       "    <tr>\n",
       "      <th>6</th>\n",
       "      <td>0</td>\n",
       "      <td>0</td>\n",
       "      <td>164</td>\n",
       "      <td>313</td>\n",
       "      <td>29</td>\n",
       "      <td>0</td>\n",
       "    </tr>\n",
       "    <tr>\n",
       "      <th>7</th>\n",
       "      <td>0</td>\n",
       "      <td>0</td>\n",
       "      <td>8</td>\n",
       "      <td>94</td>\n",
       "      <td>55</td>\n",
       "      <td>0</td>\n",
       "    </tr>\n",
       "    <tr>\n",
       "      <th>8</th>\n",
       "      <td>0</td>\n",
       "      <td>0</td>\n",
       "      <td>0</td>\n",
       "      <td>9</td>\n",
       "      <td>4</td>\n",
       "      <td>0</td>\n",
       "    </tr>\n",
       "  </tbody>\n",
       "</table>\n",
       "</div>"
      ],
      "text/plain": [
       "   3  4    5    6   7  8\n",
       "3  1  1    6    1   0  0\n",
       "4  0  0   27   15   1  0\n",
       "5  2  0  423  123   3  0\n",
       "6  0  0  164  313  29  0\n",
       "7  0  0    8   94  55  0\n",
       "8  0  0    0    9   4  0"
      ]
     },
     "execution_count": 69,
     "metadata": {},
     "output_type": "execute_result"
    }
   ],
   "source": [
    "#create a confusion matrix for training data set  \n",
    "from sklearn.metrics import confusion_matrix  \n",
    "cm= confusion_matrix(y_train,train_predictions)  \n",
    "coords = [x for x in range(3,9)]\n",
    "cm = pd.DataFrame(cm,columns=coords, index=coords )\n",
    "cm"
   ]
  },
  {
   "cell_type": "code",
   "execution_count": 70,
   "metadata": {},
   "outputs": [
    {
     "name": "stdout",
     "output_type": "stream",
     "text": [
      "Actual test data set quality range: (3, 8)\n",
      "Predicted test data set quality range: (4, 7)\n"
     ]
    }
   ],
   "source": [
    "# compute test predictions using X_test\n",
    "test_preds= classifier.predict(X_test)\n",
    "print('Actual test data set quality range: ({}, {})'.format(y_test.min(), y_test.max()))\n",
    "print('Predicted test data set quality range: ({}, {})'.format(test_preds.min(), test_preds.max()))"
   ]
  },
  {
   "cell_type": "code",
   "execution_count": 71,
   "metadata": {},
   "outputs": [
    {
     "data": {
      "text/html": [
       "<div>\n",
       "<style scoped>\n",
       "    .dataframe tbody tr th:only-of-type {\n",
       "        vertical-align: middle;\n",
       "    }\n",
       "\n",
       "    .dataframe tbody tr th {\n",
       "        vertical-align: top;\n",
       "    }\n",
       "\n",
       "    .dataframe thead th {\n",
       "        text-align: right;\n",
       "    }\n",
       "</style>\n",
       "<table border=\"1\" class=\"dataframe\">\n",
       "  <thead>\n",
       "    <tr style=\"text-align: right;\">\n",
       "      <th></th>\n",
       "      <th>3</th>\n",
       "      <th>4</th>\n",
       "      <th>5</th>\n",
       "      <th>6</th>\n",
       "      <th>7</th>\n",
       "      <th>8</th>\n",
       "    </tr>\n",
       "  </thead>\n",
       "  <tbody>\n",
       "    <tr>\n",
       "      <th>3</th>\n",
       "      <td>0</td>\n",
       "      <td>0</td>\n",
       "      <td>1</td>\n",
       "      <td>0</td>\n",
       "      <td>0</td>\n",
       "      <td>0</td>\n",
       "    </tr>\n",
       "    <tr>\n",
       "      <th>4</th>\n",
       "      <td>0</td>\n",
       "      <td>1</td>\n",
       "      <td>7</td>\n",
       "      <td>2</td>\n",
       "      <td>0</td>\n",
       "      <td>0</td>\n",
       "    </tr>\n",
       "    <tr>\n",
       "      <th>5</th>\n",
       "      <td>0</td>\n",
       "      <td>0</td>\n",
       "      <td>98</td>\n",
       "      <td>32</td>\n",
       "      <td>0</td>\n",
       "      <td>0</td>\n",
       "    </tr>\n",
       "    <tr>\n",
       "      <th>6</th>\n",
       "      <td>0</td>\n",
       "      <td>0</td>\n",
       "      <td>46</td>\n",
       "      <td>76</td>\n",
       "      <td>10</td>\n",
       "      <td>0</td>\n",
       "    </tr>\n",
       "    <tr>\n",
       "      <th>7</th>\n",
       "      <td>0</td>\n",
       "      <td>0</td>\n",
       "      <td>3</td>\n",
       "      <td>30</td>\n",
       "      <td>9</td>\n",
       "      <td>0</td>\n",
       "    </tr>\n",
       "    <tr>\n",
       "      <th>8</th>\n",
       "      <td>0</td>\n",
       "      <td>0</td>\n",
       "      <td>0</td>\n",
       "      <td>1</td>\n",
       "      <td>4</td>\n",
       "      <td>0</td>\n",
       "    </tr>\n",
       "  </tbody>\n",
       "</table>\n",
       "</div>"
      ],
      "text/plain": [
       "   3  4   5   6   7  8\n",
       "3  0  0   1   0   0  0\n",
       "4  0  1   7   2   0  0\n",
       "5  0  0  98  32   0  0\n",
       "6  0  0  46  76  10  0\n",
       "7  0  0   3  30   9  0\n",
       "8  0  0   0   1   4  0"
      ]
     },
     "execution_count": 71,
     "metadata": {},
     "output_type": "execute_result"
    }
   ],
   "source": [
    "#create a confusion matrix for test data set  \n",
    "cm= confusion_matrix(y_test,test_preds)  \n",
    "coords = [x for x in range(3,9)]\n",
    "cm = pd.DataFrame(cm,columns=coords, index=coords )\n",
    "cm"
   ]
  },
  {
   "cell_type": "code",
   "execution_count": 72,
   "metadata": {},
   "outputs": [
    {
     "name": "stdout",
     "output_type": "stream",
     "text": [
      "Train Accuracy Score 0.619233776387803\n"
     ]
    }
   ],
   "source": [
    "log_train_score1 = classifier.score(X_train, y_train)\n",
    "print('Train Accuracy Score', log_train_score1)"
   ]
  },
  {
   "cell_type": "code",
   "execution_count": 73,
   "metadata": {},
   "outputs": [
    {
     "name": "stdout",
     "output_type": "stream",
     "text": [
      "Test Accuracy Score 0.575\n"
     ]
    }
   ],
   "source": [
    "log_test_score1 = classifier.score(X_test, y_test)\n",
    "print('Test Accuracy Score', log_test_score1)"
   ]
  },
  {
   "cell_type": "markdown",
   "metadata": {},
   "source": [
    "#### Apply cross-validations to improve the model performance\n",
    "1. Apply cross-validation\n",
    "2. Apply k-fold cross validation"
   ]
  },
  {
   "cell_type": "code",
   "execution_count": 74,
   "metadata": {},
   "outputs": [
    {
     "name": "stdout",
     "output_type": "stream",
     "text": [
      "dict_keys(['fit_time', 'score_time', 'estimator', 'test_score'])\n",
      "(LogisticRegression(max_iter=200, random_state=42), LogisticRegression(max_iter=200, random_state=42), LogisticRegression(max_iter=200, random_state=42), LogisticRegression(max_iter=200, random_state=42), LogisticRegression(max_iter=200, random_state=42))\n",
      "[0.5859375  0.58984375 0.5703125  0.6171875  0.67058824]\n"
     ]
    }
   ],
   "source": [
    "# obtain scores and corresponding estimators\n",
    "\n",
    "# cross_validate returns the scores and also the underlying estimators\n",
    "scores = cross_validate(classifier, X_train, y_train, cv=5, return_estimator=True)\n",
    "\n",
    "# visually locate the estimator that has the maximum score.\n",
    "# in this case, it is estimator[4] which gives 67% accuracy.\n",
    "print(scores.keys())\n",
    "print(scores['estimator'])\n",
    "print(scores['test_score'])\n",
    "\n",
    "# pick up the estimator that gives the most accurate prediction\n",
    "# we can use the estimator to obtain predictions; we are not doing this here\n",
    "estimator = scores['estimator'][4]\n"
   ]
  },
  {
   "cell_type": "code",
   "execution_count": 79,
   "metadata": {},
   "outputs": [
    {
     "name": "stdout",
     "output_type": "stream",
     "text": [
      "K-fold scores: [0.57421875 0.59765625 0.5625     0.6015625  0.6745098 ]\n",
      "Mean accuracy of k-fold scores: 60.21\n",
      "highest kfold score = 0.6745098039215687\n"
     ]
    }
   ],
   "source": [
    "# 2. Apply K-fold cross validation\n",
    "kfold = KFold(n_splits=5)\n",
    "\n",
    "# cross_validate returns the scores and also the underlying estimators\n",
    "results = cross_validate(classifier, X_train, y_train, cv=kfold, return_estimator=True)\n",
    "print('K-fold scores:', results['test_score'])\n",
    "print('Mean accuracy of k-fold scores:', round(results['test_score'].mean()*100,2))\n",
    "\n",
    "# pick up the estimator that gives the most accurate prediction\n",
    "# we can use the estimator to obtain predictions; we are not doing this here\n",
    "estimator = results['estimator'][4]\n",
    "score1_max = results['test_score'][4]\n",
    "print('highest kfold score =', score1_max)"
   ]
  },
  {
   "cell_type": "markdown",
   "metadata": {},
   "source": [
    "#### Step 2: Develop the second Logistic Regression Model after dropping columns showing very weak correlations (0.0 - 0.2)\n",
    "1. Drop `pH`, `free sulfur dioxide`, `residual sugar` columns.\n",
    "2. Build the ML model, test and validate the predictions."
   ]
  },
  {
   "cell_type": "code",
   "execution_count": 80,
   "metadata": {},
   "outputs": [
    {
     "data": {
      "text/html": [
       "<div>\n",
       "<style scoped>\n",
       "    .dataframe tbody tr th:only-of-type {\n",
       "        vertical-align: middle;\n",
       "    }\n",
       "\n",
       "    .dataframe tbody tr th {\n",
       "        vertical-align: top;\n",
       "    }\n",
       "\n",
       "    .dataframe thead th {\n",
       "        text-align: right;\n",
       "    }\n",
       "</style>\n",
       "<table border=\"1\" class=\"dataframe\">\n",
       "  <thead>\n",
       "    <tr style=\"text-align: right;\">\n",
       "      <th></th>\n",
       "      <th>fixed acidity</th>\n",
       "      <th>volatile acidity</th>\n",
       "      <th>citric acid</th>\n",
       "      <th>residual sugar</th>\n",
       "      <th>chlorides</th>\n",
       "      <th>free sulfur dioxide</th>\n",
       "      <th>total sulfur dioxide</th>\n",
       "      <th>density</th>\n",
       "      <th>pH</th>\n",
       "      <th>sulphates</th>\n",
       "      <th>alcohol</th>\n",
       "      <th>quality</th>\n",
       "    </tr>\n",
       "  </thead>\n",
       "  <tbody>\n",
       "    <tr>\n",
       "      <th>0</th>\n",
       "      <td>7.4</td>\n",
       "      <td>0.70</td>\n",
       "      <td>0.00</td>\n",
       "      <td>1.9</td>\n",
       "      <td>0.076</td>\n",
       "      <td>11.0</td>\n",
       "      <td>34.0</td>\n",
       "      <td>0.9978</td>\n",
       "      <td>3.51</td>\n",
       "      <td>0.56</td>\n",
       "      <td>9.4</td>\n",
       "      <td>5</td>\n",
       "    </tr>\n",
       "    <tr>\n",
       "      <th>1</th>\n",
       "      <td>7.8</td>\n",
       "      <td>0.88</td>\n",
       "      <td>0.00</td>\n",
       "      <td>2.6</td>\n",
       "      <td>0.098</td>\n",
       "      <td>25.0</td>\n",
       "      <td>67.0</td>\n",
       "      <td>0.9968</td>\n",
       "      <td>3.20</td>\n",
       "      <td>0.68</td>\n",
       "      <td>9.8</td>\n",
       "      <td>5</td>\n",
       "    </tr>\n",
       "    <tr>\n",
       "      <th>2</th>\n",
       "      <td>7.8</td>\n",
       "      <td>0.76</td>\n",
       "      <td>0.04</td>\n",
       "      <td>2.3</td>\n",
       "      <td>0.092</td>\n",
       "      <td>15.0</td>\n",
       "      <td>54.0</td>\n",
       "      <td>0.9970</td>\n",
       "      <td>3.26</td>\n",
       "      <td>0.65</td>\n",
       "      <td>9.8</td>\n",
       "      <td>5</td>\n",
       "    </tr>\n",
       "    <tr>\n",
       "      <th>3</th>\n",
       "      <td>11.2</td>\n",
       "      <td>0.28</td>\n",
       "      <td>0.56</td>\n",
       "      <td>1.9</td>\n",
       "      <td>0.075</td>\n",
       "      <td>17.0</td>\n",
       "      <td>60.0</td>\n",
       "      <td>0.9980</td>\n",
       "      <td>3.16</td>\n",
       "      <td>0.58</td>\n",
       "      <td>9.8</td>\n",
       "      <td>6</td>\n",
       "    </tr>\n",
       "    <tr>\n",
       "      <th>4</th>\n",
       "      <td>7.4</td>\n",
       "      <td>0.70</td>\n",
       "      <td>0.00</td>\n",
       "      <td>1.9</td>\n",
       "      <td>0.076</td>\n",
       "      <td>11.0</td>\n",
       "      <td>34.0</td>\n",
       "      <td>0.9978</td>\n",
       "      <td>3.51</td>\n",
       "      <td>0.56</td>\n",
       "      <td>9.4</td>\n",
       "      <td>5</td>\n",
       "    </tr>\n",
       "  </tbody>\n",
       "</table>\n",
       "</div>"
      ],
      "text/plain": [
       "   fixed acidity  volatile acidity  citric acid  residual sugar  chlorides  \\\n",
       "0            7.4              0.70         0.00             1.9      0.076   \n",
       "1            7.8              0.88         0.00             2.6      0.098   \n",
       "2            7.8              0.76         0.04             2.3      0.092   \n",
       "3           11.2              0.28         0.56             1.9      0.075   \n",
       "4            7.4              0.70         0.00             1.9      0.076   \n",
       "\n",
       "   free sulfur dioxide  total sulfur dioxide  density    pH  sulphates  \\\n",
       "0                 11.0                  34.0   0.9978  3.51       0.56   \n",
       "1                 25.0                  67.0   0.9968  3.20       0.68   \n",
       "2                 15.0                  54.0   0.9970  3.26       0.65   \n",
       "3                 17.0                  60.0   0.9980  3.16       0.58   \n",
       "4                 11.0                  34.0   0.9978  3.51       0.56   \n",
       "\n",
       "   alcohol  quality  \n",
       "0      9.4        5  \n",
       "1      9.8        5  \n",
       "2      9.8        5  \n",
       "3      9.8        6  \n",
       "4      9.4        5  "
      ]
     },
     "execution_count": 80,
     "metadata": {},
     "output_type": "execute_result"
    }
   ],
   "source": [
    "# refresh the red wine dataset\n",
    "red_wine_data = pd.read_csv('datasets/winequality-red.csv', delimiter =';')\n",
    "red_wine_data.head()"
   ]
  },
  {
   "cell_type": "code",
   "execution_count": 81,
   "metadata": {},
   "outputs": [],
   "source": [
    "### drop columns showing very weak correlations\n",
    "lst = ['pH', 'free sulfur dioxide', 'residual sugar']\n",
    "red_wine_data.drop(lst, axis =1, inplace = True)"
   ]
  },
  {
   "cell_type": "code",
   "execution_count": 82,
   "metadata": {},
   "outputs": [],
   "source": [
    "# create the \"features and target\" data sets\n",
    "X = red_wine_data.drop('quality',axis=1)\n",
    "y = red_wine_data['quality']"
   ]
  },
  {
   "cell_type": "code",
   "execution_count": 83,
   "metadata": {},
   "outputs": [],
   "source": [
    "#Feature Scaling\n",
    "from sklearn.preprocessing import StandardScaler\n",
    "scaler = StandardScaler()\n",
    "X = scaler.fit_transform(X)"
   ]
  },
  {
   "cell_type": "code",
   "execution_count": 84,
   "metadata": {},
   "outputs": [
    {
     "name": "stdout",
     "output_type": "stream",
     "text": [
      "Logistic Regression: Model 2 train shapes:\n",
      "(1279, 8) (1279,)\n",
      "\n",
      "Logistic Regression: Model 2 test shapes:\n",
      "(320, 8) (320,)\n"
     ]
    }
   ],
   "source": [
    "# split the features and target data sets into train and test sets\n",
    "X_train, X_test, y_train, y_test = train_test_split(X, y, test_size=0.2, random_state=42)\n",
    "print('Logistic Regression: Model 2 train shapes:')\n",
    "print(X_train.shape, y_train.shape)\n",
    "print()\n",
    "print('Logistic Regression: Model 2 test shapes:')\n",
    "print(X_test.shape, y_test.shape)"
   ]
  },
  {
   "cell_type": "code",
   "execution_count": 85,
   "metadata": {},
   "outputs": [],
   "source": [
    "# create and fit a Logistic regression model\n",
    "classifier2 = LogisticRegression(random_state=42)  \n",
    "classifier2 = classifier2.fit(X_train, y_train)"
   ]
  },
  {
   "cell_type": "code",
   "execution_count": 86,
   "metadata": {},
   "outputs": [
    {
     "name": "stdout",
     "output_type": "stream",
     "text": [
      "Wine Quality Range: (3, 8)\n",
      "\n",
      "Logistic Regression Model 2: coeffs =\n",
      "\n",
      "[[-3.36508928e-02  1.15481688e+00 -1.74391019e-03  6.47904666e-01\n",
      "  -5.71869798e-01  8.23847664e-01 -6.74644646e-01 -8.52096704e-01]\n",
      " [-3.95683427e-01  3.58367311e-01  8.47999430e-02  2.24373649e-01\n",
      "   4.56073029e-02 -1.29683680e-01 -3.20750585e-01 -2.92978488e-01]\n",
      " [-1.54082631e-01  1.58117836e-02 -4.63289629e-02  1.24107152e-01\n",
      "   6.15356983e-01  9.53084068e-04 -2.65110874e-01 -7.53054714e-01]\n",
      " [ 2.84554421e-02 -4.58275691e-01 -3.15182962e-01  1.81689505e-02\n",
      "   2.43189558e-01 -1.50085843e-02  1.18927533e-01  1.49149516e-01]\n",
      " [ 2.34272289e-01 -8.40928072e-01 -1.78930102e-01 -2.12215461e-01\n",
      "  -9.78361696e-02 -1.87939445e-01  5.04624654e-01  8.45163819e-01]\n",
      " [ 3.20689220e-01 -2.29792207e-01  4.57385994e-01 -8.02338957e-01\n",
      "  -2.34447876e-01 -4.92169039e-01  6.36953918e-01  9.03816570e-01]]\n",
      "\n",
      "Logistic Regression Model 2: intercept =\n",
      "[-3.52670881 -0.01590016  2.58444082  2.72554169  0.61772236 -2.38509589]\n"
     ]
    }
   ],
   "source": [
    "print('Wine Quality Range: ({}, {})'.format(y.min(), y.max()))\n",
    "print('\\nLogistic Regression Model 2: coeffs =\\n')\n",
    "print(classifier2.coef_)\n",
    "print()\n",
    "print('Logistic Regression Model 2: intercept =')\n",
    "print(classifier2.intercept_)"
   ]
  },
  {
   "cell_type": "code",
   "execution_count": 87,
   "metadata": {},
   "outputs": [
    {
     "name": "stdout",
     "output_type": "stream",
     "text": [
      "Actual training data set quality range: (3, 8)\n",
      "Predicted training data set quality range: (3, 7)\n"
     ]
    }
   ],
   "source": [
    "# compute train_predictions using X_train\n",
    "train_predictions = classifier2.predict(X_train)\n",
    "print('Actual training data set quality range: ({}, {})'.format(y_train.min(), y_train.max()))\n",
    "print('Predicted training data set quality range: ({}, {})'.format(train_predictions.min(), train_predictions.max()))"
   ]
  },
  {
   "cell_type": "code",
   "execution_count": 88,
   "metadata": {},
   "outputs": [
    {
     "data": {
      "text/html": [
       "<div>\n",
       "<style scoped>\n",
       "    .dataframe tbody tr th:only-of-type {\n",
       "        vertical-align: middle;\n",
       "    }\n",
       "\n",
       "    .dataframe tbody tr th {\n",
       "        vertical-align: top;\n",
       "    }\n",
       "\n",
       "    .dataframe thead th {\n",
       "        text-align: right;\n",
       "    }\n",
       "</style>\n",
       "<table border=\"1\" class=\"dataframe\">\n",
       "  <thead>\n",
       "    <tr style=\"text-align: right;\">\n",
       "      <th></th>\n",
       "      <th>3</th>\n",
       "      <th>4</th>\n",
       "      <th>5</th>\n",
       "      <th>6</th>\n",
       "      <th>7</th>\n",
       "      <th>8</th>\n",
       "    </tr>\n",
       "  </thead>\n",
       "  <tbody>\n",
       "    <tr>\n",
       "      <th>3</th>\n",
       "      <td>1</td>\n",
       "      <td>0</td>\n",
       "      <td>7</td>\n",
       "      <td>1</td>\n",
       "      <td>0</td>\n",
       "      <td>0</td>\n",
       "    </tr>\n",
       "    <tr>\n",
       "      <th>4</th>\n",
       "      <td>0</td>\n",
       "      <td>0</td>\n",
       "      <td>28</td>\n",
       "      <td>15</td>\n",
       "      <td>0</td>\n",
       "      <td>0</td>\n",
       "    </tr>\n",
       "    <tr>\n",
       "      <th>5</th>\n",
       "      <td>2</td>\n",
       "      <td>0</td>\n",
       "      <td>417</td>\n",
       "      <td>131</td>\n",
       "      <td>1</td>\n",
       "      <td>0</td>\n",
       "    </tr>\n",
       "    <tr>\n",
       "      <th>6</th>\n",
       "      <td>0</td>\n",
       "      <td>0</td>\n",
       "      <td>169</td>\n",
       "      <td>311</td>\n",
       "      <td>26</td>\n",
       "      <td>0</td>\n",
       "    </tr>\n",
       "    <tr>\n",
       "      <th>7</th>\n",
       "      <td>0</td>\n",
       "      <td>0</td>\n",
       "      <td>10</td>\n",
       "      <td>99</td>\n",
       "      <td>48</td>\n",
       "      <td>0</td>\n",
       "    </tr>\n",
       "    <tr>\n",
       "      <th>8</th>\n",
       "      <td>0</td>\n",
       "      <td>0</td>\n",
       "      <td>0</td>\n",
       "      <td>9</td>\n",
       "      <td>4</td>\n",
       "      <td>0</td>\n",
       "    </tr>\n",
       "  </tbody>\n",
       "</table>\n",
       "</div>"
      ],
      "text/plain": [
       "   3  4    5    6   7  8\n",
       "3  1  0    7    1   0  0\n",
       "4  0  0   28   15   0  0\n",
       "5  2  0  417  131   1  0\n",
       "6  0  0  169  311  26  0\n",
       "7  0  0   10   99  48  0\n",
       "8  0  0    0    9   4  0"
      ]
     },
     "execution_count": 88,
     "metadata": {},
     "output_type": "execute_result"
    }
   ],
   "source": [
    "#create a confusion matrix for training data set  \n",
    "cm= confusion_matrix(y_train,train_predictions)  \n",
    "coords = [x for x in range(3,9)]\n",
    "cm = pd.DataFrame(cm,columns=coords, index=coords )\n",
    "cm"
   ]
  },
  {
   "cell_type": "code",
   "execution_count": 89,
   "metadata": {},
   "outputs": [
    {
     "name": "stdout",
     "output_type": "stream",
     "text": [
      "Actual test data set quality range: (3, 8)\n",
      "Predicted test data set quality range: (5, 7)\n"
     ]
    }
   ],
   "source": [
    "# compute test predictions using X_test\n",
    "test_preds= classifier2.predict(X_test)\n",
    "print('Actual test data set quality range: ({}, {})'.format(y_test.min(), y_test.max()))\n",
    "print('Predicted test data set quality range: ({}, {})'.format(test_preds.min(), test_preds.max()))"
   ]
  },
  {
   "cell_type": "code",
   "execution_count": 90,
   "metadata": {},
   "outputs": [
    {
     "data": {
      "text/html": [
       "<div>\n",
       "<style scoped>\n",
       "    .dataframe tbody tr th:only-of-type {\n",
       "        vertical-align: middle;\n",
       "    }\n",
       "\n",
       "    .dataframe tbody tr th {\n",
       "        vertical-align: top;\n",
       "    }\n",
       "\n",
       "    .dataframe thead th {\n",
       "        text-align: right;\n",
       "    }\n",
       "</style>\n",
       "<table border=\"1\" class=\"dataframe\">\n",
       "  <thead>\n",
       "    <tr style=\"text-align: right;\">\n",
       "      <th></th>\n",
       "      <th>3</th>\n",
       "      <th>4</th>\n",
       "      <th>5</th>\n",
       "      <th>6</th>\n",
       "      <th>7</th>\n",
       "      <th>8</th>\n",
       "    </tr>\n",
       "  </thead>\n",
       "  <tbody>\n",
       "    <tr>\n",
       "      <th>3</th>\n",
       "      <td>0</td>\n",
       "      <td>0</td>\n",
       "      <td>1</td>\n",
       "      <td>0</td>\n",
       "      <td>0</td>\n",
       "      <td>0</td>\n",
       "    </tr>\n",
       "    <tr>\n",
       "      <th>4</th>\n",
       "      <td>0</td>\n",
       "      <td>0</td>\n",
       "      <td>8</td>\n",
       "      <td>2</td>\n",
       "      <td>0</td>\n",
       "      <td>0</td>\n",
       "    </tr>\n",
       "    <tr>\n",
       "      <th>5</th>\n",
       "      <td>0</td>\n",
       "      <td>0</td>\n",
       "      <td>100</td>\n",
       "      <td>29</td>\n",
       "      <td>1</td>\n",
       "      <td>0</td>\n",
       "    </tr>\n",
       "    <tr>\n",
       "      <th>6</th>\n",
       "      <td>0</td>\n",
       "      <td>0</td>\n",
       "      <td>46</td>\n",
       "      <td>76</td>\n",
       "      <td>10</td>\n",
       "      <td>0</td>\n",
       "    </tr>\n",
       "    <tr>\n",
       "      <th>7</th>\n",
       "      <td>0</td>\n",
       "      <td>0</td>\n",
       "      <td>3</td>\n",
       "      <td>31</td>\n",
       "      <td>8</td>\n",
       "      <td>0</td>\n",
       "    </tr>\n",
       "    <tr>\n",
       "      <th>8</th>\n",
       "      <td>0</td>\n",
       "      <td>0</td>\n",
       "      <td>0</td>\n",
       "      <td>1</td>\n",
       "      <td>4</td>\n",
       "      <td>0</td>\n",
       "    </tr>\n",
       "  </tbody>\n",
       "</table>\n",
       "</div>"
      ],
      "text/plain": [
       "   3  4    5   6   7  8\n",
       "3  0  0    1   0   0  0\n",
       "4  0  0    8   2   0  0\n",
       "5  0  0  100  29   1  0\n",
       "6  0  0   46  76  10  0\n",
       "7  0  0    3  31   8  0\n",
       "8  0  0    0   1   4  0"
      ]
     },
     "execution_count": 90,
     "metadata": {},
     "output_type": "execute_result"
    }
   ],
   "source": [
    "#create a confusion matrix for test data set  \n",
    "cm= confusion_matrix(y_test,test_preds)  \n",
    "coords = [x for x in range(3,9)]\n",
    "cm = pd.DataFrame(cm,columns=coords, index=coords )\n",
    "cm"
   ]
  },
  {
   "cell_type": "code",
   "execution_count": 91,
   "metadata": {},
   "outputs": [
    {
     "name": "stdout",
     "output_type": "stream",
     "text": [
      "Train Accuracy Score 0.6075058639562158\n"
     ]
    }
   ],
   "source": [
    "score = classifier2.score(X_train, y_train)\n",
    "print('Train Accuracy Score', score)"
   ]
  },
  {
   "cell_type": "code",
   "execution_count": 92,
   "metadata": {},
   "outputs": [
    {
     "name": "stdout",
     "output_type": "stream",
     "text": [
      "Test Accuracy Score 0.6075058639562158\n"
     ]
    }
   ],
   "source": [
    "score2 = classifier2.score(X_test, y_test)\n",
    "print('Test Accuracy Score', score)"
   ]
  },
  {
   "cell_type": "markdown",
   "metadata": {},
   "source": [
    "#### Apply cross-validations to improve the model performance\n",
    "1. Apply cross-validation\n",
    "2. Apply k-fold cross validation"
   ]
  },
  {
   "cell_type": "code",
   "execution_count": 93,
   "metadata": {},
   "outputs": [
    {
     "name": "stdout",
     "output_type": "stream",
     "text": [
      "dict_keys(['fit_time', 'score_time', 'estimator', 'test_score'])\n",
      "(LogisticRegression(random_state=42), LogisticRegression(random_state=42), LogisticRegression(random_state=42), LogisticRegression(random_state=42), LogisticRegression(random_state=42))\n",
      "[0.578125   0.58203125 0.57421875 0.625      0.65882353]\n"
     ]
    }
   ],
   "source": [
    "# obtain scores and corresponding estimators\n",
    "\n",
    "# cross_validate returns the scores and also the underlying estimators\n",
    "scores = cross_validate(classifier2, X_train, y_train, cv=5, return_estimator=True)\n",
    "\n",
    "# visually locate the estimator that has the maximum score.\n",
    "# in this case, it is estimator[4] which gives 67% accuracy.\n",
    "print(scores.keys())\n",
    "print(scores['estimator'])\n",
    "print(scores['test_score'])\n",
    "\n",
    "# pick up the estimator that gives the most accurate prediction\n",
    "# we can use the estimator to obtain predictions; we are not doing this here\n",
    "estimator = scores['estimator'][4]\n"
   ]
  },
  {
   "cell_type": "code",
   "execution_count": 95,
   "metadata": {},
   "outputs": [
    {
     "name": "stdout",
     "output_type": "stream",
     "text": [
      "K-fold scores: [0.56640625 0.59765625 0.57421875 0.6171875  0.65882353]\n",
      "Mean accuracy of k-fold scores: 60.29\n",
      "logistic regression model 2: highest kfold score = 0.6588235294117647\n"
     ]
    }
   ],
   "source": [
    "# 2. Apply K-fold cross validation\n",
    "kfold = KFold(n_splits=5)\n",
    "\n",
    "# cross_validate returns the scores and also the underlying estimators\n",
    "results = cross_validate(classifier2, X_train, y_train, cv=kfold, return_estimator=True)\n",
    "print('K-fold scores:', results['test_score'])\n",
    "print('Mean accuracy of k-fold scores:', round(results['test_score'].mean()*100,2))\n",
    "\n",
    "# pick up the estimator that gives the most accurate prediction\n",
    "# we can use the estimator to obtain predictions; we are not doing this here\n",
    "estimator = results['estimator'][4]\n",
    "scores2_max = scores['test_score'][4]\n",
    "print('logistic regression model 2: highest kfold score =', scores2_max)"
   ]
  },
  {
   "cell_type": "markdown",
   "metadata": {},
   "source": [
    "#### Step 3: Develop the third Logistic Regression Model - after dropping columns showing weak correlations (0.2 - 0.4)\n",
    "1. Drop columns `fixed acidity`, `citric acid`, `chlorides`, `total sulfur dioxide`, `density`.\n",
    "2. Build the ML model, test and validate the predictions."
   ]
  },
  {
   "cell_type": "code",
   "execution_count": 97,
   "metadata": {},
   "outputs": [],
   "source": [
    "### 3. Drop the columns showing weak correlations\n",
    "lst = ['fixed acidity', 'citric acid', 'chlorides', 'total sulfur dioxide', 'density']\n",
    "red_wine_data.drop(lst, axis =1, inplace = True)"
   ]
  },
  {
   "cell_type": "code",
   "execution_count": 98,
   "metadata": {},
   "outputs": [],
   "source": [
    "# create the \"features and target\" data sets\n",
    "X = red_wine_data.drop('quality',axis=1)\n",
    "y = red_wine_data['quality']"
   ]
  },
  {
   "cell_type": "code",
   "execution_count": 99,
   "metadata": {},
   "outputs": [],
   "source": [
    "#Feature Scaling\n",
    "from sklearn.preprocessing import StandardScaler\n",
    "scaler = StandardScaler()\n",
    "X = scaler.fit_transform(X)"
   ]
  },
  {
   "cell_type": "code",
   "execution_count": 100,
   "metadata": {},
   "outputs": [
    {
     "name": "stdout",
     "output_type": "stream",
     "text": [
      "Logistic Regression: Model 3 train shapes:\n",
      "(1279, 3) (1279,)\n",
      "\n",
      "Logistic Regression: Model 3 test shapes:\n",
      "(320, 3) (320,)\n"
     ]
    }
   ],
   "source": [
    "# split the features and target data sets into train and test sets\n",
    "X_train, X_test, y_train, y_test = train_test_split(X, y, test_size=0.2, random_state=42)\n",
    "print('Logistic Regression: Model 3 train shapes:')\n",
    "print(X_train.shape, y_train.shape)\n",
    "print()\n",
    "print('Logistic Regression: Model 3 test shapes:')\n",
    "print(X_test.shape, y_test.shape)"
   ]
  },
  {
   "cell_type": "code",
   "execution_count": 101,
   "metadata": {},
   "outputs": [],
   "source": [
    "# create and fit a logistic regression model\n",
    "classifier3 = LogisticRegression(random_state=42)  \n",
    "classifier3 = classifier3.fit(X_train, y_train)"
   ]
  },
  {
   "cell_type": "code",
   "execution_count": 102,
   "metadata": {},
   "outputs": [
    {
     "name": "stdout",
     "output_type": "stream",
     "text": [
      "Wine Quality Range: (3, 8)\n",
      "\n",
      "Logistic Regression Model 3: coeffs =\n",
      "\n",
      "[[ 1.17996622 -0.20575491 -0.92483039]\n",
      " [ 0.45640416 -0.29450005 -0.23664581]\n",
      " [ 0.12035703 -0.22764997 -0.90260972]\n",
      " [-0.27349158  0.02033144  0.09920038]\n",
      " [-0.85980234  0.30917349  0.86845164]\n",
      " [-0.62343347  0.39840001  1.0964339 ]]\n",
      "\n",
      "Logistic Regression Model 3: intercept =\n",
      "[-2.82805638 -0.21744754  2.29951555  2.44377325  0.475164   -2.17294887]\n"
     ]
    }
   ],
   "source": [
    "print('Wine Quality Range: ({}, {})'.format(y.min(), y.max()))\n",
    "print('\\nLogistic Regression Model 3: coeffs =\\n')\n",
    "print(classifier3.coef_)\n",
    "print()\n",
    "print('Logistic Regression Model 3: intercept =')\n",
    "print(classifier3.intercept_)"
   ]
  },
  {
   "cell_type": "code",
   "execution_count": 103,
   "metadata": {},
   "outputs": [
    {
     "name": "stdout",
     "output_type": "stream",
     "text": [
      "Actual training data set quality range: (3, 8)\n",
      "Predicted training data set quality range: (3, 7)\n"
     ]
    }
   ],
   "source": [
    "# compute train_predictions using X_train\n",
    "train_predictions = classifier3.predict(X_train)\n",
    "print('Actual training data set quality range: ({}, {})'.format(y_train.min(), y_train.max()))\n",
    "print('Predicted training data set quality range: ({}, {})'.format(train_predictions.min(), train_predictions.max()))"
   ]
  },
  {
   "cell_type": "code",
   "execution_count": 104,
   "metadata": {},
   "outputs": [
    {
     "data": {
      "text/html": [
       "<div>\n",
       "<style scoped>\n",
       "    .dataframe tbody tr th:only-of-type {\n",
       "        vertical-align: middle;\n",
       "    }\n",
       "\n",
       "    .dataframe tbody tr th {\n",
       "        vertical-align: top;\n",
       "    }\n",
       "\n",
       "    .dataframe thead th {\n",
       "        text-align: right;\n",
       "    }\n",
       "</style>\n",
       "<table border=\"1\" class=\"dataframe\">\n",
       "  <thead>\n",
       "    <tr style=\"text-align: right;\">\n",
       "      <th></th>\n",
       "      <th>3</th>\n",
       "      <th>4</th>\n",
       "      <th>5</th>\n",
       "      <th>6</th>\n",
       "      <th>7</th>\n",
       "      <th>8</th>\n",
       "    </tr>\n",
       "  </thead>\n",
       "  <tbody>\n",
       "    <tr>\n",
       "      <th>3</th>\n",
       "      <td>1</td>\n",
       "      <td>0</td>\n",
       "      <td>7</td>\n",
       "      <td>1</td>\n",
       "      <td>0</td>\n",
       "      <td>0</td>\n",
       "    </tr>\n",
       "    <tr>\n",
       "      <th>4</th>\n",
       "      <td>0</td>\n",
       "      <td>0</td>\n",
       "      <td>30</td>\n",
       "      <td>13</td>\n",
       "      <td>0</td>\n",
       "      <td>0</td>\n",
       "    </tr>\n",
       "    <tr>\n",
       "      <th>5</th>\n",
       "      <td>0</td>\n",
       "      <td>0</td>\n",
       "      <td>410</td>\n",
       "      <td>139</td>\n",
       "      <td>2</td>\n",
       "      <td>0</td>\n",
       "    </tr>\n",
       "    <tr>\n",
       "      <th>6</th>\n",
       "      <td>0</td>\n",
       "      <td>0</td>\n",
       "      <td>193</td>\n",
       "      <td>290</td>\n",
       "      <td>23</td>\n",
       "      <td>0</td>\n",
       "    </tr>\n",
       "    <tr>\n",
       "      <th>7</th>\n",
       "      <td>0</td>\n",
       "      <td>0</td>\n",
       "      <td>14</td>\n",
       "      <td>105</td>\n",
       "      <td>38</td>\n",
       "      <td>0</td>\n",
       "    </tr>\n",
       "    <tr>\n",
       "      <th>8</th>\n",
       "      <td>0</td>\n",
       "      <td>0</td>\n",
       "      <td>0</td>\n",
       "      <td>10</td>\n",
       "      <td>3</td>\n",
       "      <td>0</td>\n",
       "    </tr>\n",
       "  </tbody>\n",
       "</table>\n",
       "</div>"
      ],
      "text/plain": [
       "   3  4    5    6   7  8\n",
       "3  1  0    7    1   0  0\n",
       "4  0  0   30   13   0  0\n",
       "5  0  0  410  139   2  0\n",
       "6  0  0  193  290  23  0\n",
       "7  0  0   14  105  38  0\n",
       "8  0  0    0   10   3  0"
      ]
     },
     "execution_count": 104,
     "metadata": {},
     "output_type": "execute_result"
    }
   ],
   "source": [
    "#create a confusion matrix for training data set  \n",
    "cm= confusion_matrix(y_train,train_predictions)  \n",
    "coords = [x for x in range(3,9)]\n",
    "cm = pd.DataFrame(cm,columns=coords, index=coords )\n",
    "cm"
   ]
  },
  {
   "cell_type": "code",
   "execution_count": 105,
   "metadata": {},
   "outputs": [
    {
     "name": "stdout",
     "output_type": "stream",
     "text": [
      "Actual test data set quality range: (3, 8)\n",
      "Predicted test data set quality range: (5, 7)\n"
     ]
    }
   ],
   "source": [
    "# compute test predictions using X_test\n",
    "test_preds= classifier3.predict(X_test)\n",
    "print('Actual test data set quality range: ({}, {})'.format(y_test.min(), y_test.max()))\n",
    "print('Predicted test data set quality range: ({}, {})'.format(test_preds.min(), test_preds.max()))"
   ]
  },
  {
   "cell_type": "code",
   "execution_count": 106,
   "metadata": {},
   "outputs": [
    {
     "data": {
      "text/html": [
       "<div>\n",
       "<style scoped>\n",
       "    .dataframe tbody tr th:only-of-type {\n",
       "        vertical-align: middle;\n",
       "    }\n",
       "\n",
       "    .dataframe tbody tr th {\n",
       "        vertical-align: top;\n",
       "    }\n",
       "\n",
       "    .dataframe thead th {\n",
       "        text-align: right;\n",
       "    }\n",
       "</style>\n",
       "<table border=\"1\" class=\"dataframe\">\n",
       "  <thead>\n",
       "    <tr style=\"text-align: right;\">\n",
       "      <th></th>\n",
       "      <th>3</th>\n",
       "      <th>4</th>\n",
       "      <th>5</th>\n",
       "      <th>6</th>\n",
       "      <th>7</th>\n",
       "      <th>8</th>\n",
       "    </tr>\n",
       "  </thead>\n",
       "  <tbody>\n",
       "    <tr>\n",
       "      <th>3</th>\n",
       "      <td>0</td>\n",
       "      <td>0</td>\n",
       "      <td>1</td>\n",
       "      <td>0</td>\n",
       "      <td>0</td>\n",
       "      <td>0</td>\n",
       "    </tr>\n",
       "    <tr>\n",
       "      <th>4</th>\n",
       "      <td>0</td>\n",
       "      <td>0</td>\n",
       "      <td>10</td>\n",
       "      <td>0</td>\n",
       "      <td>0</td>\n",
       "      <td>0</td>\n",
       "    </tr>\n",
       "    <tr>\n",
       "      <th>5</th>\n",
       "      <td>0</td>\n",
       "      <td>0</td>\n",
       "      <td>103</td>\n",
       "      <td>26</td>\n",
       "      <td>1</td>\n",
       "      <td>0</td>\n",
       "    </tr>\n",
       "    <tr>\n",
       "      <th>6</th>\n",
       "      <td>0</td>\n",
       "      <td>0</td>\n",
       "      <td>56</td>\n",
       "      <td>67</td>\n",
       "      <td>9</td>\n",
       "      <td>0</td>\n",
       "    </tr>\n",
       "    <tr>\n",
       "      <th>7</th>\n",
       "      <td>0</td>\n",
       "      <td>0</td>\n",
       "      <td>3</td>\n",
       "      <td>31</td>\n",
       "      <td>8</td>\n",
       "      <td>0</td>\n",
       "    </tr>\n",
       "    <tr>\n",
       "      <th>8</th>\n",
       "      <td>0</td>\n",
       "      <td>0</td>\n",
       "      <td>0</td>\n",
       "      <td>1</td>\n",
       "      <td>4</td>\n",
       "      <td>0</td>\n",
       "    </tr>\n",
       "  </tbody>\n",
       "</table>\n",
       "</div>"
      ],
      "text/plain": [
       "   3  4    5   6  7  8\n",
       "3  0  0    1   0  0  0\n",
       "4  0  0   10   0  0  0\n",
       "5  0  0  103  26  1  0\n",
       "6  0  0   56  67  9  0\n",
       "7  0  0    3  31  8  0\n",
       "8  0  0    0   1  4  0"
      ]
     },
     "execution_count": 106,
     "metadata": {},
     "output_type": "execute_result"
    }
   ],
   "source": [
    "#create a confusion matrix for test data set  \n",
    "cm= confusion_matrix(y_test,test_preds)  \n",
    "coords = [x for x in range(3,9)]\n",
    "cm = pd.DataFrame(cm,columns=coords, index=coords )\n",
    "cm"
   ]
  },
  {
   "cell_type": "code",
   "execution_count": 107,
   "metadata": {},
   "outputs": [
    {
     "name": "stdout",
     "output_type": "stream",
     "text": [
      "Train Accuracy Score 0.5777951524628616\n"
     ]
    }
   ],
   "source": [
    "score = classifier3.score(X_train, y_train)\n",
    "print('Train Accuracy Score', score)"
   ]
  },
  {
   "cell_type": "code",
   "execution_count": 108,
   "metadata": {},
   "outputs": [
    {
     "name": "stdout",
     "output_type": "stream",
     "text": [
      "Test Accuracy Score 0.5777951524628616\n"
     ]
    }
   ],
   "source": [
    "score3 = classifier3.score(X_test, y_test)\n",
    "print('Test Accuracy Score', score)"
   ]
  },
  {
   "cell_type": "markdown",
   "metadata": {},
   "source": [
    "#### Apply cross-validations to improve the model performance\n",
    "1. Apply cross-validation\n",
    "2. Apply k-fold cross validation"
   ]
  },
  {
   "cell_type": "code",
   "execution_count": 109,
   "metadata": {},
   "outputs": [
    {
     "name": "stdout",
     "output_type": "stream",
     "text": [
      "dict_keys(['fit_time', 'score_time', 'estimator', 'test_score'])\n",
      "(LogisticRegression(random_state=42), LogisticRegression(random_state=42), LogisticRegression(random_state=42), LogisticRegression(random_state=42), LogisticRegression(random_state=42))\n",
      "[0.53515625 0.52734375 0.5625     0.59765625 0.64705882]\n"
     ]
    }
   ],
   "source": [
    "# obtain scores and corresponding estimators\n",
    "\n",
    "# cross_validate returns the scores and also the underlying estimators\n",
    "scores = cross_validate(classifier3, X_train, y_train, cv=5, return_estimator=True)\n",
    "\n",
    "# visually locate the estimator that has the maximum score.\n",
    "# in this case, it is estimator[4] which gives 67% accuracy.\n",
    "print(scores.keys())\n",
    "print(scores['estimator'])\n",
    "print(scores['test_score'])\n",
    "\n",
    "# pick up the estimator that gives the most accurate prediction\n",
    "# we can use the estimator to obtain predictions; we are not doing this here\n",
    "estimator = scores['estimator'][4]\n"
   ]
  },
  {
   "cell_type": "code",
   "execution_count": 111,
   "metadata": {},
   "outputs": [
    {
     "name": "stdout",
     "output_type": "stream",
     "text": [
      "K-fold scores: [0.53515625 0.57421875 0.546875   0.58984375 0.64313725]\n",
      "Mean accuracy of k-fold scores: 57.78\n",
      "logistic regression model 3: highest kfold score = 0.6470588235294118\n"
     ]
    }
   ],
   "source": [
    "# 2. Apply K-fold cross validation\n",
    "kfold = KFold(n_splits=5)\n",
    "\n",
    "# cross_validate returns the scores and also the underlying estimators\n",
    "results = cross_validate(classifier3, X_train, y_train, cv=kfold, return_estimator=True)\n",
    "print('K-fold scores:', results['test_score'])\n",
    "print('Mean accuracy of k-fold scores:', round(results['test_score'].mean()*100,2))\n",
    "\n",
    "# pick up the estimator that gives the most accurate prediction\n",
    "# we can use the estimator to obtain predictions; we are not doing this here\n",
    "estimator = results['estimator'][4]\n",
    "estimator = results['estimator'][4]\n",
    "scores3_max = scores['test_score'][4]\n",
    "print('logistic regression model 3: highest kfold score =', scores3_max)"
   ]
  },
  {
   "cell_type": "code",
   "execution_count": 112,
   "metadata": {},
   "outputs": [
    {
     "name": "stdout",
     "output_type": "stream",
     "text": [
      "Model1 Accuracy 0.6745098039215687\n",
      "Model2 Accuracy 0.6588235294117647\n",
      "Model3 Accuracy 0.6470588235294118\n"
     ]
    }
   ],
   "source": [
    "# compare accuracy of all logistic regression models\n",
    "print(\"Model1 Accuracy {}\".format(score1_max))\n",
    "print(\"Model2 Accuracy {}\".format(scores2_max))\n",
    "print(\"Model3 Accuracy {}\".format(scores3_max))"
   ]
  },
  {
   "cell_type": "markdown",
   "metadata": {},
   "source": [
    "#### Choose the best model for deployment.\n",
    "\n",
    "Since we are getting highest accuracy for model1, we are going for model1."
   ]
  },
  {
   "cell_type": "code",
   "execution_count": 113,
   "metadata": {},
   "outputs": [],
   "source": [
    "# note the accuracy for final comparison\n",
    "log_accuracy = score1_max"
   ]
  },
  {
   "cell_type": "code",
   "execution_count": 116,
   "metadata": {},
   "outputs": [],
   "source": [
    "# save red_model1 as per analysis\n",
    "fname = 'models/log_red_wine_model.pkl'\n",
    "model_file = open(fname, 'wb')\n",
    "pickle.dump(obj=classifier, file=model_file)\n",
    "model_file.close()"
   ]
  },
  {
   "cell_type": "code",
   "execution_count": 117,
   "metadata": {},
   "outputs": [
    {
     "name": "stdout",
     "output_type": "stream",
     "text": [
      "LogisticRegression(max_iter=200, random_state=42)\n"
     ]
    }
   ],
   "source": [
    "# reload the model from disk and check if it is saved\n",
    "model_file = open(fname, 'rb')\n",
    "logistic_model = pickle.load(model_file)\n",
    "model_file.close()\n",
    "print(logistic_model)"
   ]
  },
  {
   "cell_type": "markdown",
   "metadata": {},
   "source": [
    "## Section 3: Decision Tree for Red Wine Quality"
   ]
  },
  {
   "cell_type": "markdown",
   "metadata": {},
   "source": [
    "We've already done the sanity checks and EDA earlier. We only need to build various decision tree models based on the correlations we've observed, and compare the accuracies obtained."
   ]
  },
  {
   "cell_type": "code",
   "execution_count": 119,
   "metadata": {},
   "outputs": [
    {
     "data": {
      "text/html": [
       "<div>\n",
       "<style scoped>\n",
       "    .dataframe tbody tr th:only-of-type {\n",
       "        vertical-align: middle;\n",
       "    }\n",
       "\n",
       "    .dataframe tbody tr th {\n",
       "        vertical-align: top;\n",
       "    }\n",
       "\n",
       "    .dataframe thead th {\n",
       "        text-align: right;\n",
       "    }\n",
       "</style>\n",
       "<table border=\"1\" class=\"dataframe\">\n",
       "  <thead>\n",
       "    <tr style=\"text-align: right;\">\n",
       "      <th></th>\n",
       "      <th>fixed acidity</th>\n",
       "      <th>volatile acidity</th>\n",
       "      <th>citric acid</th>\n",
       "      <th>residual sugar</th>\n",
       "      <th>chlorides</th>\n",
       "      <th>free sulfur dioxide</th>\n",
       "      <th>total sulfur dioxide</th>\n",
       "      <th>density</th>\n",
       "      <th>pH</th>\n",
       "      <th>sulphates</th>\n",
       "      <th>alcohol</th>\n",
       "      <th>quality</th>\n",
       "    </tr>\n",
       "  </thead>\n",
       "  <tbody>\n",
       "    <tr>\n",
       "      <th>0</th>\n",
       "      <td>7.4</td>\n",
       "      <td>0.70</td>\n",
       "      <td>0.00</td>\n",
       "      <td>1.9</td>\n",
       "      <td>0.076</td>\n",
       "      <td>11.0</td>\n",
       "      <td>34.0</td>\n",
       "      <td>0.9978</td>\n",
       "      <td>3.51</td>\n",
       "      <td>0.56</td>\n",
       "      <td>9.4</td>\n",
       "      <td>5</td>\n",
       "    </tr>\n",
       "    <tr>\n",
       "      <th>1</th>\n",
       "      <td>7.8</td>\n",
       "      <td>0.88</td>\n",
       "      <td>0.00</td>\n",
       "      <td>2.6</td>\n",
       "      <td>0.098</td>\n",
       "      <td>25.0</td>\n",
       "      <td>67.0</td>\n",
       "      <td>0.9968</td>\n",
       "      <td>3.20</td>\n",
       "      <td>0.68</td>\n",
       "      <td>9.8</td>\n",
       "      <td>5</td>\n",
       "    </tr>\n",
       "    <tr>\n",
       "      <th>2</th>\n",
       "      <td>7.8</td>\n",
       "      <td>0.76</td>\n",
       "      <td>0.04</td>\n",
       "      <td>2.3</td>\n",
       "      <td>0.092</td>\n",
       "      <td>15.0</td>\n",
       "      <td>54.0</td>\n",
       "      <td>0.9970</td>\n",
       "      <td>3.26</td>\n",
       "      <td>0.65</td>\n",
       "      <td>9.8</td>\n",
       "      <td>5</td>\n",
       "    </tr>\n",
       "    <tr>\n",
       "      <th>3</th>\n",
       "      <td>11.2</td>\n",
       "      <td>0.28</td>\n",
       "      <td>0.56</td>\n",
       "      <td>1.9</td>\n",
       "      <td>0.075</td>\n",
       "      <td>17.0</td>\n",
       "      <td>60.0</td>\n",
       "      <td>0.9980</td>\n",
       "      <td>3.16</td>\n",
       "      <td>0.58</td>\n",
       "      <td>9.8</td>\n",
       "      <td>6</td>\n",
       "    </tr>\n",
       "    <tr>\n",
       "      <th>4</th>\n",
       "      <td>7.4</td>\n",
       "      <td>0.70</td>\n",
       "      <td>0.00</td>\n",
       "      <td>1.9</td>\n",
       "      <td>0.076</td>\n",
       "      <td>11.0</td>\n",
       "      <td>34.0</td>\n",
       "      <td>0.9978</td>\n",
       "      <td>3.51</td>\n",
       "      <td>0.56</td>\n",
       "      <td>9.4</td>\n",
       "      <td>5</td>\n",
       "    </tr>\n",
       "  </tbody>\n",
       "</table>\n",
       "</div>"
      ],
      "text/plain": [
       "   fixed acidity  volatile acidity  citric acid  residual sugar  chlorides  \\\n",
       "0            7.4              0.70         0.00             1.9      0.076   \n",
       "1            7.8              0.88         0.00             2.6      0.098   \n",
       "2            7.8              0.76         0.04             2.3      0.092   \n",
       "3           11.2              0.28         0.56             1.9      0.075   \n",
       "4            7.4              0.70         0.00             1.9      0.076   \n",
       "\n",
       "   free sulfur dioxide  total sulfur dioxide  density    pH  sulphates  \\\n",
       "0                 11.0                  34.0   0.9978  3.51       0.56   \n",
       "1                 25.0                  67.0   0.9968  3.20       0.68   \n",
       "2                 15.0                  54.0   0.9970  3.26       0.65   \n",
       "3                 17.0                  60.0   0.9980  3.16       0.58   \n",
       "4                 11.0                  34.0   0.9978  3.51       0.56   \n",
       "\n",
       "   alcohol  quality  \n",
       "0      9.4        5  \n",
       "1      9.8        5  \n",
       "2      9.8        5  \n",
       "3      9.8        6  \n",
       "4      9.4        5  "
      ]
     },
     "execution_count": 119,
     "metadata": {},
     "output_type": "execute_result"
    }
   ],
   "source": [
    "# refresh the red wine dataset\n",
    "red_wine_data = pd.read_csv('datasets/winequality-red.csv', delimiter =';')\n",
    "red_wine_data.head()"
   ]
  },
  {
   "cell_type": "markdown",
   "metadata": {},
   "source": [
    "#### Step 1: Develop the first Decision Tree Model using all the features\n",
    "Build the ML model with the complete data, test and validate the predictions."
   ]
  },
  {
   "cell_type": "code",
   "execution_count": 120,
   "metadata": {},
   "outputs": [],
   "source": [
    "# create the \"features and target\" data sets\n",
    "X = red_wine_data.drop('quality',axis=1)\n",
    "y = red_wine_data['quality']"
   ]
  },
  {
   "cell_type": "code",
   "execution_count": 121,
   "metadata": {},
   "outputs": [],
   "source": [
    "#Feature Scaling\n",
    "from sklearn.preprocessing import StandardScaler\n",
    "object = StandardScaler()\n",
    "X = object.fit_transform(X)"
   ]
  },
  {
   "cell_type": "code",
   "execution_count": 122,
   "metadata": {},
   "outputs": [
    {
     "name": "stdout",
     "output_type": "stream",
     "text": [
      "Decison Tree: Model 1 train shapes:\n",
      "(1279, 11) (1279,)\n",
      "\n",
      "Decision Tree: Model 1 test shapes:\n",
      "(320, 11) (320,)\n"
     ]
    }
   ],
   "source": [
    "# split the features and target data sets into train and test sets\n",
    "X_train, X_test, y_train, y_test = train_test_split(X, y, test_size=0.2, random_state=42)\n",
    "print('Decison Tree: Model 1 train shapes:')\n",
    "print(X_train.shape, y_train.shape)\n",
    "print()\n",
    "print('Decision Tree: Model 1 test shapes:')\n",
    "print(X_test.shape, y_test.shape)"
   ]
  },
  {
   "cell_type": "code",
   "execution_count": 123,
   "metadata": {},
   "outputs": [],
   "source": [
    "# create and fit a Decision tree model\n",
    "classifier = DecisionTreeClassifier(criterion=\"gini\", random_state=42, max_depth=3, min_samples_leaf=5)\n",
    "classifier = classifier.fit(X_train,y_train)"
   ]
  },
  {
   "cell_type": "code",
   "execution_count": 124,
   "metadata": {
    "scrolled": true
   },
   "outputs": [
    {
     "name": "stdout",
     "output_type": "stream",
     "text": [
      "Actual training data set quality range: (3, 8)\n",
      "Predicted training data set quality range: (5, 7)\n"
     ]
    }
   ],
   "source": [
    "# compute train_predictions using X_train\n",
    "train_predictions = classifier.predict(X_train)\n",
    "print('Actual training data set quality range: ({}, {})'.format(y_train.min(), y_train.max()))\n",
    "print('Predicted training data set quality range: ({}, {})'.format(train_predictions.min(), train_predictions.max()))"
   ]
  },
  {
   "cell_type": "code",
   "execution_count": 125,
   "metadata": {},
   "outputs": [
    {
     "data": {
      "text/html": [
       "<div>\n",
       "<style scoped>\n",
       "    .dataframe tbody tr th:only-of-type {\n",
       "        vertical-align: middle;\n",
       "    }\n",
       "\n",
       "    .dataframe tbody tr th {\n",
       "        vertical-align: top;\n",
       "    }\n",
       "\n",
       "    .dataframe thead th {\n",
       "        text-align: right;\n",
       "    }\n",
       "</style>\n",
       "<table border=\"1\" class=\"dataframe\">\n",
       "  <thead>\n",
       "    <tr style=\"text-align: right;\">\n",
       "      <th></th>\n",
       "      <th>3</th>\n",
       "      <th>4</th>\n",
       "      <th>5</th>\n",
       "      <th>6</th>\n",
       "      <th>7</th>\n",
       "      <th>8</th>\n",
       "    </tr>\n",
       "  </thead>\n",
       "  <tbody>\n",
       "    <tr>\n",
       "      <th>3</th>\n",
       "      <td>0</td>\n",
       "      <td>0</td>\n",
       "      <td>9</td>\n",
       "      <td>0</td>\n",
       "      <td>0</td>\n",
       "      <td>0</td>\n",
       "    </tr>\n",
       "    <tr>\n",
       "      <th>4</th>\n",
       "      <td>0</td>\n",
       "      <td>0</td>\n",
       "      <td>37</td>\n",
       "      <td>6</td>\n",
       "      <td>0</td>\n",
       "      <td>0</td>\n",
       "    </tr>\n",
       "    <tr>\n",
       "      <th>5</th>\n",
       "      <td>0</td>\n",
       "      <td>0</td>\n",
       "      <td>499</td>\n",
       "      <td>50</td>\n",
       "      <td>2</td>\n",
       "      <td>0</td>\n",
       "    </tr>\n",
       "    <tr>\n",
       "      <th>6</th>\n",
       "      <td>0</td>\n",
       "      <td>0</td>\n",
       "      <td>282</td>\n",
       "      <td>197</td>\n",
       "      <td>27</td>\n",
       "      <td>0</td>\n",
       "    </tr>\n",
       "    <tr>\n",
       "      <th>7</th>\n",
       "      <td>0</td>\n",
       "      <td>0</td>\n",
       "      <td>35</td>\n",
       "      <td>68</td>\n",
       "      <td>54</td>\n",
       "      <td>0</td>\n",
       "    </tr>\n",
       "    <tr>\n",
       "      <th>8</th>\n",
       "      <td>0</td>\n",
       "      <td>0</td>\n",
       "      <td>2</td>\n",
       "      <td>4</td>\n",
       "      <td>7</td>\n",
       "      <td>0</td>\n",
       "    </tr>\n",
       "  </tbody>\n",
       "</table>\n",
       "</div>"
      ],
      "text/plain": [
       "   3  4    5    6   7  8\n",
       "3  0  0    9    0   0  0\n",
       "4  0  0   37    6   0  0\n",
       "5  0  0  499   50   2  0\n",
       "6  0  0  282  197  27  0\n",
       "7  0  0   35   68  54  0\n",
       "8  0  0    2    4   7  0"
      ]
     },
     "execution_count": 125,
     "metadata": {},
     "output_type": "execute_result"
    }
   ],
   "source": [
    "#create a confusion matrix for training data set  \n",
    "cm= confusion_matrix(y_train,train_predictions)  \n",
    "coords = [x for x in range(3,9)]\n",
    "cm = pd.DataFrame(cm,columns=coords, index=coords )\n",
    "cm"
   ]
  },
  {
   "cell_type": "code",
   "execution_count": 126,
   "metadata": {},
   "outputs": [
    {
     "name": "stdout",
     "output_type": "stream",
     "text": [
      "Actual test data set quality range: (3, 8)\n",
      "Predicted test data set quality range: (5, 7)\n"
     ]
    }
   ],
   "source": [
    "# compute test predictions using X_test\n",
    "test_preds= classifier.predict(X_test)\n",
    "print('Actual test data set quality range: ({}, {})'.format(y_test.min(), y_test.max()))\n",
    "print('Predicted test data set quality range: ({}, {})'.format(test_preds.min(), test_preds.max()))"
   ]
  },
  {
   "cell_type": "code",
   "execution_count": 127,
   "metadata": {
    "scrolled": true
   },
   "outputs": [
    {
     "data": {
      "text/html": [
       "<div>\n",
       "<style scoped>\n",
       "    .dataframe tbody tr th:only-of-type {\n",
       "        vertical-align: middle;\n",
       "    }\n",
       "\n",
       "    .dataframe tbody tr th {\n",
       "        vertical-align: top;\n",
       "    }\n",
       "\n",
       "    .dataframe thead th {\n",
       "        text-align: right;\n",
       "    }\n",
       "</style>\n",
       "<table border=\"1\" class=\"dataframe\">\n",
       "  <thead>\n",
       "    <tr style=\"text-align: right;\">\n",
       "      <th></th>\n",
       "      <th>3</th>\n",
       "      <th>4</th>\n",
       "      <th>5</th>\n",
       "      <th>6</th>\n",
       "      <th>7</th>\n",
       "      <th>8</th>\n",
       "    </tr>\n",
       "  </thead>\n",
       "  <tbody>\n",
       "    <tr>\n",
       "      <th>3</th>\n",
       "      <td>0</td>\n",
       "      <td>0</td>\n",
       "      <td>1</td>\n",
       "      <td>0</td>\n",
       "      <td>0</td>\n",
       "      <td>0</td>\n",
       "    </tr>\n",
       "    <tr>\n",
       "      <th>4</th>\n",
       "      <td>0</td>\n",
       "      <td>0</td>\n",
       "      <td>8</td>\n",
       "      <td>2</td>\n",
       "      <td>0</td>\n",
       "      <td>0</td>\n",
       "    </tr>\n",
       "    <tr>\n",
       "      <th>5</th>\n",
       "      <td>0</td>\n",
       "      <td>0</td>\n",
       "      <td>118</td>\n",
       "      <td>11</td>\n",
       "      <td>1</td>\n",
       "      <td>0</td>\n",
       "    </tr>\n",
       "    <tr>\n",
       "      <th>6</th>\n",
       "      <td>0</td>\n",
       "      <td>0</td>\n",
       "      <td>82</td>\n",
       "      <td>41</td>\n",
       "      <td>9</td>\n",
       "      <td>0</td>\n",
       "    </tr>\n",
       "    <tr>\n",
       "      <th>7</th>\n",
       "      <td>0</td>\n",
       "      <td>0</td>\n",
       "      <td>9</td>\n",
       "      <td>23</td>\n",
       "      <td>10</td>\n",
       "      <td>0</td>\n",
       "    </tr>\n",
       "    <tr>\n",
       "      <th>8</th>\n",
       "      <td>0</td>\n",
       "      <td>0</td>\n",
       "      <td>0</td>\n",
       "      <td>1</td>\n",
       "      <td>4</td>\n",
       "      <td>0</td>\n",
       "    </tr>\n",
       "  </tbody>\n",
       "</table>\n",
       "</div>"
      ],
      "text/plain": [
       "   3  4    5   6   7  8\n",
       "3  0  0    1   0   0  0\n",
       "4  0  0    8   2   0  0\n",
       "5  0  0  118  11   1  0\n",
       "6  0  0   82  41   9  0\n",
       "7  0  0    9  23  10  0\n",
       "8  0  0    0   1   4  0"
      ]
     },
     "execution_count": 127,
     "metadata": {},
     "output_type": "execute_result"
    }
   ],
   "source": [
    "#create a confusion matrix for test data set  \n",
    "cm= confusion_matrix(y_test,test_preds)  \n",
    "coords = [x for x in range(3,9)]\n",
    "cm = pd.DataFrame(cm,columns=coords, index=coords )\n",
    "cm"
   ]
  },
  {
   "cell_type": "code",
   "execution_count": 130,
   "metadata": {},
   "outputs": [
    {
     "name": "stdout",
     "output_type": "stream",
     "text": [
      "training accuracy: 0.5863956215793589\n",
      "test accuracy: 0.528125\n"
     ]
    }
   ],
   "source": [
    "dt_accuracy1_train = accuracy_score(y_train, train_predictions)\n",
    "dt_accuracy1_test = accuracy_score(y_test, test_preds)\n",
    "print('training accuracy: {}'.format(dt_accuracy1_train))\n",
    "print('test accuracy: {}'.format(dt_accuracy1_test))"
   ]
  },
  {
   "cell_type": "markdown",
   "metadata": {},
   "source": [
    "#### Visualize Model 1 - Decision Tree "
   ]
  },
  {
   "cell_type": "code",
   "execution_count": 136,
   "metadata": {},
   "outputs": [
    {
     "data": {
      "image/png": "[encoded data removed]",
      "text/plain": [
       "<Figure size 1584x864 with 1 Axes>"
      ]
     },
     "metadata": {
      "needs_background": "light"
     },
     "output_type": "display_data"
    }
   ],
   "source": [
    "fig, ax = plt.subplots(figsize=(22, 12))\n",
    "tree.plot_tree(classifier, fontsize=10)\n",
    "plt.show()"
   ]
  },
  {
   "cell_type": "markdown",
   "metadata": {},
   "source": [
    "#### Step 2: Develop the second Decision Tree Model after dropping columns showing very weak correlations (0.0 - 0.2)\n",
    "1. Drop `pH`, `free sulfur dioxide`, `residual sugar` columns.\n",
    "2. Build the ML model, test and validate the predictions."
   ]
  },
  {
   "cell_type": "code",
   "execution_count": 137,
   "metadata": {},
   "outputs": [],
   "source": [
    "### drop columns showing very weak correlations\n",
    "lst = ['pH', 'free sulfur dioxide', 'residual sugar']\n",
    "red_wine_data.drop(lst, axis =1, inplace = True)"
   ]
  },
  {
   "cell_type": "code",
   "execution_count": 138,
   "metadata": {},
   "outputs": [],
   "source": [
    "# create the \"features and target\" data sets\n",
    "X = red_wine_data.drop('quality',axis=1)\n",
    "y = red_wine_data['quality']"
   ]
  },
  {
   "cell_type": "code",
   "execution_count": 139,
   "metadata": {},
   "outputs": [],
   "source": [
    "#Feature Scaling\n",
    "from sklearn.preprocessing import StandardScaler\n",
    "scaler = StandardScaler()\n",
    "X = scaler.fit_transform(X)"
   ]
  },
  {
   "cell_type": "code",
   "execution_count": 140,
   "metadata": {},
   "outputs": [
    {
     "name": "stdout",
     "output_type": "stream",
     "text": [
      "Decision Tree: Model 2 train shapes:\n",
      "(1279, 8) (1279,)\n",
      "\n",
      "Decision Tree: Model 2 test shapes:\n",
      "(320, 8) (320,)\n"
     ]
    }
   ],
   "source": [
    "# split the features and target data sets into train and test sets\n",
    "X_train, X_test, y_train, y_test = train_test_split(X, y, test_size=0.2, random_state=42)\n",
    "print('Decision Tree: Model 2 train shapes:')\n",
    "print(X_train.shape, y_train.shape)\n",
    "print()\n",
    "print('Decision Tree: Model 2 test shapes:')\n",
    "print(X_test.shape, y_test.shape)"
   ]
  },
  {
   "cell_type": "code",
   "execution_count": 141,
   "metadata": {},
   "outputs": [],
   "source": [
    "# create and fit a Decision tree model\n",
    "classifier2 = DecisionTreeClassifier(criterion=\"gini\", random_state=42,max_depth=3, min_samples_leaf=5)   \n",
    "classifier2 = classifier2.fit(X_train,y_train)"
   ]
  },
  {
   "cell_type": "code",
   "execution_count": 142,
   "metadata": {},
   "outputs": [
    {
     "name": "stdout",
     "output_type": "stream",
     "text": [
      "Actual training data set quality range: (3, 8)\n",
      "Predicted training data set quality range: (5, 7)\n"
     ]
    }
   ],
   "source": [
    "# compute train_predictions using X_train\n",
    "train_predictions = classifier2.predict(X_train)\n",
    "print('Actual training data set quality range: ({}, {})'.format(y_train.min(), y_train.max()))\n",
    "print('Predicted training data set quality range: ({}, {})'.format(train_predictions.min(), train_predictions.max()))"
   ]
  },
  {
   "cell_type": "code",
   "execution_count": 143,
   "metadata": {},
   "outputs": [
    {
     "data": {
      "text/html": [
       "<div>\n",
       "<style scoped>\n",
       "    .dataframe tbody tr th:only-of-type {\n",
       "        vertical-align: middle;\n",
       "    }\n",
       "\n",
       "    .dataframe tbody tr th {\n",
       "        vertical-align: top;\n",
       "    }\n",
       "\n",
       "    .dataframe thead th {\n",
       "        text-align: right;\n",
       "    }\n",
       "</style>\n",
       "<table border=\"1\" class=\"dataframe\">\n",
       "  <thead>\n",
       "    <tr style=\"text-align: right;\">\n",
       "      <th></th>\n",
       "      <th>3</th>\n",
       "      <th>4</th>\n",
       "      <th>5</th>\n",
       "      <th>6</th>\n",
       "      <th>7</th>\n",
       "      <th>8</th>\n",
       "    </tr>\n",
       "  </thead>\n",
       "  <tbody>\n",
       "    <tr>\n",
       "      <th>3</th>\n",
       "      <td>0</td>\n",
       "      <td>0</td>\n",
       "      <td>9</td>\n",
       "      <td>0</td>\n",
       "      <td>0</td>\n",
       "      <td>0</td>\n",
       "    </tr>\n",
       "    <tr>\n",
       "      <th>4</th>\n",
       "      <td>0</td>\n",
       "      <td>0</td>\n",
       "      <td>37</td>\n",
       "      <td>6</td>\n",
       "      <td>0</td>\n",
       "      <td>0</td>\n",
       "    </tr>\n",
       "    <tr>\n",
       "      <th>5</th>\n",
       "      <td>0</td>\n",
       "      <td>0</td>\n",
       "      <td>499</td>\n",
       "      <td>50</td>\n",
       "      <td>2</td>\n",
       "      <td>0</td>\n",
       "    </tr>\n",
       "    <tr>\n",
       "      <th>6</th>\n",
       "      <td>0</td>\n",
       "      <td>0</td>\n",
       "      <td>282</td>\n",
       "      <td>197</td>\n",
       "      <td>27</td>\n",
       "      <td>0</td>\n",
       "    </tr>\n",
       "    <tr>\n",
       "      <th>7</th>\n",
       "      <td>0</td>\n",
       "      <td>0</td>\n",
       "      <td>35</td>\n",
       "      <td>68</td>\n",
       "      <td>54</td>\n",
       "      <td>0</td>\n",
       "    </tr>\n",
       "    <tr>\n",
       "      <th>8</th>\n",
       "      <td>0</td>\n",
       "      <td>0</td>\n",
       "      <td>2</td>\n",
       "      <td>4</td>\n",
       "      <td>7</td>\n",
       "      <td>0</td>\n",
       "    </tr>\n",
       "  </tbody>\n",
       "</table>\n",
       "</div>"
      ],
      "text/plain": [
       "   3  4    5    6   7  8\n",
       "3  0  0    9    0   0  0\n",
       "4  0  0   37    6   0  0\n",
       "5  0  0  499   50   2  0\n",
       "6  0  0  282  197  27  0\n",
       "7  0  0   35   68  54  0\n",
       "8  0  0    2    4   7  0"
      ]
     },
     "execution_count": 143,
     "metadata": {},
     "output_type": "execute_result"
    }
   ],
   "source": [
    "#create a confusion matrix for training data set  \n",
    "cm= confusion_matrix(y_train,train_predictions)  \n",
    "coords = [x for x in range(3,9)]\n",
    "cm = pd.DataFrame(cm,columns=coords, index=coords )\n",
    "cm"
   ]
  },
  {
   "cell_type": "code",
   "execution_count": 144,
   "metadata": {},
   "outputs": [
    {
     "name": "stdout",
     "output_type": "stream",
     "text": [
      "Actual test data set quality range: (3, 8)\n",
      "Predicted test data set quality range: (5, 7)\n"
     ]
    }
   ],
   "source": [
    "# compute test predictions using X_test\n",
    "test_preds= classifier2.predict(X_test)\n",
    "print('Actual test data set quality range: ({}, {})'.format(y_test.min(), y_test.max()))\n",
    "print('Predicted test data set quality range: ({}, {})'.format(test_preds.min(), test_preds.max()))"
   ]
  },
  {
   "cell_type": "code",
   "execution_count": 145,
   "metadata": {
    "scrolled": true
   },
   "outputs": [
    {
     "data": {
      "text/html": [
       "<div>\n",
       "<style scoped>\n",
       "    .dataframe tbody tr th:only-of-type {\n",
       "        vertical-align: middle;\n",
       "    }\n",
       "\n",
       "    .dataframe tbody tr th {\n",
       "        vertical-align: top;\n",
       "    }\n",
       "\n",
       "    .dataframe thead th {\n",
       "        text-align: right;\n",
       "    }\n",
       "</style>\n",
       "<table border=\"1\" class=\"dataframe\">\n",
       "  <thead>\n",
       "    <tr style=\"text-align: right;\">\n",
       "      <th></th>\n",
       "      <th>3</th>\n",
       "      <th>4</th>\n",
       "      <th>5</th>\n",
       "      <th>6</th>\n",
       "      <th>7</th>\n",
       "      <th>8</th>\n",
       "    </tr>\n",
       "  </thead>\n",
       "  <tbody>\n",
       "    <tr>\n",
       "      <th>3</th>\n",
       "      <td>0</td>\n",
       "      <td>0</td>\n",
       "      <td>1</td>\n",
       "      <td>0</td>\n",
       "      <td>0</td>\n",
       "      <td>0</td>\n",
       "    </tr>\n",
       "    <tr>\n",
       "      <th>4</th>\n",
       "      <td>0</td>\n",
       "      <td>0</td>\n",
       "      <td>8</td>\n",
       "      <td>2</td>\n",
       "      <td>0</td>\n",
       "      <td>0</td>\n",
       "    </tr>\n",
       "    <tr>\n",
       "      <th>5</th>\n",
       "      <td>0</td>\n",
       "      <td>0</td>\n",
       "      <td>118</td>\n",
       "      <td>11</td>\n",
       "      <td>1</td>\n",
       "      <td>0</td>\n",
       "    </tr>\n",
       "    <tr>\n",
       "      <th>6</th>\n",
       "      <td>0</td>\n",
       "      <td>0</td>\n",
       "      <td>82</td>\n",
       "      <td>41</td>\n",
       "      <td>9</td>\n",
       "      <td>0</td>\n",
       "    </tr>\n",
       "    <tr>\n",
       "      <th>7</th>\n",
       "      <td>0</td>\n",
       "      <td>0</td>\n",
       "      <td>9</td>\n",
       "      <td>23</td>\n",
       "      <td>10</td>\n",
       "      <td>0</td>\n",
       "    </tr>\n",
       "    <tr>\n",
       "      <th>8</th>\n",
       "      <td>0</td>\n",
       "      <td>0</td>\n",
       "      <td>0</td>\n",
       "      <td>1</td>\n",
       "      <td>4</td>\n",
       "      <td>0</td>\n",
       "    </tr>\n",
       "  </tbody>\n",
       "</table>\n",
       "</div>"
      ],
      "text/plain": [
       "   3  4    5   6   7  8\n",
       "3  0  0    1   0   0  0\n",
       "4  0  0    8   2   0  0\n",
       "5  0  0  118  11   1  0\n",
       "6  0  0   82  41   9  0\n",
       "7  0  0    9  23  10  0\n",
       "8  0  0    0   1   4  0"
      ]
     },
     "execution_count": 145,
     "metadata": {},
     "output_type": "execute_result"
    }
   ],
   "source": [
    "#create a confusion matrix for test data set  \n",
    "cm = confusion_matrix(y_test, test_preds)  \n",
    "coords = [x for x in range(3,9)]\n",
    "cm = pd.DataFrame(cm, columns=coords, index=coords )\n",
    "cm"
   ]
  },
  {
   "cell_type": "code",
   "execution_count": 146,
   "metadata": {},
   "outputs": [
    {
     "name": "stdout",
     "output_type": "stream",
     "text": [
      "training accuracy: 0.5863956215793589\n",
      "test accuracy: 0.528125\n"
     ]
    }
   ],
   "source": [
    "dt_accuracy2_train = accuracy_score(y_train, train_predictions)\n",
    "dt_accuracy2_test = accuracy_score(y_test, test_preds)\n",
    "print('training accuracy: {}'.format(dt_accuracy2_train))\n",
    "print('test accuracy: {}'.format(dt_accuracy2_test))"
   ]
  },
  {
   "cell_type": "markdown",
   "metadata": {},
   "source": [
    "#### Visualize Model 2 - Decision Tree "
   ]
  },
  {
   "cell_type": "code",
   "execution_count": 148,
   "metadata": {
    "scrolled": false
   },
   "outputs": [
    {
     "data": {
      "image/png": "[encoded data removed]",
      "text/plain": [
       "<Figure size 1584x864 with 1 Axes>"
      ]
     },
     "metadata": {
      "needs_background": "light"
     },
     "output_type": "display_data"
    }
   ],
   "source": [
    "fig, ax = plt.subplots(figsize=(22, 12))\n",
    "tree.plot_tree(classifier2, fontsize=10)\n",
    "plt.show()"
   ]
  },
  {
   "cell_type": "markdown",
   "metadata": {},
   "source": [
    "#### Step 3: Develop the third Decision Tree Model - after dropping columns showing weak correlations (0.2 - 0.4)\n",
    "1. Drop columns `fixed acidity`, `citric acid`, `chlorides`, `total sulfur dioxide`, `density`\n",
    "2. Build the ML model, test and validate the predictions.\n",
    "\n"
   ]
  },
  {
   "cell_type": "code",
   "execution_count": 149,
   "metadata": {},
   "outputs": [],
   "source": [
    "### drop columns showing weak correlations\n",
    "lst = ['fixed acidity', 'citric acid', 'chlorides', 'total sulfur dioxide', 'density']\n",
    "red_wine_data.drop(lst, axis =1, inplace = True)"
   ]
  },
  {
   "cell_type": "code",
   "execution_count": 150,
   "metadata": {},
   "outputs": [],
   "source": [
    "# create the \"features and target\" data sets\n",
    "X = red_wine_data.drop('quality',axis=1)\n",
    "y = red_wine_data['quality']"
   ]
  },
  {
   "cell_type": "code",
   "execution_count": 151,
   "metadata": {},
   "outputs": [],
   "source": [
    "#Feature Scaling\n",
    "scaler = StandardScaler()\n",
    "X = scaler.fit_transform(X)"
   ]
  },
  {
   "cell_type": "code",
   "execution_count": 152,
   "metadata": {},
   "outputs": [
    {
     "name": "stdout",
     "output_type": "stream",
     "text": [
      "Decision Tree: Model 3 train shapes:\n",
      "(1279, 3) (1279,)\n",
      "\n",
      "Decision Tree: Model 3 test shapes:\n",
      "(320, 3) (320,)\n"
     ]
    }
   ],
   "source": [
    "# split the features and target data sets into train and test sets\n",
    "X_train, X_test, y_train, y_test = train_test_split(X, y, test_size=0.2, random_state=42)\n",
    "print('Decision Tree: Model 3 train shapes:')\n",
    "print(X_train.shape, y_train.shape)\n",
    "print()\n",
    "print('Decision Tree: Model 3 test shapes:')\n",
    "print(X_test.shape, y_test.shape)"
   ]
  },
  {
   "cell_type": "code",
   "execution_count": 153,
   "metadata": {},
   "outputs": [],
   "source": [
    "# create and fit a Decision tree model\n",
    "classifier3 = DecisionTreeClassifier(criterion=\"gini\", random_state=42,max_depth=3, min_samples_leaf=5)   \n",
    "classifier3 = classifier3.fit(X_train,y_train)"
   ]
  },
  {
   "cell_type": "code",
   "execution_count": 154,
   "metadata": {},
   "outputs": [
    {
     "name": "stdout",
     "output_type": "stream",
     "text": [
      "Actual training data set quality range: (3, 8)\n",
      "Predicted training data set quality range: (5, 7)\n"
     ]
    }
   ],
   "source": [
    "# compute train_predictions using X_train\n",
    "train_predictions = classifier3.predict(X_train)\n",
    "print('Actual training data set quality range: ({}, {})'.format(y_train.min(), y_train.max()))\n",
    "print('Predicted training data set quality range: ({}, {})'.format(train_predictions.min(), train_predictions.max()))"
   ]
  },
  {
   "cell_type": "code",
   "execution_count": 155,
   "metadata": {},
   "outputs": [
    {
     "data": {
      "text/html": [
       "<div>\n",
       "<style scoped>\n",
       "    .dataframe tbody tr th:only-of-type {\n",
       "        vertical-align: middle;\n",
       "    }\n",
       "\n",
       "    .dataframe tbody tr th {\n",
       "        vertical-align: top;\n",
       "    }\n",
       "\n",
       "    .dataframe thead th {\n",
       "        text-align: right;\n",
       "    }\n",
       "</style>\n",
       "<table border=\"1\" class=\"dataframe\">\n",
       "  <thead>\n",
       "    <tr style=\"text-align: right;\">\n",
       "      <th></th>\n",
       "      <th>3</th>\n",
       "      <th>4</th>\n",
       "      <th>5</th>\n",
       "      <th>6</th>\n",
       "      <th>7</th>\n",
       "      <th>8</th>\n",
       "    </tr>\n",
       "  </thead>\n",
       "  <tbody>\n",
       "    <tr>\n",
       "      <th>3</th>\n",
       "      <td>0</td>\n",
       "      <td>0</td>\n",
       "      <td>9</td>\n",
       "      <td>0</td>\n",
       "      <td>0</td>\n",
       "      <td>0</td>\n",
       "    </tr>\n",
       "    <tr>\n",
       "      <th>4</th>\n",
       "      <td>0</td>\n",
       "      <td>0</td>\n",
       "      <td>36</td>\n",
       "      <td>7</td>\n",
       "      <td>0</td>\n",
       "      <td>0</td>\n",
       "    </tr>\n",
       "    <tr>\n",
       "      <th>5</th>\n",
       "      <td>0</td>\n",
       "      <td>0</td>\n",
       "      <td>466</td>\n",
       "      <td>83</td>\n",
       "      <td>2</td>\n",
       "      <td>0</td>\n",
       "    </tr>\n",
       "    <tr>\n",
       "      <th>6</th>\n",
       "      <td>0</td>\n",
       "      <td>0</td>\n",
       "      <td>222</td>\n",
       "      <td>257</td>\n",
       "      <td>27</td>\n",
       "      <td>0</td>\n",
       "    </tr>\n",
       "    <tr>\n",
       "      <th>7</th>\n",
       "      <td>0</td>\n",
       "      <td>0</td>\n",
       "      <td>21</td>\n",
       "      <td>82</td>\n",
       "      <td>54</td>\n",
       "      <td>0</td>\n",
       "    </tr>\n",
       "    <tr>\n",
       "      <th>8</th>\n",
       "      <td>0</td>\n",
       "      <td>0</td>\n",
       "      <td>0</td>\n",
       "      <td>6</td>\n",
       "      <td>7</td>\n",
       "      <td>0</td>\n",
       "    </tr>\n",
       "  </tbody>\n",
       "</table>\n",
       "</div>"
      ],
      "text/plain": [
       "   3  4    5    6   7  8\n",
       "3  0  0    9    0   0  0\n",
       "4  0  0   36    7   0  0\n",
       "5  0  0  466   83   2  0\n",
       "6  0  0  222  257  27  0\n",
       "7  0  0   21   82  54  0\n",
       "8  0  0    0    6   7  0"
      ]
     },
     "execution_count": 155,
     "metadata": {},
     "output_type": "execute_result"
    }
   ],
   "source": [
    "#create a confusion matrix for training data set  \n",
    "cm= confusion_matrix(y_train,train_predictions)  \n",
    "coords = [x for x in range(3,9)]\n",
    "cm = pd.DataFrame(cm,columns=coords, index=coords )\n",
    "cm"
   ]
  },
  {
   "cell_type": "code",
   "execution_count": 156,
   "metadata": {},
   "outputs": [
    {
     "name": "stdout",
     "output_type": "stream",
     "text": [
      "Actual test data set quality range: (3, 8)\n",
      "Predicted test data set quality range: (5, 7)\n"
     ]
    }
   ],
   "source": [
    "# compute test predictions using X_test\n",
    "test_preds= classifier3.predict(X_test)\n",
    "print('Actual test data set quality range: ({}, {})'.format(y_test.min(), y_test.max()))\n",
    "print('Predicted test data set quality range: ({}, {})'.format(test_preds.min(), test_preds.max()))"
   ]
  },
  {
   "cell_type": "code",
   "execution_count": 157,
   "metadata": {
    "scrolled": true
   },
   "outputs": [
    {
     "data": {
      "text/html": [
       "<div>\n",
       "<style scoped>\n",
       "    .dataframe tbody tr th:only-of-type {\n",
       "        vertical-align: middle;\n",
       "    }\n",
       "\n",
       "    .dataframe tbody tr th {\n",
       "        vertical-align: top;\n",
       "    }\n",
       "\n",
       "    .dataframe thead th {\n",
       "        text-align: right;\n",
       "    }\n",
       "</style>\n",
       "<table border=\"1\" class=\"dataframe\">\n",
       "  <thead>\n",
       "    <tr style=\"text-align: right;\">\n",
       "      <th></th>\n",
       "      <th>3</th>\n",
       "      <th>4</th>\n",
       "      <th>5</th>\n",
       "      <th>6</th>\n",
       "      <th>7</th>\n",
       "      <th>8</th>\n",
       "    </tr>\n",
       "  </thead>\n",
       "  <tbody>\n",
       "    <tr>\n",
       "      <th>3</th>\n",
       "      <td>0</td>\n",
       "      <td>0</td>\n",
       "      <td>1</td>\n",
       "      <td>0</td>\n",
       "      <td>0</td>\n",
       "      <td>0</td>\n",
       "    </tr>\n",
       "    <tr>\n",
       "      <th>4</th>\n",
       "      <td>0</td>\n",
       "      <td>0</td>\n",
       "      <td>8</td>\n",
       "      <td>2</td>\n",
       "      <td>0</td>\n",
       "      <td>0</td>\n",
       "    </tr>\n",
       "    <tr>\n",
       "      <th>5</th>\n",
       "      <td>0</td>\n",
       "      <td>0</td>\n",
       "      <td>107</td>\n",
       "      <td>22</td>\n",
       "      <td>1</td>\n",
       "      <td>0</td>\n",
       "    </tr>\n",
       "    <tr>\n",
       "      <th>6</th>\n",
       "      <td>0</td>\n",
       "      <td>0</td>\n",
       "      <td>63</td>\n",
       "      <td>60</td>\n",
       "      <td>9</td>\n",
       "      <td>0</td>\n",
       "    </tr>\n",
       "    <tr>\n",
       "      <th>7</th>\n",
       "      <td>0</td>\n",
       "      <td>0</td>\n",
       "      <td>5</td>\n",
       "      <td>27</td>\n",
       "      <td>10</td>\n",
       "      <td>0</td>\n",
       "    </tr>\n",
       "    <tr>\n",
       "      <th>8</th>\n",
       "      <td>0</td>\n",
       "      <td>0</td>\n",
       "      <td>0</td>\n",
       "      <td>1</td>\n",
       "      <td>4</td>\n",
       "      <td>0</td>\n",
       "    </tr>\n",
       "  </tbody>\n",
       "</table>\n",
       "</div>"
      ],
      "text/plain": [
       "   3  4    5   6   7  8\n",
       "3  0  0    1   0   0  0\n",
       "4  0  0    8   2   0  0\n",
       "5  0  0  107  22   1  0\n",
       "6  0  0   63  60   9  0\n",
       "7  0  0    5  27  10  0\n",
       "8  0  0    0   1   4  0"
      ]
     },
     "execution_count": 157,
     "metadata": {},
     "output_type": "execute_result"
    }
   ],
   "source": [
    "#create a confusion matrix for test data set  \n",
    "cm = confusion_matrix(y_test, test_preds)  \n",
    "coords = [x for x in range(3,9)]\n",
    "cm = pd.DataFrame(cm, columns=coords, index=coords )\n",
    "cm"
   ]
  },
  {
   "cell_type": "code",
   "execution_count": 158,
   "metadata": {},
   "outputs": [
    {
     "name": "stdout",
     "output_type": "stream",
     "text": [
      "training accuracy: 0.6075058639562158\n",
      "test accuracy: 0.553125\n"
     ]
    }
   ],
   "source": [
    "dt_accuracy3_train = accuracy_score(y_train, train_predictions)\n",
    "dt_accuracy3_test = accuracy_score(y_test, test_preds)\n",
    "print('training accuracy: {}'.format(dt_accuracy3_train))\n",
    "print('test accuracy: {}'.format(dt_accuracy3_test))"
   ]
  },
  {
   "cell_type": "markdown",
   "metadata": {},
   "source": [
    "#### Visualize Model 3 - Decision Tree "
   ]
  },
  {
   "cell_type": "code",
   "execution_count": 159,
   "metadata": {
    "scrolled": false
   },
   "outputs": [
    {
     "data": {
      "image/png": "[encoded data removed]",
      "text/plain": [
       "<Figure size 1584x864 with 1 Axes>"
      ]
     },
     "metadata": {
      "needs_background": "light"
     },
     "output_type": "display_data"
    }
   ],
   "source": [
    "fig, ax = plt.subplots(figsize=(22, 12))\n",
    "tree.plot_tree(classifier3, fontsize=10)\n",
    "plt.show()"
   ]
  },
  {
   "cell_type": "code",
   "execution_count": 160,
   "metadata": {},
   "outputs": [
    {
     "name": "stdout",
     "output_type": "stream",
     "text": [
      "Model 1 Accuracy:\n",
      "\ttraining accuracy: 0.5863956215793589\n",
      "\ttest accuracy: 0.528125\n",
      "\n",
      "Model 2 Accuracy:\n",
      "\ttraining accuracy: 0.5863956215793589\n",
      "\ttest accuracy: 0.528125\n",
      "\n",
      "Model 3 Accuracy:\n",
      "\ttraining accuracy: 0.6075058639562158\n",
      "\ttest accuracy: 0.553125\n"
     ]
    }
   ],
   "source": [
    "# compare the accuracy of the 3 models\n",
    "print('Model 1 Accuracy:')\n",
    "print('\\ttraining accuracy: {}'.format(dt_accuracy1_train))\n",
    "print('\\ttest accuracy: {}'.format(dt_accuracy1_test))\n",
    "print()\n",
    "print('Model 2 Accuracy:')\n",
    "print('\\ttraining accuracy: {}'.format(dt_accuracy2_train))\n",
    "print('\\ttest accuracy: {}'.format(dt_accuracy2_test))\n",
    "print()\n",
    "print('Model 3 Accuracy:')\n",
    "print('\\ttraining accuracy: {}'.format(dt_accuracy3_train))\n",
    "print('\\ttest accuracy: {}'.format(dt_accuracy3_test))"
   ]
  },
  {
   "cell_type": "code",
   "execution_count": 161,
   "metadata": {},
   "outputs": [
    {
     "data": {
      "text/plain": [
       "0.553125"
      ]
     },
     "execution_count": 161,
     "metadata": {},
     "output_type": "execute_result"
    }
   ],
   "source": [
    "dtree_accuracy = dt_accuracy3_test\n",
    "dtree_accuracy"
   ]
  },
  {
   "cell_type": "code",
   "execution_count": 162,
   "metadata": {},
   "outputs": [
    {
     "name": "stdout",
     "output_type": "stream",
     "text": [
      "Accuracy of Decision Tree Models on test set:\n",
      "Model1 Accuracy 0.528125\n",
      "Model2 Accuracy 0.528125\n",
      "Model3 Accuracy 0.553125\n"
     ]
    }
   ],
   "source": [
    "# compare accuracy of all decision tree models\n",
    "print(\"Accuracy of Decision Tree Models on test set:\")\n",
    "print(\"Model1 Accuracy {}\".format(dt_accuracy1_test))\n",
    "print(\"Model2 Accuracy {}\".format(dt_accuracy2_test))\n",
    "print(\"Model3 Accuracy {}\".format(dt_accuracy3_test))"
   ]
  },
  {
   "cell_type": "markdown",
   "metadata": {},
   "source": [
    "#### Choose the best model for deployment.\n",
    "\n",
    "Since we are getting highest accuracy for model3, we are going for model3"
   ]
  },
  {
   "cell_type": "code",
   "execution_count": 163,
   "metadata": {},
   "outputs": [],
   "source": [
    "# save red_model3 as per analysis\n",
    "fname = 'models/dtree_red_wine_model.pkl'\n",
    "model_file = open(fname, 'wb')\n",
    "pickle.dump(obj=classifier3, file=model_file)\n",
    "model_file.close()"
   ]
  },
  {
   "cell_type": "code",
   "execution_count": 164,
   "metadata": {},
   "outputs": [
    {
     "name": "stdout",
     "output_type": "stream",
     "text": [
      "DecisionTreeClassifier(max_depth=3, min_samples_leaf=5, random_state=42)\n"
     ]
    }
   ],
   "source": [
    "# reload the model from disk and check if it is saved properly.\n",
    "model_file = open(fname, 'rb')\n",
    "decision_model = pickle.load(model_file)\n",
    "model_file.close()\n",
    "print(decision_model)"
   ]
  },
  {
   "cell_type": "markdown",
   "metadata": {},
   "source": [
    "## Section 4: Random Forest for Red Wine Quality"
   ]
  },
  {
   "cell_type": "markdown",
   "metadata": {},
   "source": [
    "We've already done the sanity checks and EDA earlier. We only need to build various Random Forest models based on the correlations we've observed, and compare the accuracies obtained."
   ]
  },
  {
   "cell_type": "code",
   "execution_count": 165,
   "metadata": {},
   "outputs": [
    {
     "data": {
      "text/html": [
       "<div>\n",
       "<style scoped>\n",
       "    .dataframe tbody tr th:only-of-type {\n",
       "        vertical-align: middle;\n",
       "    }\n",
       "\n",
       "    .dataframe tbody tr th {\n",
       "        vertical-align: top;\n",
       "    }\n",
       "\n",
       "    .dataframe thead th {\n",
       "        text-align: right;\n",
       "    }\n",
       "</style>\n",
       "<table border=\"1\" class=\"dataframe\">\n",
       "  <thead>\n",
       "    <tr style=\"text-align: right;\">\n",
       "      <th></th>\n",
       "      <th>fixed acidity</th>\n",
       "      <th>volatile acidity</th>\n",
       "      <th>citric acid</th>\n",
       "      <th>residual sugar</th>\n",
       "      <th>chlorides</th>\n",
       "      <th>free sulfur dioxide</th>\n",
       "      <th>total sulfur dioxide</th>\n",
       "      <th>density</th>\n",
       "      <th>pH</th>\n",
       "      <th>sulphates</th>\n",
       "      <th>alcohol</th>\n",
       "      <th>quality</th>\n",
       "    </tr>\n",
       "  </thead>\n",
       "  <tbody>\n",
       "    <tr>\n",
       "      <th>0</th>\n",
       "      <td>7.4</td>\n",
       "      <td>0.70</td>\n",
       "      <td>0.00</td>\n",
       "      <td>1.9</td>\n",
       "      <td>0.076</td>\n",
       "      <td>11.0</td>\n",
       "      <td>34.0</td>\n",
       "      <td>0.9978</td>\n",
       "      <td>3.51</td>\n",
       "      <td>0.56</td>\n",
       "      <td>9.4</td>\n",
       "      <td>5</td>\n",
       "    </tr>\n",
       "    <tr>\n",
       "      <th>1</th>\n",
       "      <td>7.8</td>\n",
       "      <td>0.88</td>\n",
       "      <td>0.00</td>\n",
       "      <td>2.6</td>\n",
       "      <td>0.098</td>\n",
       "      <td>25.0</td>\n",
       "      <td>67.0</td>\n",
       "      <td>0.9968</td>\n",
       "      <td>3.20</td>\n",
       "      <td>0.68</td>\n",
       "      <td>9.8</td>\n",
       "      <td>5</td>\n",
       "    </tr>\n",
       "    <tr>\n",
       "      <th>2</th>\n",
       "      <td>7.8</td>\n",
       "      <td>0.76</td>\n",
       "      <td>0.04</td>\n",
       "      <td>2.3</td>\n",
       "      <td>0.092</td>\n",
       "      <td>15.0</td>\n",
       "      <td>54.0</td>\n",
       "      <td>0.9970</td>\n",
       "      <td>3.26</td>\n",
       "      <td>0.65</td>\n",
       "      <td>9.8</td>\n",
       "      <td>5</td>\n",
       "    </tr>\n",
       "    <tr>\n",
       "      <th>3</th>\n",
       "      <td>11.2</td>\n",
       "      <td>0.28</td>\n",
       "      <td>0.56</td>\n",
       "      <td>1.9</td>\n",
       "      <td>0.075</td>\n",
       "      <td>17.0</td>\n",
       "      <td>60.0</td>\n",
       "      <td>0.9980</td>\n",
       "      <td>3.16</td>\n",
       "      <td>0.58</td>\n",
       "      <td>9.8</td>\n",
       "      <td>6</td>\n",
       "    </tr>\n",
       "    <tr>\n",
       "      <th>4</th>\n",
       "      <td>7.4</td>\n",
       "      <td>0.70</td>\n",
       "      <td>0.00</td>\n",
       "      <td>1.9</td>\n",
       "      <td>0.076</td>\n",
       "      <td>11.0</td>\n",
       "      <td>34.0</td>\n",
       "      <td>0.9978</td>\n",
       "      <td>3.51</td>\n",
       "      <td>0.56</td>\n",
       "      <td>9.4</td>\n",
       "      <td>5</td>\n",
       "    </tr>\n",
       "  </tbody>\n",
       "</table>\n",
       "</div>"
      ],
      "text/plain": [
       "   fixed acidity  volatile acidity  citric acid  residual sugar  chlorides  \\\n",
       "0            7.4              0.70         0.00             1.9      0.076   \n",
       "1            7.8              0.88         0.00             2.6      0.098   \n",
       "2            7.8              0.76         0.04             2.3      0.092   \n",
       "3           11.2              0.28         0.56             1.9      0.075   \n",
       "4            7.4              0.70         0.00             1.9      0.076   \n",
       "\n",
       "   free sulfur dioxide  total sulfur dioxide  density    pH  sulphates  \\\n",
       "0                 11.0                  34.0   0.9978  3.51       0.56   \n",
       "1                 25.0                  67.0   0.9968  3.20       0.68   \n",
       "2                 15.0                  54.0   0.9970  3.26       0.65   \n",
       "3                 17.0                  60.0   0.9980  3.16       0.58   \n",
       "4                 11.0                  34.0   0.9978  3.51       0.56   \n",
       "\n",
       "   alcohol  quality  \n",
       "0      9.4        5  \n",
       "1      9.8        5  \n",
       "2      9.8        5  \n",
       "3      9.8        6  \n",
       "4      9.4        5  "
      ]
     },
     "execution_count": 165,
     "metadata": {},
     "output_type": "execute_result"
    }
   ],
   "source": [
    "# refresh the red wine dataset\n",
    "red_wine_data = pd.read_csv('datasets/winequality-red.csv', delimiter =';')\n",
    "red_wine_data.head()"
   ]
  },
  {
   "cell_type": "markdown",
   "metadata": {},
   "source": [
    "#### Step 1: Develop the first Random Forest Model using all the features\n",
    "Build the ML model with the complete data, test and validate the predictions."
   ]
  },
  {
   "cell_type": "code",
   "execution_count": 166,
   "metadata": {},
   "outputs": [],
   "source": [
    "# create the \"features and target\" data sets\n",
    "X = red_wine_data.drop('quality',axis=1)\n",
    "y = red_wine_data['quality']"
   ]
  },
  {
   "cell_type": "code",
   "execution_count": 167,
   "metadata": {},
   "outputs": [],
   "source": [
    "#Feature Scaling\n",
    "from sklearn.preprocessing import StandardScaler\n",
    "object = StandardScaler()\n",
    "X = object.fit_transform(X)"
   ]
  },
  {
   "cell_type": "code",
   "execution_count": 168,
   "metadata": {},
   "outputs": [
    {
     "name": "stdout",
     "output_type": "stream",
     "text": [
      "Random Forest: Model 1 train shapes:\n",
      "(1279, 11) (1279,)\n",
      "\n",
      "Random Forest: Model 1 test shapes:\n",
      "(320, 11) (320,)\n"
     ]
    }
   ],
   "source": [
    "# split the features and target data sets into train and test sets\n",
    "X_train, X_test, y_train, y_test = train_test_split(X, y, test_size=0.2, random_state=42)\n",
    "print('Random Forest: Model 1 train shapes:')\n",
    "print(X_train.shape, y_train.shape)\n",
    "print()\n",
    "print('Random Forest: Model 1 test shapes:')\n",
    "print(X_test.shape, y_test.shape)"
   ]
  },
  {
   "cell_type": "code",
   "execution_count": 169,
   "metadata": {},
   "outputs": [],
   "source": [
    "# create and fit a Random Forest model\n",
    "classifier = RandomForestClassifier(n_estimators= 10, criterion=\"entropy\")  \n",
    "classifier = classifier.fit(X_train, y_train)  "
   ]
  },
  {
   "cell_type": "code",
   "execution_count": 170,
   "metadata": {},
   "outputs": [
    {
     "name": "stdout",
     "output_type": "stream",
     "text": [
      "Actual training data set quality range: (3, 8)\n",
      "Predicted training data set quality range: (3, 8)\n"
     ]
    }
   ],
   "source": [
    "# compute train_predictions using X_train\n",
    "train_predictions = classifier.predict(X_train)\n",
    "print('Actual training data set quality range: ({}, {})'.format(y_train.min(), y_train.max()))\n",
    "print('Predicted training data set quality range: ({}, {})'.format(train_predictions.min(), train_predictions.max()))"
   ]
  },
  {
   "cell_type": "code",
   "execution_count": 171,
   "metadata": {},
   "outputs": [
    {
     "data": {
      "text/html": [
       "<div>\n",
       "<style scoped>\n",
       "    .dataframe tbody tr th:only-of-type {\n",
       "        vertical-align: middle;\n",
       "    }\n",
       "\n",
       "    .dataframe tbody tr th {\n",
       "        vertical-align: top;\n",
       "    }\n",
       "\n",
       "    .dataframe thead th {\n",
       "        text-align: right;\n",
       "    }\n",
       "</style>\n",
       "<table border=\"1\" class=\"dataframe\">\n",
       "  <thead>\n",
       "    <tr style=\"text-align: right;\">\n",
       "      <th></th>\n",
       "      <th>3</th>\n",
       "      <th>4</th>\n",
       "      <th>5</th>\n",
       "      <th>6</th>\n",
       "      <th>7</th>\n",
       "      <th>8</th>\n",
       "    </tr>\n",
       "  </thead>\n",
       "  <tbody>\n",
       "    <tr>\n",
       "      <th>3</th>\n",
       "      <td>9</td>\n",
       "      <td>0</td>\n",
       "      <td>0</td>\n",
       "      <td>0</td>\n",
       "      <td>0</td>\n",
       "      <td>0</td>\n",
       "    </tr>\n",
       "    <tr>\n",
       "      <th>4</th>\n",
       "      <td>1</td>\n",
       "      <td>41</td>\n",
       "      <td>1</td>\n",
       "      <td>0</td>\n",
       "      <td>0</td>\n",
       "      <td>0</td>\n",
       "    </tr>\n",
       "    <tr>\n",
       "      <th>5</th>\n",
       "      <td>0</td>\n",
       "      <td>0</td>\n",
       "      <td>549</td>\n",
       "      <td>2</td>\n",
       "      <td>0</td>\n",
       "      <td>0</td>\n",
       "    </tr>\n",
       "    <tr>\n",
       "      <th>6</th>\n",
       "      <td>0</td>\n",
       "      <td>0</td>\n",
       "      <td>6</td>\n",
       "      <td>500</td>\n",
       "      <td>0</td>\n",
       "      <td>0</td>\n",
       "    </tr>\n",
       "    <tr>\n",
       "      <th>7</th>\n",
       "      <td>0</td>\n",
       "      <td>0</td>\n",
       "      <td>0</td>\n",
       "      <td>4</td>\n",
       "      <td>153</td>\n",
       "      <td>0</td>\n",
       "    </tr>\n",
       "    <tr>\n",
       "      <th>8</th>\n",
       "      <td>0</td>\n",
       "      <td>0</td>\n",
       "      <td>0</td>\n",
       "      <td>0</td>\n",
       "      <td>2</td>\n",
       "      <td>11</td>\n",
       "    </tr>\n",
       "  </tbody>\n",
       "</table>\n",
       "</div>"
      ],
      "text/plain": [
       "   3   4    5    6    7   8\n",
       "3  9   0    0    0    0   0\n",
       "4  1  41    1    0    0   0\n",
       "5  0   0  549    2    0   0\n",
       "6  0   0    6  500    0   0\n",
       "7  0   0    0    4  153   0\n",
       "8  0   0    0    0    2  11"
      ]
     },
     "execution_count": 171,
     "metadata": {},
     "output_type": "execute_result"
    }
   ],
   "source": [
    "#create a confusion matrix for training data set  \n",
    "cm= confusion_matrix(y_train,train_predictions)  \n",
    "coords = [x for x in range(3,9)]\n",
    "cm = pd.DataFrame(cm,columns=coords, index=coords )\n",
    "cm"
   ]
  },
  {
   "cell_type": "code",
   "execution_count": 172,
   "metadata": {},
   "outputs": [
    {
     "name": "stdout",
     "output_type": "stream",
     "text": [
      "Actual test data set quality range: (3, 8)\n",
      "Predicted test data set quality range: (4, 7)\n"
     ]
    }
   ],
   "source": [
    "# compute test predictions using X_test\n",
    "test_preds= classifier.predict(X_test)\n",
    "print('Actual test data set quality range: ({}, {})'.format(y_test.min(), y_test.max()))\n",
    "print('Predicted test data set quality range: ({}, {})'.format(test_preds.min(), test_preds.max()))"
   ]
  },
  {
   "cell_type": "code",
   "execution_count": 173,
   "metadata": {},
   "outputs": [
    {
     "data": {
      "text/html": [
       "<div>\n",
       "<style scoped>\n",
       "    .dataframe tbody tr th:only-of-type {\n",
       "        vertical-align: middle;\n",
       "    }\n",
       "\n",
       "    .dataframe tbody tr th {\n",
       "        vertical-align: top;\n",
       "    }\n",
       "\n",
       "    .dataframe thead th {\n",
       "        text-align: right;\n",
       "    }\n",
       "</style>\n",
       "<table border=\"1\" class=\"dataframe\">\n",
       "  <thead>\n",
       "    <tr style=\"text-align: right;\">\n",
       "      <th></th>\n",
       "      <th>3</th>\n",
       "      <th>4</th>\n",
       "      <th>5</th>\n",
       "      <th>6</th>\n",
       "      <th>7</th>\n",
       "      <th>8</th>\n",
       "    </tr>\n",
       "  </thead>\n",
       "  <tbody>\n",
       "    <tr>\n",
       "      <th>3</th>\n",
       "      <td>0</td>\n",
       "      <td>0</td>\n",
       "      <td>0</td>\n",
       "      <td>1</td>\n",
       "      <td>0</td>\n",
       "      <td>0</td>\n",
       "    </tr>\n",
       "    <tr>\n",
       "      <th>4</th>\n",
       "      <td>0</td>\n",
       "      <td>0</td>\n",
       "      <td>8</td>\n",
       "      <td>2</td>\n",
       "      <td>0</td>\n",
       "      <td>0</td>\n",
       "    </tr>\n",
       "    <tr>\n",
       "      <th>5</th>\n",
       "      <td>0</td>\n",
       "      <td>0</td>\n",
       "      <td>101</td>\n",
       "      <td>28</td>\n",
       "      <td>1</td>\n",
       "      <td>0</td>\n",
       "    </tr>\n",
       "    <tr>\n",
       "      <th>6</th>\n",
       "      <td>0</td>\n",
       "      <td>1</td>\n",
       "      <td>29</td>\n",
       "      <td>93</td>\n",
       "      <td>9</td>\n",
       "      <td>0</td>\n",
       "    </tr>\n",
       "    <tr>\n",
       "      <th>7</th>\n",
       "      <td>0</td>\n",
       "      <td>0</td>\n",
       "      <td>0</td>\n",
       "      <td>20</td>\n",
       "      <td>22</td>\n",
       "      <td>0</td>\n",
       "    </tr>\n",
       "    <tr>\n",
       "      <th>8</th>\n",
       "      <td>0</td>\n",
       "      <td>0</td>\n",
       "      <td>0</td>\n",
       "      <td>1</td>\n",
       "      <td>4</td>\n",
       "      <td>0</td>\n",
       "    </tr>\n",
       "  </tbody>\n",
       "</table>\n",
       "</div>"
      ],
      "text/plain": [
       "   3  4    5   6   7  8\n",
       "3  0  0    0   1   0  0\n",
       "4  0  0    8   2   0  0\n",
       "5  0  0  101  28   1  0\n",
       "6  0  1   29  93   9  0\n",
       "7  0  0    0  20  22  0\n",
       "8  0  0    0   1   4  0"
      ]
     },
     "execution_count": 173,
     "metadata": {},
     "output_type": "execute_result"
    }
   ],
   "source": [
    "#create a confusion matrix for test data set  \n",
    "cm= confusion_matrix(y_test,test_preds)  \n",
    "coords = [x for x in range(3,9)]\n",
    "cm = pd.DataFrame(cm,columns=coords, index=coords )\n",
    "cm"
   ]
  },
  {
   "cell_type": "code",
   "execution_count": 174,
   "metadata": {},
   "outputs": [
    {
     "name": "stdout",
     "output_type": "stream",
     "text": [
      "training accuracy: 0.9874902267396404\n",
      "test accuracy: 0.675\n"
     ]
    }
   ],
   "source": [
    "rf_accuracy1_train = accuracy_score(y_train, train_predictions)\n",
    "rf_accuracy1_test = accuracy_score(y_test, test_preds)\n",
    "print('training accuracy: {}'.format(rf_accuracy1_train))\n",
    "print('test accuracy: {}'.format(rf_accuracy1_test))"
   ]
  },
  {
   "cell_type": "markdown",
   "metadata": {},
   "source": [
    "##### Try increasing the accuracy through GridSearchCV"
   ]
  },
  {
   "cell_type": "code",
   "execution_count": 177,
   "metadata": {},
   "outputs": [
    {
     "data": {
      "text/plain": [
       "GridSearchCV(cv=5,\n",
       "             estimator=RandomForestClassifier(criterion='entropy',\n",
       "                                              n_estimators=10),\n",
       "             param_grid={'criterion': ['gini', 'entropy'],\n",
       "                         'max_depth': [7, 8, 9, 10, 11],\n",
       "                         'max_features': ['auto', 'sqrt', 'log2'],\n",
       "                         'n_estimators': [200, 500]})"
      ]
     },
     "execution_count": 177,
     "metadata": {},
     "output_type": "execute_result"
    }
   ],
   "source": [
    "# define gridsearchcv configuration params\n",
    "param_grid = { \n",
    "    'n_estimators': [200, 500],\n",
    "    'max_features': ['auto', 'sqrt', 'log2'],\n",
    "    'max_depth' : [7,8,9,10,11],\n",
    "    'criterion' :['gini', 'entropy']\n",
    "}\n",
    "\n",
    "# fit the training dataset via grid search\n",
    "CV_rfc = GridSearchCV(estimator=classifier, param_grid=param_grid, cv= 5)\n",
    "CV_rfc.fit(X_train, y_train)\n"
   ]
  },
  {
   "cell_type": "code",
   "execution_count": 178,
   "metadata": {},
   "outputs": [
    {
     "name": "stdout",
     "output_type": "stream",
     "text": [
      "{'criterion': 'entropy', 'max_depth': 11, 'max_features': 'sqrt', 'n_estimators': 500}\n"
     ]
    }
   ],
   "source": [
    "best_params = CV_rfc.best_params_\n",
    "print(best_params)"
   ]
  },
  {
   "cell_type": "code",
   "execution_count": 179,
   "metadata": {
    "scrolled": true
   },
   "outputs": [],
   "source": [
    "classifier = CV_rfc.best_estimator_\n",
    "train_predictions = classifier.predict(X_train)"
   ]
  },
  {
   "cell_type": "code",
   "execution_count": 180,
   "metadata": {},
   "outputs": [
    {
     "name": "stdout",
     "output_type": "stream",
     "text": [
      "Actual training data set quality range: (3, 8)\n",
      "Predicted training data set quality range: (3, 8)\n"
     ]
    }
   ],
   "source": [
    "# compute train_predictions using X_train\n",
    "train_predictions = classifier.predict(X_train)\n",
    "print('Actual training data set quality range: ({}, {})'.format(y_train.min(), y_train.max()))\n",
    "print('Predicted training data set quality range: ({}, {})'.format(train_predictions.min(), train_predictions.max()))"
   ]
  },
  {
   "cell_type": "code",
   "execution_count": 181,
   "metadata": {},
   "outputs": [
    {
     "data": {
      "text/html": [
       "<div>\n",
       "<style scoped>\n",
       "    .dataframe tbody tr th:only-of-type {\n",
       "        vertical-align: middle;\n",
       "    }\n",
       "\n",
       "    .dataframe tbody tr th {\n",
       "        vertical-align: top;\n",
       "    }\n",
       "\n",
       "    .dataframe thead th {\n",
       "        text-align: right;\n",
       "    }\n",
       "</style>\n",
       "<table border=\"1\" class=\"dataframe\">\n",
       "  <thead>\n",
       "    <tr style=\"text-align: right;\">\n",
       "      <th></th>\n",
       "      <th>3</th>\n",
       "      <th>4</th>\n",
       "      <th>5</th>\n",
       "      <th>6</th>\n",
       "      <th>7</th>\n",
       "      <th>8</th>\n",
       "    </tr>\n",
       "  </thead>\n",
       "  <tbody>\n",
       "    <tr>\n",
       "      <th>3</th>\n",
       "      <td>9</td>\n",
       "      <td>0</td>\n",
       "      <td>0</td>\n",
       "      <td>0</td>\n",
       "      <td>0</td>\n",
       "      <td>0</td>\n",
       "    </tr>\n",
       "    <tr>\n",
       "      <th>4</th>\n",
       "      <td>0</td>\n",
       "      <td>41</td>\n",
       "      <td>2</td>\n",
       "      <td>0</td>\n",
       "      <td>0</td>\n",
       "      <td>0</td>\n",
       "    </tr>\n",
       "    <tr>\n",
       "      <th>5</th>\n",
       "      <td>0</td>\n",
       "      <td>0</td>\n",
       "      <td>551</td>\n",
       "      <td>0</td>\n",
       "      <td>0</td>\n",
       "      <td>0</td>\n",
       "    </tr>\n",
       "    <tr>\n",
       "      <th>6</th>\n",
       "      <td>0</td>\n",
       "      <td>0</td>\n",
       "      <td>3</td>\n",
       "      <td>503</td>\n",
       "      <td>0</td>\n",
       "      <td>0</td>\n",
       "    </tr>\n",
       "    <tr>\n",
       "      <th>7</th>\n",
       "      <td>0</td>\n",
       "      <td>0</td>\n",
       "      <td>3</td>\n",
       "      <td>0</td>\n",
       "      <td>154</td>\n",
       "      <td>0</td>\n",
       "    </tr>\n",
       "    <tr>\n",
       "      <th>8</th>\n",
       "      <td>0</td>\n",
       "      <td>0</td>\n",
       "      <td>0</td>\n",
       "      <td>0</td>\n",
       "      <td>0</td>\n",
       "      <td>13</td>\n",
       "    </tr>\n",
       "  </tbody>\n",
       "</table>\n",
       "</div>"
      ],
      "text/plain": [
       "   3   4    5    6    7   8\n",
       "3  9   0    0    0    0   0\n",
       "4  0  41    2    0    0   0\n",
       "5  0   0  551    0    0   0\n",
       "6  0   0    3  503    0   0\n",
       "7  0   0    3    0  154   0\n",
       "8  0   0    0    0    0  13"
      ]
     },
     "execution_count": 181,
     "metadata": {},
     "output_type": "execute_result"
    }
   ],
   "source": [
    "#create a confusion matrix for training data set  \n",
    "cm= confusion_matrix(y_train,train_predictions)  \n",
    "coords = [x for x in range(3,9)]\n",
    "cm = pd.DataFrame(cm,columns=coords, index=coords )\n",
    "cm"
   ]
  },
  {
   "cell_type": "code",
   "execution_count": 182,
   "metadata": {},
   "outputs": [
    {
     "name": "stdout",
     "output_type": "stream",
     "text": [
      "Actual test data set quality range: (3, 8)\n",
      "Predicted test data set quality range: (5, 8)\n"
     ]
    }
   ],
   "source": [
    "# compute test predictions using X_test\n",
    "test_preds= classifier.predict(X_test)\n",
    "print('Actual test data set quality range: ({}, {})'.format(y_test.min(), y_test.max()))\n",
    "print('Predicted test data set quality range: ({}, {})'.format(test_preds.min(), test_preds.max()))"
   ]
  },
  {
   "cell_type": "code",
   "execution_count": 183,
   "metadata": {},
   "outputs": [
    {
     "data": {
      "text/html": [
       "<div>\n",
       "<style scoped>\n",
       "    .dataframe tbody tr th:only-of-type {\n",
       "        vertical-align: middle;\n",
       "    }\n",
       "\n",
       "    .dataframe tbody tr th {\n",
       "        vertical-align: top;\n",
       "    }\n",
       "\n",
       "    .dataframe thead th {\n",
       "        text-align: right;\n",
       "    }\n",
       "</style>\n",
       "<table border=\"1\" class=\"dataframe\">\n",
       "  <thead>\n",
       "    <tr style=\"text-align: right;\">\n",
       "      <th></th>\n",
       "      <th>3</th>\n",
       "      <th>4</th>\n",
       "      <th>5</th>\n",
       "      <th>6</th>\n",
       "      <th>7</th>\n",
       "      <th>8</th>\n",
       "    </tr>\n",
       "  </thead>\n",
       "  <tbody>\n",
       "    <tr>\n",
       "      <th>3</th>\n",
       "      <td>0</td>\n",
       "      <td>0</td>\n",
       "      <td>1</td>\n",
       "      <td>0</td>\n",
       "      <td>0</td>\n",
       "      <td>0</td>\n",
       "    </tr>\n",
       "    <tr>\n",
       "      <th>4</th>\n",
       "      <td>0</td>\n",
       "      <td>0</td>\n",
       "      <td>7</td>\n",
       "      <td>3</td>\n",
       "      <td>0</td>\n",
       "      <td>0</td>\n",
       "    </tr>\n",
       "    <tr>\n",
       "      <th>5</th>\n",
       "      <td>0</td>\n",
       "      <td>0</td>\n",
       "      <td>104</td>\n",
       "      <td>26</td>\n",
       "      <td>0</td>\n",
       "      <td>0</td>\n",
       "    </tr>\n",
       "    <tr>\n",
       "      <th>6</th>\n",
       "      <td>0</td>\n",
       "      <td>0</td>\n",
       "      <td>35</td>\n",
       "      <td>90</td>\n",
       "      <td>7</td>\n",
       "      <td>0</td>\n",
       "    </tr>\n",
       "    <tr>\n",
       "      <th>7</th>\n",
       "      <td>0</td>\n",
       "      <td>0</td>\n",
       "      <td>0</td>\n",
       "      <td>22</td>\n",
       "      <td>19</td>\n",
       "      <td>1</td>\n",
       "    </tr>\n",
       "    <tr>\n",
       "      <th>8</th>\n",
       "      <td>0</td>\n",
       "      <td>0</td>\n",
       "      <td>0</td>\n",
       "      <td>0</td>\n",
       "      <td>5</td>\n",
       "      <td>0</td>\n",
       "    </tr>\n",
       "  </tbody>\n",
       "</table>\n",
       "</div>"
      ],
      "text/plain": [
       "   3  4    5   6   7  8\n",
       "3  0  0    1   0   0  0\n",
       "4  0  0    7   3   0  0\n",
       "5  0  0  104  26   0  0\n",
       "6  0  0   35  90   7  0\n",
       "7  0  0    0  22  19  1\n",
       "8  0  0    0   0   5  0"
      ]
     },
     "execution_count": 183,
     "metadata": {},
     "output_type": "execute_result"
    }
   ],
   "source": [
    "#create a confusion matrix for test data set  \n",
    "cm= confusion_matrix(y_test,test_preds)  \n",
    "coords = [x for x in range(3,9)]\n",
    "cm = pd.DataFrame(cm,columns=coords, index=coords )\n",
    "cm"
   ]
  },
  {
   "cell_type": "code",
   "execution_count": 184,
   "metadata": {},
   "outputs": [
    {
     "name": "stdout",
     "output_type": "stream",
     "text": [
      "compare rf and gs accuracy:\n",
      "\n",
      "rf1 training accuracy: 0.9874902267396404\n",
      "rf1 test accuracy: 0.675\n",
      "\n",
      "gs1 training accuracy: 0.9937451133698202\n",
      "gs1 test accuracy: 0.665625\n"
     ]
    }
   ],
   "source": [
    "print('compare rf and gs accuracy:\\n')\n",
    "print('rf1 training accuracy: {}'.format(rf_accuracy1_train))\n",
    "print('rf1 test accuracy: {}'.format(rf_accuracy1_test))\n",
    "print()\n",
    "gs_accuracy1_train = accuracy_score(y_train, train_predictions)\n",
    "gs_accuracy1_test = accuracy_score(y_test, test_preds)\n",
    "print('gs1 training accuracy: {}'.format(gs_accuracy1_train))\n",
    "print('gs1 test accuracy: {}'.format(gs_accuracy1_test))\n"
   ]
  },
  {
   "cell_type": "markdown",
   "metadata": {},
   "source": [
    "#### Step 2: Develop the second Random Forest Model after dropping columns showing very weak correlations (0.0 - 0.2)\n",
    "1. Drop `pH`, `free sulfur dioxide`, `residual sugar` columns.\n",
    "2. Build the ML model, test and validate the predictions."
   ]
  },
  {
   "cell_type": "code",
   "execution_count": 185,
   "metadata": {},
   "outputs": [],
   "source": [
    "### drop columns showing very weak correlations\n",
    "lst = ['pH', 'free sulfur dioxide', 'residual sugar']\n",
    "red_wine_data.drop(lst, axis =1, inplace = True)"
   ]
  },
  {
   "cell_type": "code",
   "execution_count": 186,
   "metadata": {},
   "outputs": [],
   "source": [
    "# create the \"features and target\" data sets\n",
    "X = red_wine_data.drop('quality',axis=1)\n",
    "y = red_wine_data['quality']"
   ]
  },
  {
   "cell_type": "code",
   "execution_count": 187,
   "metadata": {},
   "outputs": [],
   "source": [
    "#Feature Scaling\n",
    "object = StandardScaler()\n",
    "X = object.fit_transform(X)"
   ]
  },
  {
   "cell_type": "code",
   "execution_count": 188,
   "metadata": {},
   "outputs": [
    {
     "name": "stdout",
     "output_type": "stream",
     "text": [
      "Random Forest: Model 2 train shapes:\n",
      "(1279, 8) (1279,)\n",
      "\n",
      "Random Forest: Model 2 test shapes:\n",
      "(320, 8) (320,)\n"
     ]
    }
   ],
   "source": [
    "# split the features and target data sets into train and test sets\n",
    "X_train, X_test, y_train, y_test = train_test_split(X, y, test_size=0.2, random_state=42)\n",
    "print('Random Forest: Model 2 train shapes:')\n",
    "print(X_train.shape, y_train.shape)\n",
    "print()\n",
    "print('Random Forest: Model 2 test shapes:')\n",
    "print(X_test.shape, y_test.shape)"
   ]
  },
  {
   "cell_type": "code",
   "execution_count": 189,
   "metadata": {},
   "outputs": [],
   "source": [
    "# create and fit a Random Forest model\n",
    "classifier2 = RandomForestClassifier(n_estimators= 10, criterion=\"entropy\")  \n",
    "classifier2 = classifier2.fit(X_train, y_train)  "
   ]
  },
  {
   "cell_type": "code",
   "execution_count": 190,
   "metadata": {},
   "outputs": [
    {
     "name": "stdout",
     "output_type": "stream",
     "text": [
      "Actual training data set quality range: (3, 8)\n",
      "Predicted training data set quality range: (3, 8)\n"
     ]
    }
   ],
   "source": [
    "# compute train_predictions using X_train\n",
    "train_predictions = classifier2.predict(X_train)\n",
    "print('Actual training data set quality range: ({}, {})'.format(y_train.min(), y_train.max()))\n",
    "print('Predicted training data set quality range: ({}, {})'.format(train_predictions.min(), train_predictions.max()))"
   ]
  },
  {
   "cell_type": "code",
   "execution_count": 191,
   "metadata": {},
   "outputs": [
    {
     "data": {
      "text/html": [
       "<div>\n",
       "<style scoped>\n",
       "    .dataframe tbody tr th:only-of-type {\n",
       "        vertical-align: middle;\n",
       "    }\n",
       "\n",
       "    .dataframe tbody tr th {\n",
       "        vertical-align: top;\n",
       "    }\n",
       "\n",
       "    .dataframe thead th {\n",
       "        text-align: right;\n",
       "    }\n",
       "</style>\n",
       "<table border=\"1\" class=\"dataframe\">\n",
       "  <thead>\n",
       "    <tr style=\"text-align: right;\">\n",
       "      <th></th>\n",
       "      <th>3</th>\n",
       "      <th>4</th>\n",
       "      <th>5</th>\n",
       "      <th>6</th>\n",
       "      <th>7</th>\n",
       "      <th>8</th>\n",
       "    </tr>\n",
       "  </thead>\n",
       "  <tbody>\n",
       "    <tr>\n",
       "      <th>3</th>\n",
       "      <td>9</td>\n",
       "      <td>0</td>\n",
       "      <td>0</td>\n",
       "      <td>0</td>\n",
       "      <td>0</td>\n",
       "      <td>0</td>\n",
       "    </tr>\n",
       "    <tr>\n",
       "      <th>4</th>\n",
       "      <td>0</td>\n",
       "      <td>43</td>\n",
       "      <td>0</td>\n",
       "      <td>0</td>\n",
       "      <td>0</td>\n",
       "      <td>0</td>\n",
       "    </tr>\n",
       "    <tr>\n",
       "      <th>5</th>\n",
       "      <td>0</td>\n",
       "      <td>0</td>\n",
       "      <td>546</td>\n",
       "      <td>4</td>\n",
       "      <td>1</td>\n",
       "      <td>0</td>\n",
       "    </tr>\n",
       "    <tr>\n",
       "      <th>6</th>\n",
       "      <td>0</td>\n",
       "      <td>0</td>\n",
       "      <td>3</td>\n",
       "      <td>503</td>\n",
       "      <td>0</td>\n",
       "      <td>0</td>\n",
       "    </tr>\n",
       "    <tr>\n",
       "      <th>7</th>\n",
       "      <td>0</td>\n",
       "      <td>0</td>\n",
       "      <td>0</td>\n",
       "      <td>6</td>\n",
       "      <td>151</td>\n",
       "      <td>0</td>\n",
       "    </tr>\n",
       "    <tr>\n",
       "      <th>8</th>\n",
       "      <td>0</td>\n",
       "      <td>0</td>\n",
       "      <td>0</td>\n",
       "      <td>0</td>\n",
       "      <td>0</td>\n",
       "      <td>13</td>\n",
       "    </tr>\n",
       "  </tbody>\n",
       "</table>\n",
       "</div>"
      ],
      "text/plain": [
       "   3   4    5    6    7   8\n",
       "3  9   0    0    0    0   0\n",
       "4  0  43    0    0    0   0\n",
       "5  0   0  546    4    1   0\n",
       "6  0   0    3  503    0   0\n",
       "7  0   0    0    6  151   0\n",
       "8  0   0    0    0    0  13"
      ]
     },
     "execution_count": 191,
     "metadata": {},
     "output_type": "execute_result"
    }
   ],
   "source": [
    "#create a confusion matrix for training data set  \n",
    "cm= confusion_matrix(y_train,train_predictions)  \n",
    "coords = [x for x in range(3,9)]\n",
    "cm = pd.DataFrame(cm,columns=coords, index=coords )\n",
    "cm"
   ]
  },
  {
   "cell_type": "code",
   "execution_count": 192,
   "metadata": {},
   "outputs": [
    {
     "name": "stdout",
     "output_type": "stream",
     "text": [
      "Actual test data set quality range: (3, 8)\n",
      "Predicted test data set quality range: (4, 8)\n"
     ]
    }
   ],
   "source": [
    "# compute test predictions using X_test\n",
    "test_preds= classifier2.predict(X_test)\n",
    "print('Actual test data set quality range: ({}, {})'.format(y_test.min(), y_test.max()))\n",
    "print('Predicted test data set quality range: ({}, {})'.format(test_preds.min(), test_preds.max()))"
   ]
  },
  {
   "cell_type": "code",
   "execution_count": 193,
   "metadata": {},
   "outputs": [
    {
     "data": {
      "text/html": [
       "<div>\n",
       "<style scoped>\n",
       "    .dataframe tbody tr th:only-of-type {\n",
       "        vertical-align: middle;\n",
       "    }\n",
       "\n",
       "    .dataframe tbody tr th {\n",
       "        vertical-align: top;\n",
       "    }\n",
       "\n",
       "    .dataframe thead th {\n",
       "        text-align: right;\n",
       "    }\n",
       "</style>\n",
       "<table border=\"1\" class=\"dataframe\">\n",
       "  <thead>\n",
       "    <tr style=\"text-align: right;\">\n",
       "      <th></th>\n",
       "      <th>3</th>\n",
       "      <th>4</th>\n",
       "      <th>5</th>\n",
       "      <th>6</th>\n",
       "      <th>7</th>\n",
       "      <th>8</th>\n",
       "    </tr>\n",
       "  </thead>\n",
       "  <tbody>\n",
       "    <tr>\n",
       "      <th>3</th>\n",
       "      <td>0</td>\n",
       "      <td>0</td>\n",
       "      <td>0</td>\n",
       "      <td>1</td>\n",
       "      <td>0</td>\n",
       "      <td>0</td>\n",
       "    </tr>\n",
       "    <tr>\n",
       "      <th>4</th>\n",
       "      <td>0</td>\n",
       "      <td>1</td>\n",
       "      <td>5</td>\n",
       "      <td>4</td>\n",
       "      <td>0</td>\n",
       "      <td>0</td>\n",
       "    </tr>\n",
       "    <tr>\n",
       "      <th>5</th>\n",
       "      <td>0</td>\n",
       "      <td>0</td>\n",
       "      <td>96</td>\n",
       "      <td>34</td>\n",
       "      <td>0</td>\n",
       "      <td>0</td>\n",
       "    </tr>\n",
       "    <tr>\n",
       "      <th>6</th>\n",
       "      <td>0</td>\n",
       "      <td>0</td>\n",
       "      <td>36</td>\n",
       "      <td>87</td>\n",
       "      <td>8</td>\n",
       "      <td>1</td>\n",
       "    </tr>\n",
       "    <tr>\n",
       "      <th>7</th>\n",
       "      <td>0</td>\n",
       "      <td>1</td>\n",
       "      <td>1</td>\n",
       "      <td>21</td>\n",
       "      <td>19</td>\n",
       "      <td>0</td>\n",
       "    </tr>\n",
       "    <tr>\n",
       "      <th>8</th>\n",
       "      <td>0</td>\n",
       "      <td>0</td>\n",
       "      <td>0</td>\n",
       "      <td>2</td>\n",
       "      <td>3</td>\n",
       "      <td>0</td>\n",
       "    </tr>\n",
       "  </tbody>\n",
       "</table>\n",
       "</div>"
      ],
      "text/plain": [
       "   3  4   5   6   7  8\n",
       "3  0  0   0   1   0  0\n",
       "4  0  1   5   4   0  0\n",
       "5  0  0  96  34   0  0\n",
       "6  0  0  36  87   8  1\n",
       "7  0  1   1  21  19  0\n",
       "8  0  0   0   2   3  0"
      ]
     },
     "execution_count": 193,
     "metadata": {},
     "output_type": "execute_result"
    }
   ],
   "source": [
    "#create a confusion matrix for test data set  \n",
    "cm= confusion_matrix(y_test,test_preds)  \n",
    "coords = [x for x in range(3,9)]\n",
    "cm = pd.DataFrame(cm,columns=coords, index=coords )\n",
    "cm"
   ]
  },
  {
   "cell_type": "code",
   "execution_count": 194,
   "metadata": {},
   "outputs": [
    {
     "name": "stdout",
     "output_type": "stream",
     "text": [
      "training accuracy: 0.9890539483971853\n",
      "test accuracy: 0.634375\n"
     ]
    }
   ],
   "source": [
    "rf_accuracy2_train = accuracy_score(y_train, train_predictions)\n",
    "rf_accuracy2_test = accuracy_score(y_test, test_preds)\n",
    "print('training accuracy: {}'.format(rf_accuracy2_train))\n",
    "print('test accuracy: {}'.format(rf_accuracy2_test))"
   ]
  },
  {
   "cell_type": "markdown",
   "metadata": {},
   "source": [
    "##### Try increasing the accuracy through GridSearchCV"
   ]
  },
  {
   "cell_type": "code",
   "execution_count": 195,
   "metadata": {},
   "outputs": [
    {
     "data": {
      "text/plain": [
       "GridSearchCV(cv=5,\n",
       "             estimator=RandomForestClassifier(criterion='entropy', max_depth=11,\n",
       "                                              max_features='sqrt',\n",
       "                                              n_estimators=500),\n",
       "             param_grid={'criterion': ['gini', 'entropy'],\n",
       "                         'max_depth': [7, 8, 9, 10, 11],\n",
       "                         'max_features': ['auto', 'sqrt', 'log2'],\n",
       "                         'n_estimators': [200, 500]})"
      ]
     },
     "execution_count": 195,
     "metadata": {},
     "output_type": "execute_result"
    }
   ],
   "source": [
    "# define gridsearchcv configuration params\n",
    "param_grid = { \n",
    "    'n_estimators': [200, 500],\n",
    "    'max_features': ['auto', 'sqrt', 'log2'],\n",
    "    'max_depth' : [7,8,9,10,11],\n",
    "    'criterion' :['gini', 'entropy']\n",
    "}\n",
    "\n",
    "# fit the training dataset via grid search\n",
    "CV_rfc = GridSearchCV(estimator=classifier, param_grid=param_grid, cv= 5)\n",
    "CV_rfc.fit(X_train, y_train)\n"
   ]
  },
  {
   "cell_type": "code",
   "execution_count": 196,
   "metadata": {},
   "outputs": [
    {
     "name": "stdout",
     "output_type": "stream",
     "text": [
      "{'criterion': 'entropy', 'max_depth': 11, 'max_features': 'auto', 'n_estimators': 500}\n"
     ]
    }
   ],
   "source": [
    "best_params = CV_rfc.best_params_\n",
    "print(best_params)"
   ]
  },
  {
   "cell_type": "code",
   "execution_count": 197,
   "metadata": {
    "scrolled": true
   },
   "outputs": [],
   "source": [
    "classifier2 = CV_rfc.best_estimator_\n",
    "train_predictions = classifier2.predict(X_train)"
   ]
  },
  {
   "cell_type": "code",
   "execution_count": 198,
   "metadata": {},
   "outputs": [
    {
     "name": "stdout",
     "output_type": "stream",
     "text": [
      "Actual training data set quality range: (3, 8)\n",
      "Predicted training data set quality range: (3, 8)\n"
     ]
    }
   ],
   "source": [
    "# compute train_predictions using X_train\n",
    "train_predictions = classifier2.predict(X_train)\n",
    "print('Actual training data set quality range: ({}, {})'.format(y_train.min(), y_train.max()))\n",
    "print('Predicted training data set quality range: ({}, {})'.format(train_predictions.min(), train_predictions.max()))"
   ]
  },
  {
   "cell_type": "code",
   "execution_count": 199,
   "metadata": {},
   "outputs": [
    {
     "data": {
      "text/html": [
       "<div>\n",
       "<style scoped>\n",
       "    .dataframe tbody tr th:only-of-type {\n",
       "        vertical-align: middle;\n",
       "    }\n",
       "\n",
       "    .dataframe tbody tr th {\n",
       "        vertical-align: top;\n",
       "    }\n",
       "\n",
       "    .dataframe thead th {\n",
       "        text-align: right;\n",
       "    }\n",
       "</style>\n",
       "<table border=\"1\" class=\"dataframe\">\n",
       "  <thead>\n",
       "    <tr style=\"text-align: right;\">\n",
       "      <th></th>\n",
       "      <th>3</th>\n",
       "      <th>4</th>\n",
       "      <th>5</th>\n",
       "      <th>6</th>\n",
       "      <th>7</th>\n",
       "      <th>8</th>\n",
       "    </tr>\n",
       "  </thead>\n",
       "  <tbody>\n",
       "    <tr>\n",
       "      <th>3</th>\n",
       "      <td>9</td>\n",
       "      <td>0</td>\n",
       "      <td>0</td>\n",
       "      <td>0</td>\n",
       "      <td>0</td>\n",
       "      <td>0</td>\n",
       "    </tr>\n",
       "    <tr>\n",
       "      <th>4</th>\n",
       "      <td>0</td>\n",
       "      <td>41</td>\n",
       "      <td>2</td>\n",
       "      <td>0</td>\n",
       "      <td>0</td>\n",
       "      <td>0</td>\n",
       "    </tr>\n",
       "    <tr>\n",
       "      <th>5</th>\n",
       "      <td>0</td>\n",
       "      <td>0</td>\n",
       "      <td>550</td>\n",
       "      <td>1</td>\n",
       "      <td>0</td>\n",
       "      <td>0</td>\n",
       "    </tr>\n",
       "    <tr>\n",
       "      <th>6</th>\n",
       "      <td>0</td>\n",
       "      <td>0</td>\n",
       "      <td>14</td>\n",
       "      <td>492</td>\n",
       "      <td>0</td>\n",
       "      <td>0</td>\n",
       "    </tr>\n",
       "    <tr>\n",
       "      <th>7</th>\n",
       "      <td>0</td>\n",
       "      <td>0</td>\n",
       "      <td>1</td>\n",
       "      <td>1</td>\n",
       "      <td>155</td>\n",
       "      <td>0</td>\n",
       "    </tr>\n",
       "    <tr>\n",
       "      <th>8</th>\n",
       "      <td>0</td>\n",
       "      <td>0</td>\n",
       "      <td>0</td>\n",
       "      <td>0</td>\n",
       "      <td>0</td>\n",
       "      <td>13</td>\n",
       "    </tr>\n",
       "  </tbody>\n",
       "</table>\n",
       "</div>"
      ],
      "text/plain": [
       "   3   4    5    6    7   8\n",
       "3  9   0    0    0    0   0\n",
       "4  0  41    2    0    0   0\n",
       "5  0   0  550    1    0   0\n",
       "6  0   0   14  492    0   0\n",
       "7  0   0    1    1  155   0\n",
       "8  0   0    0    0    0  13"
      ]
     },
     "execution_count": 199,
     "metadata": {},
     "output_type": "execute_result"
    }
   ],
   "source": [
    "#create a confusion matrix for training data set  \n",
    "cm= confusion_matrix(y_train,train_predictions)  \n",
    "coords = [x for x in range(3,9)]\n",
    "cm = pd.DataFrame(cm,columns=coords, index=coords )\n",
    "cm"
   ]
  },
  {
   "cell_type": "code",
   "execution_count": 200,
   "metadata": {},
   "outputs": [
    {
     "name": "stdout",
     "output_type": "stream",
     "text": [
      "Actual test data set quality range: (3, 8)\n",
      "Predicted test data set quality range: (5, 8)\n"
     ]
    }
   ],
   "source": [
    "# compute test predictions using X_test\n",
    "test_preds= classifier2.predict(X_test)\n",
    "print('Actual test data set quality range: ({}, {})'.format(y_test.min(), y_test.max()))\n",
    "print('Predicted test data set quality range: ({}, {})'.format(test_preds.min(), test_preds.max()))"
   ]
  },
  {
   "cell_type": "code",
   "execution_count": 201,
   "metadata": {
    "scrolled": true
   },
   "outputs": [
    {
     "data": {
      "text/html": [
       "<div>\n",
       "<style scoped>\n",
       "    .dataframe tbody tr th:only-of-type {\n",
       "        vertical-align: middle;\n",
       "    }\n",
       "\n",
       "    .dataframe tbody tr th {\n",
       "        vertical-align: top;\n",
       "    }\n",
       "\n",
       "    .dataframe thead th {\n",
       "        text-align: right;\n",
       "    }\n",
       "</style>\n",
       "<table border=\"1\" class=\"dataframe\">\n",
       "  <thead>\n",
       "    <tr style=\"text-align: right;\">\n",
       "      <th></th>\n",
       "      <th>3</th>\n",
       "      <th>4</th>\n",
       "      <th>5</th>\n",
       "      <th>6</th>\n",
       "      <th>7</th>\n",
       "      <th>8</th>\n",
       "    </tr>\n",
       "  </thead>\n",
       "  <tbody>\n",
       "    <tr>\n",
       "      <th>3</th>\n",
       "      <td>0</td>\n",
       "      <td>0</td>\n",
       "      <td>1</td>\n",
       "      <td>0</td>\n",
       "      <td>0</td>\n",
       "      <td>0</td>\n",
       "    </tr>\n",
       "    <tr>\n",
       "      <th>4</th>\n",
       "      <td>0</td>\n",
       "      <td>0</td>\n",
       "      <td>6</td>\n",
       "      <td>4</td>\n",
       "      <td>0</td>\n",
       "      <td>0</td>\n",
       "    </tr>\n",
       "    <tr>\n",
       "      <th>5</th>\n",
       "      <td>0</td>\n",
       "      <td>0</td>\n",
       "      <td>103</td>\n",
       "      <td>27</td>\n",
       "      <td>0</td>\n",
       "      <td>0</td>\n",
       "    </tr>\n",
       "    <tr>\n",
       "      <th>6</th>\n",
       "      <td>0</td>\n",
       "      <td>0</td>\n",
       "      <td>37</td>\n",
       "      <td>89</td>\n",
       "      <td>6</td>\n",
       "      <td>0</td>\n",
       "    </tr>\n",
       "    <tr>\n",
       "      <th>7</th>\n",
       "      <td>0</td>\n",
       "      <td>0</td>\n",
       "      <td>0</td>\n",
       "      <td>23</td>\n",
       "      <td>18</td>\n",
       "      <td>1</td>\n",
       "    </tr>\n",
       "    <tr>\n",
       "      <th>8</th>\n",
       "      <td>0</td>\n",
       "      <td>0</td>\n",
       "      <td>0</td>\n",
       "      <td>2</td>\n",
       "      <td>3</td>\n",
       "      <td>0</td>\n",
       "    </tr>\n",
       "  </tbody>\n",
       "</table>\n",
       "</div>"
      ],
      "text/plain": [
       "   3  4    5   6   7  8\n",
       "3  0  0    1   0   0  0\n",
       "4  0  0    6   4   0  0\n",
       "5  0  0  103  27   0  0\n",
       "6  0  0   37  89   6  0\n",
       "7  0  0    0  23  18  1\n",
       "8  0  0    0   2   3  0"
      ]
     },
     "execution_count": 201,
     "metadata": {},
     "output_type": "execute_result"
    }
   ],
   "source": [
    "#create a confusion matrix for test data set  \n",
    "cm= confusion_matrix(y_test,test_preds)  \n",
    "coords = [x for x in range(3,9)]\n",
    "cm = pd.DataFrame(cm,columns=coords, index=coords )\n",
    "cm"
   ]
  },
  {
   "cell_type": "code",
   "execution_count": 202,
   "metadata": {},
   "outputs": [
    {
     "name": "stdout",
     "output_type": "stream",
     "text": [
      "compare rf and gs accuracy:\n",
      "\n",
      "rf2 training accuracy: 0.9890539483971853\n",
      "rf2 test accuracy: 0.634375\n",
      "\n",
      "gs2 training accuracy: 0.9851446442533229\n",
      "gs2 test accuracy: 0.65625\n"
     ]
    }
   ],
   "source": [
    "print('compare rf and gs accuracy:\\n')\n",
    "print('rf2 training accuracy: {}'.format(rf_accuracy2_train))\n",
    "print('rf2 test accuracy: {}'.format(rf_accuracy2_test))\n",
    "print()\n",
    "gs_accuracy2_train = accuracy_score(y_train, train_predictions)\n",
    "gs_accuracy2_test = accuracy_score(y_test, test_preds)\n",
    "print('gs2 training accuracy: {}'.format(gs_accuracy2_train))\n",
    "print('gs2 test accuracy: {}'.format(gs_accuracy2_test))\n"
   ]
  },
  {
   "cell_type": "markdown",
   "metadata": {},
   "source": [
    "#### Step 3: Develop the third Random Forest Model after dropping columns showing weak correlations (0.2 - 0.4)\n",
    "\n",
    "1. Drop columns `fixed acidity`, `citric acid`, `chlorides`, `total sulfur dioxide`, `density`\n",
    "2. Build the ML model, test and validate the predictions."
   ]
  },
  {
   "cell_type": "code",
   "execution_count": 203,
   "metadata": {},
   "outputs": [],
   "source": [
    "### drop columns showing weak correlations\n",
    "lst = ['fixed acidity', 'citric acid', 'chlorides', 'total sulfur dioxide', 'density']\n",
    "red_wine_data.drop(lst, axis =1, inplace = True)"
   ]
  },
  {
   "cell_type": "code",
   "execution_count": 204,
   "metadata": {},
   "outputs": [],
   "source": [
    "# create the \"features and target\" data sets\n",
    "X = red_wine_data.drop('quality',axis=1)\n",
    "y = red_wine_data['quality']"
   ]
  },
  {
   "cell_type": "code",
   "execution_count": 205,
   "metadata": {},
   "outputs": [],
   "source": [
    "#Feature Scaling\n",
    "object = StandardScaler()\n",
    "X = object.fit_transform(X)"
   ]
  },
  {
   "cell_type": "code",
   "execution_count": 206,
   "metadata": {},
   "outputs": [
    {
     "name": "stdout",
     "output_type": "stream",
     "text": [
      "Random Forest: Model 2 train shapes:\n",
      "(1279, 3) (1279,)\n",
      "\n",
      "Random Forest: Model 2 test shapes:\n",
      "(320, 3) (320,)\n"
     ]
    }
   ],
   "source": [
    "# split the features and target data sets into train and test sets\n",
    "X_train, X_test, y_train, y_test = train_test_split(X, y, test_size=0.2, random_state=42)\n",
    "print('Random Forest: Model 2 train shapes:')\n",
    "print(X_train.shape, y_train.shape)\n",
    "print()\n",
    "print('Random Forest: Model 2 test shapes:')\n",
    "print(X_test.shape, y_test.shape)"
   ]
  },
  {
   "cell_type": "code",
   "execution_count": 207,
   "metadata": {},
   "outputs": [],
   "source": [
    "# create and fit a Random Forest model\n",
    "classifier3 = RandomForestClassifier(n_estimators= 10, criterion=\"entropy\")  \n",
    "classifier3 = classifier3.fit(X_train, y_train)  "
   ]
  },
  {
   "cell_type": "code",
   "execution_count": 208,
   "metadata": {},
   "outputs": [
    {
     "name": "stdout",
     "output_type": "stream",
     "text": [
      "Actual training data set quality range: (3, 8)\n",
      "Predicted training data set quality range: (3, 8)\n"
     ]
    }
   ],
   "source": [
    "# compute train_predictions using X_train\n",
    "train_predictions = classifier3.predict(X_train)\n",
    "print('Actual training data set quality range: ({}, {})'.format(y_train.min(), y_train.max()))\n",
    "print('Predicted training data set quality range: ({}, {})'.format(train_predictions.min(), train_predictions.max()))"
   ]
  },
  {
   "cell_type": "code",
   "execution_count": 209,
   "metadata": {},
   "outputs": [
    {
     "data": {
      "text/html": [
       "<div>\n",
       "<style scoped>\n",
       "    .dataframe tbody tr th:only-of-type {\n",
       "        vertical-align: middle;\n",
       "    }\n",
       "\n",
       "    .dataframe tbody tr th {\n",
       "        vertical-align: top;\n",
       "    }\n",
       "\n",
       "    .dataframe thead th {\n",
       "        text-align: right;\n",
       "    }\n",
       "</style>\n",
       "<table border=\"1\" class=\"dataframe\">\n",
       "  <thead>\n",
       "    <tr style=\"text-align: right;\">\n",
       "      <th></th>\n",
       "      <th>3</th>\n",
       "      <th>4</th>\n",
       "      <th>5</th>\n",
       "      <th>6</th>\n",
       "      <th>7</th>\n",
       "      <th>8</th>\n",
       "    </tr>\n",
       "  </thead>\n",
       "  <tbody>\n",
       "    <tr>\n",
       "      <th>3</th>\n",
       "      <td>8</td>\n",
       "      <td>0</td>\n",
       "      <td>1</td>\n",
       "      <td>0</td>\n",
       "      <td>0</td>\n",
       "      <td>0</td>\n",
       "    </tr>\n",
       "    <tr>\n",
       "      <th>4</th>\n",
       "      <td>0</td>\n",
       "      <td>40</td>\n",
       "      <td>2</td>\n",
       "      <td>1</td>\n",
       "      <td>0</td>\n",
       "      <td>0</td>\n",
       "    </tr>\n",
       "    <tr>\n",
       "      <th>5</th>\n",
       "      <td>0</td>\n",
       "      <td>0</td>\n",
       "      <td>544</td>\n",
       "      <td>6</td>\n",
       "      <td>1</td>\n",
       "      <td>0</td>\n",
       "    </tr>\n",
       "    <tr>\n",
       "      <th>6</th>\n",
       "      <td>0</td>\n",
       "      <td>0</td>\n",
       "      <td>9</td>\n",
       "      <td>495</td>\n",
       "      <td>2</td>\n",
       "      <td>0</td>\n",
       "    </tr>\n",
       "    <tr>\n",
       "      <th>7</th>\n",
       "      <td>0</td>\n",
       "      <td>0</td>\n",
       "      <td>3</td>\n",
       "      <td>7</td>\n",
       "      <td>147</td>\n",
       "      <td>0</td>\n",
       "    </tr>\n",
       "    <tr>\n",
       "      <th>8</th>\n",
       "      <td>0</td>\n",
       "      <td>0</td>\n",
       "      <td>0</td>\n",
       "      <td>2</td>\n",
       "      <td>0</td>\n",
       "      <td>11</td>\n",
       "    </tr>\n",
       "  </tbody>\n",
       "</table>\n",
       "</div>"
      ],
      "text/plain": [
       "   3   4    5    6    7   8\n",
       "3  8   0    1    0    0   0\n",
       "4  0  40    2    1    0   0\n",
       "5  0   0  544    6    1   0\n",
       "6  0   0    9  495    2   0\n",
       "7  0   0    3    7  147   0\n",
       "8  0   0    0    2    0  11"
      ]
     },
     "execution_count": 209,
     "metadata": {},
     "output_type": "execute_result"
    }
   ],
   "source": [
    "#create a confusion matrix for training data set  \n",
    "cm= confusion_matrix(y_train,train_predictions)  \n",
    "coords = [x for x in range(3,9)]\n",
    "cm = pd.DataFrame(cm,columns=coords, index=coords )\n",
    "cm"
   ]
  },
  {
   "cell_type": "code",
   "execution_count": 210,
   "metadata": {},
   "outputs": [
    {
     "name": "stdout",
     "output_type": "stream",
     "text": [
      "Actual test data set quality range: (3, 8)\n",
      "Predicted test data set quality range: (4, 8)\n"
     ]
    }
   ],
   "source": [
    "# compute test predictions using X_test\n",
    "test_preds= classifier3.predict(X_test)\n",
    "print('Actual test data set quality range: ({}, {})'.format(y_test.min(), y_test.max()))\n",
    "print('Predicted test data set quality range: ({}, {})'.format(test_preds.min(), test_preds.max()))"
   ]
  },
  {
   "cell_type": "code",
   "execution_count": 211,
   "metadata": {},
   "outputs": [
    {
     "data": {
      "text/html": [
       "<div>\n",
       "<style scoped>\n",
       "    .dataframe tbody tr th:only-of-type {\n",
       "        vertical-align: middle;\n",
       "    }\n",
       "\n",
       "    .dataframe tbody tr th {\n",
       "        vertical-align: top;\n",
       "    }\n",
       "\n",
       "    .dataframe thead th {\n",
       "        text-align: right;\n",
       "    }\n",
       "</style>\n",
       "<table border=\"1\" class=\"dataframe\">\n",
       "  <thead>\n",
       "    <tr style=\"text-align: right;\">\n",
       "      <th></th>\n",
       "      <th>3</th>\n",
       "      <th>4</th>\n",
       "      <th>5</th>\n",
       "      <th>6</th>\n",
       "      <th>7</th>\n",
       "      <th>8</th>\n",
       "    </tr>\n",
       "  </thead>\n",
       "  <tbody>\n",
       "    <tr>\n",
       "      <th>3</th>\n",
       "      <td>0</td>\n",
       "      <td>0</td>\n",
       "      <td>1</td>\n",
       "      <td>0</td>\n",
       "      <td>0</td>\n",
       "      <td>0</td>\n",
       "    </tr>\n",
       "    <tr>\n",
       "      <th>4</th>\n",
       "      <td>0</td>\n",
       "      <td>1</td>\n",
       "      <td>6</td>\n",
       "      <td>3</td>\n",
       "      <td>0</td>\n",
       "      <td>0</td>\n",
       "    </tr>\n",
       "    <tr>\n",
       "      <th>5</th>\n",
       "      <td>0</td>\n",
       "      <td>0</td>\n",
       "      <td>108</td>\n",
       "      <td>20</td>\n",
       "      <td>1</td>\n",
       "      <td>1</td>\n",
       "    </tr>\n",
       "    <tr>\n",
       "      <th>6</th>\n",
       "      <td>0</td>\n",
       "      <td>3</td>\n",
       "      <td>46</td>\n",
       "      <td>70</td>\n",
       "      <td>12</td>\n",
       "      <td>1</td>\n",
       "    </tr>\n",
       "    <tr>\n",
       "      <th>7</th>\n",
       "      <td>0</td>\n",
       "      <td>1</td>\n",
       "      <td>7</td>\n",
       "      <td>15</td>\n",
       "      <td>19</td>\n",
       "      <td>0</td>\n",
       "    </tr>\n",
       "    <tr>\n",
       "      <th>8</th>\n",
       "      <td>0</td>\n",
       "      <td>0</td>\n",
       "      <td>0</td>\n",
       "      <td>0</td>\n",
       "      <td>5</td>\n",
       "      <td>0</td>\n",
       "    </tr>\n",
       "  </tbody>\n",
       "</table>\n",
       "</div>"
      ],
      "text/plain": [
       "   3  4    5   6   7  8\n",
       "3  0  0    1   0   0  0\n",
       "4  0  1    6   3   0  0\n",
       "5  0  0  108  20   1  1\n",
       "6  0  3   46  70  12  1\n",
       "7  0  1    7  15  19  0\n",
       "8  0  0    0   0   5  0"
      ]
     },
     "execution_count": 211,
     "metadata": {},
     "output_type": "execute_result"
    }
   ],
   "source": [
    "#create a confusion matrix for test data set  \n",
    "cm= confusion_matrix(y_test,test_preds)  \n",
    "coords = [x for x in range(3,9)]\n",
    "cm = pd.DataFrame(cm,columns=coords, index=coords )\n",
    "cm"
   ]
  },
  {
   "cell_type": "code",
   "execution_count": 212,
   "metadata": {},
   "outputs": [
    {
     "name": "stdout",
     "output_type": "stream",
     "text": [
      "training accuracy: 0.9734167318217357\n",
      "test accuracy: 0.61875\n"
     ]
    }
   ],
   "source": [
    "rf_accuracy3_train = accuracy_score(y_train, train_predictions)\n",
    "rf_accuracy3_test = accuracy_score(y_test, test_preds)\n",
    "print('training accuracy: {}'.format(rf_accuracy3_train))\n",
    "print('test accuracy: {}'.format(rf_accuracy3_test))"
   ]
  },
  {
   "cell_type": "markdown",
   "metadata": {},
   "source": [
    "##### Try increasing the accuracy through GridSearchCV"
   ]
  },
  {
   "cell_type": "code",
   "execution_count": 213,
   "metadata": {},
   "outputs": [
    {
     "data": {
      "text/plain": [
       "GridSearchCV(cv=5,\n",
       "             estimator=RandomForestClassifier(criterion='entropy', max_depth=11,\n",
       "                                              max_features='sqrt',\n",
       "                                              n_estimators=500),\n",
       "             param_grid={'criterion': ['gini', 'entropy'],\n",
       "                         'max_depth': [7, 8, 9, 10, 11],\n",
       "                         'max_features': ['auto', 'sqrt', 'log2'],\n",
       "                         'n_estimators': [200, 500]})"
      ]
     },
     "execution_count": 213,
     "metadata": {},
     "output_type": "execute_result"
    }
   ],
   "source": [
    "# define gridsearchcv configuration params\n",
    "param_grid = { \n",
    "    'n_estimators': [200, 500],\n",
    "    'max_features': ['auto', 'sqrt', 'log2'],\n",
    "    'max_depth' : [7,8,9,10,11],\n",
    "    'criterion' :['gini', 'entropy']\n",
    "}\n",
    "\n",
    "# fit the training dataset via grid search\n",
    "CV_rfc = GridSearchCV(estimator=classifier, param_grid=param_grid, cv= 5)\n",
    "CV_rfc.fit(X_train, y_train)\n"
   ]
  },
  {
   "cell_type": "code",
   "execution_count": 214,
   "metadata": {},
   "outputs": [
    {
     "name": "stdout",
     "output_type": "stream",
     "text": [
      "{'criterion': 'gini', 'max_depth': 11, 'max_features': 'log2', 'n_estimators': 200}\n"
     ]
    }
   ],
   "source": [
    "best_params = CV_rfc.best_params_\n",
    "print(best_params)"
   ]
  },
  {
   "cell_type": "code",
   "execution_count": 215,
   "metadata": {
    "scrolled": true
   },
   "outputs": [],
   "source": [
    "classifier2 = CV_rfc.best_estimator_\n",
    "train_predictions = classifier2.predict(X_train)"
   ]
  },
  {
   "cell_type": "code",
   "execution_count": 216,
   "metadata": {},
   "outputs": [
    {
     "name": "stdout",
     "output_type": "stream",
     "text": [
      "Actual training data set quality range: (3, 8)\n",
      "Predicted training data set quality range: (3, 8)\n"
     ]
    }
   ],
   "source": [
    "# compute train_predictions using X_train\n",
    "train_predictions = classifier2.predict(X_train)\n",
    "print('Actual training data set quality range: ({}, {})'.format(y_train.min(), y_train.max()))\n",
    "print('Predicted training data set quality range: ({}, {})'.format(train_predictions.min(), train_predictions.max()))"
   ]
  },
  {
   "cell_type": "code",
   "execution_count": 217,
   "metadata": {},
   "outputs": [
    {
     "data": {
      "text/html": [
       "<div>\n",
       "<style scoped>\n",
       "    .dataframe tbody tr th:only-of-type {\n",
       "        vertical-align: middle;\n",
       "    }\n",
       "\n",
       "    .dataframe tbody tr th {\n",
       "        vertical-align: top;\n",
       "    }\n",
       "\n",
       "    .dataframe thead th {\n",
       "        text-align: right;\n",
       "    }\n",
       "</style>\n",
       "<table border=\"1\" class=\"dataframe\">\n",
       "  <thead>\n",
       "    <tr style=\"text-align: right;\">\n",
       "      <th></th>\n",
       "      <th>3</th>\n",
       "      <th>4</th>\n",
       "      <th>5</th>\n",
       "      <th>6</th>\n",
       "      <th>7</th>\n",
       "      <th>8</th>\n",
       "    </tr>\n",
       "  </thead>\n",
       "  <tbody>\n",
       "    <tr>\n",
       "      <th>3</th>\n",
       "      <td>8</td>\n",
       "      <td>0</td>\n",
       "      <td>1</td>\n",
       "      <td>0</td>\n",
       "      <td>0</td>\n",
       "      <td>0</td>\n",
       "    </tr>\n",
       "    <tr>\n",
       "      <th>4</th>\n",
       "      <td>0</td>\n",
       "      <td>33</td>\n",
       "      <td>6</td>\n",
       "      <td>4</td>\n",
       "      <td>0</td>\n",
       "      <td>0</td>\n",
       "    </tr>\n",
       "    <tr>\n",
       "      <th>5</th>\n",
       "      <td>0</td>\n",
       "      <td>0</td>\n",
       "      <td>535</td>\n",
       "      <td>15</td>\n",
       "      <td>1</td>\n",
       "      <td>0</td>\n",
       "    </tr>\n",
       "    <tr>\n",
       "      <th>6</th>\n",
       "      <td>0</td>\n",
       "      <td>0</td>\n",
       "      <td>31</td>\n",
       "      <td>473</td>\n",
       "      <td>1</td>\n",
       "      <td>1</td>\n",
       "    </tr>\n",
       "    <tr>\n",
       "      <th>7</th>\n",
       "      <td>0</td>\n",
       "      <td>0</td>\n",
       "      <td>4</td>\n",
       "      <td>12</td>\n",
       "      <td>141</td>\n",
       "      <td>0</td>\n",
       "    </tr>\n",
       "    <tr>\n",
       "      <th>8</th>\n",
       "      <td>0</td>\n",
       "      <td>0</td>\n",
       "      <td>0</td>\n",
       "      <td>0</td>\n",
       "      <td>0</td>\n",
       "      <td>13</td>\n",
       "    </tr>\n",
       "  </tbody>\n",
       "</table>\n",
       "</div>"
      ],
      "text/plain": [
       "   3   4    5    6    7   8\n",
       "3  8   0    1    0    0   0\n",
       "4  0  33    6    4    0   0\n",
       "5  0   0  535   15    1   0\n",
       "6  0   0   31  473    1   1\n",
       "7  0   0    4   12  141   0\n",
       "8  0   0    0    0    0  13"
      ]
     },
     "execution_count": 217,
     "metadata": {},
     "output_type": "execute_result"
    }
   ],
   "source": [
    "#create a confusion matrix for training data set  \n",
    "cm= confusion_matrix(y_train,train_predictions)  \n",
    "coords = [x for x in range(3,9)]\n",
    "cm = pd.DataFrame(cm,columns=coords, index=coords )\n",
    "cm"
   ]
  },
  {
   "cell_type": "code",
   "execution_count": 218,
   "metadata": {},
   "outputs": [
    {
     "name": "stdout",
     "output_type": "stream",
     "text": [
      "Actual test data set quality range: (3, 8)\n",
      "Predicted test data set quality range: (4, 8)\n"
     ]
    }
   ],
   "source": [
    "# compute test predictions using X_test\n",
    "test_preds= classifier2.predict(X_test)\n",
    "print('Actual test data set quality range: ({}, {})'.format(y_test.min(), y_test.max()))\n",
    "print('Predicted test data set quality range: ({}, {})'.format(test_preds.min(), test_preds.max()))"
   ]
  },
  {
   "cell_type": "code",
   "execution_count": 219,
   "metadata": {
    "scrolled": true
   },
   "outputs": [
    {
     "data": {
      "text/html": [
       "<div>\n",
       "<style scoped>\n",
       "    .dataframe tbody tr th:only-of-type {\n",
       "        vertical-align: middle;\n",
       "    }\n",
       "\n",
       "    .dataframe tbody tr th {\n",
       "        vertical-align: top;\n",
       "    }\n",
       "\n",
       "    .dataframe thead th {\n",
       "        text-align: right;\n",
       "    }\n",
       "</style>\n",
       "<table border=\"1\" class=\"dataframe\">\n",
       "  <thead>\n",
       "    <tr style=\"text-align: right;\">\n",
       "      <th></th>\n",
       "      <th>3</th>\n",
       "      <th>4</th>\n",
       "      <th>5</th>\n",
       "      <th>6</th>\n",
       "      <th>7</th>\n",
       "      <th>8</th>\n",
       "    </tr>\n",
       "  </thead>\n",
       "  <tbody>\n",
       "    <tr>\n",
       "      <th>3</th>\n",
       "      <td>0</td>\n",
       "      <td>0</td>\n",
       "      <td>1</td>\n",
       "      <td>0</td>\n",
       "      <td>0</td>\n",
       "      <td>0</td>\n",
       "    </tr>\n",
       "    <tr>\n",
       "      <th>4</th>\n",
       "      <td>0</td>\n",
       "      <td>0</td>\n",
       "      <td>6</td>\n",
       "      <td>4</td>\n",
       "      <td>0</td>\n",
       "      <td>0</td>\n",
       "    </tr>\n",
       "    <tr>\n",
       "      <th>5</th>\n",
       "      <td>0</td>\n",
       "      <td>1</td>\n",
       "      <td>103</td>\n",
       "      <td>25</td>\n",
       "      <td>1</td>\n",
       "      <td>0</td>\n",
       "    </tr>\n",
       "    <tr>\n",
       "      <th>6</th>\n",
       "      <td>0</td>\n",
       "      <td>0</td>\n",
       "      <td>42</td>\n",
       "      <td>78</td>\n",
       "      <td>12</td>\n",
       "      <td>0</td>\n",
       "    </tr>\n",
       "    <tr>\n",
       "      <th>7</th>\n",
       "      <td>0</td>\n",
       "      <td>0</td>\n",
       "      <td>2</td>\n",
       "      <td>20</td>\n",
       "      <td>19</td>\n",
       "      <td>1</td>\n",
       "    </tr>\n",
       "    <tr>\n",
       "      <th>8</th>\n",
       "      <td>0</td>\n",
       "      <td>0</td>\n",
       "      <td>0</td>\n",
       "      <td>2</td>\n",
       "      <td>3</td>\n",
       "      <td>0</td>\n",
       "    </tr>\n",
       "  </tbody>\n",
       "</table>\n",
       "</div>"
      ],
      "text/plain": [
       "   3  4    5   6   7  8\n",
       "3  0  0    1   0   0  0\n",
       "4  0  0    6   4   0  0\n",
       "5  0  1  103  25   1  0\n",
       "6  0  0   42  78  12  0\n",
       "7  0  0    2  20  19  1\n",
       "8  0  0    0   2   3  0"
      ]
     },
     "execution_count": 219,
     "metadata": {},
     "output_type": "execute_result"
    }
   ],
   "source": [
    "#create a confusion matrix for test data set  \n",
    "cm= confusion_matrix(y_test,test_preds)  \n",
    "coords = [x for x in range(3,9)]\n",
    "cm = pd.DataFrame(cm,columns=coords, index=coords )\n",
    "cm"
   ]
  },
  {
   "cell_type": "code",
   "execution_count": 220,
   "metadata": {},
   "outputs": [
    {
     "name": "stdout",
     "output_type": "stream",
     "text": [
      "compare rf and gs accuracy:\n",
      "\n",
      "rf3 training accuracy: 0.9734167318217357\n",
      "rf3 test accuracy: 0.61875\n",
      "\n",
      "gs3 training accuracy: 0.9405785770132916\n",
      "gs3 test accuracy: 0.625\n"
     ]
    }
   ],
   "source": [
    "print('compare rf and gs accuracy:\\n')\n",
    "print('rf3 training accuracy: {}'.format(rf_accuracy3_train))\n",
    "print('rf3 test accuracy: {}'.format(rf_accuracy3_test))\n",
    "print()\n",
    "gs_accuracy3_train = accuracy_score(y_train, train_predictions)\n",
    "gs_accuracy3_test = accuracy_score(y_test, test_preds)\n",
    "print('gs3 training accuracy: {}'.format(gs_accuracy3_train))\n",
    "print('gs3 test accuracy: {}'.format(gs_accuracy3_test))\n"
   ]
  },
  {
   "cell_type": "code",
   "execution_count": 221,
   "metadata": {},
   "outputs": [
    {
     "name": "stdout",
     "output_type": "stream",
     "text": [
      "Model 1 Accuracy:\n",
      "\ttraining accuracy: 0.9874902267396404\n",
      "\ttest accuracy: 0.675\n",
      "\n",
      "Model 2 Accuracy:\n",
      "\ttraining accuracy: 0.9890539483971853\n",
      "\ttest accuracy: 0.634375\n",
      "\n",
      "Model 3 Accuracy:\n",
      "\ttraining accuracy: 0.9734167318217357\n",
      "\ttest accuracy: 0.61875\n"
     ]
    }
   ],
   "source": [
    "#### Step 4: Compare the Accuracy of all the three models developed\n",
    "print('Model 1 Accuracy:')\n",
    "print('\\ttraining accuracy: {}'.format(rf_accuracy1_train))\n",
    "print('\\ttest accuracy: {}'.format(rf_accuracy1_test))\n",
    "print()\n",
    "print('Model 2 Accuracy:')\n",
    "print('\\ttraining accuracy: {}'.format(rf_accuracy2_train))\n",
    "print('\\ttest accuracy: {}'.format(rf_accuracy2_test))\n",
    "print()\n",
    "print('Model 3 Accuracy:')\n",
    "print('\\ttraining accuracy: {}'.format(rf_accuracy3_train))\n",
    "print('\\ttest accuracy: {}'.format(rf_accuracy3_test))"
   ]
  },
  {
   "cell_type": "markdown",
   "metadata": {},
   "source": [
    "#### Choose the best model for deployment.\n",
    "\n",
    "Since we are getting almost the same accuracy across models, Model 1"
   ]
  },
  {
   "cell_type": "code",
   "execution_count": 224,
   "metadata": {},
   "outputs": [],
   "source": [
    "# save red_model1 as per analysis\n",
    "fname = 'models/rf_red_wine_model.pkl'\n",
    "model_file = open(fname, 'wb')\n",
    "pickle.dump(obj=classifier, file=model_file)\n",
    "model_file.close()"
   ]
  },
  {
   "cell_type": "code",
   "execution_count": 225,
   "metadata": {},
   "outputs": [
    {
     "name": "stdout",
     "output_type": "stream",
     "text": [
      "RandomForestClassifier(criterion='entropy', max_depth=11, max_features='sqrt',\n",
      "                       n_estimators=500)\n"
     ]
    }
   ],
   "source": [
    "# reload the model from disk and check if it is saved properly.\n",
    "model_file = open(fname, 'rb')\n",
    "Random_Forest_model = pickle.load(model_file)\n",
    "model_file.close()\n",
    "print(Random_Forest_model)"
   ]
  },
  {
   "cell_type": "code",
   "execution_count": null,
   "metadata": {},
   "outputs": [],
   "source": []
  },
  {
   "cell_type": "code",
   "execution_count": 222,
   "metadata": {},
   "outputs": [],
   "source": [
    "#note the accuracy for final comparison\n",
    "rf_accuracy = gs_accuracy1_test"
   ]
  },
  {
   "cell_type": "markdown",
   "metadata": {},
   "source": [
    "### Comparing the accuracies  we got using 4 ML algorithms"
   ]
  },
  {
   "cell_type": "code",
   "execution_count": 226,
   "metadata": {},
   "outputs": [
    {
     "name": "stdout",
     "output_type": "stream",
     "text": [
      "Best accuracy using Linear Regression is 91.86\n",
      "Best accuracy using Logistic Regression is 0.6745098039215687\n",
      "Best accuracy using Decision Tree is 0.553125\n",
      "Best accuracy using Random Forest is 0.675\n"
     ]
    }
   ],
   "source": [
    "print(\"Best accuracy using Linear Regression is {}\".format(lin_accuracy))\n",
    "print(\"Best accuracy using Logistic Regression is {}\".format(log_accuracy))\n",
    "print(\"Best accuracy using Decision Tree is {}\".format(dtree_accuracy))\n",
    "print(\"Best accuracy using Random Forest is {}\".format(rf_accuracy ))\n"
   ]
  },
  {
   "cell_type": "markdown",
   "metadata": {},
   "source": [
    "## Conclusions\n",
    "Three Models were developed for each ML Method:\n",
    "\n",
    "1. considering all the features, \n",
    "2. dropping features showing very weak correlations (0.0-0.2)\n",
    "3. dropping features showing weak correlations (0.2-0.4)\n",
    "\n",
    "#### Linear Regression \n",
    "\n",
    "All models demonstrated more than 90% accuracy\n",
    "\n",
    "#### Logistic Regression\n",
    "Accuracy exhibited by all three models - between 57-60%. Using K-Fold the accuracy increased to between 65-67%\n",
    "\n",
    "#### Decision Tree\n",
    "\n",
    "Very poor accuracy exhibited by all three models - between 52-55%\n",
    "\n",
    "#### Random Forest\n",
    "\n",
    "Random forest Performed very well on training data with 98% to 99% accuracy but did not give good results with test dataset - accuracy was observed to be between 60-64%. Grid search CV gave 62-65% accuracy across models"
   ]
  }
 ],
 "metadata": {
  "kernelspec": {
   "display_name": "Python 3",
   "language": "python",
   "name": "python3"
  },
  "language_info": {
   "codemirror_mode": {
    "name": "ipython",
    "version": 3
   },
   "file_extension": ".py",
   "mimetype": "text/x-python",
   "name": "python",
   "nbconvert_exporter": "python",
   "pygments_lexer": "ipython3",
   "version": "3.8.5"
  }
 },
 "nbformat": 4,
 "nbformat_minor": 4
}
